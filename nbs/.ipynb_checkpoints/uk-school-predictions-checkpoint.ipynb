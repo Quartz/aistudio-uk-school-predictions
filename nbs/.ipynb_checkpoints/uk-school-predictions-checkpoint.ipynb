{
 "cells": [
  {
   "cell_type": "markdown",
   "metadata": {},
   "source": [
    "# Predicting School Failure in the UK with scikit-learn\n",
    "Data taken from [Ofsted](https://reports.ofsted.gov.uk/)"
   ]
  },
  {
   "cell_type": "code",
   "execution_count": 1,
   "metadata": {},
   "outputs": [],
   "source": [
    "%reload_ext autoreload\n",
    "%autoreload 2\n",
    "%matplotlib inline"
   ]
  },
  {
   "cell_type": "markdown",
   "metadata": {},
   "source": [
    "## Preprocess the Data and Create a CSV"
   ]
  },
  {
   "cell_type": "code",
   "execution_count": 2,
   "metadata": {},
   "outputs": [],
   "source": [
    "import os\n",
    "import re\n",
    "import numpy as np\n",
    "# Get all most recent closed files\n",
    "patterns = [\"progress\",\"teaching\",\"work\",\"well\",\"The\",\"provision\",\"this\",\"This\",\"Children\",\"enqiures uk\", \"the\", \"learning\", \"staff\", \"good\", \"ir\", \"inspection\", \"the\", \"schools\", \"children\", \"pupils\", \"school\", \"pupil\", \"Ofsted\", \"Inspection report\", \"gov uk\", \"ofsted gov\", \"early year\", \"uk government\", \"www.ofsted.gov.uk\", \"www.gov.uk/ofsted\", \"Early Year\", \"ofsted\", \"gov\", \"Inspection Report\"] # filter out common words\n",
    "closed_school_names = []\n",
    "closed = []\n",
    "closed_root = '../schools/closed/'\n",
    "for path, subdirs, files in os.walk(closed_root):\n",
    "    for s in subdirs:\n",
    "        f = os.path.join(path,s)\n",
    "        reports = \"\"\n",
    "        for p2, s2, f2 in os.walk(f):\n",
    "            for file in f2:\n",
    "                if file == '':\n",
    "                    continue\n",
    "                txt = open(os.path.join(p2,str(file)),\"r\", encoding = \"ISO-8859-1\")\n",
    "                content = txt.read()\n",
    "                if re.search(\"childminder\",content,re.IGNORECASE):\n",
    "                    continue\n",
    "                for pattern in patterns:\n",
    "                    content = content.replace(pattern,'')\n",
    "                content = content.replace('\\n',' ')\n",
    "                reports += content\n",
    "        if reports != \"\":\n",
    "            closed.append(reports)\n",
    "            closed_school_names.append(s)"
   ]
  },
  {
   "cell_type": "code",
   "execution_count": 3,
   "metadata": {},
   "outputs": [],
   "source": [
    "# Get all most recent open files\n",
    "patterns = [\"progress\",\"teaching\",\"work\",\"well\",\"The\",\"provision\",\"this\",\"This\",\"Children\",\"enqiures uk\", \"the\", \"learning\", \"staff\", \"good\", \"ir\", \"inspection\", \"the\", \"schools\", \"children\", \"pupils\", \"school\", \"pupil\", \"Ofsted\", \"Inspection report\", \"gov uk\", \"ofsted gov\", \"early year\", \"uk government\", \"www.ofsted.gov.uk\", \"www.gov.uk/ofsted\", \"Early Year\", \"ofsted\", \"gov\", \"Inspection Report\"] # filter out common words\n",
    "opened = []\n",
    "open_school_names = []\n",
    "open_root = '../schools/open/'\n",
    "for path, subdirs, files in os.walk(open_root):\n",
    "    for s in subdirs:\n",
    "        f = os.path.join(path,s)\n",
    "        reports = \"\"\n",
    "        for p2, s2, f2 in os.walk(f):\n",
    "            for file in f2:\n",
    "                if file == '':\n",
    "                    continue\n",
    "                txt = open(os.path.join(p2,str(file)),\"r\",  encoding = \"ISO-8859-1\")\n",
    "                content = txt.read()\n",
    "                if re.search(\"childminder\",content,re.IGNORECASE):\n",
    "                    continue\n",
    "                for pattern in patterns:\n",
    "                    content = content.replace(pattern,'')\n",
    "                content = content.replace('\\n',' ')\n",
    "                reports += content\n",
    "        if reports != \"\":\n",
    "            opened.append(reports)\n",
    "            open_school_names.append(s)"
   ]
  },
  {
   "cell_type": "code",
   "execution_count": 4,
   "metadata": {},
   "outputs": [],
   "source": [
    "import pandas as pd\n",
    "df_closed = pd.DataFrame()\n",
    "closed_labels = [\"closed\" for school in closed]\n",
    "df_closed[\"school\"] = closed_school_names\n",
    "df_closed[\"text\"] = closed\n",
    "df_closed[\"label\"] = closed_labels"
   ]
  },
  {
   "cell_type": "code",
   "execution_count": 5,
   "metadata": {},
   "outputs": [
    {
     "data": {
      "text/html": [
       "<div>\n",
       "<style scoped>\n",
       "    .dataframe tbody tr th:only-of-type {\n",
       "        vertical-align: middle;\n",
       "    }\n",
       "\n",
       "    .dataframe tbody tr th {\n",
       "        vertical-align: top;\n",
       "    }\n",
       "\n",
       "    .dataframe thead th {\n",
       "        text-align: right;\n",
       "    }\n",
       "</style>\n",
       "<table border=\"1\" class=\"dataframe\">\n",
       "  <thead>\n",
       "    <tr style=\"text-align: right;\">\n",
       "      <th></th>\n",
       "      <th>school</th>\n",
       "      <th>text</th>\n",
       "      <th>label</th>\n",
       "    </tr>\n",
       "  </thead>\n",
       "  <tbody>\n",
       "    <tr>\n",
       "      <th>0</th>\n",
       "      <td>Tweeddale Primary School</td>\n",
       "      <td>Existing a...</td>\n",
       "      <td>closed</td>\n",
       "    </tr>\n",
       "    <tr>\n",
       "      <th>1</th>\n",
       "      <td>Loganberries Childcare And Tutoring Closed</td>\n",
       "      <td>...</td>\n",
       "      <td>closed</td>\n",
       "    </tr>\n",
       "    <tr>\n",
       "      <th>2</th>\n",
       "      <td>Dovedale Before and After School Club Closed</td>\n",
       "      <td>...</td>\n",
       "      <td>closed</td>\n",
       "    </tr>\n",
       "    <tr>\n",
       "      <th>3</th>\n",
       "      <td>Pepe &amp; Friends</td>\n",
       "      <td>Pepe &amp; Friends...</td>\n",
       "      <td>closed</td>\n",
       "    </tr>\n",
       "    <tr>\n",
       "      <th>4</th>\n",
       "      <td>Cottonstones Pre-School Playgroup Closed</td>\n",
       "      <td>Unt...</td>\n",
       "      <td>closed</td>\n",
       "    </tr>\n",
       "  </tbody>\n",
       "</table>\n",
       "</div>"
      ],
      "text/plain": [
       "                                         school  \\\n",
       "0                      Tweeddale Primary School   \n",
       "1    Loganberries Childcare And Tutoring Closed   \n",
       "2  Dovedale Before and After School Club Closed   \n",
       "3                                Pepe & Friends   \n",
       "4      Cottonstones Pre-School Playgroup Closed   \n",
       "\n",
       "                                                text   label  \n",
       "0                                      Existing a...  closed  \n",
       "1                                                ...  closed  \n",
       "2                                                ...  closed  \n",
       "3                                  Pepe & Friends...  closed  \n",
       "4                                             Unt...  closed  "
      ]
     },
     "execution_count": 5,
     "metadata": {},
     "output_type": "execute_result"
    }
   ],
   "source": [
    "df_closed.head()"
   ]
  },
  {
   "cell_type": "code",
   "execution_count": 6,
   "metadata": {},
   "outputs": [],
   "source": [
    "# Filter out schools that were marked as closed due to academy conversion\n",
    "import numpy as np\n",
    "# df_closed = df_closed.replace(np.nan, '', regex=True)\n",
    "# df_closed = df_closed[~df_closed.text.apply(lambda x: bool(re.search(\"academy converters\",x,re.IGNORECASE)))]"
   ]
  },
  {
   "cell_type": "code",
   "execution_count": 7,
   "metadata": {},
   "outputs": [],
   "source": [
    "df_open = pd.DataFrame()\n",
    "open_labels = [\"open\" for school in opened]\n",
    "df_open[\"school\"] = open_school_names\n",
    "df_open[\"text\"] = opened\n",
    "df_open[\"label\"] = open_labels"
   ]
  },
  {
   "cell_type": "code",
   "execution_count": 8,
   "metadata": {},
   "outputs": [
    {
     "data": {
      "text/html": [
       "<div>\n",
       "<style scoped>\n",
       "    .dataframe tbody tr th:only-of-type {\n",
       "        vertical-align: middle;\n",
       "    }\n",
       "\n",
       "    .dataframe tbody tr th {\n",
       "        vertical-align: top;\n",
       "    }\n",
       "\n",
       "    .dataframe thead th {\n",
       "        text-align: right;\n",
       "    }\n",
       "</style>\n",
       "<table border=\"1\" class=\"dataframe\">\n",
       "  <thead>\n",
       "    <tr style=\"text-align: right;\">\n",
       "      <th></th>\n",
       "      <th>school</th>\n",
       "      <th>text</th>\n",
       "      <th>label</th>\n",
       "    </tr>\n",
       "  </thead>\n",
       "  <tbody>\n",
       "    <tr>\n",
       "      <th>0</th>\n",
       "      <td>Tweeddale Primary School</td>\n",
       "      <td>Existing a...</td>\n",
       "      <td>open</td>\n",
       "    </tr>\n",
       "    <tr>\n",
       "      <th>1</th>\n",
       "      <td>Redcliffe Childrens Centre and Maintained Nurs...</td>\n",
       "      <td>...</td>\n",
       "      <td>open</td>\n",
       "    </tr>\n",
       "    <tr>\n",
       "      <th>2</th>\n",
       "      <td>Magpies West</td>\n",
       "      <td>...</td>\n",
       "      <td>open</td>\n",
       "    </tr>\n",
       "    <tr>\n",
       "      <th>3</th>\n",
       "      <td>St John's Church of England Primary School, La...</td>\n",
       "      <td>Existing a...</td>\n",
       "      <td>open</td>\n",
       "    </tr>\n",
       "    <tr>\n",
       "      <th>4</th>\n",
       "      <td>Stoneydelph Primary School</td>\n",
       "      <td>Existing acade...</td>\n",
       "      <td>open</td>\n",
       "    </tr>\n",
       "  </tbody>\n",
       "</table>\n",
       "</div>"
      ],
      "text/plain": [
       "                                              school  \\\n",
       "0                           Tweeddale Primary School   \n",
       "1  Redcliffe Childrens Centre and Maintained Nurs...   \n",
       "2                                       Magpies West   \n",
       "3  St John's Church of England Primary School, La...   \n",
       "4                         Stoneydelph Primary School   \n",
       "\n",
       "                                                text label  \n",
       "0                                      Existing a...  open  \n",
       "1                                                ...  open  \n",
       "2                                                ...  open  \n",
       "3                                      Existing a...  open  \n",
       "4                                  Existing acade...  open  "
      ]
     },
     "execution_count": 8,
     "metadata": {},
     "output_type": "execute_result"
    }
   ],
   "source": [
    "df_open.head()"
   ]
  },
  {
   "cell_type": "code",
   "execution_count": 9,
   "metadata": {},
   "outputs": [
    {
     "data": {
      "text/plain": [
       "array(['closed', 'open'], dtype=object)"
      ]
     },
     "execution_count": 9,
     "metadata": {},
     "output_type": "execute_result"
    }
   ],
   "source": [
    "df = df_closed.append(df_open, ignore_index=True)\n",
    "df.label.unique()"
   ]
  },
  {
   "cell_type": "code",
   "execution_count": 10,
   "metadata": {},
   "outputs": [
    {
     "data": {
      "text/html": [
       "<div>\n",
       "<style scoped>\n",
       "    .dataframe tbody tr th:only-of-type {\n",
       "        vertical-align: middle;\n",
       "    }\n",
       "\n",
       "    .dataframe tbody tr th {\n",
       "        vertical-align: top;\n",
       "    }\n",
       "\n",
       "    .dataframe thead th {\n",
       "        text-align: right;\n",
       "    }\n",
       "</style>\n",
       "<table border=\"1\" class=\"dataframe\">\n",
       "  <thead>\n",
       "    <tr style=\"text-align: right;\">\n",
       "      <th></th>\n",
       "      <th>school</th>\n",
       "      <th>text</th>\n",
       "      <th>label</th>\n",
       "    </tr>\n",
       "  </thead>\n",
       "  <tbody>\n",
       "    <tr>\n",
       "      <th>0</th>\n",
       "      <td>Tweeddale Primary School</td>\n",
       "      <td>Existing a...</td>\n",
       "      <td>closed</td>\n",
       "    </tr>\n",
       "    <tr>\n",
       "      <th>1</th>\n",
       "      <td>Loganberries Childcare And Tutoring Closed</td>\n",
       "      <td>...</td>\n",
       "      <td>closed</td>\n",
       "    </tr>\n",
       "    <tr>\n",
       "      <th>2</th>\n",
       "      <td>Dovedale Before and After School Club Closed</td>\n",
       "      <td>...</td>\n",
       "      <td>closed</td>\n",
       "    </tr>\n",
       "    <tr>\n",
       "      <th>3</th>\n",
       "      <td>Pepe &amp; Friends</td>\n",
       "      <td>Pepe &amp; Friends...</td>\n",
       "      <td>closed</td>\n",
       "    </tr>\n",
       "    <tr>\n",
       "      <th>4</th>\n",
       "      <td>Cottonstones Pre-School Playgroup Closed</td>\n",
       "      <td>Unt...</td>\n",
       "      <td>closed</td>\n",
       "    </tr>\n",
       "  </tbody>\n",
       "</table>\n",
       "</div>"
      ],
      "text/plain": [
       "                                         school  \\\n",
       "0                      Tweeddale Primary School   \n",
       "1    Loganberries Childcare And Tutoring Closed   \n",
       "2  Dovedale Before and After School Club Closed   \n",
       "3                                Pepe & Friends   \n",
       "4      Cottonstones Pre-School Playgroup Closed   \n",
       "\n",
       "                                                text   label  \n",
       "0                                      Existing a...  closed  \n",
       "1                                                ...  closed  \n",
       "2                                                ...  closed  \n",
       "3                                  Pepe & Friends...  closed  \n",
       "4                                             Unt...  closed  "
      ]
     },
     "execution_count": 10,
     "metadata": {},
     "output_type": "execute_result"
    }
   ],
   "source": [
    "df.head()"
   ]
  },
  {
   "cell_type": "code",
   "execution_count": 11,
   "metadata": {},
   "outputs": [
    {
     "name": "stdout",
     "output_type": "stream",
     "text": [
      "Total number of closed school reports: 23846\n",
      "Total number of open school reports: 48205\n"
     ]
    }
   ],
   "source": [
    "print (\"Total number of closed school reports: {}\".format(len(closed)))\n",
    "print (\"Total number of open school reports: {}\".format(len(opened)))"
   ]
  },
  {
   "cell_type": "code",
   "execution_count": 12,
   "metadata": {},
   "outputs": [
    {
     "name": "stdout",
     "output_type": "stream",
     "text": [
      "Closed schools after filtering for academy converters: 23846\n",
      "Open schools: 48205\n"
     ]
    }
   ],
   "source": [
    "print (\"Closed schools after filtering for academy converters: {}\".format(len(df_closed))) # 530 after filtering out academy converter\n",
    "print (\"Open schools: {}\".format(len(df_open)))"
   ]
  },
  {
   "cell_type": "code",
   "execution_count": 13,
   "metadata": {},
   "outputs": [],
   "source": [
    "df['text'] = df['text'].str.replace(\"[^a-zA-Z]\", \" \") # Clean up non-alphabetical symbols\n",
    "import numpy as np\n",
    "df = df.replace(np.nan, '', regex=True)"
   ]
  },
  {
   "cell_type": "markdown",
   "metadata": {},
   "source": [
    "## Cleaning Up Stopwords"
   ]
  },
  {
   "cell_type": "code",
   "execution_count": 14,
   "metadata": {},
   "outputs": [
    {
     "name": "stderr",
     "output_type": "stream",
     "text": [
      "[nltk_data] Downloading package stopwords to\n",
      "[nltk_data]     /Users/vcabales/nltk_data...\n",
      "[nltk_data]   Package stopwords is already up-to-date!\n"
     ]
    }
   ],
   "source": [
    "import nltk\n",
    "nltk.download(\"stopwords\")\n",
    "\n",
    "from nltk.corpus import stopwords\n",
    "stop_words = stopwords.words('english')\n",
    "\n",
    "df['text'] = df['text'].apply(lambda x: ' '.join([word for word in x.split() if word not in stop_words]))"
   ]
  },
  {
   "cell_type": "code",
   "execution_count": 15,
   "metadata": {},
   "outputs": [
    {
     "data": {
      "text/html": [
       "<div>\n",
       "<style scoped>\n",
       "    .dataframe tbody tr th:only-of-type {\n",
       "        vertical-align: middle;\n",
       "    }\n",
       "\n",
       "    .dataframe tbody tr th {\n",
       "        vertical-align: top;\n",
       "    }\n",
       "\n",
       "    .dataframe thead th {\n",
       "        text-align: right;\n",
       "    }\n",
       "</style>\n",
       "<table border=\"1\" class=\"dataframe\">\n",
       "  <thead>\n",
       "    <tr style=\"text-align: right;\">\n",
       "      <th></th>\n",
       "      <th>school</th>\n",
       "      <th>text</th>\n",
       "      <th>label</th>\n",
       "    </tr>\n",
       "  </thead>\n",
       "  <tbody>\n",
       "    <tr>\n",
       "      <th>0</th>\n",
       "      <td>Tweeddale Primary School</td>\n",
       "      <td>Existing academy Tweeddale Primary School URN ...</td>\n",
       "      <td>closed</td>\n",
       "    </tr>\n",
       "    <tr>\n",
       "      <th>1</th>\n",
       "      <td>Loganberries Childcare And Tutoring Closed</td>\n",
       "      <td>Loganberries Childcare And Tutoring Holy Spit ...</td>\n",
       "      <td>closed</td>\n",
       "    </tr>\n",
       "    <tr>\n",
       "      <th>2</th>\n",
       "      <td>Dovedale Before and After School Club Closed</td>\n",
       "      <td>Dovedale Before After School Club Dovedale Pri...</td>\n",
       "      <td>closed</td>\n",
       "    </tr>\n",
       "    <tr>\n",
       "      <th>3</th>\n",
       "      <td>Pepe &amp; Friends</td>\n",
       "      <td>Pepe Friends Skylines Village Limeharbour LOND...</td>\n",
       "      <td>closed</td>\n",
       "    </tr>\n",
       "    <tr>\n",
       "      <th>4</th>\n",
       "      <td>Cottonstones Pre-School Playgroup Closed</td>\n",
       "      <td>Untitled Cottonstones Pre School Playgroup Uni...</td>\n",
       "      <td>closed</td>\n",
       "    </tr>\n",
       "  </tbody>\n",
       "</table>\n",
       "</div>"
      ],
      "text/plain": [
       "                                         school  \\\n",
       "0                      Tweeddale Primary School   \n",
       "1    Loganberries Childcare And Tutoring Closed   \n",
       "2  Dovedale Before and After School Club Closed   \n",
       "3                                Pepe & Friends   \n",
       "4      Cottonstones Pre-School Playgroup Closed   \n",
       "\n",
       "                                                text   label  \n",
       "0  Existing academy Tweeddale Primary School URN ...  closed  \n",
       "1  Loganberries Childcare And Tutoring Holy Spit ...  closed  \n",
       "2  Dovedale Before After School Club Dovedale Pri...  closed  \n",
       "3  Pepe Friends Skylines Village Limeharbour LOND...  closed  \n",
       "4  Untitled Cottonstones Pre School Playgroup Uni...  closed  "
      ]
     },
     "execution_count": 15,
     "metadata": {},
     "output_type": "execute_result"
    }
   ],
   "source": [
    "df.head()"
   ]
  },
  {
   "cell_type": "code",
   "execution_count": 16,
   "metadata": {},
   "outputs": [],
   "source": [
    "from sklearn.model_selection import train_test_split # Split into testing and training\n",
    "X_train, X_test, y_train, y_test = train_test_split(df['text'], df['label'], test_size=0.33, random_state=42) "
   ]
  },
  {
   "cell_type": "code",
   "execution_count": 17,
   "metadata": {},
   "outputs": [
    {
     "data": {
      "text/plain": [
       "(48274,)"
      ]
     },
     "execution_count": 17,
     "metadata": {},
     "output_type": "execute_result"
    }
   ],
   "source": [
    "X_train.shape"
   ]
  },
  {
   "cell_type": "code",
   "execution_count": 18,
   "metadata": {},
   "outputs": [
    {
     "data": {
      "text/plain": [
       "(23777,)"
      ]
     },
     "execution_count": 18,
     "metadata": {},
     "output_type": "execute_result"
    }
   ],
   "source": [
    "X_test.shape"
   ]
  },
  {
   "cell_type": "code",
   "execution_count": 19,
   "metadata": {},
   "outputs": [
    {
     "data": {
      "text/plain": [
       "(48274,)"
      ]
     },
     "execution_count": 19,
     "metadata": {},
     "output_type": "execute_result"
    }
   ],
   "source": [
    "y_train.shape"
   ]
  },
  {
   "cell_type": "code",
   "execution_count": 20,
   "metadata": {},
   "outputs": [
    {
     "data": {
      "text/plain": [
       "(48274, 10000)"
      ]
     },
     "execution_count": 20,
     "metadata": {},
     "output_type": "execute_result"
    }
   ],
   "source": [
    "# Tokenize the words - CountVectorizer filters out stopwords\n",
    "from sklearn.feature_extraction.text import CountVectorizer\n",
    "count_vect = CountVectorizer(max_features=10000,ngram_range=(1,2))\n",
    "X_train_counts = count_vect.fit_transform(X_train)\n",
    "X_train_counts.shape"
   ]
  },
  {
   "cell_type": "code",
   "execution_count": 21,
   "metadata": {},
   "outputs": [],
   "source": [
    "# Transform testing data with CountVectorizer, use later to check for overfitting / underfitting\n",
    "test_features = count_vect.transform(X_test)"
   ]
  },
  {
   "cell_type": "code",
   "execution_count": 22,
   "metadata": {},
   "outputs": [
    {
     "data": {
      "text/plain": [
       "TfidfTransformer(norm='l2', smooth_idf=True, sublinear_tf=False, use_idf=True)"
      ]
     },
     "execution_count": 22,
     "metadata": {},
     "output_type": "execute_result"
    }
   ],
   "source": [
    "from sklearn.feature_extraction.text import TfidfTransformer\n",
    "X_train_tfidf = TfidfTransformer(smooth_idf=True,use_idf=True)\n",
    "X_train_tfidf.fit(X_train_counts)"
   ]
  },
  {
   "cell_type": "code",
   "execution_count": 23,
   "metadata": {},
   "outputs": [
    {
     "data": {
      "text/html": [
       "<div>\n",
       "<style scoped>\n",
       "    .dataframe tbody tr th:only-of-type {\n",
       "        vertical-align: middle;\n",
       "    }\n",
       "\n",
       "    .dataframe tbody tr th {\n",
       "        vertical-align: top;\n",
       "    }\n",
       "\n",
       "    .dataframe thead th {\n",
       "        text-align: right;\n",
       "    }\n",
       "</style>\n",
       "<table border=\"1\" class=\"dataframe\">\n",
       "  <thead>\n",
       "    <tr style=\"text-align: right;\">\n",
       "      <th></th>\n",
       "      <th>tf_idf_weights</th>\n",
       "    </tr>\n",
       "  </thead>\n",
       "  <tbody>\n",
       "    <tr>\n",
       "      <th>website</th>\n",
       "      <td>1.025788</td>\n",
       "    </tr>\n",
       "    <tr>\n",
       "      <th>years</th>\n",
       "      <td>1.026362</td>\n",
       "    </tr>\n",
       "    <tr>\n",
       "      <th>information</th>\n",
       "      <td>1.039851</td>\n",
       "    </tr>\n",
       "    <tr>\n",
       "      <th>may</th>\n",
       "      <td>1.039981</td>\n",
       "    </tr>\n",
       "    <tr>\n",
       "      <th>inspection</th>\n",
       "      <td>1.041837</td>\n",
       "    </tr>\n",
       "    <tr>\n",
       "      <th>available</th>\n",
       "      <td>1.042031</td>\n",
       "    </tr>\n",
       "    <tr>\n",
       "      <th>it</th>\n",
       "      <td>1.043912</td>\n",
       "    </tr>\n",
       "    <tr>\n",
       "      <th>report</th>\n",
       "      <td>1.044064</td>\n",
       "    </tr>\n",
       "    <tr>\n",
       "      <th>date</th>\n",
       "      <td>1.044259</td>\n",
       "    </tr>\n",
       "    <tr>\n",
       "      <th>number</th>\n",
       "      <td>1.045190</td>\n",
       "    </tr>\n",
       "    <tr>\n",
       "      <th>education</th>\n",
       "      <td>1.045472</td>\n",
       "    </tr>\n",
       "    <tr>\n",
       "      <th>inspector</th>\n",
       "      <td>1.046774</td>\n",
       "    </tr>\n",
       "    <tr>\n",
       "      <th>act</th>\n",
       "      <td>1.053372</td>\n",
       "    </tr>\n",
       "    <tr>\n",
       "      <th>team</th>\n",
       "      <td>1.058191</td>\n",
       "    </tr>\n",
       "    <tr>\n",
       "      <th>time</th>\n",
       "      <td>1.065618</td>\n",
       "    </tr>\n",
       "    <tr>\n",
       "      <th>telephone</th>\n",
       "      <td>1.069296</td>\n",
       "    </tr>\n",
       "    <tr>\n",
       "      <th>parents</th>\n",
       "      <td>1.070496</td>\n",
       "    </tr>\n",
       "    <tr>\n",
       "      <th>would</th>\n",
       "      <td>1.073746</td>\n",
       "    </tr>\n",
       "    <tr>\n",
       "      <th>reference</th>\n",
       "      <td>1.075264</td>\n",
       "    </tr>\n",
       "    <tr>\n",
       "      <th>following</th>\n",
       "      <td>1.078776</td>\n",
       "    </tr>\n",
       "    <tr>\n",
       "      <th>ensure</th>\n",
       "      <td>1.079270</td>\n",
       "    </tr>\n",
       "    <tr>\n",
       "      <th>quality</th>\n",
       "      <td>1.081897</td>\n",
       "    </tr>\n",
       "    <tr>\n",
       "      <th>support</th>\n",
       "      <td>1.082706</td>\n",
       "    </tr>\n",
       "    <tr>\n",
       "      <th>assessment</th>\n",
       "      <td>1.083562</td>\n",
       "    </tr>\n",
       "    <tr>\n",
       "      <th>se</th>\n",
       "      <td>1.083990</td>\n",
       "    </tr>\n",
       "    <tr>\n",
       "      <th>including</th>\n",
       "      <td>1.084733</td>\n",
       "    </tr>\n",
       "    <tr>\n",
       "      <th>needs</th>\n",
       "      <td>1.084801</td>\n",
       "    </tr>\n",
       "    <tr>\n",
       "      <th>national</th>\n",
       "      <td>1.084959</td>\n",
       "    </tr>\n",
       "    <tr>\n",
       "      <th>skills</th>\n",
       "      <td>1.085027</td>\n",
       "    </tr>\n",
       "    <tr>\n",
       "      <th>made</th>\n",
       "      <td>1.085094</td>\n",
       "    </tr>\n",
       "    <tr>\n",
       "      <th>...</th>\n",
       "      <td>...</td>\n",
       "    </tr>\n",
       "    <tr>\n",
       "      <th>vc primary</th>\n",
       "      <td>5.709323</td>\n",
       "    </tr>\n",
       "    <tr>\n",
       "      <th>ds doc</th>\n",
       "      <td>5.711625</td>\n",
       "    </tr>\n",
       "    <tr>\n",
       "      <th>all saints</th>\n",
       "      <td>5.783254</td>\n",
       "    </tr>\n",
       "    <tr>\n",
       "      <th>foster carer</th>\n",
       "      <td>5.795708</td>\n",
       "    </tr>\n",
       "    <tr>\n",
       "      <th>st peter</th>\n",
       "      <td>5.810859</td>\n",
       "    </tr>\n",
       "    <tr>\n",
       "      <th>park primary</th>\n",
       "      <td>5.823664</td>\n",
       "    </tr>\n",
       "    <tr>\n",
       "      <th>grammar school</th>\n",
       "      <td>5.852424</td>\n",
       "    </tr>\n",
       "    <tr>\n",
       "      <th>fostering service</th>\n",
       "      <td>5.876586</td>\n",
       "    </tr>\n",
       "    <tr>\n",
       "      <th>fostering agency</th>\n",
       "      <td>5.893025</td>\n",
       "    </tr>\n",
       "    <tr>\n",
       "      <th>average score</th>\n",
       "      <td>5.921038</td>\n",
       "    </tr>\n",
       "    <tr>\n",
       "      <th>st james</th>\n",
       "      <td>5.923883</td>\n",
       "    </tr>\n",
       "    <tr>\n",
       "      <th>care leavers</th>\n",
       "      <td>5.961623</td>\n",
       "    </tr>\n",
       "    <tr>\n",
       "      <th>fostering services</th>\n",
       "      <td>5.994709</td>\n",
       "    </tr>\n",
       "    <tr>\n",
       "      <th>fs</th>\n",
       "      <td>6.048097</td>\n",
       "    </tr>\n",
       "    <tr>\n",
       "      <th>st andrew</th>\n",
       "      <td>6.064357</td>\n",
       "    </tr>\n",
       "    <tr>\n",
       "      <th>lower school</th>\n",
       "      <td>6.101089</td>\n",
       "    </tr>\n",
       "    <tr>\n",
       "      <th>house school</th>\n",
       "      <td>6.101089</td>\n",
       "    </tr>\n",
       "    <tr>\n",
       "      <th>st michael</th>\n",
       "      <td>6.186247</td>\n",
       "    </tr>\n",
       "    <tr>\n",
       "      <th>nms boarders</th>\n",
       "      <td>6.201173</td>\n",
       "    </tr>\n",
       "    <tr>\n",
       "      <th>hill primary</th>\n",
       "      <td>6.201173</td>\n",
       "    </tr>\n",
       "    <tr>\n",
       "      <th>retention pass</th>\n",
       "      <td>6.243406</td>\n",
       "    </tr>\n",
       "    <tr>\n",
       "      <th>st thomas</th>\n",
       "      <td>6.291608</td>\n",
       "    </tr>\n",
       "    <tr>\n",
       "      <th>st joseph</th>\n",
       "      <td>6.295731</td>\n",
       "    </tr>\n",
       "    <tr>\n",
       "      <th>our lady</th>\n",
       "      <td>6.400174</td>\n",
       "    </tr>\n",
       "    <tr>\n",
       "      <th>starts retention</th>\n",
       "      <td>6.404772</td>\n",
       "    </tr>\n",
       "    <tr>\n",
       "      <th>no starts</th>\n",
       "      <td>6.456793</td>\n",
       "    </tr>\n",
       "    <tr>\n",
       "      <th>adoption service</th>\n",
       "      <td>6.537645</td>\n",
       "    </tr>\n",
       "    <tr>\n",
       "      <th>hall school</th>\n",
       "      <td>6.542922</td>\n",
       "    </tr>\n",
       "    <tr>\n",
       "      <th>adopters</th>\n",
       "      <td>6.643006</td>\n",
       "    </tr>\n",
       "    <tr>\n",
       "      <th>jrs</th>\n",
       "      <td>7.159696</td>\n",
       "    </tr>\n",
       "  </tbody>\n",
       "</table>\n",
       "<p>10000 rows × 1 columns</p>\n",
       "</div>"
      ],
      "text/plain": [
       "                    tf_idf_weights\n",
       "website                   1.025788\n",
       "years                     1.026362\n",
       "information               1.039851\n",
       "may                       1.039981\n",
       "inspection                1.041837\n",
       "available                 1.042031\n",
       "it                        1.043912\n",
       "report                    1.044064\n",
       "date                      1.044259\n",
       "number                    1.045190\n",
       "education                 1.045472\n",
       "inspector                 1.046774\n",
       "act                       1.053372\n",
       "team                      1.058191\n",
       "time                      1.065618\n",
       "telephone                 1.069296\n",
       "parents                   1.070496\n",
       "would                     1.073746\n",
       "reference                 1.075264\n",
       "following                 1.078776\n",
       "ensure                    1.079270\n",
       "quality                   1.081897\n",
       "support                   1.082706\n",
       "assessment                1.083562\n",
       "se                        1.083990\n",
       "including                 1.084733\n",
       "needs                     1.084801\n",
       "national                  1.084959\n",
       "skills                    1.085027\n",
       "made                      1.085094\n",
       "...                            ...\n",
       "vc primary                5.709323\n",
       "ds doc                    5.711625\n",
       "all saints                5.783254\n",
       "foster carer              5.795708\n",
       "st peter                  5.810859\n",
       "park primary              5.823664\n",
       "grammar school            5.852424\n",
       "fostering service         5.876586\n",
       "fostering agency          5.893025\n",
       "average score             5.921038\n",
       "st james                  5.923883\n",
       "care leavers              5.961623\n",
       "fostering services        5.994709\n",
       "fs                        6.048097\n",
       "st andrew                 6.064357\n",
       "lower school              6.101089\n",
       "house school              6.101089\n",
       "st michael                6.186247\n",
       "nms boarders              6.201173\n",
       "hill primary              6.201173\n",
       "retention pass            6.243406\n",
       "st thomas                 6.291608\n",
       "st joseph                 6.295731\n",
       "our lady                  6.400174\n",
       "starts retention          6.404772\n",
       "no starts                 6.456793\n",
       "adoption service          6.537645\n",
       "hall school               6.542922\n",
       "adopters                  6.643006\n",
       "jrs                       7.159696\n",
       "\n",
       "[10000 rows x 1 columns]"
      ]
     },
     "execution_count": 23,
     "metadata": {},
     "output_type": "execute_result"
    }
   ],
   "source": [
    "# print idf values\n",
    "df_idf = pd.DataFrame(X_train_tfidf.idf_, index=count_vect.get_feature_names(),columns=[\"tf_idf_weights\"])\n",
    "df_idf.sort_values(by=['tf_idf_weights'])\n",
    "# the lower the idf value, the less unique the word is (meaning that the word appears more frequently)"
   ]
  },
  {
   "cell_type": "code",
   "execution_count": 25,
   "metadata": {},
   "outputs": [],
   "source": [
    "# import pickle\n",
    "# pickle.dump(count_vect, open('../models/count_vect.pkl','wb'))"
   ]
  },
  {
   "cell_type": "code",
   "execution_count": 26,
   "metadata": {},
   "outputs": [],
   "source": [
    "X_train_dtm = count_vect.transform(X_train)"
   ]
  },
  {
   "cell_type": "code",
   "execution_count": 27,
   "metadata": {},
   "outputs": [],
   "source": [
    "# Use dummy classifier to get a baseline\n",
    "from sklearn.dummy import DummyClassifier \n",
    "baseline = DummyClassifier().fit(X_train_dtm, y_train)"
   ]
  },
  {
   "cell_type": "code",
   "execution_count": 28,
   "metadata": {},
   "outputs": [],
   "source": [
    "y_pred_class_baseline = baseline.predict(test_features)"
   ]
  },
  {
   "cell_type": "code",
   "execution_count": 29,
   "metadata": {},
   "outputs": [
    {
     "data": {
      "text/plain": [
       "0.5594061487992598"
      ]
     },
     "execution_count": 29,
     "metadata": {},
     "output_type": "execute_result"
    }
   ],
   "source": [
    "from sklearn import metrics\n",
    "metrics.accuracy_score(y_test, y_pred_class_baseline) # Record baseline accuracy"
   ]
  },
  {
   "cell_type": "code",
   "execution_count": 30,
   "metadata": {},
   "outputs": [
    {
     "data": {
      "text/plain": [
       "array([[ 2642,  5151],\n",
       "       [ 5325, 10659]])"
      ]
     },
     "execution_count": 30,
     "metadata": {},
     "output_type": "execute_result"
    }
   ],
   "source": [
    "metrics.confusion_matrix(y_test, y_pred_class_baseline)"
   ]
  },
  {
   "cell_type": "code",
   "execution_count": 32,
   "metadata": {},
   "outputs": [],
   "source": [
    "import matplotlib.pyplot as plt\n",
    "def plot_confusion_matrix(y_true, y_pred, classes,\n",
    "                          normalize=False,\n",
    "                          title=None,\n",
    "                          cmap=plt.cm.Blues):\n",
    "    \"\"\"\n",
    "    This function prints and plots the confusion matrix.\n",
    "    Normalization can be applied by setting `normalize=True`.\n",
    "    \"\"\"\n",
    "    if not title:\n",
    "        if normalize:\n",
    "            title = 'Normalized confusion matrix'\n",
    "        else:\n",
    "            title = 'Confusion matrix, without normalization'\n",
    "\n",
    "    # Compute confusion matrix\n",
    "    cm = metrics.confusion_matrix(y_true, y_pred)\n",
    "    # Only use the labels that appear in the data\n",
    "    classes = ['closed','open']\n",
    "    if normalize:\n",
    "        cm = cm.astype('float') / cm.sum(axis=1)[:, np.newaxis]\n",
    "        print(\"Normalized confusion matrix\")\n",
    "    else:\n",
    "        print('Confusion matrix, without normalization')\n",
    "\n",
    "    print(cm)\n",
    "\n",
    "    fig, ax = plt.subplots()\n",
    "    im = ax.imshow(cm, interpolation='nearest', cmap=cmap)\n",
    "    ax.figure.colorbar(im, ax=ax)\n",
    "    # We want to show all ticks...\n",
    "    ax.set(xticks=np.arange(cm.shape[1]),\n",
    "           yticks=np.arange(cm.shape[0]),\n",
    "           # ... and label them with the respective list entries\n",
    "           xticklabels=classes, yticklabels=classes,\n",
    "           title=title,\n",
    "           ylabel='True label',\n",
    "           xlabel='Predicted label')\n",
    "\n",
    "    # Rotate the tick labels and set their alignment.\n",
    "    plt.setp(ax.get_xticklabels(), rotation=45, ha=\"right\",\n",
    "             rotation_mode=\"anchor\")\n",
    "\n",
    "    # Loop over data dimensions and create text annotations.\n",
    "    fmt = '.2f' if normalize else 'd'\n",
    "    thresh = cm.max() / 2.\n",
    "    for i in range(cm.shape[0]):\n",
    "        for j in range(cm.shape[1]):\n",
    "            ax.text(j, i, format(cm[i, j], fmt),\n",
    "                    ha=\"center\", va=\"center\",\n",
    "                    color=\"white\" if cm[i, j] > thresh else \"black\")\n",
    "    fig.tight_layout()\n",
    "    return ax"
   ]
  },
  {
   "cell_type": "code",
   "execution_count": 33,
   "metadata": {},
   "outputs": [
    {
     "name": "stdout",
     "output_type": "stream",
     "text": [
      "Confusion matrix, without normalization\n",
      "[[ 2642  5151]\n",
      " [ 5325 10659]]\n",
      "Normalized confusion matrix\n",
      "[[0.34 0.66]\n",
      " [0.33 0.67]]\n"
     ]
    },
    {
     "data": {
      "image/png": "[encoded data removed]",
      "text/plain": [
       "<Figure size 432x288 with 2 Axes>"
      ]
     },
     "metadata": {
      "needs_background": "light"
     },
     "output_type": "display_data"
    },
    {
     "data": {
      "image/png": "[encoded data removed]",
      "text/plain": [
       "<Figure size 432x288 with 2 Axes>"
      ]
     },
     "metadata": {
      "needs_background": "light"
     },
     "output_type": "display_data"
    }
   ],
   "source": [
    "np.set_printoptions(precision=2)\n",
    "\n",
    "# Plot non-normalized confusion matrix\n",
    "plot_confusion_matrix(y_test, y_pred_class_baseline, classes=['closed','open'],\n",
    "                      title='Confusion matrix, without normalization')\n",
    "\n",
    "# Plot normalized confusion matrix\n",
    "plot_confusion_matrix(y_test, y_pred_class_baseline, classes=['closed','open'], normalize=True,\n",
    "                      title='Normalized confusion matrix')\n",
    "\n",
    "plt.show()"
   ]
  },
  {
   "cell_type": "code",
   "execution_count": 34,
   "metadata": {},
   "outputs": [],
   "source": [
    "from sklearn.naive_bayes import MultinomialNB\n",
    "multi_nb = MultinomialNB().fit(X_train_dtm, y_train)"
   ]
  },
  {
   "cell_type": "code",
   "execution_count": 35,
   "metadata": {},
   "outputs": [],
   "source": [
    "# Make predictions with testing features from X_test\n",
    "y_pred_class_multi_nb = multi_nb.predict(test_features)"
   ]
  },
  {
   "cell_type": "code",
   "execution_count": 36,
   "metadata": {},
   "outputs": [
    {
     "data": {
      "text/plain": [
       "0.6722883458804727"
      ]
     },
     "execution_count": 36,
     "metadata": {},
     "output_type": "execute_result"
    }
   ],
   "source": [
    "metrics.accuracy_score(y_test, y_pred_class_multi_nb)"
   ]
  },
  {
   "cell_type": "code",
   "execution_count": 37,
   "metadata": {
    "scrolled": true
   },
   "outputs": [
    {
     "name": "stdout",
     "output_type": "stream",
     "text": [
      "open      15984\n",
      "closed     7793\n",
      "Name: label, dtype: int64\n",
      "Null accuracy: open    0.672246\n",
      "Name: label, dtype: float64\n",
      "Manual null accuracy: 0.8671931083991385\n"
     ]
    }
   ],
   "source": [
    "# examine class distribution\n",
    "print(y_test.value_counts())\n",
    "# there is a majority class of 0 here, hence the classes are skewed\n",
    "\n",
    "# calculate null accuracy (for multi-class classification problems)\n",
    "# .head(1) assesses the value 1208\n",
    "null_accuracy = y_test.value_counts().head(1) / len(y_test)\n",
    "print('Null accuracy:', null_accuracy)\n",
    "\n",
    "# Manual calculation of null accuracy by always predicting the majority class\n",
    "print('Manual null accuracy:',(1208 / (1208 + 185)))"
   ]
  },
  {
   "cell_type": "code",
   "execution_count": 38,
   "metadata": {},
   "outputs": [
    {
     "data": {
      "text/plain": [
       "array([[ 4381,  3412],\n",
       "       [ 4380, 11604]])"
      ]
     },
     "execution_count": 38,
     "metadata": {},
     "output_type": "execute_result"
    }
   ],
   "source": [
    "metrics.confusion_matrix(y_test, y_pred_class_multi_nb)"
   ]
  },
  {
   "cell_type": "code",
   "execution_count": 39,
   "metadata": {},
   "outputs": [
    {
     "name": "stdout",
     "output_type": "stream",
     "text": [
      "Confusion matrix, without normalization\n",
      "[[ 4381  3412]\n",
      " [ 4380 11604]]\n",
      "Normalized confusion matrix\n",
      "[[0.56 0.44]\n",
      " [0.27 0.73]]\n"
     ]
    },
    {
     "data": {
      "image/png": "[encoded data removed]",
      "text/plain": [
       "<Figure size 432x288 with 2 Axes>"
      ]
     },
     "metadata": {
      "needs_background": "light"
     },
     "output_type": "display_data"
    },
    {
     "data": {
      "image/png": "[encoded data removed]",
      "text/plain": [
       "<Figure size 432x288 with 2 Axes>"
      ]
     },
     "metadata": {
      "needs_background": "light"
     },
     "output_type": "display_data"
    }
   ],
   "source": [
    "np.set_printoptions(precision=2)\n",
    "\n",
    "# Plot non-normalized confusion matrix\n",
    "plot_confusion_matrix(y_test, y_pred_class_multi_nb, classes=['closed','open'],\n",
    "                      title='Confusion matrix, without normalization')\n",
    "\n",
    "# Plot normalized confusion matrix\n",
    "plot_confusion_matrix(y_test, y_pred_class_multi_nb, classes=['closed','open'], normalize=True,\n",
    "                      title='Normalized confusion matrix')\n",
    "\n",
    "plt.show()"
   ]
  },
  {
   "cell_type": "code",
   "execution_count": 40,
   "metadata": {},
   "outputs": [
    {
     "data": {
      "text/plain": [
       "5564     Fun Kids At Bishop William Ward Bishop William...\n",
       "8153     CRL V Our Reference EY Childcare Register outc...\n",
       "8579     School report Temple E Church England Primary ...\n",
       "8489     School emergency report Southlands School Sept...\n",
       "15703    Mickleover Littleover Centre Local authority D...\n",
       "127      Shining Stars Pre School Unique reference numb...\n",
       "2320     Alphabet House Nursery School Shrewsbury Road ...\n",
       "4815     Southway Playcare Unique reference number EY I...\n",
       "16662    Existing academy Burnside Primary School URN P...\n",
       "16804    School report Lyc e International De Londres O...\n",
       "524      Fordham Care kids C I C Fordham All Saints Pri...\n",
       "19380    Felling Centre Local authority Gateshead Inspe...\n",
       "6451     home Unique reference number SC Inspection dat...\n",
       "23775    Goodmayes Kindergarten Goodmayes Methodist Chu...\n",
       "9083     Oak Tree School Club Unique reference number E...\n",
       "701      Jack And Jill Nursery School Unique reference ...\n",
       "11373    Stepping Stones St Josephs St Josephs RC Churc...\n",
       "9685     CRL V Our Reference EY Childcare Register outc...\n",
       "5860     Radcliffe On Trent Out School Club Unique refe...\n",
       "7554     Untitled St James Pre School Unique Reference ...\n",
       "17281    CRL V Our Reference EY Childcare Register outc...\n",
       "5326     Existing academy Darrick Wood Junior School UR...\n",
       "267      Crown copyright Website document may reproduce...\n",
       "3026     Noah Ark Day Nursery Unique reference number I...\n",
       "10243    Piccadilly Gate Store Street Manchester M WD T...\n",
       "23599    CTY Mount Zion Nursery Unique reference number...\n",
       "2880     Four Seasons Kindergarten Arc Hall Hoathly Hil...\n",
       "8550     Piccadilly Gate Store Street Manchester M WD T...\n",
       "20663    CRL V Our Reference RP EY Dear Mrs Shermin Ema...\n",
       "4635     Existing academy St Mark Voluntary Aided Ecume...\n",
       "                               ...                        \n",
       "5294     COMBINED INSPECTION REPORT URN DfES Number INS...\n",
       "15500    Fun Kids At Montgomery Montgomery Infant Schoo...\n",
       "15035    Invicta Blackheath Let Me Play Wrap Around Car...\n",
       "18771    Piccadilly Gate Store Street Manchester M WD T...\n",
       "19645    Untitled home SC Unique reference number July ...\n",
       "10484    homes interim Inspection date Unique reference...\n",
       "22649    Untitled Happy Days Playgroup Unique Reference...\n",
       "20853    Tillymints Nursery Unique reference number EY ...\n",
       "23480    Thorn Grove Little Acorns Unique reference num...\n",
       "817      CRL V Our Reference EY Childcare Register outc...\n",
       "22009    Twycross House Pre Preparatory School Twycross...\n",
       "21298    Wraparound Boomerang Unique reference number E...\n",
       "12350    St Thomas Centre Nursery Unique Reference Numb...\n",
       "23026    home Registered provider Aspe Care And Educati...\n",
       "5298     Alphabet House St Laurence Long Eaton St Laure...\n",
       "21813    Lenwood Daycare Lenwood Hall Coronation Road L...\n",
       "13449    Munchies rd Hampton rd Hampton Scout Group Per...\n",
       "5215     Teach Fst North East ITE Partnership Initial t...\n",
       "4817     Untitled Peek A Boo EY Unique Reference Number...\n",
       "18126    Sparkling Angels Pre Chad Village Hall Waterso...\n",
       "19200    School report Hampton Academy Hanworth Road Ha...\n",
       "19197    CrackerJacks Day Nursery Crackerjacks Day Nurs...\n",
       "11768    Portico Town Green Out School Club Aughton Tow...\n",
       "6281     homes Full Inspection date Unique reference nu...\n",
       "16098    home Unique reference number SC Inspector Paul...\n",
       "22617    Jack In Box At Levesden Leavesden Green Commun...\n",
       "10525    DAY CARE INSPECTION REPORT URN INSPECTION DETA...\n",
       "18804    Untitled St Paul Nursery Group Unique Referenc...\n",
       "8585     Nevill Bears Stay Play Club Unique reference n...\n",
       "17343    Fun Kids At Layer Layer De La Haye C Of E Prim...\n",
       "Name: text, Length: 3412, dtype: object"
      ]
     },
     "execution_count": 40,
     "metadata": {},
     "output_type": "execute_result"
    }
   ],
   "source": [
    "X_test[y_pred_class_multi_nb > y_test]"
   ]
  },
  {
   "cell_type": "code",
   "execution_count": 41,
   "metadata": {},
   "outputs": [],
   "source": [
    "def most_informative_feature_for_binary_classification(vectorizer, classifier, n=10):\n",
    "    class_labels = classifier.classes_\n",
    "    feature_names = vectorizer.get_feature_names()\n",
    "    topn_class1 = sorted(zip(classifier.coef_[0], feature_names))[:n]\n",
    "    topn_class2 = sorted(zip(classifier.coef_[0], feature_names))[-n:]\n",
    "\n",
    "    for coef, feat in topn_class1:\n",
    "        print (class_labels[0], coef, feat)\n",
    "\n",
    "    print\n",
    "\n",
    "    for coef, feat in (topn_class2):\n",
    "        print (class_labels[1], coef, feat)"
   ]
  },
  {
   "cell_type": "code",
   "execution_count": 42,
   "metadata": {},
   "outputs": [
    {
     "name": "stdout",
     "output_type": "stream",
     "text": [
      "closed -12.743095728474545 nms boarders\n",
      "closed -11.966118608997181 boarding houses\n",
      "closed -11.83174993812196 results gcse\n",
      "closed -11.813441768788223 gcse course\n",
      "closed -11.732310477526443 years students\n",
      "closed -11.667542484555533 level results\n",
      "closed -11.661062568609346 faculty\n",
      "closed -11.65840652455123 sports college\n",
      "closed -11.654246942074288 gaining grades\n",
      "closed -11.6340744238917 prefects\n",
      "open -5.613204580607535 people\n",
      "open -5.581078078688915 make\n",
      "open -5.577967926268817 young\n",
      "open -5.574167822649269 school\n",
      "open -5.553672501922456 needs\n",
      "open -5.485106834243089 skills\n",
      "open -5.484719105574067 year\n",
      "open -5.4789808018911135 quality\n",
      "open -5.469172589603778 support\n",
      "open -5.436058844409008 standards\n"
     ]
    }
   ],
   "source": [
    "most_informative_feature_for_binary_classification(count_vect, multi_nb)"
   ]
  },
  {
   "cell_type": "code",
   "execution_count": 43,
   "metadata": {},
   "outputs": [],
   "source": [
    "pickle.dump(multi_nb, open('multi_nb.pkl','wb'))"
   ]
  },
  {
   "cell_type": "code",
   "execution_count": 44,
   "metadata": {},
   "outputs": [],
   "source": [
    "from sklearn.cluster import KMeans\n",
    "from sklearn.feature_extraction.text import TfidfVectorizer\n",
    "\n",
    "vectorizer = TfidfVectorizer(stop_words='english')\n",
    "X = vectorizer.fit_transform(X_train)\n",
    "km = KMeans(n_clusters=2, max_iter=1000)\n",
    "km.fit(X)\n",
    "clusters = km.labels_.tolist()"
   ]
  },
  {
   "cell_type": "code",
   "execution_count": 45,
   "metadata": {
    "scrolled": true
   },
   "outputs": [
    {
     "name": "stdout",
     "output_type": "stream",
     "text": [
      "Top terms per cluster:\n",
      "Cluster 0:\n",
      " care\n",
      " nursery\n",
      " childcare\n",
      " staff\n",
      " parents\n",
      " quality\n",
      " registered\n",
      " standards\n",
      " setting\n",
      " uk\n",
      "Cluster 1:\n",
      " pupils\n",
      " teachers\n",
      " students\n",
      " year\n",
      " academy\n",
      " lessons\n",
      " school\n",
      " average\n",
      " make\n",
      " standards\n",
      "\n",
      "\n",
      "Prediction\n"
     ]
    }
   ],
   "source": [
    "print(\"Top terms per cluster:\")\n",
    "order_centroids = km.cluster_centers_.argsort()[:, ::-1]\n",
    "terms = vectorizer.get_feature_names()\n",
    "for i in range(2):\n",
    "    print(\"Cluster %d:\" % i),\n",
    "    for ind in order_centroids[i, :10]:\n",
    "        print(' %s' % terms[ind]),\n",
    "    print\n"
   ]
  },
  {
   "cell_type": "code",
   "execution_count": 46,
   "metadata": {},
   "outputs": [
    {
     "name": "stdout",
     "output_type": "stream",
     "text": [
      "[0 1 1 ... 0 0 0]\n"
     ]
    }
   ],
   "source": [
    "Y = vectorizer.transform(X_test)\n",
    "prediction = km.predict(Y)\n",
    "print(prediction)"
   ]
  },
  {
   "cell_type": "code",
   "execution_count": 48,
   "metadata": {},
   "outputs": [
    {
     "name": "stderr",
     "output_type": "stream",
     "text": [
      "'c' argument looks like a single numeric RGB or RGBA sequence, which should be avoided as value-mapping will have precedence in case its length matches with 'x' & 'y'.  Please use a 2-D array with a single row if you really want to specify the same RGB or RGBA value for all points.\n",
      "'c' argument looks like a single numeric RGB or RGBA sequence, which should be avoided as value-mapping will have precedence in case its length matches with 'x' & 'y'.  Please use a 2-D array with a single row if you really want to specify the same RGB or RGBA value for all points.\n"
     ]
    },
    {
     "data": {
      "image/png": "[encoded data removed]",
      "text/plain": [
       "<Figure size 576x396 with 1 Axes>"
      ]
     },
     "metadata": {},
     "output_type": "display_data"
    }
   ],
   "source": [
    "from yellowbrick.text import TSNEVisualizer\n",
    "import seaborn as sns; sns.set()  # for plot styling\n",
    "\n",
    "tsne = TSNEVisualizer()\n",
    "tsne.fit(X, [\"c{}\".format(c) for c in clusters])\n",
    "tsne.poof()"
   ]
  },
  {
   "cell_type": "code",
   "execution_count": 49,
   "metadata": {},
   "outputs": [
    {
     "data": {
      "text/plain": [
       "LatentDirichletAllocation(batch_size=128, doc_topic_prior=None,\n",
       "             evaluate_every=-1, learning_decay=0.7,\n",
       "             learning_method='batch', learning_offset=10.0,\n",
       "             max_doc_update_iter=100, max_iter=10, mean_change_tol=0.001,\n",
       "             n_components=5, n_jobs=None, n_topics=None, perp_tol=0.1,\n",
       "             random_state=0, topic_word_prior=None,\n",
       "             total_samples=1000000.0, verbose=0)"
      ]
     },
     "execution_count": 49,
     "metadata": {},
     "output_type": "execute_result"
    }
   ],
   "source": [
    "from sklearn.decomposition import LatentDirichletAllocation\n",
    "\n",
    "lda = LatentDirichletAllocation(\n",
    "    n_components=5, \n",
    "    random_state=0)\n",
    "lda.fit(X)"
   ]
  },
  {
   "cell_type": "code",
   "execution_count": 50,
   "metadata": {},
   "outputs": [],
   "source": [
    "def display_topics(model, feature_names, no_top_words):\n",
    "    for topic_idx, topic in enumerate(model.components_):\n",
    "        print (\"Topic %d:\" % (topic_idx))\n",
    "        print (\" \".join([feature_names[i]\n",
    "                        for i in topic.argsort()[:-no_top_words - 1:-1]]))"
   ]
  },
  {
   "cell_type": "code",
   "execution_count": 51,
   "metadata": {},
   "outputs": [
    {
     "name": "stdout",
     "output_type": "stream",
     "text": [
      "Topic 0:\n",
      "childcare https register registration england publications registered uk provider quoting\n",
      "Topic 1:\n",
      "boarders boarding nms boarder csci headmaster ds dormitories commission matrons\n",
      "Topic 2:\n",
      "standards parents quality pupils care skills school nursery needs support\n",
      "Topic 3:\n",
      "academy young predecessor people home converter converters new conversion apprentices\n",
      "Topic 4:\n",
      "kiddies safehands nippers lanivet bishopswood budbrooke skylarks widmer westside charfield\n"
     ]
    }
   ],
   "source": [
    "no_top_words = 10\n",
    "display_topics(lda, vectorizer.get_feature_names(), no_top_words)"
   ]
  },
  {
   "cell_type": "code",
   "execution_count": null,
   "metadata": {},
   "outputs": [],
   "source": []
  }
 ],
 "metadata": {
  "kernelspec": {
   "display_name": "Python 3",
   "language": "python",
   "name": "python3"
  }
 },
 "nbformat": 4,
 "nbformat_minor": 2
}
