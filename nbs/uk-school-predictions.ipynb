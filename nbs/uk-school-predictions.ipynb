{
 "cells": [
  {
   "cell_type": "markdown",
   "metadata": {},
   "source": [
    "# Predicting School Failure in the UK with scikit-learn\n",
    "Data taken from [Ofsted](https://reports.ofsted.gov.uk/)"
   ]
  },
  {
   "cell_type": "code",
   "execution_count": 28,
   "metadata": {},
   "outputs": [],
   "source": [
    "%reload_ext autoreload\n",
    "%autoreload 2\n",
    "%matplotlib inline"
   ]
  },
  {
   "cell_type": "code",
   "execution_count": 29,
   "metadata": {},
   "outputs": [],
   "source": [
    "import os\n",
    "import re\n",
    "# Get all most recent closed files\n",
    "patterns = [\"progress\",\"teaching\",\"work\",\"well\",\"The\",\"provision\",\"this\",\"This\",\"Children\",\"enqiures uk\", \"the\", \"learning\", \"staff\", \"good\", \"ir\", \"inspection\", \"the\", \"schools\", \"children\", \"pupils\", \"school\", \"pupil\", \"Ofsted\", \"Inspection report\", \"gov uk\", \"ofsted gov\", \"early year\", \"uk government\", \"www.ofsted.gov.uk\", \"www.gov.uk/ofsted\", \"Early Year\", \"ofsted\", \"gov\", \"Inspection Report\"] # filter out common words\n",
    "closed_school_names = []\n",
    "closed = []\n",
    "closed_root = '../schools/closed/'\n",
    "for path, subdirs, files in os.walk(closed_root):\n",
    "    for s in subdirs:\n",
    "        f = os.path.join(path,s)\n",
    "        reports = \"\"\n",
    "        for p2, s2, f2 in os.walk(f):\n",
    "            for file in f2:\n",
    "                if file == '':\n",
    "                    continue\n",
    "                txt = open(os.path.join(p2,str(file)),\"r\", encoding = \"ISO-8859-1\")\n",
    "                content = txt.read()\n",
    "                if re.search(\"childminder\",content,re.IGNORECASE):\n",
    "                    continue\n",
    "                for pattern in patterns:\n",
    "                    content = content.replace(pattern,'')\n",
    "                content = content.replace('\\n',' ')\n",
    "                reports += content\n",
    "        if reports != \"\":\n",
    "            closed.append(reports)\n",
    "            closed_school_names.append(s)"
   ]
  },
  {
   "cell_type": "code",
   "execution_count": 30,
   "metadata": {},
   "outputs": [],
   "source": [
    "# Get all most recent open files\n",
    "patterns = [\"progress\",\"teaching\",\"work\",\"well\",\"The\",\"provision\",\"this\",\"This\",\"Children\",\"enqiures uk\", \"the\", \"learning\", \"staff\", \"good\", \"ir\", \"inspection\", \"the\", \"schools\", \"children\", \"pupils\", \"school\", \"pupil\", \"Ofsted\", \"Inspection report\", \"gov uk\", \"ofsted gov\", \"early year\", \"uk government\", \"www.ofsted.gov.uk\", \"www.gov.uk/ofsted\", \"Early Year\", \"ofsted\", \"gov\", \"Inspection Report\"] # filter out common words\n",
    "opened = []\n",
    "open_school_names = []\n",
    "open_root = '../schools/open/'\n",
    "for path, subdirs, files in os.walk(open_root):\n",
    "    for s in subdirs:\n",
    "        f = os.path.join(path,s)\n",
    "        reports = \"\"\n",
    "        for p2, s2, f2 in os.walk(f):\n",
    "            for file in f2:\n",
    "                if file == '':\n",
    "                    continue\n",
    "                txt = open(os.path.join(p2,str(file)),\"r\",  encoding = \"ISO-8859-1\")\n",
    "                content = txt.read()\n",
    "                if re.search(\"childminder\",content,re.aIGNORECASE):\n",
    "                    continue\n",
    "                for pattern in patterns:\n",
    "                    content = content.replace(pattern,'')\n",
    "                content = content.replace('\\n',' ')\n",
    "                reports += content\n",
    "        if reports != \"\":\n",
    "            opened.append(reports)\n",
    "            open_school_names.append(s)"
   ]
  },
  {
   "cell_type": "code",
   "execution_count": 31,
   "metadata": {},
   "outputs": [],
   "source": [
    "import pandas as pd\n",
    "df_closed = pd.DataFrame()\n",
    "closed_labels = [\"closed\" for school in closed]\n",
    "df_closed[\"school\"] = closed_school_names\n",
    "df_closed[\"text\"] = closed\n",
    "df_closed[\"label\"] = closed_labels"
   ]
  },
  {
   "cell_type": "code",
   "execution_count": 32,
   "metadata": {},
   "outputs": [
    {
     "data": {
      "text/html": [
       "<div>\n",
       "<style scoped>\n",
       "    .dataframe tbody tr th:only-of-type {\n",
       "        vertical-align: middle;\n",
       "    }\n",
       "\n",
       "    .dataframe tbody tr th {\n",
       "        vertical-align: top;\n",
       "    }\n",
       "\n",
       "    .dataframe thead th {\n",
       "        text-align: right;\n",
       "    }\n",
       "</style>\n",
       "<table border=\"1\" class=\"dataframe\">\n",
       "  <thead>\n",
       "    <tr style=\"text-align: right;\">\n",
       "      <th></th>\n",
       "      <th>school</th>\n",
       "      <th>text</th>\n",
       "      <th>label</th>\n",
       "    </tr>\n",
       "  </thead>\n",
       "  <tbody>\n",
       "    <tr>\n",
       "      <th>0</th>\n",
       "      <td>Tweeddale Primary School</td>\n",
       "      <td>Existing a...</td>\n",
       "      <td>closed</td>\n",
       "    </tr>\n",
       "    <tr>\n",
       "      <th>1</th>\n",
       "      <td>Loganberries Childcare And Tutoring Closed</td>\n",
       "      <td>...</td>\n",
       "      <td>closed</td>\n",
       "    </tr>\n",
       "    <tr>\n",
       "      <th>2</th>\n",
       "      <td>Dovedale Before and After School Club Closed</td>\n",
       "      <td>...</td>\n",
       "      <td>closed</td>\n",
       "    </tr>\n",
       "    <tr>\n",
       "      <th>3</th>\n",
       "      <td>Pepe &amp; Friends</td>\n",
       "      <td>Pepe &amp; Friends...</td>\n",
       "      <td>closed</td>\n",
       "    </tr>\n",
       "    <tr>\n",
       "      <th>4</th>\n",
       "      <td>Cottonstones Pre-School Playgroup Closed</td>\n",
       "      <td>Unt...</td>\n",
       "      <td>closed</td>\n",
       "    </tr>\n",
       "  </tbody>\n",
       "</table>\n",
       "</div>"
      ],
      "text/plain": [
       "                                         school  \\\n",
       "0                      Tweeddale Primary School   \n",
       "1    Loganberries Childcare And Tutoring Closed   \n",
       "2  Dovedale Before and After School Club Closed   \n",
       "3                                Pepe & Friends   \n",
       "4      Cottonstones Pre-School Playgroup Closed   \n",
       "\n",
       "                                                text   label  \n",
       "0                                      Existing a...  closed  \n",
       "1                                                ...  closed  \n",
       "2                                                ...  closed  \n",
       "3                                  Pepe & Friends...  closed  \n",
       "4                                             Unt...  closed  "
      ]
     },
     "execution_count": 32,
     "metadata": {},
     "output_type": "execute_result"
    }
   ],
   "source": [
    "df_closed.head()"
   ]
  },
  {
   "cell_type": "code",
   "execution_count": 33,
   "metadata": {},
   "outputs": [],
   "source": [
    "# Filter out schools that were marked as closed due to academy conversion\n",
    "import numpy as np\n",
    "df_closed = df_closed.replace(np.nan, '', regex=True)\n",
    "df_closed = df_closed[~df_closed.text.apply(lambda x: bool(re.search(\"academy converters\",x,re.IGNORECASE)))]"
   ]
  },
  {
   "cell_type": "code",
   "execution_count": 34,
   "metadata": {},
   "outputs": [],
   "source": [
    "df_open = pd.DataFrame()\n",
    "open_labels = [\"open\" for school in opened]\n",
    "df_open[\"school\"] = open_school_names\n",
    "df_open[\"text\"] = opened\n",
    "df_open[\"label\"] = open_labels"
   ]
  },
  {
   "cell_type": "code",
   "execution_count": 35,
   "metadata": {},
   "outputs": [
    {
     "data": {
      "text/html": [
       "<div>\n",
       "<style scoped>\n",
       "    .dataframe tbody tr th:only-of-type {\n",
       "        vertical-align: middle;\n",
       "    }\n",
       "\n",
       "    .dataframe tbody tr th {\n",
       "        vertical-align: top;\n",
       "    }\n",
       "\n",
       "    .dataframe thead th {\n",
       "        text-align: right;\n",
       "    }\n",
       "</style>\n",
       "<table border=\"1\" class=\"dataframe\">\n",
       "  <thead>\n",
       "    <tr style=\"text-align: right;\">\n",
       "      <th></th>\n",
       "      <th>school</th>\n",
       "      <th>text</th>\n",
       "      <th>label</th>\n",
       "    </tr>\n",
       "  </thead>\n",
       "  <tbody>\n",
       "    <tr>\n",
       "      <th>0</th>\n",
       "      <td>Tweeddale Primary School</td>\n",
       "      <td>Existing a...</td>\n",
       "      <td>open</td>\n",
       "    </tr>\n",
       "    <tr>\n",
       "      <th>1</th>\n",
       "      <td>Redcliffe Childrens Centre and Maintained Nurs...</td>\n",
       "      <td>...</td>\n",
       "      <td>open</td>\n",
       "    </tr>\n",
       "    <tr>\n",
       "      <th>2</th>\n",
       "      <td>Magpies West</td>\n",
       "      <td>...</td>\n",
       "      <td>open</td>\n",
       "    </tr>\n",
       "    <tr>\n",
       "      <th>3</th>\n",
       "      <td>St John's Church of England Primary School, La...</td>\n",
       "      <td>Existing a...</td>\n",
       "      <td>open</td>\n",
       "    </tr>\n",
       "    <tr>\n",
       "      <th>4</th>\n",
       "      <td>Stoneydelph Primary School</td>\n",
       "      <td>Existing acade...</td>\n",
       "      <td>open</td>\n",
       "    </tr>\n",
       "  </tbody>\n",
       "</table>\n",
       "</div>"
      ],
      "text/plain": [
       "                                              school  \\\n",
       "0                           Tweeddale Primary School   \n",
       "1  Redcliffe Childrens Centre and Maintained Nurs...   \n",
       "2                                       Magpies West   \n",
       "3  St John's Church of England Primary School, La...   \n",
       "4                         Stoneydelph Primary School   \n",
       "\n",
       "                                                text label  \n",
       "0                                      Existing a...  open  \n",
       "1                                                ...  open  \n",
       "2                                                ...  open  \n",
       "3                                      Existing a...  open  \n",
       "4                                  Existing acade...  open  "
      ]
     },
     "execution_count": 35,
     "metadata": {},
     "output_type": "execute_result"
    }
   ],
   "source": [
    "df_open.head()"
   ]
  },
  {
   "cell_type": "code",
   "execution_count": 36,
   "metadata": {},
   "outputs": [
    {
     "data": {
      "text/plain": [
       "array(['closed', 'open'], dtype=object)"
      ]
     },
     "execution_count": 36,
     "metadata": {},
     "output_type": "execute_result"
    }
   ],
   "source": [
    "df = df_closed.append(df_open, ignore_index=True)\n",
    "df.label.unique()"
   ]
  },
  {
   "cell_type": "code",
   "execution_count": 37,
   "metadata": {},
   "outputs": [
    {
     "data": {
      "text/html": [
       "<div>\n",
       "<style scoped>\n",
       "    .dataframe tbody tr th:only-of-type {\n",
       "        vertical-align: middle;\n",
       "    }\n",
       "\n",
       "    .dataframe tbody tr th {\n",
       "        vertical-align: top;\n",
       "    }\n",
       "\n",
       "    .dataframe thead th {\n",
       "        text-align: right;\n",
       "    }\n",
       "</style>\n",
       "<table border=\"1\" class=\"dataframe\">\n",
       "  <thead>\n",
       "    <tr style=\"text-align: right;\">\n",
       "      <th></th>\n",
       "      <th>school</th>\n",
       "      <th>text</th>\n",
       "      <th>label</th>\n",
       "    </tr>\n",
       "  </thead>\n",
       "  <tbody>\n",
       "    <tr>\n",
       "      <th>0</th>\n",
       "      <td>Loganberries Childcare And Tutoring Closed</td>\n",
       "      <td>...</td>\n",
       "      <td>closed</td>\n",
       "    </tr>\n",
       "    <tr>\n",
       "      <th>1</th>\n",
       "      <td>Dovedale Before and After School Club Closed</td>\n",
       "      <td>...</td>\n",
       "      <td>closed</td>\n",
       "    </tr>\n",
       "    <tr>\n",
       "      <th>2</th>\n",
       "      <td>Pepe &amp; Friends</td>\n",
       "      <td>Pepe &amp; Friends...</td>\n",
       "      <td>closed</td>\n",
       "    </tr>\n",
       "    <tr>\n",
       "      <th>3</th>\n",
       "      <td>Cottonstones Pre-School Playgroup Closed</td>\n",
       "      <td>Unt...</td>\n",
       "      <td>closed</td>\n",
       "    </tr>\n",
       "    <tr>\n",
       "      <th>4</th>\n",
       "      <td>St Mary and St John Junior and Infant School C...</td>\n",
       "      <td>Scho...</td>\n",
       "      <td>closed</td>\n",
       "    </tr>\n",
       "  </tbody>\n",
       "</table>\n",
       "</div>"
      ],
      "text/plain": [
       "                                              school  \\\n",
       "0         Loganberries Childcare And Tutoring Closed   \n",
       "1       Dovedale Before and After School Club Closed   \n",
       "2                                     Pepe & Friends   \n",
       "3           Cottonstones Pre-School Playgroup Closed   \n",
       "4  St Mary and St John Junior and Infant School C...   \n",
       "\n",
       "                                                text   label  \n",
       "0                                                ...  closed  \n",
       "1                                                ...  closed  \n",
       "2                                  Pepe & Friends...  closed  \n",
       "3                                             Unt...  closed  \n",
       "4                                            Scho...  closed  "
      ]
     },
     "execution_count": 37,
     "metadata": {},
     "output_type": "execute_result"
    }
   ],
   "source": [
    "df.head()"
   ]
  },
  {
   "cell_type": "code",
   "execution_count": 38,
   "metadata": {},
   "outputs": [
    {
     "name": "stdout",
     "output_type": "stream",
     "text": [
      "Total number of closed schools: 23846\n",
      "Total number of open schools: 48205\n"
     ]
    }
   ],
   "source": [
    "print (\"Total number of closed schools: {}\".format(len(closed)))\n",
    "print (\"Total number of open schools: {}\".format(len(opened)))"
   ]
  },
  {
   "cell_type": "code",
   "execution_count": 39,
   "metadata": {},
   "outputs": [
    {
     "name": "stdout",
     "output_type": "stream",
     "text": [
      "Closed schools after filtering for academy converters: 21596\n",
      "Open schools: 48205\n"
     ]
    }
   ],
   "source": [
    "print (\"Closed schools after filtering for academy converters: {}\".format(len(df_closed))) # 530 after filtering out academy converter\n",
    "print (\"Open schools: {}\".format(len(df_open)))"
   ]
  },
  {
   "cell_type": "code",
   "execution_count": 40,
   "metadata": {},
   "outputs": [],
   "source": [
    "# from wordcloud import WordCloud\n",
    "# import PIL\n",
    "# import itertools\n",
    "# import matplotlib.pyplot as plt\n",
    "\n",
    "# targets = ['text']\n",
    "\n",
    "# l1 = df_closed['text'].values.tolist()\n",
    "# l2 = df_open['text'].values.tolist()\n",
    "# school_categories = [l1, l2]\n",
    "\n",
    "# for schools,target in zip(school_categories, targets):\n",
    "#   raw_str = df[target].str.cat(sep=',')\n",
    "#   wordcloud = WordCloud( max_words=1000,margin=0).generate(raw_str)\n",
    "#   plt.figure()\n",
    "#   plt.imshow(wordcloud, interpolation=\"bilinear\")\n",
    "#   plt.axis(\"off\")\n",
    "#   plt.show()\n",
    "\n",
    "# for o_schools,target in zip(l2, targets):\n",
    "#   raw_str = df_open[target].str.cat(sep=',')\n",
    "#   wordcloud = WordCloud(max_words=1000,margin=0).generate(raw_str)\n",
    "#   plt.figure()\n",
    "#   plt.imshow(wordcloud, interpolation=\"bilinear\")\n",
    "#   plt.axis(\"off\")\n",
    "#   plt.show()\n",
    "\n",
    "# for c_schools,target in zip(l1, targets):\n",
    "#   raw_str = df_closed[target].str.cat(sep=',')\n",
    "#   wordcloud = WordCloud(max_words=1000,margin=0).generate(raw_str)\n",
    "#   plt.figure()\n",
    "#   plt.imshow(wordcloud, interpolation=\"bilinear\")\n",
    "#   plt.axis(\"off\")\n",
    "#   plt.show()"
   ]
  },
  {
   "cell_type": "code",
   "execution_count": 41,
   "metadata": {},
   "outputs": [],
   "source": [
    "df['text'] = df['text'].str.replace(\"[^a-zA-Z]\", \" \") # Clean up non-alphabetical symbols\n",
    "import numpy as np\n",
    "df = df.replace(np.nan, '', regex=True)"
   ]
  },
  {
   "cell_type": "code",
   "execution_count": 42,
   "metadata": {},
   "outputs": [
    {
     "name": "stderr",
     "output_type": "stream",
     "text": [
      "[nltk_data] Downloading package stopwords to\n",
      "[nltk_data]     /Users/vcabales/nltk_data...\n",
      "[nltk_data]   Package stopwords is already up-to-date!\n"
     ]
    }
   ],
   "source": [
    "# Clean up stopwords\n",
    "import nltk\n",
    "nltk.download(\"stopwords\")\n",
    "\n",
    "from nltk.corpus import stopwords\n",
    "stop_words = stopwords.words('english')\n",
    "\n",
    "df['text'] = df['text'].apply(lambda x: ' '.join([word for word in x.split() if word not in stop_words]))"
   ]
  },
  {
   "cell_type": "code",
   "execution_count": 43,
   "metadata": {},
   "outputs": [
    {
     "data": {
      "text/html": [
       "<div>\n",
       "<style scoped>\n",
       "    .dataframe tbody tr th:only-of-type {\n",
       "        vertical-align: middle;\n",
       "    }\n",
       "\n",
       "    .dataframe tbody tr th {\n",
       "        vertical-align: top;\n",
       "    }\n",
       "\n",
       "    .dataframe thead th {\n",
       "        text-align: right;\n",
       "    }\n",
       "</style>\n",
       "<table border=\"1\" class=\"dataframe\">\n",
       "  <thead>\n",
       "    <tr style=\"text-align: right;\">\n",
       "      <th></th>\n",
       "      <th>school</th>\n",
       "      <th>text</th>\n",
       "      <th>label</th>\n",
       "    </tr>\n",
       "  </thead>\n",
       "  <tbody>\n",
       "    <tr>\n",
       "      <th>0</th>\n",
       "      <td>Loganberries Childcare And Tutoring Closed</td>\n",
       "      <td>Loganberries Childcare And Tutoring Holy Spit ...</td>\n",
       "      <td>closed</td>\n",
       "    </tr>\n",
       "    <tr>\n",
       "      <th>1</th>\n",
       "      <td>Dovedale Before and After School Club Closed</td>\n",
       "      <td>Dovedale Before After School Club Dovedale Pri...</td>\n",
       "      <td>closed</td>\n",
       "    </tr>\n",
       "    <tr>\n",
       "      <th>2</th>\n",
       "      <td>Pepe &amp; Friends</td>\n",
       "      <td>Pepe Friends Skylines Village Limeharbour LOND...</td>\n",
       "      <td>closed</td>\n",
       "    </tr>\n",
       "    <tr>\n",
       "      <th>3</th>\n",
       "      <td>Cottonstones Pre-School Playgroup Closed</td>\n",
       "      <td>Untitled Cottonstones Pre School Playgroup Uni...</td>\n",
       "      <td>closed</td>\n",
       "    </tr>\n",
       "    <tr>\n",
       "      <th>4</th>\n",
       "      <td>St Mary and St John Junior and Infant School C...</td>\n",
       "      <td>School report St Mary St John Junior Infant Sc...</td>\n",
       "      <td>closed</td>\n",
       "    </tr>\n",
       "  </tbody>\n",
       "</table>\n",
       "</div>"
      ],
      "text/plain": [
       "                                              school  \\\n",
       "0         Loganberries Childcare And Tutoring Closed   \n",
       "1       Dovedale Before and After School Club Closed   \n",
       "2                                     Pepe & Friends   \n",
       "3           Cottonstones Pre-School Playgroup Closed   \n",
       "4  St Mary and St John Junior and Infant School C...   \n",
       "\n",
       "                                                text   label  \n",
       "0  Loganberries Childcare And Tutoring Holy Spit ...  closed  \n",
       "1  Dovedale Before After School Club Dovedale Pri...  closed  \n",
       "2  Pepe Friends Skylines Village Limeharbour LOND...  closed  \n",
       "3  Untitled Cottonstones Pre School Playgroup Uni...  closed  \n",
       "4  School report St Mary St John Junior Infant Sc...  closed  "
      ]
     },
     "execution_count": 43,
     "metadata": {},
     "output_type": "execute_result"
    }
   ],
   "source": [
    "df.head()"
   ]
  },
  {
   "cell_type": "code",
   "execution_count": 44,
   "metadata": {},
   "outputs": [],
   "source": [
    "from sklearn.model_selection import train_test_split # Split into testing and training\n",
    "X_train, X_test, y_train, y_test = train_test_split(df['text'], df['label'], test_size=0.33, random_state=42) "
   ]
  },
  {
   "cell_type": "code",
   "execution_count": 45,
   "metadata": {},
   "outputs": [
    {
     "data": {
      "text/plain": [
       "(46766,)"
      ]
     },
     "execution_count": 45,
     "metadata": {},
     "output_type": "execute_result"
    }
   ],
   "source": [
    "X_train.shape"
   ]
  },
  {
   "cell_type": "code",
   "execution_count": 46,
   "metadata": {},
   "outputs": [
    {
     "data": {
      "text/plain": [
       "(23035,)"
      ]
     },
     "execution_count": 46,
     "metadata": {},
     "output_type": "execute_result"
    }
   ],
   "source": [
    "X_test.shape"
   ]
  },
  {
   "cell_type": "code",
   "execution_count": 47,
   "metadata": {},
   "outputs": [
    {
     "data": {
      "text/plain": [
       "(46766,)"
      ]
     },
     "execution_count": 47,
     "metadata": {},
     "output_type": "execute_result"
    }
   ],
   "source": [
    "y_train.shape"
   ]
  },
  {
   "cell_type": "code",
   "execution_count": 48,
   "metadata": {},
   "outputs": [
    {
     "data": {
      "text/plain": [
       "(46766, 10000)"
      ]
     },
     "execution_count": 48,
     "metadata": {},
     "output_type": "execute_result"
    }
   ],
   "source": [
    "# Tokenize the words - CountVectorizer filters out stopwords\n",
    "from sklearn.feature_extraction.text import CountVectorizer\n",
    "count_vect = CountVectorizer(max_features=10000,ngram_range=(1,2))\n",
    "X_train_counts = count_vect.fit_transform(X_train)\n",
    "X_train_counts.shape"
   ]
  },
  {
   "cell_type": "code",
   "execution_count": 49,
   "metadata": {},
   "outputs": [],
   "source": [
    "# Transform testing data with CountVectorizer, use later to check for overfitting / underfitting\n",
    "test_features = count_vect.transform(X_test)"
   ]
  },
  {
   "cell_type": "code",
   "execution_count": 50,
   "metadata": {},
   "outputs": [
    {
     "data": {
      "text/plain": [
       "TfidfTransformer(norm='l2', smooth_idf=True, sublinear_tf=False, use_idf=True)"
      ]
     },
     "execution_count": 50,
     "metadata": {},
     "output_type": "execute_result"
    }
   ],
   "source": [
    "from sklearn.feature_extraction.text import TfidfTransformer\n",
    "X_train_tfidf = TfidfTransformer(smooth_idf=True,use_idf=True)\n",
    "X_train_tfidf.fit(X_train_counts)"
   ]
  },
  {
   "cell_type": "code",
   "execution_count": 51,
   "metadata": {},
   "outputs": [
    {
     "data": {
      "text/html": [
       "<div>\n",
       "<style scoped>\n",
       "    .dataframe tbody tr th:only-of-type {\n",
       "        vertical-align: middle;\n",
       "    }\n",
       "\n",
       "    .dataframe tbody tr th {\n",
       "        vertical-align: top;\n",
       "    }\n",
       "\n",
       "    .dataframe thead th {\n",
       "        text-align: right;\n",
       "    }\n",
       "</style>\n",
       "<table border=\"1\" class=\"dataframe\">\n",
       "  <thead>\n",
       "    <tr style=\"text-align: right;\">\n",
       "      <th></th>\n",
       "      <th>tf_idf_weights</th>\n",
       "    </tr>\n",
       "  </thead>\n",
       "  <tbody>\n",
       "    <tr>\n",
       "      <th>website</th>\n",
       "      <td>1.026148</td>\n",
       "    </tr>\n",
       "    <tr>\n",
       "      <th>years</th>\n",
       "      <td>1.027290</td>\n",
       "    </tr>\n",
       "    <tr>\n",
       "      <th>inspection</th>\n",
       "      <td>1.035387</td>\n",
       "    </tr>\n",
       "    <tr>\n",
       "      <th>number</th>\n",
       "      <td>1.038293</td>\n",
       "    </tr>\n",
       "    <tr>\n",
       "      <th>may</th>\n",
       "      <td>1.042345</td>\n",
       "    </tr>\n",
       "    <tr>\n",
       "      <th>information</th>\n",
       "      <td>1.042657</td>\n",
       "    </tr>\n",
       "    <tr>\n",
       "      <th>available</th>\n",
       "      <td>1.044958</td>\n",
       "    </tr>\n",
       "    <tr>\n",
       "      <th>it</th>\n",
       "      <td>1.046660</td>\n",
       "    </tr>\n",
       "    <tr>\n",
       "      <th>report</th>\n",
       "      <td>1.046704</td>\n",
       "    </tr>\n",
       "    <tr>\n",
       "      <th>date</th>\n",
       "      <td>1.047287</td>\n",
       "    </tr>\n",
       "    <tr>\n",
       "      <th>education</th>\n",
       "      <td>1.048431</td>\n",
       "    </tr>\n",
       "    <tr>\n",
       "      <th>inspector</th>\n",
       "      <td>1.049936</td>\n",
       "    </tr>\n",
       "    <tr>\n",
       "      <th>team</th>\n",
       "      <td>1.052457</td>\n",
       "    </tr>\n",
       "    <tr>\n",
       "      <th>act</th>\n",
       "      <td>1.055842</td>\n",
       "    </tr>\n",
       "    <tr>\n",
       "      <th>time</th>\n",
       "      <td>1.060284</td>\n",
       "    </tr>\n",
       "    <tr>\n",
       "      <th>telephone</th>\n",
       "      <td>1.061648</td>\n",
       "    </tr>\n",
       "    <tr>\n",
       "      <th>reference</th>\n",
       "      <td>1.067075</td>\n",
       "    </tr>\n",
       "    <tr>\n",
       "      <th>parents</th>\n",
       "      <td>1.073544</td>\n",
       "    </tr>\n",
       "    <tr>\n",
       "      <th>following</th>\n",
       "      <td>1.074373</td>\n",
       "    </tr>\n",
       "    <tr>\n",
       "      <th>ensure</th>\n",
       "      <td>1.074857</td>\n",
       "    </tr>\n",
       "    <tr>\n",
       "      <th>would</th>\n",
       "      <td>1.076540</td>\n",
       "    </tr>\n",
       "    <tr>\n",
       "      <th>se</th>\n",
       "      <td>1.076817</td>\n",
       "    </tr>\n",
       "    <tr>\n",
       "      <th>quality</th>\n",
       "      <td>1.078042</td>\n",
       "    </tr>\n",
       "    <tr>\n",
       "      <th>support</th>\n",
       "      <td>1.079245</td>\n",
       "    </tr>\n",
       "    <tr>\n",
       "      <th>reference number</th>\n",
       "      <td>1.079777</td>\n",
       "    </tr>\n",
       "    <tr>\n",
       "      <th>including</th>\n",
       "      <td>1.080542</td>\n",
       "    </tr>\n",
       "    <tr>\n",
       "      <th>needs</th>\n",
       "      <td>1.080588</td>\n",
       "    </tr>\n",
       "    <tr>\n",
       "      <th>made</th>\n",
       "      <td>1.080750</td>\n",
       "    </tr>\n",
       "    <tr>\n",
       "      <th>skills</th>\n",
       "      <td>1.080866</td>\n",
       "    </tr>\n",
       "    <tr>\n",
       "      <th>set</th>\n",
       "      <td>1.080959</td>\n",
       "    </tr>\n",
       "    <tr>\n",
       "      <th>...</th>\n",
       "      <td>...</td>\n",
       "    </tr>\n",
       "    <tr>\n",
       "      <th>fostering agency</th>\n",
       "      <td>5.820688</td>\n",
       "    </tr>\n",
       "    <tr>\n",
       "      <th>all saints</th>\n",
       "      <td>5.828677</td>\n",
       "    </tr>\n",
       "    <tr>\n",
       "      <th>independent fostering</th>\n",
       "      <td>5.834039</td>\n",
       "    </tr>\n",
       "    <tr>\n",
       "      <th>grammar school</th>\n",
       "      <td>5.875197</td>\n",
       "    </tr>\n",
       "    <tr>\n",
       "      <th>fostering services</th>\n",
       "      <td>5.923987</td>\n",
       "    </tr>\n",
       "    <tr>\n",
       "      <th>park primary</th>\n",
       "      <td>5.950815</td>\n",
       "    </tr>\n",
       "    <tr>\n",
       "      <th>house school</th>\n",
       "      <td>5.962973</td>\n",
       "    </tr>\n",
       "    <tr>\n",
       "      <th>supervising social</th>\n",
       "      <td>5.962973</td>\n",
       "    </tr>\n",
       "    <tr>\n",
       "      <th>care leavers</th>\n",
       "      <td>5.969108</td>\n",
       "    </tr>\n",
       "    <tr>\n",
       "      <th>st james</th>\n",
       "      <td>5.972190</td>\n",
       "    </tr>\n",
       "    <tr>\n",
       "      <th>average score</th>\n",
       "      <td>5.978382</td>\n",
       "    </tr>\n",
       "    <tr>\n",
       "      <th>fs</th>\n",
       "      <td>6.035905</td>\n",
       "    </tr>\n",
       "    <tr>\n",
       "      <th>lower school</th>\n",
       "      <td>6.143461</td>\n",
       "    </tr>\n",
       "    <tr>\n",
       "      <th>st andrew</th>\n",
       "      <td>6.147131</td>\n",
       "    </tr>\n",
       "    <tr>\n",
       "      <th>nms boarders</th>\n",
       "      <td>6.158222</td>\n",
       "    </tr>\n",
       "    <tr>\n",
       "      <th>hill primary</th>\n",
       "      <td>6.199974</td>\n",
       "    </tr>\n",
       "    <tr>\n",
       "      <th>park school</th>\n",
       "      <td>6.239504</td>\n",
       "    </tr>\n",
       "    <tr>\n",
       "      <th>st michael</th>\n",
       "      <td>6.243545</td>\n",
       "    </tr>\n",
       "    <tr>\n",
       "      <th>st joseph</th>\n",
       "      <td>6.255765</td>\n",
       "    </tr>\n",
       "    <tr>\n",
       "      <th>retention pass</th>\n",
       "      <td>6.289101</td>\n",
       "    </tr>\n",
       "    <tr>\n",
       "      <th>our lady</th>\n",
       "      <td>6.327983</td>\n",
       "    </tr>\n",
       "    <tr>\n",
       "      <th>nms fostering</th>\n",
       "      <td>6.444665</td>\n",
       "    </tr>\n",
       "    <tr>\n",
       "      <th>starts retention</th>\n",
       "      <td>6.464666</td>\n",
       "    </tr>\n",
       "    <tr>\n",
       "      <th>adoption service</th>\n",
       "      <td>6.521824</td>\n",
       "    </tr>\n",
       "    <tr>\n",
       "      <th>no starts</th>\n",
       "      <td>6.521824</td>\n",
       "    </tr>\n",
       "    <tr>\n",
       "      <th>hall school</th>\n",
       "      <td>6.559976</td>\n",
       "    </tr>\n",
       "    <tr>\n",
       "      <th>adopters</th>\n",
       "      <td>6.628969</td>\n",
       "    </tr>\n",
       "    <tr>\n",
       "      <th>jrs</th>\n",
       "      <td>7.127960</td>\n",
       "    </tr>\n",
       "    <tr>\n",
       "      <th>service page</th>\n",
       "      <td>7.209638</td>\n",
       "    </tr>\n",
       "    <tr>\n",
       "      <th>council fostering</th>\n",
       "      <td>7.242074</td>\n",
       "    </tr>\n",
       "  </tbody>\n",
       "</table>\n",
       "<p>10000 rows × 1 columns</p>\n",
       "</div>"
      ],
      "text/plain": [
       "                       tf_idf_weights\n",
       "website                      1.026148\n",
       "years                        1.027290\n",
       "inspection                   1.035387\n",
       "number                       1.038293\n",
       "may                          1.042345\n",
       "information                  1.042657\n",
       "available                    1.044958\n",
       "it                           1.046660\n",
       "report                       1.046704\n",
       "date                         1.047287\n",
       "education                    1.048431\n",
       "inspector                    1.049936\n",
       "team                         1.052457\n",
       "act                          1.055842\n",
       "time                         1.060284\n",
       "telephone                    1.061648\n",
       "reference                    1.067075\n",
       "parents                      1.073544\n",
       "following                    1.074373\n",
       "ensure                       1.074857\n",
       "would                        1.076540\n",
       "se                           1.076817\n",
       "quality                      1.078042\n",
       "support                      1.079245\n",
       "reference number             1.079777\n",
       "including                    1.080542\n",
       "needs                        1.080588\n",
       "made                         1.080750\n",
       "skills                       1.080866\n",
       "set                          1.080959\n",
       "...                               ...\n",
       "fostering agency             5.820688\n",
       "all saints                   5.828677\n",
       "independent fostering        5.834039\n",
       "grammar school               5.875197\n",
       "fostering services           5.923987\n",
       "park primary                 5.950815\n",
       "house school                 5.962973\n",
       "supervising social           5.962973\n",
       "care leavers                 5.969108\n",
       "st james                     5.972190\n",
       "average score                5.978382\n",
       "fs                           6.035905\n",
       "lower school                 6.143461\n",
       "st andrew                    6.147131\n",
       "nms boarders                 6.158222\n",
       "hill primary                 6.199974\n",
       "park school                  6.239504\n",
       "st michael                   6.243545\n",
       "st joseph                    6.255765\n",
       "retention pass               6.289101\n",
       "our lady                     6.327983\n",
       "nms fostering                6.444665\n",
       "starts retention             6.464666\n",
       "adoption service             6.521824\n",
       "no starts                    6.521824\n",
       "hall school                  6.559976\n",
       "adopters                     6.628969\n",
       "jrs                          7.127960\n",
       "service page                 7.209638\n",
       "council fostering            7.242074\n",
       "\n",
       "[10000 rows x 1 columns]"
      ]
     },
     "execution_count": 51,
     "metadata": {},
     "output_type": "execute_result"
    }
   ],
   "source": [
    "# print idf values\n",
    "df_idf = pd.DataFrame(X_train_tfidf.idf_, index=count_vect.get_feature_names(),columns=[\"tf_idf_weights\"])\n",
    "df_idf.sort_values(by=['tf_idf_weights'])\n",
    "# the lower the idf value, the less unique the word is (meaning that the word appears more frequently)"
   ]
  },
  {
   "cell_type": "code",
   "execution_count": 52,
   "metadata": {},
   "outputs": [],
   "source": [
    "import pickle\n",
    "pickle.dump(count_vect, open('../models/count_vect.pkl','wb'))"
   ]
  },
  {
   "cell_type": "code",
   "execution_count": 27,
   "metadata": {},
   "outputs": [],
   "source": [
    "X_train_dtm = count_vect.transform(X_train)"
   ]
  },
  {
   "cell_type": "code",
   "execution_count": 28,
   "metadata": {},
   "outputs": [],
   "source": [
    "# Use dummy classifier to get a baseline\n",
    "from sklearn.dummy import DummyClassifier \n",
    "baseline = DummyClassifier().fit(X_train_dtm, y_train)"
   ]
  },
  {
   "cell_type": "code",
   "execution_count": 29,
   "metadata": {},
   "outputs": [],
   "source": [
    "y_pred_class_baseline = baseline.predict(test_features)"
   ]
  },
  {
   "cell_type": "code",
   "execution_count": 30,
   "metadata": {},
   "outputs": [
    {
     "data": {
      "text/plain": [
       "0.5715215975689169"
      ]
     },
     "execution_count": 30,
     "metadata": {},
     "output_type": "execute_result"
    }
   ],
   "source": [
    "from sklearn import metrics\n",
    "metrics.accuracy_score(y_test, y_pred_class_baseline) # Record baseline accuracy"
   ]
  },
  {
   "cell_type": "code",
   "execution_count": 87,
   "metadata": {},
   "outputs": [
    {
     "data": {
      "text/plain": [
       "array([[ 2159,  4904],\n",
       "       [ 4989, 10983]])"
      ]
     },
     "execution_count": 87,
     "metadata": {},
     "output_type": "execute_result"
    }
   ],
   "source": [
    "metrics.confusion_matrix(y_test, y_pred_class_baseline)"
   ]
  },
  {
   "cell_type": "code",
   "execution_count": 88,
   "metadata": {},
   "outputs": [],
   "source": [
    "import matplotlib.pyplot as plt\n",
    "def plot_confusion_matrix(y_true, y_pred, classes,\n",
    "                          normalize=False,\n",
    "                          title=None,\n",
    "                          cmap=plt.cm.Blues):\n",
    "    \"\"\"\n",
    "    This function prints and plots the confusion matrix.\n",
    "    Normalization can be applied by setting `normalize=True`.\n",
    "    \"\"\"\n",
    "    if not title:\n",
    "        if normalize:\n",
    "            title = 'Normalized confusion matrix'\n",
    "        else:\n",
    "            title = 'Confusion matrix, without normalization'\n",
    "\n",
    "    # Compute confusion matrix\n",
    "    cm = metrics.confusion_matrix(y_true, y_pred)\n",
    "    # Only use the labels that appear in the data\n",
    "    classes = ['closed','open']\n",
    "    if normalize:\n",
    "        cm = cm.astype('float') / cm.sum(axis=1)[:, np.newaxis]\n",
    "        print(\"Normalized confusion matrix\")\n",
    "    else:\n",
    "        print('Confusion matrix, without normalization')\n",
    "\n",
    "    print(cm)\n",
    "\n",
    "    fig, ax = plt.subplots()\n",
    "    im = ax.imshow(cm, interpolation='nearest', cmap=cmap)\n",
    "    ax.figure.colorbar(im, ax=ax)\n",
    "    # We want to show all ticks...\n",
    "    ax.set(xticks=np.arange(cm.shape[1]),\n",
    "           yticks=np.arange(cm.shape[0]),\n",
    "           # ... and label them with the respective list entries\n",
    "           xticklabels=classes, yticklabels=classes,\n",
    "           title=title,\n",
    "           ylabel='True label',\n",
    "           xlabel='Predicted label')\n",
    "\n",
    "    # Rotate the tick labels and set their alignment.\n",
    "    plt.setp(ax.get_xticklabels(), rotation=45, ha=\"right\",\n",
    "             rotation_mode=\"anchor\")\n",
    "\n",
    "    # Loop over data dimensions and create text annotations.\n",
    "    fmt = '.2f' if normalize else 'd'\n",
    "    thresh = cm.max() / 2.\n",
    "    for i in range(cm.shape[0]):\n",
    "        for j in range(cm.shape[1]):\n",
    "            ax.text(j, i, format(cm[i, j], fmt),\n",
    "                    ha=\"center\", va=\"center\",\n",
    "                    color=\"white\" if cm[i, j] > thresh else \"black\")\n",
    "    fig.tight_layout()\n",
    "    return ax"
   ]
  },
  {
   "cell_type": "code",
   "execution_count": 89,
   "metadata": {},
   "outputs": [
    {
     "name": "stdout",
     "output_type": "stream",
     "text": [
      "Confusion matrix, without normalization\n",
      "[[ 2159  4904]\n",
      " [ 4989 10983]]\n",
      "Normalized confusion matrix\n",
      "[[0.31 0.69]\n",
      " [0.31 0.69]]\n"
     ]
    },
    {
     "data": {
      "image/png": "[encoded data removed]",
      "text/plain": [
       "<Figure size 432x288 with 2 Axes>"
      ]
     },
     "metadata": {
      "needs_background": "light"
     },
     "output_type": "display_data"
    },
    {
     "data": {
      "image/png": "[encoded data removed]",
      "text/plain": [
       "<Figure size 432x288 with 2 Axes>"
      ]
     },
     "metadata": {
      "needs_background": "light"
     },
     "output_type": "display_data"
    }
   ],
   "source": [
    "np.set_printoptions(precision=2)\n",
    "\n",
    "# Plot non-normalized confusion matrix\n",
    "plot_confusion_matrix(y_test, y_pred_class_baseline, classes=['closed','open'],\n",
    "                      title='Confusion matrix, without normalization')\n",
    "\n",
    "# Plot normalized confusion matrix\n",
    "plot_confusion_matrix(y_test, y_pred_class_baseline, classes=['closed','open'], normalize=True,\n",
    "                      title='Normalized confusion matrix')\n",
    "\n",
    "plt.show()"
   ]
  },
  {
   "cell_type": "code",
   "execution_count": 90,
   "metadata": {},
   "outputs": [],
   "source": [
    "from sklearn.naive_bayes import MultinomialNB\n",
    "multi_nb = MultinomialNB().fit(X_train_dtm, y_train)"
   ]
  },
  {
   "cell_type": "code",
   "execution_count": 91,
   "metadata": {},
   "outputs": [],
   "source": [
    "# Make predictions with testing features from X_test\n",
    "y_pred_class_multi_nb = multi_nb.predict(test_features)"
   ]
  },
  {
   "cell_type": "code",
   "execution_count": 92,
   "metadata": {},
   "outputs": [
    {
     "data": {
      "text/plain": [
       "0.6570002170609941"
      ]
     },
     "execution_count": 92,
     "metadata": {},
     "output_type": "execute_result"
    }
   ],
   "source": [
    "metrics.accuracy_score(y_test, y_pred_class_multi_nb)"
   ]
  },
  {
   "cell_type": "code",
   "execution_count": 93,
   "metadata": {
    "scrolled": true
   },
   "outputs": [
    {
     "name": "stdout",
     "output_type": "stream",
     "text": [
      "open      15972\n",
      "closed     7063\n",
      "Name: label, dtype: int64\n",
      "Null accuracy: open    0.69338\n",
      "Name: label, dtype: float64\n",
      "Manual null accuracy: 0.8671931083991385\n"
     ]
    }
   ],
   "source": [
    "# examine class distribution\n",
    "print(y_test.value_counts())\n",
    "# there is a majority class of 0 here, hence the classes are skewed\n",
    "\n",
    "# calculate null accuracy (for multi-class classification problems)\n",
    "# .head(1) assesses the value 1208\n",
    "null_accuracy = y_test.value_counts().head(1) / len(y_test)\n",
    "print('Null accuracy:', null_accuracy)\n",
    "\n",
    "# Manual calculation of null accuracy by always predicting the majority class\n",
    "print('Manual null accuracy:',(1208 / (1208 + 185)))"
   ]
  },
  {
   "cell_type": "code",
   "execution_count": 94,
   "metadata": {},
   "outputs": [
    {
     "data": {
      "text/plain": [
       "array([[ 4728,  2335],\n",
       "       [ 5566, 10406]])"
      ]
     },
     "execution_count": 94,
     "metadata": {},
     "output_type": "execute_result"
    }
   ],
   "source": [
    "metrics.confusion_matrix(y_test, y_pred_class_multi_nb)"
   ]
  },
  {
   "cell_type": "code",
   "execution_count": 95,
   "metadata": {},
   "outputs": [
    {
     "name": "stdout",
     "output_type": "stream",
     "text": [
      "Confusion matrix, without normalization\n",
      "[[ 4728  2335]\n",
      " [ 5566 10406]]\n",
      "Normalized confusion matrix\n",
      "[[0.67 0.33]\n",
      " [0.35 0.65]]\n"
     ]
    },
    {
     "data": {
      "image/png": "[encoded data removed]",
      "text/plain": [
       "<Figure size 432x288 with 2 Axes>"
      ]
     },
     "metadata": {
      "needs_background": "light"
     },
     "output_type": "display_data"
    },
    {
     "data": {
      "image/png": "[encoded data removed]",
      "text/plain": [
       "<Figure size 432x288 with 2 Axes>"
      ]
     },
     "metadata": {
      "needs_background": "light"
     },
     "output_type": "display_data"
    }
   ],
   "source": [
    "np.set_printoptions(precision=2)\n",
    "\n",
    "# Plot non-normalized confusion matrix\n",
    "plot_confusion_matrix(y_test, y_pred_class_multi_nb, classes=['closed','open'],\n",
    "                      title='Confusion matrix, without normalization')\n",
    "\n",
    "# Plot normalized confusion matrix\n",
    "plot_confusion_matrix(y_test, y_pred_class_multi_nb, classes=['closed','open'], normalize=True,\n",
    "                      title='Normalized confusion matrix')\n",
    "\n",
    "plt.show()"
   ]
  },
  {
   "cell_type": "code",
   "execution_count": 96,
   "metadata": {},
   "outputs": [
    {
     "data": {
      "text/plain": [
       "20290    home Unique reference number SC Inspection dat...\n",
       "5929     Maples Centre Unique Reference Number EY Inspe...\n",
       "15006    CRL V Our Reference EY Childcare Register outc...\n",
       "5897     Suffolk Norfolk Graduate Teacher Programme Ini...\n",
       "13912    Littlebrook Nursery Oaklands Park Wick Lane Eg...\n",
       "625      ANNUAL ASSESSMENT VISIT MAIN FINDINGS Name Col...\n",
       "2359     Chips Thorn Grove School Thorn Grove Primary S...\n",
       "9281     Gumboots Community Nursery Crystal Palace Road...\n",
       "9544     Microsoft Word Ltr Anne Newton Poole services ...\n",
       "18662    Complete Fostering Solutions independent foste...\n",
       "14805    Meadow View Nursery Meadow View Nursery Appleb...\n",
       "13387    EYL V Piccadilly Gate Store Street Manchester ...\n",
       "13995    Grendon Pre School Old Chapel Main Road Grendo...\n",
       "17240    Fst Steps Playgroup Church Road Nuneaton CV EE...\n",
       "6468     Little Lambs Childcare Branston Road Burton On...\n",
       "1583     Flore Pre School High Street Flore Northampton...\n",
       "3593     home Unique reference number SC Inspection dat...\n",
       "14154    CRL V Our Reference Childcare Register outcome...\n",
       "19264    CRL V Our Reference EY Childcare Register outc...\n",
       "18054    School report Revoe Learning Academy Grasmere ...\n",
       "9731     Hedgehogs Boughton Leigh Centre Boughton Leigh...\n",
       "19639    Family Care voluntary adoption agency Unique r...\n",
       "20664    Untitled St Teresa After School Club EY Unique...\n",
       "4815     CRL V Our Reference RP EY Dear Mr Wasim Hassan...\n",
       "20628    St Clements Pre School Kingston Road Epsom KT ...\n",
       "7255     home Unique reference number SC Inspection dat...\n",
       "15871    Filby Nursery Filby Primary School Thrigby Roa...\n",
       "7329     CRL V Our Reference EY Childcare Register outc...\n",
       "19253    Queen Crescent Community Nursery Queen Crescen...\n",
       "3787     CRL V Our Reference EY Childcare Register outc...\n",
       "                               ...                        \n",
       "15351    Stepping Stones Pre School Jolesfield C E Prim...\n",
       "2987     Monkey Puzzle Angel Fowler Road London N EP In...\n",
       "5236     Kids Play Bury St Edmunds Newmarket Road Bury ...\n",
       "19769    Synergy Kids Lake Forest House Forest Road Ilf...\n",
       "10827    School report Lord Derby Academy Seel Road Huy...\n",
       "18555    Blooming Kidz Ardoch Road London SE SL Inspect...\n",
       "2404     centre report Cygnets Centre Wood Lane Appleto...\n",
       "19566    Abbots Langley After School Club Abbots School...\n",
       "9625     CRL V Our Reference EY Childcare Register outc...\n",
       "2201     Golden Stars Nursery School Coventry Road Bmin...\n",
       "16671    CRL V Our Reference EY Childcare Register outc...\n",
       "14558    centre report Durham Brandon Centre Cluster Br...\n",
       "11999    Piccadilly Gate Store Street Manchester M WD T...\n",
       "6170     Canalside Centre Bridgwater Canalside Centre M...\n",
       "1976     Jack Box Nursery Unique reference number EY In...\n",
       "15664    School report K BIS atre School Clermont Hall ...\n",
       "14580    CRL V Our Reference EY Childcare Register outc...\n",
       "15311    Incy Wincy Day Nursery ESLA Horrocks Avenue LI...\n",
       "14257    School monitoring report ISP School Kent Churc...\n",
       "7895     Monkey Puzzle Day Nursery Stoke Newington Stok...\n",
       "12372    EYL V Piccadilly Gate Store Street Manchester ...\n",
       "16313    Piglets Playgroup Wolviston Base Wolviston Cou...\n",
       "18622    School report Cliffe Voluntary Controlled Prim...\n",
       "10104    School Shuttle Childcare Services Chowbent CHO...\n",
       "20408    Untitled Sutton Craven Community Primary Schoo...\n",
       "1796     Ladybd Nursery School Unique reference number ...\n",
       "17200    home Unique reference number SC Inspector Judi...\n",
       "1569     Scarborough Falsgrave Centre Local authority N...\n",
       "16787    PROTECT INSPECTION Learning Skills report Date...\n",
       "18329    White Rabbits Kindergarten Pre School Nursery ...\n",
       "Name: text, Length: 2335, dtype: object"
      ]
     },
     "execution_count": 96,
     "metadata": {},
     "output_type": "execute_result"
    }
   ],
   "source": [
    "X_test[y_pred_class_multi_nb > y_test]"
   ]
  },
  {
   "cell_type": "code",
   "execution_count": 97,
   "metadata": {},
   "outputs": [],
   "source": [
    "def most_informative_feature_for_binary_classification(vectorizer, classifier, n=10):\n",
    "    class_labels = classifier.classes_\n",
    "    feature_names = vectorizer.get_feature_names()\n",
    "    topn_class1 = sorted(zip(classifier.coef_[0], feature_names))[:n]\n",
    "    topn_class2 = sorted(zip(classifier.coef_[0], feature_names))[-n:]\n",
    "\n",
    "    for coef, feat in topn_class1:\n",
    "        print (class_labels[0], coef, feat)\n",
    "\n",
    "    print\n",
    "\n",
    "    for coef, feat in (topn_class2):\n",
    "        print (class_labels[1], coef, feat)"
   ]
  },
  {
   "cell_type": "code",
   "execution_count": 98,
   "metadata": {},
   "outputs": [
    {
     "name": "stdout",
     "output_type": "stream",
     "text": [
      "closed -12.981957640856765 nms boarders\n",
      "closed -12.376212081193842 boarding house\n",
      "closed -12.29526904033623 boarding houses\n",
      "closed -11.880488207387874 grade sixth\n",
      "closed -11.871494063916646 results gcse\n",
      "closed -11.867731124387104 gcse course\n",
      "closed -11.858850486448064 gcse examination\n",
      "closed -11.729399066843456 years students\n",
      "closed -11.692082801385897 gaining grades\n",
      "closed -11.665652969157073 level results\n",
      "open -5.610204751302751 people\n",
      "open -5.581030362861043 make\n",
      "open -5.572144678132673 school\n",
      "open -5.5710118198900975 young\n",
      "open -5.554120142075961 needs\n",
      "open -5.489282622580653 skills\n",
      "open -5.481217816261058 year\n",
      "open -5.478557604962873 quality\n",
      "open -5.474853485980411 support\n",
      "open -5.430533242975557 standards\n"
     ]
    }
   ],
   "source": [
    "most_informative_feature_for_binary_classification(count_vect, multi_nb)"
   ]
  },
  {
   "cell_type": "code",
   "execution_count": 42,
   "metadata": {},
   "outputs": [],
   "source": [
    "pickle.dump(multi_nb, open('multi_nb.pkl','wb'))"
   ]
  },
  {
   "cell_type": "code",
   "execution_count": 45,
   "metadata": {},
   "outputs": [],
   "source": [
    "from sklearn.cluster import KMeans\n",
    "from sklearn.feature_extraction.text import TfidfVectorizer\n",
    "\n",
    "vectorizer = TfidfVectorizer(stop_words='english')\n",
    "X = vectorizer.fit_transform(X_train)\n",
    "km = KMeans(n_clusters=2, max_iter=1000)\n",
    "km.fit(X)\n",
    "clusters = km.labels_.tolist()"
   ]
  },
  {
   "cell_type": "code",
   "execution_count": 46,
   "metadata": {},
   "outputs": [
    {
     "name": "stdout",
     "output_type": "stream",
     "text": [
      "Top terms per cluster:\n",
      "Cluster 0:\n",
      " pupils\n",
      " teachers\n",
      " students\n",
      " year\n",
      " lessons\n",
      " average\n",
      " school\n",
      " make\n",
      " skills\n",
      " standards\n",
      "Cluster 1:\n",
      " childcare\n",
      " nursery\n",
      " care\n",
      " parents\n",
      " staff\n",
      " quality\n",
      " registered\n",
      " setting\n",
      " act\n",
      " standards\n",
      "\n",
      "\n",
      "Prediction\n"
     ]
    }
   ],
   "source": [
    "print(\"Top terms per cluster:\")\n",
    "order_centroids = km.cluster_centers_.argsort()[:, ::-1]\n",
    "terms = vectorizer.get_feature_names()\n",
    "for i in range(2):\n",
    "    print(\"Cluster %d:\" % i),\n",
    "    for ind in order_centroids[i, :10]:\n",
    "        print(' %s' % terms[ind]),\n",
    "    print\n",
    "\n",
    "print(\"\\n\")\n",
    "print(\"Prediction\")"
   ]
  },
  {
   "cell_type": "code",
   "execution_count": 47,
   "metadata": {},
   "outputs": [
    {
     "name": "stdout",
     "output_type": "stream",
     "text": [
      "[1 1 1 ... 1 1 0]\n"
     ]
    }
   ],
   "source": [
    "Y = vectorizer.transform(X_test)\n",
    "prediction = km.predict(Y)\n",
    "print(prediction)"
   ]
  },
  {
   "cell_type": "code",
   "execution_count": null,
   "metadata": {},
   "outputs": [],
   "source": [
    "import seaborn as sns; sns.set()  # for plot styling\n",
    "\n",
    "plt.scatter(X[:, 0], X[:, 1], c=prediction, s=50, cmap='viridis')\n",
    "centers = km.cluster_centers_\n",
    "plt.scatter(centers[:, 0], centers[:, 1], s=200, alpha=0.5);"
   ]
  },
  {
   "cell_type": "code",
   "execution_count": 62,
   "metadata": {},
   "outputs": [
    {
     "name": "stderr",
     "output_type": "stream",
     "text": [
      "'c' argument looks like a single numeric RGB or RGBA sequence, which should be avoided as value-mapping will have precedence in case its length matches with 'x' & 'y'.  Please use a 2-D array with a single row if you really want to specify the same RGB or RGBA value for all points.\n",
      "'c' argument looks like a single numeric RGB or RGBA sequence, which should be avoided as value-mapping will have precedence in case its length matches with 'x' & 'y'.  Please use a 2-D array with a single row if you really want to specify the same RGB or RGBA value for all points.\n"
     ]
    },
    {
     "data": {
      "image/png": "[encoded data removed]",
      "text/plain": [
       "<Figure size 576x396 with 1 Axes>"
      ]
     },
     "metadata": {},
     "output_type": "display_data"
    }
   ],
   "source": [
    "from yellowbrick.text import TSNEVisualizer\n",
    "\n",
    "tsne = TSNEVisualizer()\n",
    "tsne.fit(X, [\"c{}\".format(c) for c in clusters])\n",
    "tsne.poof()"
   ]
  },
  {
   "cell_type": "code",
   "execution_count": 65,
   "metadata": {},
   "outputs": [
    {
     "data": {
      "text/plain": [
       "LatentDirichletAllocation(batch_size=128, doc_topic_prior=None,\n",
       "             evaluate_every=-1, learning_decay=0.7,\n",
       "             learning_method='batch', learning_offset=10.0,\n",
       "             max_doc_update_iter=100, max_iter=10, mean_change_tol=0.001,\n",
       "             n_components=5, n_jobs=None, n_topics=None, perp_tol=0.1,\n",
       "             random_state=0, topic_word_prior=None,\n",
       "             total_samples=1000000.0, verbose=0)"
      ]
     },
     "execution_count": 65,
     "metadata": {},
     "output_type": "execute_result"
    }
   ],
   "source": [
    "from sklearn.decomposition import LatentDirichletAllocation\n",
    "\n",
    "lda = LatentDirichletAllocation(\n",
    "    n_components=5, \n",
    "    random_state=0)\n",
    "lda.fit(X)"
   ]
  },
  {
   "cell_type": "code",
   "execution_count": 66,
   "metadata": {},
   "outputs": [],
   "source": [
    "def display_topics(model, feature_names, no_top_words):\n",
    "    for topic_idx, topic in enumerate(model.components_):\n",
    "        print (\"Topic %d:\" % (topic_idx))\n",
    "        print (\" \".join([feature_names[i]\n",
    "                        for i in topic.argsort()[:-no_top_words - 1:-1]]))"
   ]
  },
  {
   "cell_type": "code",
   "execution_count": 67,
   "metadata": {},
   "outputs": [
    {
     "name": "stdout",
     "output_type": "stream",
     "text": [
      "Topic 0:\n",
      "parents quality pupils standards skills school care nursery needs support\n",
      "Topic 1:\n",
      "slb astha clw tek pwc archon clr damar punnetts indigoskills\n",
      "Topic 2:\n",
      "fshc fortan gdn lawtrain headjogs kdts laccat tads jewson rwp\n",
      "Topic 3:\n",
      "frp alpington eastlands bergh kiara lfe wyevale emap tlz skandia\n",
      "Topic 4:\n",
      "academy predecessor converter converters conversion schoolurn faqs secretary new closed\n"
     ]
    }
   ],
   "source": [
    "no_top_words = 10\n",
    "display_topics(lda, vectorizer.get_feature_names(), no_top_words)"
   ]
  },
  {
   "cell_type": "code",
   "execution_count": 4,
   "metadata": {},
   "outputs": [],
   "source": [
    "import numpy as np\n",
    "clf = '../models/multi_nb.pkl'\n",
    "with open(clf,'rb') as f:\n",
    "    model = pickle.load(f)"
   ]
  },
  {
   "cell_type": "code",
   "execution_count": 7,
   "metadata": {},
   "outputs": [
    {
     "data": {
      "text/plain": [
       "\"\\n\\n\\n\\n\\n\\n\\n\\n\\n\\n\\n\\n\\n\\n\\n\\n\\n\\n\\n\\n\\n\\n\\n\\n\\n\\n\\n\\n\\n\\n\\n\\n\\n\\n\\n\\n\\n\\n\\nSchool report \\n \\n\\n \\n\\nBackwell Church of \\nEngland Junior School \\n\\nChurch Lane, Backwell, Bristol, BS48 3JJ \\n\\n \\n\\nInspection dates 19–20 March 2014 \\n \\n\\nOverall effectiveness \\nPrevious inspection: Good 2 \\n\\nThis inspection: Outstanding 1 \\n\\nAchievement of pupils  Outstanding 1 \\n\\nQuality of teaching Outstanding 1 \\n\\nBehaviour and safety of pupils Outstanding 1 \\n\\nLeadership and management  Outstanding 1 \\n \\n\\nSummary of key findings for parents and pupils \\n\\n \\n\\nThis is an outstanding school.  \\n\\n\\uf06e Excellent leadership and strong teamwork \\nfrom all staff ensure that much teaching is \\noutstanding and never less than good. \\n\\n\\uf06e Since the previous inspection, the \\nheadteacher has successfully focused on \\ntaking teaching to the highest level. \\n\\n\\uf06e Achievement is outstanding throughout the \\nschool. Pupils of all levels of ability make \\nexcellent progress in reading, writing and \\nmathematics. \\n\\n\\uf06e Teachers keep a watchful eye on everyone’s \\nprogress, and give all pupils challenging \\nwork, but written feedback to pupils on their \\nwork is not always fully effective. \\n\\n\\uf06e Pupils’ attitudes to learning are exemplary \\nbecause the pupils find it inspiring. Pupils \\nbehave in a way that is both very courteous \\nand respectful. \\n\\n \\n\\n\\uf06e Pupils feel safe and are very well looked after \\nby adults within school. Every effort is made to \\nsupport pupils who may be experiencing \\ndifficulties.  \\n\\n\\uf06e The school provides memorable learning \\nopportunities, and pupils benefit from an \\nexciting and varied curriculum. Their \\nenjoyment of the learning provided is reflected \\nin their high rates of attendance. \\n\\n\\uf06e Educational visits, visitors, sporting and \\nmusical opportunities successfully enhance the \\ncurriculum. \\n\\n\\uf06e The strong links with the local church \\ncontribute very well to pupils’ social and moral \\ndevelopment.  \\n\\n\\uf06e The governing body presents a high degree of \\nchallenge for senior leaders to continue to \\nensure teaching and achievement are of the \\nhighest quality. \\n\\n\\n\\nInspection report:  Backwell Church of England Junior School, 19–20 March 2014 2 of 10 \\n\\n \\n\\n \\n\\nInformation about this inspection \\n\\n\\uf06e This inspection was carried out with one day’s notice. Inspectors observed 12 lessons delivered \\nby 12 teachers. All of the lessons were observed jointly with the headteacher or the deputy \\nheadteacher. \\n\\n\\uf06e During this inspection, inspectors asked additional questions designed to ascertain the school’s \\nview of the impact and effectiveness of local authority services to support school improvement. \\nThis information will contribute to work being carried out by Ofsted to assess the use, quality \\nand impact of those services. \\n\\n\\uf06e Inspectors observed pupils’ behaviour in lessons, around the school and during play. They \\nlooked at a selection of pupils’ written work and mathematics work from all year groups and \\nlistened to pupils of different abilities from Year 3 read. \\n\\n\\uf06e Meetings were held with a group of pupils, including pupils who represented the school council. \\n\\n\\uf06e The inspectors met with the headteacher and the deputy headteacher, and leaders responsible \\nfor English, mathematics and special educational needs. The lead inspector held separate \\nmeetings with a group of governors and a representative from the local authority. \\n\\n\\uf06e The inspection took account of 58 responses to the online questionnaire (Parent View) that were \\nsubmitted during the course of the inspection. An inspector spoke to parents attending a class \\nassembly and the team took account of feedback from 13 staff questionnaires. \\n\\n\\uf06e The inspectors observed the school’s work and examined a range of documentation, including \\nthe school’s own records of pupils’ learning and progress, the checks made on the quality of \\nteaching and performance of staff and those relating to behaviour, attendance, child protection \\nand safeguarding. \\n\\n \\n\\nInspection team \\n\\nJane Neech Lead inspector Her Majesty’s Inspector  \\n\\nKen Bryan Additional Inspector \\n\\n \\n\\n\\n\\nInspection report:  Backwell Church of England Junior School, 19–20 March 2014 3 of 10 \\n\\n \\n\\n \\n\\nFull report \\n\\nInformation about this school \\n\\n\\uf06e Backwell Junior School is an average-sized primary school. The school belongs to a federation \\nwith West Leigh Infants School and shares the same headteacher and deputy headteacher. \\nThere is one governing body for the two schools. West Leigh Infants School is subject to a \\nseparate inspection and was not part of this inspection. \\n\\n\\uf06e The proportion of pupils known to be eligible for pupil premium funding is well below that found \\nnationally. The pupil premium is additional funding for those pupils who are known to be eligible \\nfor free school meals, those from service families and those that are looked after by the local \\nauthority. There are no children currently in the school who are being looked after by the local \\nauthority. \\n\\n\\uf06e The proportion of disabled pupils and those who have special educational needs supported \\nthrough school action is below that found nationally. The proportion of pupils supported at \\nschool action plus or with a statement of special educational needs is also below the national \\nfigure. The pupils’ needs relate mainly to moderate learning difficulties and behaviour difficulties. \\n\\n\\uf06e Most pupils are of White British heritage. \\n\\n\\uf06e The school meets the government’s current floor standards which set the minimum expectations \\nfor pupils’ attainment and progress. \\n\\n\\uf06e Pupils start the school in September after their seventh birthday. Pupils are taught in single-aged \\nclasses with two classes in each of the year groups.  \\n\\n \\n\\nWhat does the school need to do to improve further? \\n\\n\\uf06e Further refine teachers’ written feedback to pupils when responding to pupils’ work by: \\n\\n support for pupils to improve presentation and basic errors such as missing capital letters, \\npunctuation and poorly joined handwriting  \\n\\n marking mathematics to give pupils sufficient challenge to improve their work and apply what \\nthey have learnt to a new challenge or more complex problem \\n\\n marking in literacy and written work in other subjects which encourages pupils to act on \\nadvice and gives them time to do so. \\n\\n \\n\\n\\n\\nInspection report:  Backwell Church of England Junior School, 19–20 March 2014 4 of 10 \\n\\n \\n\\n \\n\\nInspection judgements \\n\\nThe achievement of pupils is outstanding \\n\\n\\uf06e Pupils start school with attainment that is above the national average. During their time in school \\npupils, including the most able pupils, maintain very high standards in their work. This means \\nthat the levels of attainment, as reflected in the National Curriculum test results at the end of \\nKey Stage 2, are high. Currently, school assessment information shows that well over half of all \\npupils are reaching standards well above those usually found for their age groups. \\n\\n\\uf06e In lessons, pupils make excellent progress in writing, as a result of measures put in place to \\ninspire pupils to write. In Year 3, pupils considered the features of writing a letter of complaint \\nabout ‘toenails present in a pizza’. The subject matter meant that there was a high level of \\nengagement and ‘wow’ moments of ‘disgust’ which inspired pupils to put pen to paper. \\n\\n\\uf06e There is a significant change to the progress pupils make in mathematics from the previous year. \\nCurrently, approximately two in every three pupils are now making more-than-expected \\nprogress, as a result of changes made to teaching. There is a sharper focus on challenging all \\nabilities to achieve highly. This means that the proportion of pupils achieving the higher levels in \\nmathematics has risen impressively in Years 4, 5 and 6.   \\n\\n\\uf06e Those pupils in receipt of pupil premium funding receive extra help in English and mathematics. \\nThe most recent National Curriculum test results at the end of Key Stage 2 show that this small \\ngroup of pupils did particularly better in reading than similar pupils nationally. The scores for \\neligible pupils were higher in both subjects than the scores for other pupils in the school, \\nshowing the impact of the extra help on closing the gap in achievement.  \\n\\n\\uf06e Disabled pupils and those who have special educational needs make impressive progress in \\nreading, writing and mathematics and outperform similar pupils nationally. Support is carefully \\ntailored to meet their learning needs and builds their understanding effectively. Parents rightly \\nexpress the view that their children who receive extra help are doing very well. \\n\\n\\uf06e Pupils read widely and talk with confidence about their favourite authors. Younger pupils of \\ndifferent abilities use a variety of strategies to work out unfamiliar words in the text. Some use \\ntheir phonic skills (the sounds made by letters) to sound out and build up words; others break \\nmore complex words, such as ‘flamboyantly’, down into recognisable syllables in order to make \\nsense of the new and challenging vocabulary. \\n\\n \\n\\nThe quality of teaching is outstanding \\n\\n\\uf06e Pupils have the benefit of teaching that is, at least, never less than good, and usually \\noutstanding. This has had a significant impact on their progress in writing, and more recently \\ntheir impressive progress in mathematics. All the teaching that inspectors observed was, without \\nexception, exciting, interesting and engaging.  \\n\\n\\uf06e A key strength in the teaching is the way it challenges pupils, including the more able, to gain \\nknowledge and skills. All abilities learn successfully. In Year 6 mathematics, the pupils achieved \\nvery well at their different ability levels. Pupils aspired to work at their highest level and to \\nchange class if necessary to help them do so.  \\n\\n\\uf06e Homework is used for learning in different subjects. For example, in Year 4, pupils used \\nhomework as a basis for writing an explanation of what Anglo-Saxon houses were like from the \\nmodels that they had made at home. The pride with which the pupils displayed their models \\nhelped to contribute to their learning, and meant that they were fully engrossed in their work. \\n\\n\\uf06e Relationships in lessons are exceptionally positive. The strong emphasis given to encouraging \\npupils to make contributions during lessons is very effective. Consequently, pupils are very \\narticulate and explain their ideas well. \\n\\n\\uf06e Teachers create very positive atmospheres for learning. In Year 3 religious education, pupils \\ndiscussed moral and spiritual issues from the perspective of the Islamic religion. The teacher \\ncreated the mood for learning through Islamic music playing softly in the background. The \\n\\n\\n\\nInspection report:  Backwell Church of England Junior School, 19–20 March 2014 5 of 10 \\n\\n \\n\\n \\n\\nwritten work which resulted from this lesson, in the form of pupils’ personal prayers, was of a \\nhigh quality. \\n\\n\\uf06e Teachers’ subject expertise is excellent, as is their use of assessment to judge how well pupils \\nare progressing. Consequently, teachers know exactly the precise steps which will move the \\npupils on to the next level. In a literacy lesson for Year 4, the teacher’s verbal advice about \\ntargets, with suggestions and reminders, moved pupils’ learning seamlessly from one level to the \\nnext.  \\n\\n\\uf06e Skilled teaching assistants provide support to ensure that those who find learning more difficult \\nenjoy their learning and achieve well. Teachers’ and teaching assistants’ flexible approach results \\nin this group of pupils making more-than-expected progress and achieving exceptionally in \\nreading, writing and mathematics. \\n\\n\\uf06e Pupils receive regular comments in their books from teachers when work is marked. These are \\noften positive, such as ‘good work’ or ‘well done’. Teachers give pupils advice as to how to \\nimprove their work and further steps to take in learning. However, this is not always as effective \\nas it could be. Some marking fails to pick up weaknesses in pupils’ presentation of their work, \\nand basic errors, such as omitted capital letters and poorly joined handwriting. At times, the \\nmarking in mathematics does not give pupils sufficient challenge to improve their work or apply \\ntheir knowledge. \\n\\n \\n\\nThe behaviour and safety of pupils are outstanding \\n\\n\\uf06e Inspectors endorsed the views of parents and staff, that the behaviour of pupils is outstanding. \\nPupils are invariably interested and curious about learning. Year 3 pupils responded very well to \\ntheir teacher’s skill in enlivening learning and remained enthralled by the experience. Teachers’ \\nmanagement of behaviour is excellent. \\n\\n\\uf06e Pupils are very polite and respectful. Behaviour is excellent when entering and leaving \\nassemblies. Parents comment on how respectful pupils are to each other when performing in \\nfront of an adult audience during class assemblies with visitors present.  \\n\\n\\uf06e The school’s work to keep pupils safe and secure is outstanding. The overwhelming majority of \\nparents who spoke with inspectors or who responded to Parent View were positive about the \\ncare their children receive, so that they are happy and safe in school. Pupils are confident that \\nbullying is rare and that should they seek help from adults if necessary; any concerns are \\nresolved quickly. Pupils’ enjoyment of school is reflected well in their high levels of attendance.  \\n\\n\\uf06e A very small minority of parents expressed the view that behavioural concerns were not dealt \\nwith quickly enough. Inspectors scrutinised behaviour records and actions taken by the school. \\nThey talked to pupils and observed pupils at work and at play. They found no evidence to \\nsuggest that the school was anything but extremely vigilant about behaviour, with consistently \\nhigh expectations that all pupils should behave exceptionally well at all times. \\n\\n\\uf06e Pupils’ leadership gives them a sense of responsibility. Play leaders look after others during \\nplaytimes and take their roles very seriously. The school council organises activities to raise \\nmoney for charity, such as through Sport Relief. \\n\\n\\uf06e The school has good systems for supporting those pupils whose circumstances may make them \\nvulnerable. Links with external agencies enable pupils to receive the specialist support they \\nneed. In-school and after-school activities, made available through the primary sports funding, \\ndevelop pupils’ confidence, sense of teamwork and fitness.  \\n\\n \\n\\nThe leadership and management are outstanding \\n\\n\\uf06e The headteacher, very ably supported by the deputy headteacher, is leading the school with an \\nimpressively steadfast determination to ensure that teaching is always of the highest quality, \\nthat pupils receive memorable experiences and are very well prepared to move to the next stage \\nin their education. Since the previous inspection, he has maintained the focus on pupils’ \\nbehaviour so that exemplary behaviour is the norm. All areas identified at the previous \\n\\n\\n\\nInspection report:  Backwell Church of England Junior School, 19–20 March 2014 6 of 10 \\n\\n \\n\\n \\n\\ninspection have been addressed, with pupils’ progress and attainment in writing being \\nparticularly impressive. \\n\\n\\uf06e The targets set for teachers link the impact of teaching to the pupils’ achievement and are well \\nused to keep expectations high. Leaders make sure everyone has an equal chance to do well. \\nThey have prudently planned this year’s additional funds, provided through extra government \\nmoney (pupil premium) to provide learning mentors for individual pupils and extra teaching \\nassistant support, over and above that normally provided. Consequently, gaps between the \\nachievements of pupils known to be eligible for the pupil premium and other learners have \\nnarrowed successfully. \\n\\n\\uf06e Leadership at all levels is very effective. The subject leader for mathematics has a sharp \\nunderstanding of the areas for development in his subject. He quickly recognised the reasons \\nwhy a number of pupils narrowly missed out on achieving higher levels in mathematics last year \\nand has put actions in place to redress this. As a result, internal school tracking data show a \\nvery strong picture of progress in mathematics in Years 4, 5 and 6, with approximately two in \\nevery three pupils making better than expected progress by moving rapidly to reach the higher \\nlevels. \\n\\n\\uf06e The school works well with parents. The quality of the work produced through homework tasks, \\nparticularly practical tasks such as model making, is testament to how well parents support their \\nchildren’s learning. Parents like the range of activities that the school offers through different \\ntopics and clubs. Pupils have the opportunity to learn to play a musical instrument and young \\nmusicians demonstrate their developing skill to wider audiences during assemblies. \\n\\n\\uf06e The primary sports funding is well used to provide a range of sports. The leadership team keeps \\na close eye on the quality of sports teaching delivered by outside coaches, as well as talent \\nspotting any pupils who excel in order to develop their potential further.  \\n\\n\\uf06e Pupils are provided with opportunities to visit places of cultural and historic interest which \\nsupport their learning further. The strong links with the local church provide many opportunities, \\nincluding holiday opportunities, for pupils to develop their understanding of social, moral, \\nspiritual and cultural aspects of learning. There is an effective balance between the strong \\nacademic curriculum and other aspects of learning, ensuring that the school is well placed to \\ndeliver the changes to the National Curriculum 2014. \\n\\n\\uf06e Arrangements for safeguarding pupils meet statutory requirements. Discrimination of any kind is \\nnot tolerated.  \\n\\n\\uf06e The local authority has provided good support and challenge. This is achieved through \\nchallenging conversations with the headteacher, deputy headteacher and, on many occasions, a \\nrepresentative from the governing body. For example, there has been close comparison of \\npupils’ progress in mathematics in school with national expectations. Recent challenge from the \\nlocal authority ensured that the school reflected on why some pupils missed out on achieving the \\nhigher levels in mathematics and a clear understanding of what needed to change.  \\n\\n\\uf06e A key strength in the local authority’s work has also been to challenge the school on the way \\nself-evaluation documents are written. The headteacher reports that this has been particularly \\nhelpful in ensuring that self-evaluation is reflective and states what is working well and why, \\nwhat not so well and what action needs to be taken. Governors endorse this improved practice. \\n\\n\\uf06e Governors report that training delivered by the local authority, such as a recent governor \\nconference, has been excellent because speakers are ‘inspirational’ in enabling them to improve \\ntheir practice. Where the governing body has needed advice on staffing, this has been timely, \\nappropriate, highly professional and supportive. Over time, the school considers support from \\nthe local authority has been more effective in the last few years because the same local \\nauthority representative has been working with the school, leading to a greater impact on school \\nimprovement. \\n\\n\\uf06e The governance of the school: \\n\\n Governors have a very sharp understanding of what goes on in school and the standards \\npupils achieve, including the difference pupil premium funding is making to eligible learners. \\nThey are strongly committed to see the school develop even further, through the recent \\nfederation with West Leigh Infants School. They ensure that their statutory duties are met, for \\n\\n\\n\\nInspection report:  Backwell Church of England Junior School, 19–20 March 2014 7 of 10 \\n\\n \\n\\n \\n\\nexample in the systems to safeguard and protect pupils. The recent appointment of a business \\nmanager to oversee both schools has been a prudent decision and means that any issues \\nrelating to finance or safety are quickly addressed. Governors are very confident in challenging \\nand holding school leaders to account for providing the very best education. They assiduously \\ncheck the information they receive on the quality of teaching and the achievement and \\nprogress pupils make, through questions to senior leaders, headteacher’s reports, joining \\ndiscussions with the local authority and visiting the school to see it at work. This approach \\ngives governors a very good understanding of how teachers, including the headteacher, are \\nheld to account for their performance, and why the very best teachers are being rewarded \\nthrough salary progression.  \\n\\n \\n\\n\\n\\nInspection report:  Backwell Church of England Junior School, 19–20 March 2014 8 of 10 \\n\\n \\n\\n \\n\\nWhat inspection judgements mean \\n\\nSchool \\n\\nGrade Judgement Description \\n\\nGrade 1 Outstanding An outstanding school is highly effective in delivering outcomes \\nthat provide exceptionally well for all its pupils’ needs. This ensures \\nthat pupils are very well equipped for the next stage of their \\neducation, training or employment. \\n\\nGrade 2 Good A good school is effective in delivering outcomes that provide well \\nfor all its pupils’ needs. Pupils are well prepared for the next stage \\nof their education, training or employment. \\n\\nGrade 3 Requires \\nimprovement \\n\\nA school that requires improvement is not yet a good school, but it \\nis not inadequate. This school will receive a full inspection within \\n24 months from the date of this inspection. \\n\\nGrade 4 Inadequate A school that has serious weaknesses is inadequate overall and \\nrequires significant improvement but leadership and management \\nare judged to be Grade 3 or better. This school will receive regular \\nmonitoring by Ofsted inspectors. \\n\\nA school that requires special measures is one where the school is \\nfailing to give its pupils an acceptable standard of education and \\nthe school’s leaders, managers or governors have not \\ndemonstrated that they have the capacity to secure the necessary \\nimprovement in the school. This school will receive regular \\nmonitoring by Ofsted inspectors. \\n\\n \\n\\n\\n\\nInspection report:  Backwell Church of England Junior School, 19–20 March 2014 9 of 10 \\n\\n \\n\\n \\n\\nSchool details \\n\\nUnique reference number 109183 \\n\\nLocal authority North Somerset \\n\\nInspection number 431474 \\n\\n \\n\\nThis inspection of the school was carried out under section 5 of the Education Act 2005.  \\n \\n\\n \\n\\nType of school Junior \\n\\nSchool category Voluntary controlled \\n\\nAge range of pupils 7–11 \\n\\nGender of pupils Mixed \\n\\nNumber of pupils on the school roll 211 \\n\\nAppropriate authority The governing body \\n\\nChair Selina Shattock \\n\\nHeadteacher Alex Bell \\n\\nDate of previous school inspection 10 February 2009 \\n\\nTelephone number 01275 462632 \\n\\nFax number 01275 462669 \\n\\nEmail address backwell.jun@n-somerset.gov.uk \\n\\n\\n\\n \\n\\n \\n\\nAny complaints about the inspection or the report should be made following the procedures set out in the \\n\\nguidance ‘raising concerns and making complaints about Ofsted', which is available from Ofsted’s website: \\n\\nwww.ofsted.gov.uk. If you would like Ofsted to send you a copy of the guidance, please telephone 0300 \\n\\n123 4234, or email enquiries@ofsted.gov.uk. \\n\\n \\n \\n\\nYou can use Parent View to give Ofsted your opinion on your child’s school. Ofsted \\n\\nwill use the information parents and carers provide when deciding which schools to \\ninspect and when and as part of the inspection. \\n \\n\\nYou can also use Parent View to find out what other parents and carers think about \\n\\nschools in England. You can visit www.parentview.ofsted.gov.uk, or look for the link \\n\\non the main Ofsted website: www.ofsted.gov.uk \\n \\n\\nThe Office for Standards in Education, Children's Services and Skills (Ofsted) regulates and inspects to \\n\\nachieve excellence in the care of children and young people, and in education and skills for learners \\n\\nof all ages. It regulates and inspects childcare and children's social care, and inspects the Children \\n\\nand Family Court Advisory Support Service (Cafcass), schools, colleges, initial teacher training, work-\\n\\nbased learning and skills training, adult and community learning, and education and training in \\n\\nprisons and other secure establishments. It assesses council children’s services, and inspects services \\n\\nfor looked after children, safeguarding and child protection. \\n\\nFurther copies of this report are obtainable from the school. Under the Education Act 2005, the school \\n\\nmust provide a copy of this report free of charge to certain categories of people. A charge not \\n\\nexceeding the full cost of reproduction may be made for any other copies supplied. \\n\\nIf you would like a copy of this document in a different format, such as large print or Braille, please \\n\\ntelephone 0300 123 4234, or email enquiries@ofsted.gov.uk. \\n\\nYou may copy all or parts of this document for non-commercial educational purposes, as long as you \\n\\ngive details of the source and date of publication and do not alter the information in any way. \\n\\nTo receive regular email alerts about new publications, including survey reports and school inspection \\n\\nreports, please visit our website and go to ‘Subscribe’. \\n\\nPiccadilly Gate \\nStore St \\n\\nManchester \\n\\nM1 2WD \\n\\n \\n\\nT: 0300 123 4234 \\n\\nTextphone: 0161 618 8524 \\n\\nE: enquiries@ofsted.gov.uk \\n\\nW: www.ofsted.gov.uk \\n\\n© Crown copyright 2014 \\n\\n \\n\\nhttp://www.parentview.ofsted.gov.uk/\\nhttp://www.ofsted.gov.uk/\\nhttp://www.ofsted.gov.uk/\\n\\n\""
      ]
     },
     "execution_count": 7,
     "metadata": {},
     "output_type": "execute_result"
    }
   ],
   "source": [
    "report = open('../example-reports/test.txt','r') \n",
    "content = report.read()"
   ]
  },
  {
   "cell_type": "code",
   "execution_count": 23,
   "metadata": {},
   "outputs": [],
   "source": [
    "# from sklearn.feature_extraction.text import CountVectorizer\n",
    "# cv_test = CountVectorizer(max_features=10000,ngram_range=(1,2))\n",
    "# cv_test.transform([content])"
   ]
  },
  {
   "cell_type": "code",
   "execution_count": 27,
   "metadata": {},
   "outputs": [
    {
     "data": {
      "text/plain": [
       "array([[\"\\n\\n\\n\\n\\n\\n\\n\\n\\n\\n\\n\\n\\n\\n\\n\\n\\n\\n\\n\\n\\n\\n\\n\\n\\n\\n\\n\\n\\n\\n\\n\\n\\n\\n\\n\\n\\n\\n\\nSchool report \\n \\n\\n \\n\\nBackwell Church of \\nEngland Junior School \\n\\nChurch Lane, Backwell, Bristol, BS48 3JJ \\n\\n \\n\\nInspection dates 19–20 March 2014 \\n \\n\\nOverall effectiveness \\nPrevious inspection: Good 2 \\n\\nThis inspection: Outstanding 1 \\n\\nAchievement of pupils  Outstanding 1 \\n\\nQuality of teaching Outstanding 1 \\n\\nBehaviour and safety of pupils Outstanding 1 \\n\\nLeadership and management  Outstanding 1 \\n \\n\\nSummary of key findings for parents and pupils \\n\\n \\n\\nThis is an outstanding school.  \\n\\n\\uf06e Excellent leadership and strong teamwork \\nfrom all staff ensure that much teaching is \\noutstanding and never less than good. \\n\\n\\uf06e Since the previous inspection, the \\nheadteacher has successfully focused on \\ntaking teaching to the highest level. \\n\\n\\uf06e Achievement is outstanding throughout the \\nschool. Pupils of all levels of ability make \\nexcellent progress in reading, writing and \\nmathematics. \\n\\n\\uf06e Teachers keep a watchful eye on everyone’s \\nprogress, and give all pupils challenging \\nwork, but written feedback to pupils on their \\nwork is not always fully effective. \\n\\n\\uf06e Pupils’ attitudes to learning are exemplary \\nbecause the pupils find it inspiring. Pupils \\nbehave in a way that is both very courteous \\nand respectful. \\n\\n \\n\\n\\uf06e Pupils feel safe and are very well looked after \\nby adults within school. Every effort is made to \\nsupport pupils who may be experiencing \\ndifficulties.  \\n\\n\\uf06e The school provides memorable learning \\nopportunities, and pupils benefit from an \\nexciting and varied curriculum. Their \\nenjoyment of the learning provided is reflected \\nin their high rates of attendance. \\n\\n\\uf06e Educational visits, visitors, sporting and \\nmusical opportunities successfully enhance the \\ncurriculum. \\n\\n\\uf06e The strong links with the local church \\ncontribute very well to pupils’ social and moral \\ndevelopment.  \\n\\n\\uf06e The governing body presents a high degree of \\nchallenge for senior leaders to continue to \\nensure teaching and achievement are of the \\nhighest quality. \\n\\n\\n\\nInspection report:  Backwell Church of England Junior School, 19–20 March 2014 2 of 10 \\n\\n \\n\\n \\n\\nInformation about this inspection \\n\\n\\uf06e This inspection was carried out with one day’s notice. Inspectors observed 12 lessons delivered \\nby 12 teachers. All of the lessons were observed jointly with the headteacher or the deputy \\nheadteacher. \\n\\n\\uf06e During this inspection, inspectors asked additional questions designed to ascertain the school’s \\nview of the impact and effectiveness of local authority services to support school improvement. \\nThis information will contribute to work being carried out by Ofsted to assess the use, quality \\nand impact of those services. \\n\\n\\uf06e Inspectors observed pupils’ behaviour in lessons, around the school and during play. They \\nlooked at a selection of pupils’ written work and mathematics work from all year groups and \\nlistened to pupils of different abilities from Year 3 read. \\n\\n\\uf06e Meetings were held with a group of pupils, including pupils who represented the school council. \\n\\n\\uf06e The inspectors met with the headteacher and the deputy headteacher, and leaders responsible \\nfor English, mathematics and special educational needs. The lead inspector held separate \\nmeetings with a group of governors and a representative from the local authority. \\n\\n\\uf06e The inspection took account of 58 responses to the online questionnaire (Parent View) that were \\nsubmitted during the course of the inspection. An inspector spoke to parents attending a class \\nassembly and the team took account of feedback from 13 staff questionnaires. \\n\\n\\uf06e The inspectors observed the school’s work and examined a range of documentation, including \\nthe school’s own records of pupils’ learning and progress, the checks made on the quality of \\nteaching and performance of staff and those relating to behaviour, attendance, child protection \\nand safeguarding. \\n\\n \\n\\nInspection team \\n\\nJane Neech Lead inspector Her Majesty’s Inspector  \\n\\nKen Bryan Additional Inspector \\n\\n \\n\\n\\n\\nInspection report:  Backwell Church of England Junior School, 19–20 March 2014 3 of 10 \\n\\n \\n\\n \\n\\nFull report \\n\\nInformation about this school \\n\\n\\uf06e Backwell Junior School is an average-sized primary school. The school belongs to a federation \\nwith West Leigh Infants School and shares the same headteacher and deputy headteacher. \\nThere is one governing body for the two schools. West Leigh Infants School is subject to a \\nseparate inspection and was not part of this inspection. \\n\\n\\uf06e The proportion of pupils known to be eligible for pupil premium funding is well below that found \\nnationally. The pupil premium is additional funding for those pupils who are known to be eligible \\nfor free school meals, those from service families and those that are looked after by the local \\nauthority. There are no children currently in the school who are being looked after by the local \\nauthority. \\n\\n\\uf06e The proportion of disabled pupils and those who have special educational needs supported \\nthrough school action is below that found nationally. The proportion of pupils supported at \\nschool action plus or with a statement of special educational needs is also below the national \\nfigure. The pupils’ needs relate mainly to moderate learning difficulties and behaviour difficulties. \\n\\n\\uf06e Most pupils are of White British heritage. \\n\\n\\uf06e The school meets the government’s current floor standards which set the minimum expectations \\nfor pupils’ attainment and progress. \\n\\n\\uf06e Pupils start the school in September after their seventh birthday. Pupils are taught in single-aged \\nclasses with two classes in each of the year groups.  \\n\\n \\n\\nWhat does the school need to do to improve further? \\n\\n\\uf06e Further refine teachers’ written feedback to pupils when responding to pupils’ work by: \\n\\n support for pupils to improve presentation and basic errors such as missing capital letters, \\npunctuation and poorly joined handwriting  \\n\\n marking mathematics to give pupils sufficient challenge to improve their work and apply what \\nthey have learnt to a new challenge or more complex problem \\n\\n marking in literacy and written work in other subjects which encourages pupils to act on \\nadvice and gives them time to do so. \\n\\n \\n\\n\\n\\nInspection report:  Backwell Church of England Junior School, 19–20 March 2014 4 of 10 \\n\\n \\n\\n \\n\\nInspection judgements \\n\\nThe achievement of pupils is outstanding \\n\\n\\uf06e Pupils start school with attainment that is above the national average. During their time in school \\npupils, including the most able pupils, maintain very high standards in their work. This means \\nthat the levels of attainment, as reflected in the National Curriculum test results at the end of \\nKey Stage 2, are high. Currently, school assessment information shows that well over half of all \\npupils are reaching standards well above those usually found for their age groups. \\n\\n\\uf06e In lessons, pupils make excellent progress in writing, as a result of measures put in place to \\ninspire pupils to write. In Year 3, pupils considered the features of writing a letter of complaint \\nabout ‘toenails present in a pizza’. The subject matter meant that there was a high level of \\nengagement and ‘wow’ moments of ‘disgust’ which inspired pupils to put pen to paper. \\n\\n\\uf06e There is a significant change to the progress pupils make in mathematics from the previous year. \\nCurrently, approximately two in every three pupils are now making more-than-expected \\nprogress, as a result of changes made to teaching. There is a sharper focus on challenging all \\nabilities to achieve highly. This means that the proportion of pupils achieving the higher levels in \\nmathematics has risen impressively in Years 4, 5 and 6.   \\n\\n\\uf06e Those pupils in receipt of pupil premium funding receive extra help in English and mathematics. \\nThe most recent National Curriculum test results at the end of Key Stage 2 show that this small \\ngroup of pupils did particularly better in reading than similar pupils nationally. The scores for \\neligible pupils were higher in both subjects than the scores for other pupils in the school, \\nshowing the impact of the extra help on closing the gap in achievement.  \\n\\n\\uf06e Disabled pupils and those who have special educational needs make impressive progress in \\nreading, writing and mathematics and outperform similar pupils nationally. Support is carefully \\ntailored to meet their learning needs and builds their understanding effectively. Parents rightly \\nexpress the view that their children who receive extra help are doing very well. \\n\\n\\uf06e Pupils read widely and talk with confidence about their favourite authors. Younger pupils of \\ndifferent abilities use a variety of strategies to work out unfamiliar words in the text. Some use \\ntheir phonic skills (the sounds made by letters) to sound out and build up words; others break \\nmore complex words, such as ‘flamboyantly’, down into recognisable syllables in order to make \\nsense of the new and challenging vocabulary. \\n\\n \\n\\nThe quality of teaching is outstanding \\n\\n\\uf06e Pupils have the benefit of teaching that is, at least, never less than good, and usually \\noutstanding. This has had a significant impact on their progress in writing, and more recently \\ntheir impressive progress in mathematics. All the teaching that inspectors observed was, without \\nexception, exciting, interesting and engaging.  \\n\\n\\uf06e A key strength in the teaching is the way it challenges pupils, including the more able, to gain \\nknowledge and skills. All abilities learn successfully. In Year 6 mathematics, the pupils achieved \\nvery well at their different ability levels. Pupils aspired to work at their highest level and to \\nchange class if necessary to help them do so.  \\n\\n\\uf06e Homework is used for learning in different subjects. For example, in Year 4, pupils used \\nhomework as a basis for writing an explanation of what Anglo-Saxon houses were like from the \\nmodels that they had made at home. The pride with which the pupils displayed their models \\nhelped to contribute to their learning, and meant that they were fully engrossed in their work. \\n\\n\\uf06e Relationships in lessons are exceptionally positive. The strong emphasis given to encouraging \\npupils to make contributions during lessons is very effective. Consequently, pupils are very \\narticulate and explain their ideas well. \\n\\n\\uf06e Teachers create very positive atmospheres for learning. In Year 3 religious education, pupils \\ndiscussed moral and spiritual issues from the perspective of the Islamic religion. The teacher \\ncreated the mood for learning through Islamic music playing softly in the background. The \\n\\n\\n\\nInspection report:  Backwell Church of England Junior School, 19–20 March 2014 5 of 10 \\n\\n \\n\\n \\n\\nwritten work which resulted from this lesson, in the form of pupils’ personal prayers, was of a \\nhigh quality. \\n\\n\\uf06e Teachers’ subject expertise is excellent, as is their use of assessment to judge how well pupils \\nare progressing. Consequently, teachers know exactly the precise steps which will move the \\npupils on to the next level. In a literacy lesson for Year 4, the teacher’s verbal advice about \\ntargets, with suggestions and reminders, moved pupils’ learning seamlessly from one level to the \\nnext.  \\n\\n\\uf06e Skilled teaching assistants provide support to ensure that those who find learning more difficult \\nenjoy their learning and achieve well. Teachers’ and teaching assistants’ flexible approach results \\nin this group of pupils making more-than-expected progress and achieving exceptionally in \\nreading, writing and mathematics. \\n\\n\\uf06e Pupils receive regular comments in their books from teachers when work is marked. These are \\noften positive, such as ‘good work’ or ‘well done’. Teachers give pupils advice as to how to \\nimprove their work and further steps to take in learning. However, this is not always as effective \\nas it could be. Some marking fails to pick up weaknesses in pupils’ presentation of their work, \\nand basic errors, such as omitted capital letters and poorly joined handwriting. At times, the \\nmarking in mathematics does not give pupils sufficient challenge to improve their work or apply \\ntheir knowledge. \\n\\n \\n\\nThe behaviour and safety of pupils are outstanding \\n\\n\\uf06e Inspectors endorsed the views of parents and staff, that the behaviour of pupils is outstanding. \\nPupils are invariably interested and curious about learning. Year 3 pupils responded very well to \\ntheir teacher’s skill in enlivening learning and remained enthralled by the experience. Teachers’ \\nmanagement of behaviour is excellent. \\n\\n\\uf06e Pupils are very polite and respectful. Behaviour is excellent when entering and leaving \\nassemblies. Parents comment on how respectful pupils are to each other when performing in \\nfront of an adult audience during class assemblies with visitors present.  \\n\\n\\uf06e The school’s work to keep pupils safe and secure is outstanding. The overwhelming majority of \\nparents who spoke with inspectors or who responded to Parent View were positive about the \\ncare their children receive, so that they are happy and safe in school. Pupils are confident that \\nbullying is rare and that should they seek help from adults if necessary; any concerns are \\nresolved quickly. Pupils’ enjoyment of school is reflected well in their high levels of attendance.  \\n\\n\\uf06e A very small minority of parents expressed the view that behavioural concerns were not dealt \\nwith quickly enough. Inspectors scrutinised behaviour records and actions taken by the school. \\nThey talked to pupils and observed pupils at work and at play. They found no evidence to \\nsuggest that the school was anything but extremely vigilant about behaviour, with consistently \\nhigh expectations that all pupils should behave exceptionally well at all times. \\n\\n\\uf06e Pupils’ leadership gives them a sense of responsibility. Play leaders look after others during \\nplaytimes and take their roles very seriously. The school council organises activities to raise \\nmoney for charity, such as through Sport Relief. \\n\\n\\uf06e The school has good systems for supporting those pupils whose circumstances may make them \\nvulnerable. Links with external agencies enable pupils to receive the specialist support they \\nneed. In-school and after-school activities, made available through the primary sports funding, \\ndevelop pupils’ confidence, sense of teamwork and fitness.  \\n\\n \\n\\nThe leadership and management are outstanding \\n\\n\\uf06e The headteacher, very ably supported by the deputy headteacher, is leading the school with an \\nimpressively steadfast determination to ensure that teaching is always of the highest quality, \\nthat pupils receive memorable experiences and are very well prepared to move to the next stage \\nin their education. Since the previous inspection, he has maintained the focus on pupils’ \\nbehaviour so that exemplary behaviour is the norm. All areas identified at the previous \\n\\n\\n\\nInspection report:  Backwell Church of England Junior School, 19–20 March 2014 6 of 10 \\n\\n \\n\\n \\n\\ninspection have been addressed, with pupils’ progress and attainment in writing being \\nparticularly impressive. \\n\\n\\uf06e The targets set for teachers link the impact of teaching to the pupils’ achievement and are well \\nused to keep expectations high. Leaders make sure everyone has an equal chance to do well. \\nThey have prudently planned this year’s additional funds, provided through extra government \\nmoney (pupil premium) to provide learning mentors for individual pupils and extra teaching \\nassistant support, over and above that normally provided. Consequently, gaps between the \\nachievements of pupils known to be eligible for the pupil premium and other learners have \\nnarrowed successfully. \\n\\n\\uf06e Leadership at all levels is very effective. The subject leader for mathematics has a sharp \\nunderstanding of the areas for development in his subject. He quickly recognised the reasons \\nwhy a number of pupils narrowly missed out on achieving higher levels in mathematics last year \\nand has put actions in place to redress this. As a result, internal school tracking data show a \\nvery strong picture of progress in mathematics in Years 4, 5 and 6, with approximately two in \\nevery three pupils making better than expected progress by moving rapidly to reach the higher \\nlevels. \\n\\n\\uf06e The school works well with parents. The quality of the work produced through homework tasks, \\nparticularly practical tasks such as model making, is testament to how well parents support their \\nchildren’s learning. Parents like the range of activities that the school offers through different \\ntopics and clubs. Pupils have the opportunity to learn to play a musical instrument and young \\nmusicians demonstrate their developing skill to wider audiences during assemblies. \\n\\n\\uf06e The primary sports funding is well used to provide a range of sports. The leadership team keeps \\na close eye on the quality of sports teaching delivered by outside coaches, as well as talent \\nspotting any pupils who excel in order to develop their potential further.  \\n\\n\\uf06e Pupils are provided with opportunities to visit places of cultural and historic interest which \\nsupport their learning further. The strong links with the local church provide many opportunities, \\nincluding holiday opportunities, for pupils to develop their understanding of social, moral, \\nspiritual and cultural aspects of learning. There is an effective balance between the strong \\nacademic curriculum and other aspects of learning, ensuring that the school is well placed to \\ndeliver the changes to the National Curriculum 2014. \\n\\n\\uf06e Arrangements for safeguarding pupils meet statutory requirements. Discrimination of any kind is \\nnot tolerated.  \\n\\n\\uf06e The local authority has provided good support and challenge. This is achieved through \\nchallenging conversations with the headteacher, deputy headteacher and, on many occasions, a \\nrepresentative from the governing body. For example, there has been close comparison of \\npupils’ progress in mathematics in school with national expectations. Recent challenge from the \\nlocal authority ensured that the school reflected on why some pupils missed out on achieving the \\nhigher levels in mathematics and a clear understanding of what needed to change.  \\n\\n\\uf06e A key strength in the local authority’s work has also been to challenge the school on the way \\nself-evaluation documents are written. The headteacher reports that this has been particularly \\nhelpful in ensuring that self-evaluation is reflective and states what is working well and why, \\nwhat not so well and what action needs to be taken. Governors endorse this improved practice. \\n\\n\\uf06e Governors report that training delivered by the local authority, such as a recent governor \\nconference, has been excellent because speakers are ‘inspirational’ in enabling them to improve \\ntheir practice. Where the governing body has needed advice on staffing, this has been timely, \\nappropriate, highly professional and supportive. Over time, the school considers support from \\nthe local authority has been more effective in the last few years because the same local \\nauthority representative has been working with the school, leading to a greater impact on school \\nimprovement. \\n\\n\\uf06e The governance of the school: \\n\\n Governors have a very sharp understanding of what goes on in school and the standards \\npupils achieve, including the difference pupil premium funding is making to eligible learners. \\nThey are strongly committed to see the school develop even further, through the recent \\nfederation with West Leigh Infants School. They ensure that their statutory duties are met, for \\n\\n\\n\\nInspection report:  Backwell Church of England Junior School, 19–20 March 2014 7 of 10 \\n\\n \\n\\n \\n\\nexample in the systems to safeguard and protect pupils. The recent appointment of a business \\nmanager to oversee both schools has been a prudent decision and means that any issues \\nrelating to finance or safety are quickly addressed. Governors are very confident in challenging \\nand holding school leaders to account for providing the very best education. They assiduously \\ncheck the information they receive on the quality of teaching and the achievement and \\nprogress pupils make, through questions to senior leaders, headteacher’s reports, joining \\ndiscussions with the local authority and visiting the school to see it at work. This approach \\ngives governors a very good understanding of how teachers, including the headteacher, are \\nheld to account for their performance, and why the very best teachers are being rewarded \\nthrough salary progression.  \\n\\n \\n\\n\\n\\nInspection report:  Backwell Church of England Junior School, 19–20 March 2014 8 of 10 \\n\\n \\n\\n \\n\\nWhat inspection judgements mean \\n\\nSchool \\n\\nGrade Judgement Description \\n\\nGrade 1 Outstanding An outstanding school is highly effective in delivering outcomes \\nthat provide exceptionally well for all its pupils’ needs. This ensures \\nthat pupils are very well equipped for the next stage of their \\neducation, training or employment. \\n\\nGrade 2 Good A good school is effective in delivering outcomes that provide well \\nfor all its pupils’ needs. Pupils are well prepared for the next stage \\nof their education, training or employment. \\n\\nGrade 3 Requires \\nimprovement \\n\\nA school that requires improvement is not yet a good school, but it \\nis not inadequate. This school will receive a full inspection within \\n24 months from the date of this inspection. \\n\\nGrade 4 Inadequate A school that has serious weaknesses is inadequate overall and \\nrequires significant improvement but leadership and management \\nare judged to be Grade 3 or better. This school will receive regular \\nmonitoring by Ofsted inspectors. \\n\\nA school that requires special measures is one where the school is \\nfailing to give its pupils an acceptable standard of education and \\nthe school’s leaders, managers or governors have not \\ndemonstrated that they have the capacity to secure the necessary \\nimprovement in the school. This school will receive regular \\nmonitoring by Ofsted inspectors. \\n\\n \\n\\n\\n\\nInspection report:  Backwell Church of England Junior School, 19–20 March 2014 9 of 10 \\n\\n \\n\\n \\n\\nSchool details \\n\\nUnique reference number 109183 \\n\\nLocal authority North Somerset \\n\\nInspection number 431474 \\n\\n \\n\\nThis inspection of the school was carried out under section 5 of the Education Act 2005.  \\n \\n\\n \\n\\nType of school Junior \\n\\nSchool category Voluntary controlled \\n\\nAge range of pupils 7–11 \\n\\nGender of pupils Mixed \\n\\nNumber of pupils on the school roll 211 \\n\\nAppropriate authority The governing body \\n\\nChair Selina Shattock \\n\\nHeadteacher Alex Bell \\n\\nDate of previous school inspection 10 February 2009 \\n\\nTelephone number 01275 462632 \\n\\nFax number 01275 462669 \\n\\nEmail address backwell.jun@n-somerset.gov.uk \\n\\n\\n\\n \\n\\n \\n\\nAny complaints about the inspection or the report should be made following the procedures set out in the \\n\\nguidance ‘raising concerns and making complaints about Ofsted', which is available from Ofsted’s website: \\n\\nwww.ofsted.gov.uk. If you would like Ofsted to send you a copy of the guidance, please telephone 0300 \\n\\n123 4234, or email enquiries@ofsted.gov.uk. \\n\\n \\n \\n\\nYou can use Parent View to give Ofsted your opinion on your child’s school. Ofsted \\n\\nwill use the information parents and carers provide when deciding which schools to \\ninspect and when and as part of the inspection. \\n \\n\\nYou can also use Parent View to find out what other parents and carers think about \\n\\nschools in England. You can visit www.parentview.ofsted.gov.uk, or look for the link \\n\\non the main Ofsted website: www.ofsted.gov.uk \\n \\n\\nThe Office for Standards in Education, Children's Services and Skills (Ofsted) regulates and inspects to \\n\\nachieve excellence in the care of children and young people, and in education and skills for learners \\n\\nof all ages. It regulates and inspects childcare and children's social care, and inspects the Children \\n\\nand Family Court Advisory Support Service (Cafcass), schools, colleges, initial teacher training, work-\\n\\nbased learning and skills training, adult and community learning, and education and training in \\n\\nprisons and other secure establishments. It assesses council children’s services, and inspects services \\n\\nfor looked after children, safeguarding and child protection. \\n\\nFurther copies of this report are obtainable from the school. Under the Education Act 2005, the school \\n\\nmust provide a copy of this report free of charge to certain categories of people. A charge not \\n\\nexceeding the full cost of reproduction may be made for any other copies supplied. \\n\\nIf you would like a copy of this document in a different format, such as large print or Braille, please \\n\\ntelephone 0300 123 4234, or email enquiries@ofsted.gov.uk. \\n\\nYou may copy all or parts of this document for non-commercial educational purposes, as long as you \\n\\ngive details of the source and date of publication and do not alter the information in any way. \\n\\nTo receive regular email alerts about new publications, including survey reports and school inspection \\n\\nreports, please visit our website and go to ‘Subscribe’. \\n\\nPiccadilly Gate \\nStore St \\n\\nManchester \\n\\nM1 2WD \\n\\n \\n\\nT: 0300 123 4234 \\n\\nTextphone: 0161 618 8524 \\n\\nE: enquiries@ofsted.gov.uk \\n\\nW: www.ofsted.gov.uk \\n\\n© Crown copyright 2014 \\n\\n \\n\\nhttp://www.parentview.ofsted.gov.uk/\\nhttp://www.ofsted.gov.uk/\\nhttp://www.ofsted.gov.uk/\\n\\n\"]],\n",
       "      dtype='<U25188')"
      ]
     },
     "execution_count": 27,
     "metadata": {},
     "output_type": "execute_result"
    }
   ],
   "source": [
    "np.array(content).reshape(-1,1)\n",
    "# model.predict(np.array(content).reshape(-1,1))\n",
    "# model.predict(content)"
   ]
  },
  {
   "cell_type": "code",
   "execution_count": null,
   "metadata": {},
   "outputs": [],
   "source": []
  }
 ],
 "metadata": {
  "kernelspec": {
   "display_name": "Python 3",
   "language": "python",
   "name": "python3"
  },
  "language_info": {
   "codemirror_mode": {
    "name": "ipython",
    "version": 3
   },
   "file_extension": ".py",
   "mimetype": "text/x-python",
   "name": "python",
   "nbconvert_exporter": "python",
   "pygments_lexer": "ipython3",
   "version": "3.7.3"
  }
 },
 "nbformat": 4,
 "nbformat_minor": 2
}
