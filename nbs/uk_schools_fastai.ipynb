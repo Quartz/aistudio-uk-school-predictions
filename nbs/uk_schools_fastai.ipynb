{
 "cells": [
  {
   "cell_type": "code",
   "execution_count": 1,
   "metadata": {
    "colab": {},
    "colab_type": "code",
    "id": "e7j4Xua_JU3o"
   },
   "outputs": [],
   "source": [
    "%reload_ext autoreload\n",
    "%autoreload 2\n",
    "%matplotlib inline"
   ]
  },
  {
   "cell_type": "code",
   "execution_count": 19,
   "metadata": {
    "colab": {},
    "colab_type": "code",
    "id": "1cbGqVNmTP-I"
   },
   "outputs": [],
   "source": [
    "import os\n",
    "import re\n",
    "# Get all most recent closed files\n",
    "patterns = [\"Inspection report\", \"gov uk\", \"ofsted gov\", \"early year\", \"uk government\", \"www.ofsted.gov.uk\", \"www.gov.uk/ofsted\", \"Early Year\", \"ofsted\", \"gov\", \"Inspection Report\"] # filter out common words\n",
    "closed_school_names = []\n",
    "closed = []\n",
    "closed_root = '/Users/vcabales/Desktop/schools_samples/closed'\n",
    "for path, subdirs, files in os.walk(closed_root):\n",
    "  for s in subdirs:\n",
    "    f = os.path.join(path,s)\n",
    "    for p2, s2, f2 in os.walk(f):\n",
    "      most_recent = [int(f.replace(\".txt\",\"\")) for f in f2 if f != ' ']\n",
    "      if most_recent:\n",
    "        doc = max(most_recent)\n",
    "        txt = open(os.path.join(p2,str(doc)+'.txt'), \"r\")\n",
    "        content = txt.read()\n",
    "        if re.search(\"Childminder Report\", content):\n",
    "          continue\n",
    "        content = content.replace('\\n','')\n",
    "        for pattern in patterns:\n",
    "          content = content.replace(pattern, '') # not replacing?\n",
    "        if content == '':\n",
    "          continue\n",
    "        closed_school_names.append(s)\n",
    "        closed.append(content)"
   ]
  },
  {
   "cell_type": "code",
   "execution_count": 21,
   "metadata": {
    "colab": {
     "base_uri": "https://localhost:8080/",
     "height": 1000
    },
    "colab_type": "code",
    "id": "FULhtCenTbOa",
    "outputId": "541234c9-dbd8-4f66-d7cf-7d44302caeae"
   },
   "outputs": [
    {
     "data": {
      "text/plain": [
       "\"       © Crown copyright 2009      13905364  Website:  This document may be reproduced in whole or in part for non-commercial educational purposes, provided that the information quoted is reproduced without adaptation and the source and date of publication are stated.         for s provision   Unique reference number  EY376101 Inspect ion date 02/07/2009 Inspector Zoe Smith   Type of setting Childminder    :  02/07/2009    2 This inspection was carried out under sections 49 and 50 of the Childcare Act 2006   Introduction  This inspection was carried out by Ofsted under Sections 49 and 50 of the Childcare Act 2006 on the quality and standards of the registered s provision. ‘Early years provision’ refers to provision regulated by Ofsted for children from birth to 31 August following their fifth birthday (the s age group). The registered person must ensure that this provision complies with the statutory framework for children’s learning, development and welfare, known as the s Foundation Stage.  The provider must provide a copy of this report to all parents with children at the setting where reasonably practicable.  The provider must provide a copy of the report to any other person who asks for one, but may charge a fee for this service (The Childcare (Inspection) Regulations 2008 regulations 9 and 10).  The setting also makes provision for children older than the s age group which is registered on the voluntary and/or compulsory part(s) of the Childcare Register. This report does not include an evaluation of that provision, but a comment about compliance with the requirements of the Childcare Register is included in Annex B.  :  02/07/2009    3 This inspection was carried out under sections 49 and 50 of the Childcare Act 2006   Description of the childminding  The childminder has been registered since in 2009. She lives with her husband, her sister-in-law, her nephew who is aged six and her own children who are aged one and six. The childminder's husband works as an assistant. The family live in the Whalley Range district of Manchester, close to shops, parks, schools and public transport links. The whole of the ground floor and the bathroom on the first floor are used for childminding. Children participate in physical and outdoor play activities at the local park and in the enclosed rear yard. The childminder is registered to care for a maximum of four children under eight years at any one time when she is working alone, of whom no more than two may be in the s age range. She is currently minding two children in this age group. When working with her husband she is registered to care for a maximum of six children under eight years at any one time, of whom no more than four may be in the s age range. She also offers care to children aged over five years to 11 years. This provision is registered by Ofsted on the compulsory and voluntary parts of the Childcare Register. The childminder is a member of the National Childminding Association.   Overall effectiveness of the s provision  Overall the quality of the provision is good. The childminder uses her good knowledge of individual children, their interests and abilities to successfully promote their welfare and learning. Children are making good progress in their learning and development given their starting points and capabilities. Self-evaluation is at an early stage and does not clearly identify areas for improvement. Every child is valued for their individuality and mostly positive steps are taken to help them to find out about equality and diversity. Positive partnerships with parents are enabling the childminder to effectively respond to and meet children's individual needs.  What steps need to be taken to improve provision further?   To further improve the s provision the registered person should:    further develop systems to evaluate practice and use to continually look for ways to improve the quality of the learning, development and care that is offered, for example, by finding ways to involve parents and children in self assessment    ensure there is continuity and coherence in the education and care of children who attend more than one setting by sharing relevant information with each other    help children learn they have similarities and differences that connect them to, and distinguish them from, others by increasing the range of resources and activities that portray positive images of culture, gender and disability.     :  02/07/2009    4 This inspection was carried out under sections 49 and 50 of the Childcare Act 2006   The leadership and management of the s provision  The childminder is just beginning to devise ways to evaluate her practice and identify areas for continuous improvement, and parents and children are not sufficiently well involved in self evaluation. The childminder has a commitment to developing her skills and knowledge through attendance on relevant training courses, such as An Introduction to the s Foundation Stage (EYFS). She has used this training well to develop systems to observe, asses and plan for children.  A positive partnership has been fostered with parents. The childminder works very closely with parents to share useful and important information about children. Discussions, a childminding journal, observations and children’s scrapbooks keep parents well informed about their child and the progress they are making in their learning. Links with other EYFS groups are not quite as well developed to ensure there is coherence in the children’s learning and development between settings.   Children are safeguarded because the childminder has a good understanding of safeguarding issues and what she must do if she has concerns about a child’s wellbeing. She diligently supervises children at all times, has conducted risk assessments and put effective safety precautions in place to minimise identified hazards. Policies and procedures have been formalised to underpin the childminder practice to ensure continuity of care for the children.  The quality and standards of the s provision   Children are settled, content and happy in the childminder’s care, where they eagerly play with the toys and activities. The childminder has formalised good systems to observe, assess, and plan for individual children’s learning and development. Planning for children’s next steps is used very well to identify interesting activities and resources that capture the children’s interest and help them make good progress in their learning. Children participate in a balanced range of adult and child led activities across the six areas of learning. They are starting to become increasingly independent as they confidently explore the environment and select what to play with from the easily accessible toys and activities. Educational posters are displayed on the walls to help make the home stimulating and child friendly.   Children have access to a good range of books, including dual language books which positively reinforce their home language and help them to learn English. Children show an awareness and keen interest in problem solving and reasoning activities. They match coloured pegs to make pictures of butterflies, count coloured discs on the shape sorter and explore activity centres to find out how they work. Children enjoy designing and building using a variety of construction sets. Their physical development is well promoted through a variety of fun activities indoors and outdoors. Children enjoy the fresh air and the outside environment when they visit the park, where playing football and the slide and swings are most popular. Children participate in a good variety of activities which promote their creativity, :  02/07/2009    5 This inspection was carried out under sections 49 and 50 of the Childcare Act 2006   such as singing, dancing, dressing up, painting and sticking. They put lots of paint and glitter on their paper to make colourful pictures. Children love to dress up as princesses and happily take dolls for walks in pushchairs and make them snacks in the toy microwave.   Children benefit from the positive steps the childminder takes to acknowledge, respect and value them as individuals. They have access to books that provide positive images of gender, culture and disability. However, children do not have sufficient opportunities to explore a wide range of resources and activities designed to help them learn to value different aspects of their own and other people’s lives. Children are learning how to keep themselves safe and healthy through routines, good practice, activities and discussions. For example, they discuss crossing the road safely on outings and always cross at a designated crossing. They talk about the benefits of healthy eating and posters are displayed to remind them which foods are healthy. Children eat a varied and nutritious diet that includes lots of fresh fruit and vegetables. :  02/07/2009    6 This inspection was carried out under sections 49 and 50 of the Childcare Act 2006   Annex A: record of inspection judgements  The key inspection judgements and what they mean   Grade 1 is Outstanding: this aspect of the provision is of exceptionally high quality  Grade 2 is Good: this aspect of the provision is strong  Grade 3 is Satisfactory: this aspect of the provision is sound  Grade 4 is Inadequate: this aspect of the provision is not good enough   Overall effectiveness  How effective is the provision in meeting the needs of children in the s Foundation Stage? 2 How well does the provision promote inclusive practice? 2 The capacity of the provision to maintain continuous improvement. 3  Leadership and management  How effectively is provision in the s Foundation Stage led and managed? 2 How effective is the setting’s self-evaluation, including the steps taken to promote improvement? 3 How well does the setting work in partnership with parents and others? 2 How well are children safeguarded? 2  Quality and standards   How effectively are children in the s Foundation Stage helped to learn and develop? 2 How effectively is the welfare of children in the s Foundation Stage promoted? 2 How well are children helped to stay safe?  2 How well are children helped to be healthy? 2 How well are children helped to enjoy and achieve? 2 How well are children helped to make a positive contribution? 3 How well are children helped develop skills that will contribute to their future economic well-being? 2  Any complaints about the inspection or report should be made following the procedures set out in the guidance available from Ofsted’s website:  :  02/07/2009    7 This inspection was carried out under sections 49 and 50 of the Childcare Act 2006   Annex B: the Childcare Register    The provider confirms that the requirements of the compulsory part of the Childcare Register are:  Met    The provider confirms that the requirements of the voluntary part of the Childcare Register are:  Met  \""
      ]
     },
     "execution_count": 21,
     "metadata": {},
     "output_type": "execute_result"
    }
   ],
   "source": [
    "closed[0]"
   ]
  },
  {
   "cell_type": "code",
   "execution_count": 22,
   "metadata": {
    "colab": {},
    "colab_type": "code",
    "id": "6Fsm8JQJa3u-"
   },
   "outputs": [],
   "source": [
    "# Get all most recent open files\n",
    "patterns = [\"Inspection report\", \"gov uk\", \"ofsted gov\", \"early year\", \"uk government\", \"www.gov.uk/ofsted\", \"Early Year\", \"ofsted\", \"gov\", \"Inspection Report\"] # filter out common words\n",
    "opened = []\n",
    "open_school_names = []\n",
    "open_root = '/Users/vcabales/Desktop/schools_samples/open'\n",
    "for path, subdirs, files in os.walk(open_root):\n",
    "  for s in subdirs:\n",
    "    f = os.path.join(path,s)\n",
    "    for p2, s2, f2 in os.walk(f):\n",
    "      most_recent = [int(f.replace(\".txt\",\"\")) for f in f2 if f != ' ']\n",
    "      if most_recent:\n",
    "        doc = max(most_recent)\n",
    "        content = txt.read()\n",
    "        txt = open(os.path.join(p2,str(doc)+'.txt'), \"r\")\n",
    "        if re.search(\"Childminder Report\", content):\n",
    "          continue\n",
    "        if re.search(\"Childminder\", content):\n",
    "          continue\n",
    "        content = content.replace('\\n','')\n",
    "        for pattern in patterns:\n",
    "          content = content.replace(pattern, '') # not replacing?\n",
    "        if content == '':\n",
    "          continue\n",
    "        open_school_names.append(s)\n",
    "        opened.append(content)"
   ]
  },
  {
   "cell_type": "code",
   "execution_count": 23,
   "metadata": {
    "colab": {
     "base_uri": "https://localhost:8080/",
     "height": 1000
    },
    "colab_type": "code",
    "id": "4qODHg8jbCln",
    "outputId": "95829ac6-37df-48bc-93fa-86e7d3207a45"
   },
   "outputs": [
    {
     "data": {
      "text/plain": [
       "\"    Leo's Den Nursery    37 Law Street, London, SE1 4DZ      Inspection date Previous inspection date 22 February 2017  11 June 2013  The quality and standards of the s provision This inspection: Good  2   Previous inspection: Good  2 Effectiveness of the leadership and management Good  2 Quality of teaching, learning and assessment Good 2 Personal development, behaviour and welfare Good 2  Outcomes for children Good  2  Summary of key findings for parents  This provision is good     \\uf06e The manager and her staff provide a welcoming and stimulating environment. They are warm and friendly and create a relaxed happy atmosphere where each child is valued and generally well supported.   \\uf06e The manager is very ambitious for the nursery's success. She reviews and evaluates practice carefully, taking steps to ensure sustainable improvements.   \\uf06e When children first start at the nursery, staff work with their parents to establish what children know and can do. Staff regularly observe children to identify the next steps in their learning and development. All children make good progress.   \\uf06e Staff support children's safety extremely well. Children confidently know how to keep themselves safe, for example, by talking to staff about crossing the road. Staff help them learn why they have safety procedures in place.   \\uf06e Children enjoy playing outside and have good opportunities to learn about the importance of leading healthy lifestyles.   \\uf06e Children are happy and play calmly. They are kind to each other and behave well.        It is not yet outstanding because:  \\uf06e At times, staff do not use effective opportunities to extend children early listening skills.   \\uf06e Occasionally, activities are not adapted sufficiently well for children at different stages in their development.   : Leo's Den Nursery, 22 February 2017  2 of 5     What the setting needs to do to improve further      To further improve the quality of the s provision the provider should:  \\uf06e devise more effective opportunities to help children develop their early listening skills   \\uf06e ensure experiences meet the needs of children at different stages in their development more closely to help improve their learning further.    Inspection activities \\uf06e The inspector observed children as they played and took part in daily routines.    \\uf06e The inspector spoke with children, staff and the manager at appropriate times during the inspection.    \\uf06e The inspector looked at children's learning profiles, planning documentation, evidence of the suitability of staff working in the provision and a wide range of other documents, including policies and procedures.    \\uf06e The inspector took account of the views of the parents spoken to on the day of the inspection.    \\uf06e The inspector carried out a joint observation with the manager.      Inspector  Claire Nunn   : Leo's Den Nursery, 22 February 2017  3 of 5     Inspection findings  Effectiveness of the leadership and management is good    Safeguarding is effective. Staff fully understand the procedures to follow if they have concerns about a child's welfare. There are good recruitment procedures to check and verify the suitability of all staff to work with children. Staff are deployed well. They have a good understanding of policies and procedures, and maintain the required records to help keep children safe at all times. The manager uses self-evaluation effectively to identify areas to improve. For instance, she has developed the outdoor area to support children's sensory and physical skills.      Quality of teaching, learning and assessment is good    Overall, staff are skilled, well qualified and confident in their teaching. In general, staff have a good understanding of children's abilities and identify ways to encourage their further development. Staff encourage babies to explore their environment and the resources around them. For example, babies show delight as they develop their physical skills by rolling and chasing coloured balls. Children's early literacy skills develop well. They learn the sounds initial letters represent and practise the shapes needed in writing. Overall, staff support children's communication and language well. For example, children eagerly sing rhymes they know well. The manager has a good overview of children's learning. Staff monitor children's progress well and identify any gaps. For example, additional support is gained quickly to help children who have special educational needs and/or disabilities make good progress.    Personal development, behaviour and welfare are good    Children are extremely settled at the nursery. Staff are highly attentive to their needs. Staff have very nurturing and close relationships with children and babies who, for example, enjoy snuggling and having individual time with staff. Children have a good awareness of healthy lifestyles, such as knowing the positive effect that exercise has on their body. Children behave well. For instance, they are highly responsive to staff and listen extremely well. Children value their friendships; they actively seek out others to share their excitement and enthusiasm. The manager and staff regularly carry out safety risk assessments to check the suitability of the environment and equipment. This helps to ensure that potential hazards to children are minimised.     Outcomes for children are good   Children are motivated and enthusiastic to learn. All children make good progress, given what they know when they start. They listen carefully, and babies are happy and show interest in the things around them. Children learn early mathematical ideas. For example, they are able to count out how many children go into the garden. Children are prepared well to move on to school.    : Leo's Den Nursery, 22 February 2017  4 of 5       Setting details Unique reference number EY382828 Local authority Southwark Inspection number 1062224 Type of provision Full-time provision Day care type Childcare - Non-Domestic Registers s Register, Compulsory Childcare Register, Voluntary Childcare Register Age range of children 0 - 4 Total number of places 40 Number of children on roll 35 Name of registered person Success Associates Ltd Registered person unique reference number RP528533 Date of previous inspection 11 June 2013 Telephone number 0207 403 4484  Leo's Den Nursery registered in 2012 and is located in the London Borough of Southwark. The nursery is open each weekday from 7.30am until 6.30pm, for 51 weeks of the year. The nursery currently employs 10 members of staff. Of these, seven hold qualifications at level 3 and two hold qualifications at level 2. The nursery receives funding for the provision of free s education for children aged two, three and four years.  This inspection was carried out by Ofsted under sections 49 and 50 of the Childcare Act 2006 on the quality and standards of provision that is registered on the s Register. The registered person must ensure that this provision complies with the statutory framework for children’s learning, development and care, known as the s foundation stage.   Any complaints about the inspection or the report should be made following the procedures set out in the guidance ‘Complaints procedure: raising concerns and making complaints about Ofsted’, which is available from Ofsted’s website: www..uk/ernment/organisations/. If you would like Ofsted to send you a copy of the guidance, please telephone 0300 123 4234, or email enquiries@..uk. : Leo's Den Nursery, 22 February 2017  5 of 5                          The Office for Standards in Education, Children's Services and Skills (Ofsted) regulates and inspects to achieve excellence in the care of children and young people, and in education and skills for learners of all ages. It regulates and inspects childcare and children's social care, and inspects the Children and Family Court Advisory Support Service (Cafcass), schools, colleges, initial teacher training, work-based learning and skills training, adult and community learning, and education and training in prisons and other secure establishments. It assesses council children’s services, and inspects services for looked after children, safeguarding and child protection.  If you would like a copy of this document in a different format, such as large print or Braille, please telephone 0300 123 4234, or email enquiries@..uk. You may reuse this information (not including logos) free of charge in any format or medium, under the terms of the Open Government Licence. To view this licence, visit www.nationalarchives..uk/doc/open-ernment-licence/, write to the Information Policy Team, The National Archives, Kew, London TW9 4DU, or email: psi@nationalarchives.gsi..uk.  This publication is available at www...uk/resources/120354.  Interested in our work? You can subscribe to our website for news, information and updates at www...uk/user.  Piccadilly Gate Store St Manchester M1 2WD  T: 0300 123 4234 Textphone: 0161 618 8524 E: enquiries@..uk W: www..uk/ernment/organisations/ © Crown copyright 2017 mailto:psi@nationalarchives.gsi..ukhttp://www..uk/ernment/organisations/\""
      ]
     },
     "execution_count": 23,
     "metadata": {},
     "output_type": "execute_result"
    }
   ],
   "source": [
    "opened[0]"
   ]
  },
  {
   "cell_type": "code",
   "execution_count": 24,
   "metadata": {
    "colab": {},
    "colab_type": "code",
    "id": "OrKNFthOg4XR"
   },
   "outputs": [],
   "source": [
    "import pandas as pd\n",
    "df_closed = pd.DataFrame()\n",
    "closed_labels = [\"closed\" for school in closed]\n",
    "df_closed[\"school\"] = closed_school_names\n",
    "df_closed[\"text\"] = closed\n",
    "df_closed[\"label\"] = closed_labels"
   ]
  },
  {
   "cell_type": "code",
   "execution_count": 25,
   "metadata": {
    "colab": {
     "base_uri": "https://localhost:8080/",
     "height": 204
    },
    "colab_type": "code",
    "id": "YoS2qLuxiPb5",
    "outputId": "22b66814-3ef2-4eb6-ee3f-bb8fe8b20317"
   },
   "outputs": [
    {
     "data": {
      "text/html": [
       "<div>\n",
       "<style scoped>\n",
       "    .dataframe tbody tr th:only-of-type {\n",
       "        vertical-align: middle;\n",
       "    }\n",
       "\n",
       "    .dataframe tbody tr th {\n",
       "        vertical-align: top;\n",
       "    }\n",
       "\n",
       "    .dataframe thead th {\n",
       "        text-align: right;\n",
       "    }\n",
       "</style>\n",
       "<table border=\"1\" class=\"dataframe\">\n",
       "  <thead>\n",
       "    <tr style=\"text-align: right;\">\n",
       "      <th></th>\n",
       "      <th>school</th>\n",
       "      <th>text</th>\n",
       "      <th>label</th>\n",
       "    </tr>\n",
       "  </thead>\n",
       "  <tbody>\n",
       "    <tr>\n",
       "      <th>0</th>\n",
       "      <td>URN: EY376101 Closed</td>\n",
       "      <td>© Crown copyright 2009      13905364  W...</td>\n",
       "      <td>closed</td>\n",
       "    </tr>\n",
       "    <tr>\n",
       "      <th>1</th>\n",
       "      <td>Beecroft Lower School Closed</td>\n",
       "      <td>UntitledBeecroft Lower School109445Unique Refe...</td>\n",
       "      <td>closed</td>\n",
       "    </tr>\n",
       "    <tr>\n",
       "      <th>2</th>\n",
       "      <td>1st Class Day Nursery Closed</td>\n",
       "      <td>1st Class Day Nursery   2 Studfall Court...</td>\n",
       "      <td>closed</td>\n",
       "    </tr>\n",
       "    <tr>\n",
       "      <th>3</th>\n",
       "      <td>Adoption Support - Intermediary Closed</td>\n",
       "      <td>Adoption Support - Intermediary  for adoptio...</td>\n",
       "      <td>closed</td>\n",
       "    </tr>\n",
       "    <tr>\n",
       "      <th>4</th>\n",
       "      <td>Mini Meadows Preschool, Culworth Closed</td>\n",
       "      <td>Mini Meadows Preschool, Culworth   Culwo...</td>\n",
       "      <td>closed</td>\n",
       "    </tr>\n",
       "  </tbody>\n",
       "</table>\n",
       "</div>"
      ],
      "text/plain": [
       "                                    school  \\\n",
       "0                     URN: EY376101 Closed   \n",
       "1             Beecroft Lower School Closed   \n",
       "2             1st Class Day Nursery Closed   \n",
       "3   Adoption Support - Intermediary Closed   \n",
       "4  Mini Meadows Preschool, Culworth Closed   \n",
       "\n",
       "                                                text   label  \n",
       "0         © Crown copyright 2009      13905364  W...  closed  \n",
       "1  UntitledBeecroft Lower School109445Unique Refe...  closed  \n",
       "2        1st Class Day Nursery   2 Studfall Court...  closed  \n",
       "3    Adoption Support - Intermediary  for adoptio...  closed  \n",
       "4        Mini Meadows Preschool, Culworth   Culwo...  closed  "
      ]
     },
     "execution_count": 25,
     "metadata": {},
     "output_type": "execute_result"
    }
   ],
   "source": [
    "df_closed.head()"
   ]
  },
  {
   "cell_type": "code",
   "execution_count": 26,
   "metadata": {
    "colab": {},
    "colab_type": "code",
    "id": "MT5ddSkniQdA"
   },
   "outputs": [],
   "source": [
    "df_open = pd.DataFrame()\n",
    "open_labels = [\"open\" for school in opened]\n",
    "df_open[\"school\"] = open_school_names\n",
    "df_open[\"text\"] = opened\n",
    "df_open[\"label\"] = open_labels"
   ]
  },
  {
   "cell_type": "code",
   "execution_count": 27,
   "metadata": {
    "colab": {
     "base_uri": "https://localhost:8080/",
     "height": 204
    },
    "colab_type": "code",
    "id": "SgSrHsoYjKPu",
    "outputId": "992766b7-b79f-4b36-f25f-10f13d7adc0b"
   },
   "outputs": [
    {
     "data": {
      "text/html": [
       "<div>\n",
       "<style scoped>\n",
       "    .dataframe tbody tr th:only-of-type {\n",
       "        vertical-align: middle;\n",
       "    }\n",
       "\n",
       "    .dataframe tbody tr th {\n",
       "        vertical-align: top;\n",
       "    }\n",
       "\n",
       "    .dataframe thead th {\n",
       "        text-align: right;\n",
       "    }\n",
       "</style>\n",
       "<table border=\"1\" class=\"dataframe\">\n",
       "  <thead>\n",
       "    <tr style=\"text-align: right;\">\n",
       "      <th></th>\n",
       "      <th>school</th>\n",
       "      <th>text</th>\n",
       "      <th>label</th>\n",
       "    </tr>\n",
       "  </thead>\n",
       "  <tbody>\n",
       "    <tr>\n",
       "      <th>0</th>\n",
       "      <td>URN: 161797</td>\n",
       "      <td>Leo's Den Nursery    37 Law Street, London...</td>\n",
       "      <td>open</td>\n",
       "    </tr>\n",
       "    <tr>\n",
       "      <th>1</th>\n",
       "      <td>URN: 160448</td>\n",
       "      <td>Ofsted Piccadilly Gate Store Street Mancheste...</td>\n",
       "      <td>open</td>\n",
       "    </tr>\n",
       "    <tr>\n",
       "      <th>2</th>\n",
       "      <td>URN: 152917</td>\n",
       "      <td>CRL170 V1_20160519                         ...</td>\n",
       "      <td>open</td>\n",
       "    </tr>\n",
       "    <tr>\n",
       "      <th>3</th>\n",
       "      <td>URN: 207557</td>\n",
       "      <td>EYL555  V1_20160512          Complaint about ...</td>\n",
       "      <td>open</td>\n",
       "    </tr>\n",
       "    <tr>\n",
       "      <th>4</th>\n",
       "      <td>URN: 148420</td>\n",
       "      <td>New Millside Pre-School    Broughton Count...</td>\n",
       "      <td>open</td>\n",
       "    </tr>\n",
       "  </tbody>\n",
       "</table>\n",
       "</div>"
      ],
      "text/plain": [
       "        school                                               text label\n",
       "0  URN: 161797      Leo's Den Nursery    37 Law Street, London...  open\n",
       "1  URN: 160448   Ofsted Piccadilly Gate Store Street Mancheste...  open\n",
       "2  URN: 152917     CRL170 V1_20160519                         ...  open\n",
       "3  URN: 207557   EYL555  V1_20160512          Complaint about ...  open\n",
       "4  URN: 148420      New Millside Pre-School    Broughton Count...  open"
      ]
     },
     "execution_count": 27,
     "metadata": {},
     "output_type": "execute_result"
    }
   ],
   "source": [
    "df_open.head()"
   ]
  },
  {
   "cell_type": "code",
   "execution_count": 28,
   "metadata": {
    "colab": {
     "base_uri": "https://localhost:8080/",
     "height": 34
    },
    "colab_type": "code",
    "id": "-axapWP6jNtX",
    "outputId": "f3416c89-7433-42b1-9192-f01953646469"
   },
   "outputs": [
    {
     "data": {
      "text/plain": [
       "array(['closed', 'open'], dtype=object)"
      ]
     },
     "execution_count": 28,
     "metadata": {},
     "output_type": "execute_result"
    }
   ],
   "source": [
    "df = df_closed.append(df_open, ignore_index=True)\n",
    "df.label.unique()"
   ]
  },
  {
   "cell_type": "code",
   "execution_count": 29,
   "metadata": {
    "colab": {
     "base_uri": "https://localhost:8080/",
     "height": 204
    },
    "colab_type": "code",
    "id": "8bKXedNPS5m4",
    "outputId": "31b389fb-0474-4cac-95a4-e7c49c5c3312"
   },
   "outputs": [
    {
     "data": {
      "text/html": [
       "<div>\n",
       "<style scoped>\n",
       "    .dataframe tbody tr th:only-of-type {\n",
       "        vertical-align: middle;\n",
       "    }\n",
       "\n",
       "    .dataframe tbody tr th {\n",
       "        vertical-align: top;\n",
       "    }\n",
       "\n",
       "    .dataframe thead th {\n",
       "        text-align: right;\n",
       "    }\n",
       "</style>\n",
       "<table border=\"1\" class=\"dataframe\">\n",
       "  <thead>\n",
       "    <tr style=\"text-align: right;\">\n",
       "      <th></th>\n",
       "      <th>school</th>\n",
       "      <th>text</th>\n",
       "      <th>label</th>\n",
       "    </tr>\n",
       "  </thead>\n",
       "  <tbody>\n",
       "    <tr>\n",
       "      <th>0</th>\n",
       "      <td>URN: EY376101 Closed</td>\n",
       "      <td>© Crown copyright 2009      13905364  W...</td>\n",
       "      <td>closed</td>\n",
       "    </tr>\n",
       "    <tr>\n",
       "      <th>1</th>\n",
       "      <td>Beecroft Lower School Closed</td>\n",
       "      <td>UntitledBeecroft Lower School109445Unique Refe...</td>\n",
       "      <td>closed</td>\n",
       "    </tr>\n",
       "    <tr>\n",
       "      <th>2</th>\n",
       "      <td>1st Class Day Nursery Closed</td>\n",
       "      <td>1st Class Day Nursery   2 Studfall Court...</td>\n",
       "      <td>closed</td>\n",
       "    </tr>\n",
       "    <tr>\n",
       "      <th>3</th>\n",
       "      <td>Adoption Support - Intermediary Closed</td>\n",
       "      <td>Adoption Support - Intermediary  for adoptio...</td>\n",
       "      <td>closed</td>\n",
       "    </tr>\n",
       "    <tr>\n",
       "      <th>4</th>\n",
       "      <td>Mini Meadows Preschool, Culworth Closed</td>\n",
       "      <td>Mini Meadows Preschool, Culworth   Culwo...</td>\n",
       "      <td>closed</td>\n",
       "    </tr>\n",
       "  </tbody>\n",
       "</table>\n",
       "</div>"
      ],
      "text/plain": [
       "                                    school  \\\n",
       "0                     URN: EY376101 Closed   \n",
       "1             Beecroft Lower School Closed   \n",
       "2             1st Class Day Nursery Closed   \n",
       "3   Adoption Support - Intermediary Closed   \n",
       "4  Mini Meadows Preschool, Culworth Closed   \n",
       "\n",
       "                                                text   label  \n",
       "0         © Crown copyright 2009      13905364  W...  closed  \n",
       "1  UntitledBeecroft Lower School109445Unique Refe...  closed  \n",
       "2        1st Class Day Nursery   2 Studfall Court...  closed  \n",
       "3    Adoption Support - Intermediary  for adoptio...  closed  \n",
       "4        Mini Meadows Preschool, Culworth   Culwo...  closed  "
      ]
     },
     "execution_count": 29,
     "metadata": {},
     "output_type": "execute_result"
    }
   ],
   "source": [
    "df.head()"
   ]
  },
  {
   "cell_type": "code",
   "execution_count": 30,
   "metadata": {
    "colab": {
     "base_uri": "https://localhost:8080/",
     "height": 51
    },
    "colab_type": "code",
    "id": "epOeLbrejjId",
    "outputId": "c1ad8ad5-b90a-4dc4-b33f-8d1427c1aaa2"
   },
   "outputs": [
    {
     "name": "stdout",
     "output_type": "stream",
     "text": [
      "786\n",
      "172\n"
     ]
    }
   ],
   "source": [
    "print (len(closed))\n",
    "print (len(opened))"
   ]
  },
  {
   "cell_type": "code",
   "execution_count": 31,
   "metadata": {
    "colab": {
     "base_uri": "https://localhost:8080/",
     "height": 623
    },
    "colab_type": "code",
    "id": "OQ2cixfyxxCA",
    "outputId": "6f170dcb-06c8-4de7-cfb6-2747651ada2a"
   },
   "outputs": [],
   "source": [
    "# from wordcloud import WordCloud\n",
    "# import PIL\n",
    "# import itertools\n",
    "# import matplotlib.pyplot as plt\n",
    "\n",
    "# targets = ['text']\n",
    "\n",
    "# # Tried to filter these out but a lot of them weren't filtered out???\n",
    "\n",
    "# l1 = df_closed['text'].values.tolist()\n",
    "# l2 = df_open['text'].values.tolist()\n",
    "# school_categories = [l1, l2]\n",
    "\n",
    "# for schools,target in zip(school_categories, targets):\n",
    "#   raw_str = df[target].str.cat(sep=',')\n",
    "#   wordcloud = WordCloud( max_words=1000,margin=0).generate(raw_str)\n",
    "#   plt.figure()\n",
    "#   plt.imshow(wordcloud, interpolation=\"bilinear\")\n",
    "#   plt.axis(\"off\")\n",
    "#   plt.show()\n",
    "\n",
    "# for o_schools,target in zip(l2, targets):\n",
    "#   raw_str = df_open[target].str.cat(sep=',')\n",
    "#   wordcloud = WordCloud(max_words=1000,margin=0).generate(raw_str)\n",
    "#   plt.figure()\n",
    "#   plt.imshow(wordcloud, interpolation=\"bilinear\")\n",
    "#   plt.axis(\"off\")\n",
    "#   plt.show()\n",
    "\n",
    "# for c_schools,target in zip(l1, targets):\n",
    "#   raw_str = df_closed[target].str.cat(sep=',')\n",
    "#   wordcloud = WordCloud(max_words=1000,margin=0).generate(raw_str)\n",
    "#   plt.figure()\n",
    "#   plt.imshow(wordcloud, interpolation=\"bilinear\")\n",
    "#   plt.axis(\"off\")\n",
    "#   plt.show()"
   ]
  },
  {
   "cell_type": "code",
   "execution_count": 32,
   "metadata": {
    "colab": {},
    "colab_type": "code",
    "id": "ZCwhzclmeAhG"
   },
   "outputs": [],
   "source": [
    "df['text'] = df['text'].str.replace(\"[^a-zA-Z]\", \" \") # Clean up non-alphabetical symbols\n",
    "import numpy as np\n",
    "df = df.replace(np.nan, '', regex=True)"
   ]
  },
  {
   "cell_type": "code",
   "execution_count": 33,
   "metadata": {
    "colab": {},
    "colab_type": "code",
    "id": "CAgCAPvqUJ1R"
   },
   "outputs": [],
   "source": [
    "csv = df.to_csv(index=False) # Save it as a csv to make it easier to load into fast AI\n",
    "with open('school_sample.csv','w') as f:\n",
    "  f.write(csv)"
   ]
  },
  {
   "cell_type": "code",
   "execution_count": 34,
   "metadata": {
    "colab": {
     "base_uri": "https://localhost:8080/",
     "height": 49
    },
    "colab_type": "code",
    "id": "s1KEpJhlgcL7",
    "outputId": "f6fc510e-7931-4004-cd19-26191d0437e5"
   },
   "outputs": [
    {
     "data": {
      "text/html": [
       "<div>\n",
       "<style scoped>\n",
       "    .dataframe tbody tr th:only-of-type {\n",
       "        vertical-align: middle;\n",
       "    }\n",
       "\n",
       "    .dataframe tbody tr th {\n",
       "        vertical-align: top;\n",
       "    }\n",
       "\n",
       "    .dataframe thead th {\n",
       "        text-align: right;\n",
       "    }\n",
       "</style>\n",
       "<table border=\"1\" class=\"dataframe\">\n",
       "  <thead>\n",
       "    <tr style=\"text-align: right;\">\n",
       "      <th></th>\n",
       "      <th>school</th>\n",
       "      <th>text</th>\n",
       "      <th>label</th>\n",
       "    </tr>\n",
       "  </thead>\n",
       "  <tbody>\n",
       "  </tbody>\n",
       "</table>\n",
       "</div>"
      ],
      "text/plain": [
       "Empty DataFrame\n",
       "Columns: [school, text, label]\n",
       "Index: []"
      ]
     },
     "execution_count": 34,
     "metadata": {},
     "output_type": "execute_result"
    }
   ],
   "source": [
    "df[df.isna().any(axis=1)]"
   ]
  },
  {
   "cell_type": "code",
   "execution_count": 35,
   "metadata": {
    "colab": {
     "base_uri": "https://localhost:8080/",
     "height": 1000
    },
    "colab_type": "code",
    "id": "jlNy8CiQ2zR4",
    "outputId": "fde839c3-f0f5-4b93-85ba-eb9ecabd06d8"
   },
   "outputs": [
    {
     "data": {
      "text/html": [
       "<div>\n",
       "<style scoped>\n",
       "    .dataframe tbody tr th:only-of-type {\n",
       "        vertical-align: middle;\n",
       "    }\n",
       "\n",
       "    .dataframe tbody tr th {\n",
       "        vertical-align: top;\n",
       "    }\n",
       "\n",
       "    .dataframe thead th {\n",
       "        text-align: right;\n",
       "    }\n",
       "</style>\n",
       "<table border=\"1\" class=\"dataframe\">\n",
       "  <thead>\n",
       "    <tr style=\"text-align: right;\">\n",
       "      <th></th>\n",
       "      <th>school</th>\n",
       "      <th>text</th>\n",
       "      <th>label</th>\n",
       "    </tr>\n",
       "  </thead>\n",
       "  <tbody>\n",
       "    <tr>\n",
       "      <th>0</th>\n",
       "      <td>URN: EY376101 Closed</td>\n",
       "      <td>Crown copyright                     W...</td>\n",
       "      <td>closed</td>\n",
       "    </tr>\n",
       "    <tr>\n",
       "      <th>1</th>\n",
       "      <td>Beecroft Lower School Closed</td>\n",
       "      <td>UntitledBeecroft Lower School      Unique Refe...</td>\n",
       "      <td>closed</td>\n",
       "    </tr>\n",
       "    <tr>\n",
       "      <th>2</th>\n",
       "      <td>1st Class Day Nursery Closed</td>\n",
       "      <td>st Class Day Nursery     Studfall Court...</td>\n",
       "      <td>closed</td>\n",
       "    </tr>\n",
       "    <tr>\n",
       "      <th>3</th>\n",
       "      <td>Adoption Support - Intermediary Closed</td>\n",
       "      <td>Adoption Support   Intermediary  for adoptio...</td>\n",
       "      <td>closed</td>\n",
       "    </tr>\n",
       "    <tr>\n",
       "      <th>4</th>\n",
       "      <td>Mini Meadows Preschool, Culworth Closed</td>\n",
       "      <td>Mini Meadows Preschool  Culworth   Culwo...</td>\n",
       "      <td>closed</td>\n",
       "    </tr>\n",
       "  </tbody>\n",
       "</table>\n",
       "</div>"
      ],
      "text/plain": [
       "                                    school  \\\n",
       "0                     URN: EY376101 Closed   \n",
       "1             Beecroft Lower School Closed   \n",
       "2             1st Class Day Nursery Closed   \n",
       "3   Adoption Support - Intermediary Closed   \n",
       "4  Mini Meadows Preschool, Culworth Closed   \n",
       "\n",
       "                                                text   label  \n",
       "0           Crown copyright                     W...  closed  \n",
       "1  UntitledBeecroft Lower School      Unique Refe...  closed  \n",
       "2         st Class Day Nursery     Studfall Court...  closed  \n",
       "3    Adoption Support   Intermediary  for adoptio...  closed  \n",
       "4        Mini Meadows Preschool  Culworth   Culwo...  closed  "
      ]
     },
     "execution_count": 35,
     "metadata": {},
     "output_type": "execute_result"
    }
   ],
   "source": [
    "df.head()"
   ]
  },
  {
   "cell_type": "code",
   "execution_count": 36,
   "metadata": {
    "colab": {},
    "colab_type": "code",
    "id": "1nXLBCUyaVk6"
   },
   "outputs": [],
   "source": [
    "from fastai.text import *\n",
    "\n",
    "np.random.seed(42)\n",
    "# Language model data bunch\n",
    "data_lm = TextLMDataBunch.from_csv('./', 'school_sample.csv', text_cols='text', label_cols='label')\n",
    "\n",
    "# Classifier model data bunch\n",
    "# data_clas = TextClasDataBunch.from_df('', train_df=X_train, valid_df=X_test, text_cols='text', label_cols='label', vocab=data_lm.train_ds.vocab, bs=32)"
   ]
  },
  {
   "cell_type": "code",
   "execution_count": 37,
   "metadata": {
    "colab": {
     "base_uri": "https://localhost:8080/",
     "height": 459
    },
    "colab_type": "code",
    "id": "2Ljx_r0jbu3U",
    "outputId": "c307c83c-dd0e-466a-9acc-0c3ead62ca54"
   },
   "outputs": [
    {
     "data": {
      "text/html": [
       "<table border=\"1\" class=\"dataframe\">\n",
       "  <thead>\n",
       "    <tr style=\"text-align: right;\">\n",
       "      <th>idx</th>\n",
       "      <th>text</th>\n",
       "    </tr>\n",
       "  </thead>\n",
       "  <tbody>\n",
       "    <tr>\n",
       "      <td>0</td>\n",
       "      <td>s provision meets the needs of the range of children who attend xxmaj good xxmaj the contribution of the s provision to the well being of children xxmaj good xxmaj the effectiveness of the leadership and management of the s provision xxmaj good xxmaj the setting meets legal requirements for s settings xxmaj summary of key findings for parents xxmaj this provision is good xxmaj the staff have a sound</td>\n",
       "    </tr>\n",
       "    <tr>\n",
       "      <td>1</td>\n",
       "      <td>this provision is good xxmaj children s transitions between rooms are managed very well by staff xxmaj comprehensive information is shared with key persons about children s individual routines and current interests xxmaj this helps children to settle swiftly into their new environment xxmaj children have good opportunities to experience challenge and manage risks for themselves xxmaj older children confidently climb up and down the stairs to get to their</td>\n",
       "    </tr>\n",
       "    <tr>\n",
       "      <td>2</td>\n",
       "      <td>it is situated in a linked terrace property in xxmaj newbiggin by the xxmaj sea xxmaj northumberland and is managed by an individual xxmaj the nursery serves the local area and is accessible to all children and there is an enclosed area available for outdoor play xxmaj the nursery employs four members of childcare staff including the nursery manager xxmaj of these all hold appropriate s qualifications at level xxmaj</td>\n",
       "    </tr>\n",
       "    <tr>\n",
       "      <td>3</td>\n",
       "      <td>for example children excitedly complete a bug hunt matching and counting how many bugs they find xxmaj older children easily recognise numbers found and write their names in the sand xxmaj they demonstrate their understanding of technology as they complete mathematical activities on the wall mounted xxunk xxmaj staff make excellent use of technology puppets and props to bring stories to life xxmaj this inspires children s speaking and listening</td>\n",
       "    </tr>\n",
       "    <tr>\n",
       "      <td>4</td>\n",
       "      <td>took place in xxmaj december xxmaj improve the quality of teaching so that it is at least good or better by ensuring that teachers provide tasks that take full account of pupils prior learning and have enough challenge for pupils of varying abilities plan lessons which inspire pupils to learn as well as they can and make regular checks to assess accurately how well pupils are learning give pupils opportunities</td>\n",
       "    </tr>\n",
       "  </tbody>\n",
       "</table>"
      ],
      "text/plain": [
       "<IPython.core.display.HTML object>"
      ]
     },
     "metadata": {},
     "output_type": "display_data"
    }
   ],
   "source": [
    "data_lm.show_batch()"
   ]
  },
  {
   "cell_type": "code",
   "execution_count": 38,
   "metadata": {
    "colab": {
     "base_uri": "https://localhost:8080/",
     "height": 71
    },
    "colab_type": "code",
    "id": "k0q4GP_5bvxG",
    "outputId": "9f00f53c-a85d-4a0b-8c9d-73cdf3b83b77"
   },
   "outputs": [
    {
     "name": "stdout",
     "output_type": "stream",
     "text": [
      "['xxunk', 'xxpad', 'xxbos', 'xxeos', 'xxfld', 'xxmaj', 'xxup', 'xxrep', 'xxwrep', 'the', 'and', 'of', 'to', 'in', 'children', 'are', 'a', 'for', 's', 'is']\n",
      "10351\n"
     ]
    }
   ],
   "source": [
    "# List unique possible tokens\n",
    "print (data_lm.vocab.itos[:20])\n",
    "print (len(data_lm.vocab.itos))"
   ]
  },
  {
   "cell_type": "code",
   "execution_count": 39,
   "metadata": {
    "colab": {
     "base_uri": "https://localhost:8080/",
     "height": 54
    },
    "colab_type": "code",
    "id": "CuVK0zaScj4F",
    "outputId": "a36861e8-f031-4f1f-d511-225bdaabc84f"
   },
   "outputs": [
    {
     "data": {
      "text/plain": [
       "Text xxbos xxmaj abacus xxmaj pre xxmaj school xxmaj st xxmaj michaels xxmaj st xxmaj michaels c of e xxup vc xxmaj primary xxmaj school xxmaj xxunk xxmaj close xxmaj winterbourne xxup bristol xxup bs xxup lg xxmaj inspection date xxmaj previous inspection date xxmaj may xxmaj march xxmaj the quality and standards of the s provision xxmaj this inspection xxmaj good xxmaj previous inspection xxmaj good xxmaj how well the s provision meets the needs of the range of children who attend xxmaj good xxmaj the contribution of the s provision to the well being of children xxmaj good xxmaj the effectiveness of the leadership and management of the s provision xxmaj good xxmaj the setting meets legal requirements for s settings xxmaj summary of key findings for parents xxmaj this provision is good xxmaj the staff have a sound knowledge of how children learn and develop and so provide good learning opportunities xxmaj therefore children make good progress from their relevant starting points xxmaj children feel safe and secure in the environment xxmaj consequently they are confident to explore and investigate xxmaj staff work in partnership with parents by supporting them well involving them in their children s learning and providing opportunities for them to extend this at home xxmaj the manager and owners have a good understanding of their responsibilities and the requirements of the s xxmaj foundation xxmaj stage xxmaj they are motivated to improve the provision xxmaj for example they have developed a stimulating and exciting outdoor learning environment xxmaj all staff are fully aware of their safeguarding obligations and keeping the children safe is pivotal to their daily practices xxmaj abacus xxmaj pre xxmaj school xxmaj st xxmaj michaels xxmaj may of xxmaj it is not yet outstanding because xxmaj some of the routines during the session do not always meet the needs of all the children such as sitting on chairs in a line for welcome time xxmaj therefore they are not able to enjoy continuous learning opportunities because not all children are able to see what is happening or be fully involved in the activity xxmaj staff ask the children good questions but these do not always extend children s problem solving and thinking skills fully xxmaj for example during water play staff ask children xxmaj what is happening but do not follow up their answers to extend their learning further xxmaj abacus xxmaj pre xxmaj school xxmaj st xxmaj michaels xxmaj may of xxmaj what the setting needs to do to improve further xxmaj to further improve the quality of the s provision the provider should consider ways to adapt the routines to meet the needs of all the children s learning at all times develop further ways to extend children s problem solving and thinking skills xxmaj inspection activities xxmaj the inspector observed the quality of teaching indoors and outdoors xxmaj the inspector examined a range of documents including policies and procedures and discussed these with the manager xxmaj the inspector spoke with the staff and children at appropriate times during the inspection xxmaj the manager and inspector completed a joint observation xxmaj the inspector spoke to parents and considered their views xxmaj inspector xxmaj jean xxmaj xxunk xxmaj abacus xxmaj pre xxmaj school xxmaj st xxmaj michaels xxmaj may of xxmaj inspection findings xxmaj how well the s provision meets the needs of the range of children who attend xxmaj this is good xxmaj children benefit from an environment where learning is positively promoted xxmaj the classroom they use has a good range of resources that are stored at child height so they can choose what they want to play with xxmaj staff have prepared the outdoor area well as an outside classroom providing all areas of learning for children who prefer to play outdoors xxmaj staff use opportunities for teaching during the routines such as counting when children line up to move around the school xxmaj staff follow children s interests and allow them to lead their play so they engage wholly in their chosen activities xxmaj staff are skilled at observing the children and planning opportunities for further learning so the children make good progress xxmaj the children benefit from hearing good storytelling and they particularly enjoy personal stories about the travel experiences of staff xxmaj this helps children develop listening skills and also extends their understanding of the wider world xxmaj the contribution of the s provision to the well being of children is good xxmaj the premises are extremely safe and secure preventing any unauthorised access to children xxmaj the children enjoy seeing siblings around the school helping them to feel safe and have a strong sense of belonging and well being xxmaj the children learn to be independent in readiness for school in a variety of ways xxmaj they hang their coats up on coat pegs that are at child height and they wear xxunk during inside play meaning they practise taking of and putting on their shoes xxmaj when playing picnics children are able to make toast and spread honey learning their self care skills through meaningful play xxmaj the staff praise children for their achievements increasing their emotional well being and self esteem xxmaj they remind children to drink water so that they understand the need to keep healthy xxmaj parents become involved in promoting healthy eating by providing fruit for snack which children enjoy bringing in to the pre school and discussing xxmaj the children develop their physical skills while riding bikes and cars but understand the need to ride safely and respect their friends xxmaj the effectiveness of the leadership and management of the s provision is good xxmaj the team works well together as they have regular meetings and daily briefings xxmaj they constantly talk to each other during the day to ensure they know the children s needs xxmaj the manager oversees children s assessments and ensures staff are working consistently to promote children s progress in all areas xxmaj the owners visit their staff team regularly and all staff feel supported by regular supervision meetings and appraisals xxmaj the team has opportunities to visit other settings owned by the owners and share good practice and training xxmaj the management is committed to the professional development of their team xxmaj for example staff have attended sign language training and use this effectively to support children s language especially children who learn xxmaj english as an additional language xxmaj abacus xxmaj pre xxmaj school xxmaj st xxmaj michaels xxmaj may of xxmaj setting details xxmaj unique reference number xxup ey xxmaj local authority xxmaj south xxmaj gloucestershire xxmaj inspection number xxmaj type of provision xxmaj full time provision xxmaj registration category xxmaj childcare xxmaj non xxmaj domestic xxmaj age range of children xxmaj total number of places xxmaj number of children on roll xxmaj name of provider xxmaj learning xxmaj through xxmaj play xxmaj ltd xxmaj date of previous inspection xxmaj march xxmaj telephone number xxmaj abacus xxmaj pre xxmaj school xxmaj st xxmaj michael s is a private setting that re registered in after changes in the organisation xxmaj it operates from xxmaj st xxmaj michael s xxmaj church of xxmaj england xxmaj primary xxmaj school in xxmaj winterbourne xxmaj the children have use of a classroom and occasional access to the hall xxmaj there is a fully enclosed area suitable for outside play xxmaj the pre school is open on xxmaj mondays to xxmaj fridays from am to pm during school term time xxmaj four members of staff work directly with children xxmaj all staff hold relevant s qualifications xxmaj this inspection was carried out by xxmaj ofsted under sections and of the xxmaj childcare xxmaj act on the quality and standards of provision that is registered on the s xxmaj register xxmaj the registered person must ensure that this provision complies with the statutory framework for children s learning development and care known as the s xxmaj foundation xxmaj stage xxmaj any complaints about the inspection or the report should be made following the procedures set out in the guidance xxmaj complaints procedure raising concerns and making complaints about xxmaj ofsted which is available from xxmaj ofsted s website www uk ernment organisations xxmaj if you would like xxmaj ofsted to send you a copy of the guidance please telephone or email enquiries uk xxmaj abacus xxmaj pre xxmaj school xxmaj st xxmaj michaels xxmaj may of xxmaj the xxmaj office for xxmaj standards in xxmaj education xxmaj children s xxmaj services and xxmaj skills xxmaj ofsted regulates and inspects to achieve excellence in the care of children and young people and in education and skills for learners of all ages xxmaj it regulates and inspects childcare and children s social care and inspects the xxmaj children and xxmaj family xxmaj court xxmaj advisory xxmaj support xxmaj service xxmaj cafcass schools colleges initial teacher training work based learning and skills training adult and community learning and education and training in prisons and other secure establishments xxmaj it assesses council children s services and inspects services for looked after children safeguarding and child protection xxmaj if you would like a copy of this document in a different format such as large print or xxmaj braille please telephone or email enquiries uk xxmaj you may copy all or parts of this document for non commercial educational purposes as long as you give details of the source and date of publication and do not alter the information in any way xxmaj to receive regular email alerts about new publications including survey reports and school inspection reports please visit our website and go to xxmaj subscribe xxmaj piccadilly xxmaj gate xxmaj store xxmaj st xxmaj manchester m xxup wd t xxmaj textphone e enquiries uk w www uk ernment organisations xxmaj crown copyright http www uk ernment organisations"
      ]
     },
     "execution_count": 39,
     "metadata": {},
     "output_type": "execute_result"
    }
   ],
   "source": [
    "data_lm.train_ds[0][0]"
   ]
  },
  {
   "cell_type": "code",
   "execution_count": 40,
   "metadata": {
    "colab": {
     "base_uri": "https://localhost:8080/",
     "height": 34
    },
    "colab_type": "code",
    "id": "5WfhRaXOgHBA",
    "outputId": "f9695ee8-e65b-42fb-be36-5ac3ede25b2c"
   },
   "outputs": [
    {
     "data": {
      "text/plain": [
       "array([   2,    5, 1678,    5,  192,    5,   20,    5,  301,    5])"
      ]
     },
     "execution_count": 40,
     "metadata": {},
     "output_type": "execute_result"
    }
   ],
   "source": [
    "data_lm.train_ds[0][0].data[:10]"
   ]
  },
  {
   "cell_type": "code",
   "execution_count": 41,
   "metadata": {
    "colab": {},
    "colab_type": "code",
    "id": "stoDkikddOoT"
   },
   "outputs": [],
   "source": [
    "bs = 24 # bs=48 try a smaller batch size to see if that helps "
   ]
  },
  {
   "cell_type": "code",
   "execution_count": 44,
   "metadata": {
    "colab": {},
    "colab_type": "code",
    "id": "MPe8GpSOjk_z"
   },
   "outputs": [],
   "source": [
    "data_lm.save('data_lm.pkl')"
   ]
  },
  {
   "cell_type": "code",
   "execution_count": 45,
   "metadata": {
    "colab": {},
    "colab_type": "code",
    "id": "F4rkD6VRjoSD"
   },
   "outputs": [],
   "source": [
    "data_lm = load_data('', 'data_lm.pkl', bs=bs)"
   ]
  },
  {
   "cell_type": "code",
   "execution_count": 46,
   "metadata": {
    "colab": {
     "base_uri": "https://localhost:8080/",
     "height": 459
    },
    "colab_type": "code",
    "id": "amOA7kfmWQvB",
    "outputId": "b85acb16-aec1-430d-d2a1-8ff390df1643"
   },
   "outputs": [
    {
     "data": {
      "text/html": [
       "<table border=\"1\" class=\"dataframe\">\n",
       "  <thead>\n",
       "    <tr style=\"text-align: right;\">\n",
       "      <th>idx</th>\n",
       "      <th>text</th>\n",
       "    </tr>\n",
       "  </thead>\n",
       "  <tbody>\n",
       "    <tr>\n",
       "      <td>0</td>\n",
       "      <td>s provision meets the needs of the range of children who attend xxmaj good xxmaj the contribution of the s provision to the well being of children xxmaj good xxmaj the effectiveness of the leadership and management of the s provision xxmaj good xxmaj the setting meets legal requirements for s settings xxmaj summary of key findings for parents xxmaj this provision is good xxmaj the staff have a sound</td>\n",
       "    </tr>\n",
       "    <tr>\n",
       "      <td>1</td>\n",
       "      <td>currently there is an interim xxmaj bellerbys xxmaj college xxmaj page of director of student services and there has been an appointment to the permanent position to start in xxmaj january xxmaj the college has set up a multi disciplinary team to meet and identify any boarders who may need additional support xxmaj this forum provides an effective link between residential staff academic staff and the nurse xxmaj key staff</td>\n",
       "    </tr>\n",
       "    <tr>\n",
       "      <td>2</td>\n",
       "      <td>she organises her home effectively to ensure children have space to play and move around freely xxmaj through her own reading and learning of the s xxmaj foundation xxmaj stage the childminder has begun to develop flexible planning for the children s activities xxmaj the childminder is able to informally identify her own strengths and weaknesses although she does not use a structured system for self evaluation xxmaj this means</td>\n",
       "    </tr>\n",
       "    <tr>\n",
       "      <td>3</td>\n",
       "      <td>they are well behaved respond well to staff and play cooperatively together xxmaj the views of the parents and the children are important in driving improvement xxmaj the club has devised questionnaires to gain their views comments and suggestions xxmaj these are then used to evaluate and plan for the future of the club xxmaj it is not yet outstanding because xxmaj there is a limited range of resources that</td>\n",
       "    </tr>\n",
       "    <tr>\n",
       "      <td>4</td>\n",
       "      <td>and development requirements in full but should complement the experiences children receive in school xxmaj avalon xxmaj pre xxmaj school xxmaj playgroup of xxmaj the xxmaj office for xxmaj standards in xxmaj education xxmaj children s xxmaj services and xxmaj skills xxmaj ofsted regulates and inspects to achieve excellence in the care of children and young people and in education and skills for learners of all ages xxmaj it regulates</td>\n",
       "    </tr>\n",
       "  </tbody>\n",
       "</table>"
      ],
      "text/plain": [
       "<IPython.core.display.HTML object>"
      ]
     },
     "metadata": {},
     "output_type": "display_data"
    }
   ],
   "source": [
    "data_lm.show_batch()"
   ]
  },
  {
   "cell_type": "code",
   "execution_count": 47,
   "metadata": {
    "colab": {},
    "colab_type": "code",
    "id": "K36i8YyWWdYg"
   },
   "outputs": [],
   "source": [
    "learn = language_model_learner(data_lm, AWD_LSTM, drop_mult=0.3) # Add dropout to see if it helps"
   ]
  },
  {
   "cell_type": "code",
   "execution_count": 48,
   "metadata": {
    "colab": {
     "base_uri": "https://localhost:8080/",
     "height": 34
    },
    "colab_type": "code",
    "id": "EF_yetcvWiB6",
    "outputId": "c0aaf3e9-1720-49a9-daae-131214c8bcae"
   },
   "outputs": [
    {
     "data": {
      "text/html": [],
      "text/plain": [
       "<IPython.core.display.HTML object>"
      ]
     },
     "metadata": {},
     "output_type": "display_data"
    },
    {
     "name": "stdout",
     "output_type": "stream",
     "text": [
      "LR Finder is complete, type {learner_name}.recorder.plot() to see the graph.\n"
     ]
    }
   ],
   "source": [
    "learn.lr_find()"
   ]
  },
  {
   "cell_type": "code",
   "execution_count": 49,
   "metadata": {
    "colab": {
     "base_uri": "https://localhost:8080/",
     "height": 283
    },
    "colab_type": "code",
    "id": "4OQdQlRrWkJR",
    "outputId": "c4f13c8f-7f2e-45f6-8116-153cc648b46a"
   },
   "outputs": [
    {
     "data": {
      "image/png": "[encoded data removed]",
      "text/plain": [
       "<Figure size 432x288 with 1 Axes>"
      ]
     },
     "metadata": {
      "needs_background": "light"
     },
     "output_type": "display_data"
    }
   ],
   "source": [
    "learn.recorder.plot(skip_end=15)"
   ]
  },
  {
   "cell_type": "code",
   "execution_count": 51,
   "metadata": {
    "colab": {
     "base_uri": "https://localhost:8080/",
     "height": 80
    },
    "colab_type": "code",
    "id": "gtgKP_u7Yocf",
    "outputId": "7e436108-2798-4aed-bd14-f197621558f9"
   },
   "outputs": [
    {
     "data": {
      "text/html": [
       "\n",
       "    <div>\n",
       "        <style>\n",
       "            /* Turns off some styling */\n",
       "            progress {\n",
       "                /* gets rid of default border in Firefox and Opera. */\n",
       "                border: none;\n",
       "                /* Needs to be in here for Safari polyfill so background images work as expected. */\n",
       "                background-size: auto;\n",
       "            }\n",
       "            .progress-bar-interrupted, .progress-bar-interrupted::-webkit-progress-bar {\n",
       "                background: #F44336;\n",
       "            }\n",
       "        </style>\n",
       "      <progress value='0' class='' max='1', style='width:300px; height:20px; vertical-align: middle;'></progress>\n",
       "      0.00% [0/1 00:00<00:00]\n",
       "    </div>\n",
       "    \n",
       "<table border=\"1\" class=\"dataframe\">\n",
       "  <thead>\n",
       "    <tr style=\"text-align: left;\">\n",
       "      <th>epoch</th>\n",
       "      <th>train_loss</th>\n",
       "      <th>valid_loss</th>\n",
       "      <th>accuracy</th>\n",
       "      <th>time</th>\n",
       "    </tr>\n",
       "  </thead>\n",
       "  <tbody>\n",
       "  </tbody>\n",
       "</table><p>\n",
       "\n",
       "    <div>\n",
       "        <style>\n",
       "            /* Turns off some styling */\n",
       "            progress {\n",
       "                /* gets rid of default border in Firefox and Opera. */\n",
       "                border: none;\n",
       "                /* Needs to be in here for Safari polyfill so background images work as expected. */\n",
       "                background-size: auto;\n",
       "            }\n",
       "            .progress-bar-interrupted, .progress-bar-interrupted::-webkit-progress-bar {\n",
       "                background: #F44336;\n",
       "            }\n",
       "        </style>\n",
       "      <progress value='0' class='progress-bar-interrupted' max='1138', style='width:300px; height:20px; vertical-align: middle;'></progress>\n",
       "      Interrupted\n",
       "    </div>\n",
       "    "
      ],
      "text/plain": [
       "<IPython.core.display.HTML object>"
      ]
     },
     "metadata": {},
     "output_type": "display_data"
    },
    {
     "ename": "KeyboardInterrupt",
     "evalue": "",
     "output_type": "error",
     "traceback": [
      "\u001b[0;31m---------------------------------------------------------------------------\u001b[0m",
      "\u001b[0;31mKeyboardInterrupt\u001b[0m                         Traceback (most recent call last)",
      "\u001b[0;32m<ipython-input-51-eab6efb37ed0>\u001b[0m in \u001b[0;36m<module>\u001b[0;34m\u001b[0m\n\u001b[0;32m----> 1\u001b[0;31m \u001b[0mlearn\u001b[0m\u001b[0;34m.\u001b[0m\u001b[0mfit_one_cycle\u001b[0m\u001b[0;34m(\u001b[0m\u001b[0;36m1\u001b[0m\u001b[0;34m,\u001b[0m \u001b[0;36m1e-2\u001b[0m\u001b[0;34m,\u001b[0m \u001b[0mmoms\u001b[0m\u001b[0;34m=\u001b[0m\u001b[0;34m(\u001b[0m\u001b[0;36m0.8\u001b[0m\u001b[0;34m,\u001b[0m\u001b[0;36m0.7\u001b[0m\u001b[0;34m)\u001b[0m\u001b[0;34m)\u001b[0m\u001b[0;34m\u001b[0m\u001b[0;34m\u001b[0m\u001b[0m\n\u001b[0m",
      "\u001b[0;32m/anaconda3/lib/python3.7/site-packages/fastai/train.py\u001b[0m in \u001b[0;36mfit_one_cycle\u001b[0;34m(learn, cyc_len, max_lr, moms, div_factor, pct_start, final_div, wd, callbacks, tot_epochs, start_epoch)\u001b[0m\n\u001b[1;32m     20\u001b[0m     callbacks.append(OneCycleScheduler(learn, max_lr, moms=moms, div_factor=div_factor, pct_start=pct_start,\n\u001b[1;32m     21\u001b[0m                                        final_div=final_div, tot_epochs=tot_epochs, start_epoch=start_epoch))\n\u001b[0;32m---> 22\u001b[0;31m     \u001b[0mlearn\u001b[0m\u001b[0;34m.\u001b[0m\u001b[0mfit\u001b[0m\u001b[0;34m(\u001b[0m\u001b[0mcyc_len\u001b[0m\u001b[0;34m,\u001b[0m \u001b[0mmax_lr\u001b[0m\u001b[0;34m,\u001b[0m \u001b[0mwd\u001b[0m\u001b[0;34m=\u001b[0m\u001b[0mwd\u001b[0m\u001b[0;34m,\u001b[0m \u001b[0mcallbacks\u001b[0m\u001b[0;34m=\u001b[0m\u001b[0mcallbacks\u001b[0m\u001b[0;34m)\u001b[0m\u001b[0;34m\u001b[0m\u001b[0;34m\u001b[0m\u001b[0m\n\u001b[0m\u001b[1;32m     23\u001b[0m \u001b[0;34m\u001b[0m\u001b[0m\n\u001b[1;32m     24\u001b[0m \u001b[0;32mdef\u001b[0m \u001b[0mlr_find\u001b[0m\u001b[0;34m(\u001b[0m\u001b[0mlearn\u001b[0m\u001b[0;34m:\u001b[0m\u001b[0mLearner\u001b[0m\u001b[0;34m,\u001b[0m \u001b[0mstart_lr\u001b[0m\u001b[0;34m:\u001b[0m\u001b[0mFloats\u001b[0m\u001b[0;34m=\u001b[0m\u001b[0;36m1e-7\u001b[0m\u001b[0;34m,\u001b[0m \u001b[0mend_lr\u001b[0m\u001b[0;34m:\u001b[0m\u001b[0mFloats\u001b[0m\u001b[0;34m=\u001b[0m\u001b[0;36m10\u001b[0m\u001b[0;34m,\u001b[0m \u001b[0mnum_it\u001b[0m\u001b[0;34m:\u001b[0m\u001b[0mint\u001b[0m\u001b[0;34m=\u001b[0m\u001b[0;36m100\u001b[0m\u001b[0;34m,\u001b[0m \u001b[0mstop_div\u001b[0m\u001b[0;34m:\u001b[0m\u001b[0mbool\u001b[0m\u001b[0;34m=\u001b[0m\u001b[0;32mTrue\u001b[0m\u001b[0;34m,\u001b[0m \u001b[0mwd\u001b[0m\u001b[0;34m:\u001b[0m\u001b[0mfloat\u001b[0m\u001b[0;34m=\u001b[0m\u001b[0;32mNone\u001b[0m\u001b[0;34m)\u001b[0m\u001b[0;34m:\u001b[0m\u001b[0;34m\u001b[0m\u001b[0;34m\u001b[0m\u001b[0m\n",
      "\u001b[0;32m/anaconda3/lib/python3.7/site-packages/fastai/basic_train.py\u001b[0m in \u001b[0;36mfit\u001b[0;34m(self, epochs, lr, wd, callbacks)\u001b[0m\n\u001b[1;32m    194\u001b[0m         \u001b[0mcallbacks\u001b[0m \u001b[0;34m=\u001b[0m \u001b[0;34m[\u001b[0m\u001b[0mcb\u001b[0m\u001b[0;34m(\u001b[0m\u001b[0mself\u001b[0m\u001b[0;34m)\u001b[0m \u001b[0;32mfor\u001b[0m \u001b[0mcb\u001b[0m \u001b[0;32min\u001b[0m \u001b[0mself\u001b[0m\u001b[0;34m.\u001b[0m\u001b[0mcallback_fns\u001b[0m\u001b[0;34m]\u001b[0m \u001b[0;34m+\u001b[0m \u001b[0mlistify\u001b[0m\u001b[0;34m(\u001b[0m\u001b[0mcallbacks\u001b[0m\u001b[0;34m)\u001b[0m\u001b[0;34m\u001b[0m\u001b[0;34m\u001b[0m\u001b[0m\n\u001b[1;32m    195\u001b[0m         \u001b[0;32mif\u001b[0m \u001b[0mdefaults\u001b[0m\u001b[0;34m.\u001b[0m\u001b[0mextra_callbacks\u001b[0m \u001b[0;32mis\u001b[0m \u001b[0;32mnot\u001b[0m \u001b[0;32mNone\u001b[0m\u001b[0;34m:\u001b[0m \u001b[0mcallbacks\u001b[0m \u001b[0;34m+=\u001b[0m \u001b[0mdefaults\u001b[0m\u001b[0;34m.\u001b[0m\u001b[0mextra_callbacks\u001b[0m\u001b[0;34m\u001b[0m\u001b[0;34m\u001b[0m\u001b[0m\n\u001b[0;32m--> 196\u001b[0;31m         \u001b[0mfit\u001b[0m\u001b[0;34m(\u001b[0m\u001b[0mepochs\u001b[0m\u001b[0;34m,\u001b[0m \u001b[0mself\u001b[0m\u001b[0;34m,\u001b[0m \u001b[0mmetrics\u001b[0m\u001b[0;34m=\u001b[0m\u001b[0mself\u001b[0m\u001b[0;34m.\u001b[0m\u001b[0mmetrics\u001b[0m\u001b[0;34m,\u001b[0m \u001b[0mcallbacks\u001b[0m\u001b[0;34m=\u001b[0m\u001b[0mself\u001b[0m\u001b[0;34m.\u001b[0m\u001b[0mcallbacks\u001b[0m\u001b[0;34m+\u001b[0m\u001b[0mcallbacks\u001b[0m\u001b[0;34m)\u001b[0m\u001b[0;34m\u001b[0m\u001b[0;34m\u001b[0m\u001b[0m\n\u001b[0m\u001b[1;32m    197\u001b[0m \u001b[0;34m\u001b[0m\u001b[0m\n\u001b[1;32m    198\u001b[0m     \u001b[0;32mdef\u001b[0m \u001b[0mcreate_opt\u001b[0m\u001b[0;34m(\u001b[0m\u001b[0mself\u001b[0m\u001b[0;34m,\u001b[0m \u001b[0mlr\u001b[0m\u001b[0;34m:\u001b[0m\u001b[0mFloats\u001b[0m\u001b[0;34m,\u001b[0m \u001b[0mwd\u001b[0m\u001b[0;34m:\u001b[0m\u001b[0mFloats\u001b[0m\u001b[0;34m=\u001b[0m\u001b[0;36m0.\u001b[0m\u001b[0;34m)\u001b[0m\u001b[0;34m->\u001b[0m\u001b[0;32mNone\u001b[0m\u001b[0;34m:\u001b[0m\u001b[0;34m\u001b[0m\u001b[0;34m\u001b[0m\u001b[0m\n",
      "\u001b[0;32m/anaconda3/lib/python3.7/site-packages/fastai/basic_train.py\u001b[0m in \u001b[0;36mfit\u001b[0;34m(epochs, learn, callbacks, metrics)\u001b[0m\n\u001b[1;32m     98\u001b[0m             \u001b[0;32mfor\u001b[0m \u001b[0mxb\u001b[0m\u001b[0;34m,\u001b[0m\u001b[0myb\u001b[0m \u001b[0;32min\u001b[0m \u001b[0mprogress_bar\u001b[0m\u001b[0;34m(\u001b[0m\u001b[0mlearn\u001b[0m\u001b[0;34m.\u001b[0m\u001b[0mdata\u001b[0m\u001b[0;34m.\u001b[0m\u001b[0mtrain_dl\u001b[0m\u001b[0;34m,\u001b[0m \u001b[0mparent\u001b[0m\u001b[0;34m=\u001b[0m\u001b[0mpbar\u001b[0m\u001b[0;34m)\u001b[0m\u001b[0;34m:\u001b[0m\u001b[0;34m\u001b[0m\u001b[0;34m\u001b[0m\u001b[0m\n\u001b[1;32m     99\u001b[0m                 \u001b[0mxb\u001b[0m\u001b[0;34m,\u001b[0m \u001b[0myb\u001b[0m \u001b[0;34m=\u001b[0m \u001b[0mcb_handler\u001b[0m\u001b[0;34m.\u001b[0m\u001b[0mon_batch_begin\u001b[0m\u001b[0;34m(\u001b[0m\u001b[0mxb\u001b[0m\u001b[0;34m,\u001b[0m \u001b[0myb\u001b[0m\u001b[0;34m)\u001b[0m\u001b[0;34m\u001b[0m\u001b[0;34m\u001b[0m\u001b[0m\n\u001b[0;32m--> 100\u001b[0;31m                 \u001b[0mloss\u001b[0m \u001b[0;34m=\u001b[0m \u001b[0mloss_batch\u001b[0m\u001b[0;34m(\u001b[0m\u001b[0mlearn\u001b[0m\u001b[0;34m.\u001b[0m\u001b[0mmodel\u001b[0m\u001b[0;34m,\u001b[0m \u001b[0mxb\u001b[0m\u001b[0;34m,\u001b[0m \u001b[0myb\u001b[0m\u001b[0;34m,\u001b[0m \u001b[0mlearn\u001b[0m\u001b[0;34m.\u001b[0m\u001b[0mloss_func\u001b[0m\u001b[0;34m,\u001b[0m \u001b[0mlearn\u001b[0m\u001b[0;34m.\u001b[0m\u001b[0mopt\u001b[0m\u001b[0;34m,\u001b[0m \u001b[0mcb_handler\u001b[0m\u001b[0;34m)\u001b[0m\u001b[0;34m\u001b[0m\u001b[0;34m\u001b[0m\u001b[0m\n\u001b[0m\u001b[1;32m    101\u001b[0m                 \u001b[0;32mif\u001b[0m \u001b[0mcb_handler\u001b[0m\u001b[0;34m.\u001b[0m\u001b[0mon_batch_end\u001b[0m\u001b[0;34m(\u001b[0m\u001b[0mloss\u001b[0m\u001b[0;34m)\u001b[0m\u001b[0;34m:\u001b[0m \u001b[0;32mbreak\u001b[0m\u001b[0;34m\u001b[0m\u001b[0;34m\u001b[0m\u001b[0m\n\u001b[1;32m    102\u001b[0m \u001b[0;34m\u001b[0m\u001b[0m\n",
      "\u001b[0;32m/anaconda3/lib/python3.7/site-packages/fastai/basic_train.py\u001b[0m in \u001b[0;36mloss_batch\u001b[0;34m(model, xb, yb, loss_func, opt, cb_handler)\u001b[0m\n\u001b[1;32m     23\u001b[0m     \u001b[0;32mif\u001b[0m \u001b[0;32mnot\u001b[0m \u001b[0mis_listy\u001b[0m\u001b[0;34m(\u001b[0m\u001b[0mxb\u001b[0m\u001b[0;34m)\u001b[0m\u001b[0;34m:\u001b[0m \u001b[0mxb\u001b[0m \u001b[0;34m=\u001b[0m \u001b[0;34m[\u001b[0m\u001b[0mxb\u001b[0m\u001b[0;34m]\u001b[0m\u001b[0;34m\u001b[0m\u001b[0;34m\u001b[0m\u001b[0m\n\u001b[1;32m     24\u001b[0m     \u001b[0;32mif\u001b[0m \u001b[0;32mnot\u001b[0m \u001b[0mis_listy\u001b[0m\u001b[0;34m(\u001b[0m\u001b[0myb\u001b[0m\u001b[0;34m)\u001b[0m\u001b[0;34m:\u001b[0m \u001b[0myb\u001b[0m \u001b[0;34m=\u001b[0m \u001b[0;34m[\u001b[0m\u001b[0myb\u001b[0m\u001b[0;34m]\u001b[0m\u001b[0;34m\u001b[0m\u001b[0;34m\u001b[0m\u001b[0m\n\u001b[0;32m---> 25\u001b[0;31m     \u001b[0mout\u001b[0m \u001b[0;34m=\u001b[0m \u001b[0mmodel\u001b[0m\u001b[0;34m(\u001b[0m\u001b[0;34m*\u001b[0m\u001b[0mxb\u001b[0m\u001b[0;34m)\u001b[0m\u001b[0;34m\u001b[0m\u001b[0;34m\u001b[0m\u001b[0m\n\u001b[0m\u001b[1;32m     26\u001b[0m     \u001b[0mout\u001b[0m \u001b[0;34m=\u001b[0m \u001b[0mcb_handler\u001b[0m\u001b[0;34m.\u001b[0m\u001b[0mon_loss_begin\u001b[0m\u001b[0;34m(\u001b[0m\u001b[0mout\u001b[0m\u001b[0;34m)\u001b[0m\u001b[0;34m\u001b[0m\u001b[0;34m\u001b[0m\u001b[0m\n\u001b[1;32m     27\u001b[0m \u001b[0;34m\u001b[0m\u001b[0m\n",
      "\u001b[0;32m/anaconda3/lib/python3.7/site-packages/torch/nn/modules/module.py\u001b[0m in \u001b[0;36m__call__\u001b[0;34m(self, *input, **kwargs)\u001b[0m\n\u001b[1;32m    487\u001b[0m             \u001b[0mresult\u001b[0m \u001b[0;34m=\u001b[0m \u001b[0mself\u001b[0m\u001b[0;34m.\u001b[0m\u001b[0m_slow_forward\u001b[0m\u001b[0;34m(\u001b[0m\u001b[0;34m*\u001b[0m\u001b[0minput\u001b[0m\u001b[0;34m,\u001b[0m \u001b[0;34m**\u001b[0m\u001b[0mkwargs\u001b[0m\u001b[0;34m)\u001b[0m\u001b[0;34m\u001b[0m\u001b[0;34m\u001b[0m\u001b[0m\n\u001b[1;32m    488\u001b[0m         \u001b[0;32melse\u001b[0m\u001b[0;34m:\u001b[0m\u001b[0;34m\u001b[0m\u001b[0;34m\u001b[0m\u001b[0m\n\u001b[0;32m--> 489\u001b[0;31m             \u001b[0mresult\u001b[0m \u001b[0;34m=\u001b[0m \u001b[0mself\u001b[0m\u001b[0;34m.\u001b[0m\u001b[0mforward\u001b[0m\u001b[0;34m(\u001b[0m\u001b[0;34m*\u001b[0m\u001b[0minput\u001b[0m\u001b[0;34m,\u001b[0m \u001b[0;34m**\u001b[0m\u001b[0mkwargs\u001b[0m\u001b[0;34m)\u001b[0m\u001b[0;34m\u001b[0m\u001b[0;34m\u001b[0m\u001b[0m\n\u001b[0m\u001b[1;32m    490\u001b[0m         \u001b[0;32mfor\u001b[0m \u001b[0mhook\u001b[0m \u001b[0;32min\u001b[0m \u001b[0mself\u001b[0m\u001b[0;34m.\u001b[0m\u001b[0m_forward_hooks\u001b[0m\u001b[0;34m.\u001b[0m\u001b[0mvalues\u001b[0m\u001b[0;34m(\u001b[0m\u001b[0;34m)\u001b[0m\u001b[0;34m:\u001b[0m\u001b[0;34m\u001b[0m\u001b[0;34m\u001b[0m\u001b[0m\n\u001b[1;32m    491\u001b[0m             \u001b[0mhook_result\u001b[0m \u001b[0;34m=\u001b[0m \u001b[0mhook\u001b[0m\u001b[0;34m(\u001b[0m\u001b[0mself\u001b[0m\u001b[0;34m,\u001b[0m \u001b[0minput\u001b[0m\u001b[0;34m,\u001b[0m \u001b[0mresult\u001b[0m\u001b[0;34m)\u001b[0m\u001b[0;34m\u001b[0m\u001b[0;34m\u001b[0m\u001b[0m\n",
      "\u001b[0;32m/anaconda3/lib/python3.7/site-packages/torch/nn/modules/container.py\u001b[0m in \u001b[0;36mforward\u001b[0;34m(self, input)\u001b[0m\n\u001b[1;32m     90\u001b[0m     \u001b[0;32mdef\u001b[0m \u001b[0mforward\u001b[0m\u001b[0;34m(\u001b[0m\u001b[0mself\u001b[0m\u001b[0;34m,\u001b[0m \u001b[0minput\u001b[0m\u001b[0;34m)\u001b[0m\u001b[0;34m:\u001b[0m\u001b[0;34m\u001b[0m\u001b[0;34m\u001b[0m\u001b[0m\n\u001b[1;32m     91\u001b[0m         \u001b[0;32mfor\u001b[0m \u001b[0mmodule\u001b[0m \u001b[0;32min\u001b[0m \u001b[0mself\u001b[0m\u001b[0;34m.\u001b[0m\u001b[0m_modules\u001b[0m\u001b[0;34m.\u001b[0m\u001b[0mvalues\u001b[0m\u001b[0;34m(\u001b[0m\u001b[0;34m)\u001b[0m\u001b[0;34m:\u001b[0m\u001b[0;34m\u001b[0m\u001b[0;34m\u001b[0m\u001b[0m\n\u001b[0;32m---> 92\u001b[0;31m             \u001b[0minput\u001b[0m \u001b[0;34m=\u001b[0m \u001b[0mmodule\u001b[0m\u001b[0;34m(\u001b[0m\u001b[0minput\u001b[0m\u001b[0;34m)\u001b[0m\u001b[0;34m\u001b[0m\u001b[0;34m\u001b[0m\u001b[0m\n\u001b[0m\u001b[1;32m     93\u001b[0m         \u001b[0;32mreturn\u001b[0m \u001b[0minput\u001b[0m\u001b[0;34m\u001b[0m\u001b[0;34m\u001b[0m\u001b[0m\n\u001b[1;32m     94\u001b[0m \u001b[0;34m\u001b[0m\u001b[0m\n",
      "\u001b[0;32m/anaconda3/lib/python3.7/site-packages/torch/nn/modules/module.py\u001b[0m in \u001b[0;36m__call__\u001b[0;34m(self, *input, **kwargs)\u001b[0m\n\u001b[1;32m    487\u001b[0m             \u001b[0mresult\u001b[0m \u001b[0;34m=\u001b[0m \u001b[0mself\u001b[0m\u001b[0;34m.\u001b[0m\u001b[0m_slow_forward\u001b[0m\u001b[0;34m(\u001b[0m\u001b[0;34m*\u001b[0m\u001b[0minput\u001b[0m\u001b[0;34m,\u001b[0m \u001b[0;34m**\u001b[0m\u001b[0mkwargs\u001b[0m\u001b[0;34m)\u001b[0m\u001b[0;34m\u001b[0m\u001b[0;34m\u001b[0m\u001b[0m\n\u001b[1;32m    488\u001b[0m         \u001b[0;32melse\u001b[0m\u001b[0;34m:\u001b[0m\u001b[0;34m\u001b[0m\u001b[0;34m\u001b[0m\u001b[0m\n\u001b[0;32m--> 489\u001b[0;31m             \u001b[0mresult\u001b[0m \u001b[0;34m=\u001b[0m \u001b[0mself\u001b[0m\u001b[0;34m.\u001b[0m\u001b[0mforward\u001b[0m\u001b[0;34m(\u001b[0m\u001b[0;34m*\u001b[0m\u001b[0minput\u001b[0m\u001b[0;34m,\u001b[0m \u001b[0;34m**\u001b[0m\u001b[0mkwargs\u001b[0m\u001b[0;34m)\u001b[0m\u001b[0;34m\u001b[0m\u001b[0;34m\u001b[0m\u001b[0m\n\u001b[0m\u001b[1;32m    490\u001b[0m         \u001b[0;32mfor\u001b[0m \u001b[0mhook\u001b[0m \u001b[0;32min\u001b[0m \u001b[0mself\u001b[0m\u001b[0;34m.\u001b[0m\u001b[0m_forward_hooks\u001b[0m\u001b[0;34m.\u001b[0m\u001b[0mvalues\u001b[0m\u001b[0;34m(\u001b[0m\u001b[0;34m)\u001b[0m\u001b[0;34m:\u001b[0m\u001b[0;34m\u001b[0m\u001b[0;34m\u001b[0m\u001b[0m\n\u001b[1;32m    491\u001b[0m             \u001b[0mhook_result\u001b[0m \u001b[0;34m=\u001b[0m \u001b[0mhook\u001b[0m\u001b[0;34m(\u001b[0m\u001b[0mself\u001b[0m\u001b[0;34m,\u001b[0m \u001b[0minput\u001b[0m\u001b[0;34m,\u001b[0m \u001b[0mresult\u001b[0m\u001b[0;34m)\u001b[0m\u001b[0;34m\u001b[0m\u001b[0;34m\u001b[0m\u001b[0m\n",
      "\u001b[0;32m/anaconda3/lib/python3.7/site-packages/fastai/text/models/awd_lstm.py\u001b[0m in \u001b[0;36mforward\u001b[0;34m(self, input, from_embeddings)\u001b[0m\n\u001b[1;32m    112\u001b[0m         \u001b[0mnew_hidden\u001b[0m\u001b[0;34m,\u001b[0m\u001b[0mraw_outputs\u001b[0m\u001b[0;34m,\u001b[0m\u001b[0moutputs\u001b[0m \u001b[0;34m=\u001b[0m \u001b[0;34m[\u001b[0m\u001b[0;34m]\u001b[0m\u001b[0;34m,\u001b[0m\u001b[0;34m[\u001b[0m\u001b[0;34m]\u001b[0m\u001b[0;34m,\u001b[0m\u001b[0;34m[\u001b[0m\u001b[0;34m]\u001b[0m\u001b[0;34m\u001b[0m\u001b[0;34m\u001b[0m\u001b[0m\n\u001b[1;32m    113\u001b[0m         \u001b[0;32mfor\u001b[0m \u001b[0ml\u001b[0m\u001b[0;34m,\u001b[0m \u001b[0;34m(\u001b[0m\u001b[0mrnn\u001b[0m\u001b[0;34m,\u001b[0m\u001b[0mhid_dp\u001b[0m\u001b[0;34m)\u001b[0m \u001b[0;32min\u001b[0m \u001b[0menumerate\u001b[0m\u001b[0;34m(\u001b[0m\u001b[0mzip\u001b[0m\u001b[0;34m(\u001b[0m\u001b[0mself\u001b[0m\u001b[0;34m.\u001b[0m\u001b[0mrnns\u001b[0m\u001b[0;34m,\u001b[0m \u001b[0mself\u001b[0m\u001b[0;34m.\u001b[0m\u001b[0mhidden_dps\u001b[0m\u001b[0;34m)\u001b[0m\u001b[0;34m)\u001b[0m\u001b[0;34m:\u001b[0m\u001b[0;34m\u001b[0m\u001b[0;34m\u001b[0m\u001b[0m\n\u001b[0;32m--> 114\u001b[0;31m             \u001b[0mraw_output\u001b[0m\u001b[0;34m,\u001b[0m \u001b[0mnew_h\u001b[0m \u001b[0;34m=\u001b[0m \u001b[0mrnn\u001b[0m\u001b[0;34m(\u001b[0m\u001b[0mraw_output\u001b[0m\u001b[0;34m,\u001b[0m \u001b[0mself\u001b[0m\u001b[0;34m.\u001b[0m\u001b[0mhidden\u001b[0m\u001b[0;34m[\u001b[0m\u001b[0ml\u001b[0m\u001b[0;34m]\u001b[0m\u001b[0;34m)\u001b[0m\u001b[0;34m\u001b[0m\u001b[0;34m\u001b[0m\u001b[0m\n\u001b[0m\u001b[1;32m    115\u001b[0m             \u001b[0mnew_hidden\u001b[0m\u001b[0;34m.\u001b[0m\u001b[0mappend\u001b[0m\u001b[0;34m(\u001b[0m\u001b[0mnew_h\u001b[0m\u001b[0;34m)\u001b[0m\u001b[0;34m\u001b[0m\u001b[0;34m\u001b[0m\u001b[0m\n\u001b[1;32m    116\u001b[0m             \u001b[0mraw_outputs\u001b[0m\u001b[0;34m.\u001b[0m\u001b[0mappend\u001b[0m\u001b[0;34m(\u001b[0m\u001b[0mraw_output\u001b[0m\u001b[0;34m)\u001b[0m\u001b[0;34m\u001b[0m\u001b[0;34m\u001b[0m\u001b[0m\n",
      "\u001b[0;32m/anaconda3/lib/python3.7/site-packages/torch/nn/modules/module.py\u001b[0m in \u001b[0;36m__call__\u001b[0;34m(self, *input, **kwargs)\u001b[0m\n\u001b[1;32m    487\u001b[0m             \u001b[0mresult\u001b[0m \u001b[0;34m=\u001b[0m \u001b[0mself\u001b[0m\u001b[0;34m.\u001b[0m\u001b[0m_slow_forward\u001b[0m\u001b[0;34m(\u001b[0m\u001b[0;34m*\u001b[0m\u001b[0minput\u001b[0m\u001b[0;34m,\u001b[0m \u001b[0;34m**\u001b[0m\u001b[0mkwargs\u001b[0m\u001b[0;34m)\u001b[0m\u001b[0;34m\u001b[0m\u001b[0;34m\u001b[0m\u001b[0m\n\u001b[1;32m    488\u001b[0m         \u001b[0;32melse\u001b[0m\u001b[0;34m:\u001b[0m\u001b[0;34m\u001b[0m\u001b[0;34m\u001b[0m\u001b[0m\n\u001b[0;32m--> 489\u001b[0;31m             \u001b[0mresult\u001b[0m \u001b[0;34m=\u001b[0m \u001b[0mself\u001b[0m\u001b[0;34m.\u001b[0m\u001b[0mforward\u001b[0m\u001b[0;34m(\u001b[0m\u001b[0;34m*\u001b[0m\u001b[0minput\u001b[0m\u001b[0;34m,\u001b[0m \u001b[0;34m**\u001b[0m\u001b[0mkwargs\u001b[0m\u001b[0;34m)\u001b[0m\u001b[0;34m\u001b[0m\u001b[0;34m\u001b[0m\u001b[0m\n\u001b[0m\u001b[1;32m    490\u001b[0m         \u001b[0;32mfor\u001b[0m \u001b[0mhook\u001b[0m \u001b[0;32min\u001b[0m \u001b[0mself\u001b[0m\u001b[0;34m.\u001b[0m\u001b[0m_forward_hooks\u001b[0m\u001b[0;34m.\u001b[0m\u001b[0mvalues\u001b[0m\u001b[0;34m(\u001b[0m\u001b[0;34m)\u001b[0m\u001b[0;34m:\u001b[0m\u001b[0;34m\u001b[0m\u001b[0;34m\u001b[0m\u001b[0m\n\u001b[1;32m    491\u001b[0m             \u001b[0mhook_result\u001b[0m \u001b[0;34m=\u001b[0m \u001b[0mhook\u001b[0m\u001b[0;34m(\u001b[0m\u001b[0mself\u001b[0m\u001b[0;34m,\u001b[0m \u001b[0minput\u001b[0m\u001b[0;34m,\u001b[0m \u001b[0mresult\u001b[0m\u001b[0;34m)\u001b[0m\u001b[0;34m\u001b[0m\u001b[0;34m\u001b[0m\u001b[0m\n",
      "\u001b[0;32m/anaconda3/lib/python3.7/site-packages/fastai/text/models/awd_lstm.py\u001b[0m in \u001b[0;36mforward\u001b[0;34m(self, *args)\u001b[0m\n\u001b[1;32m     47\u001b[0m             \u001b[0;31m#To avoid the warning that comes because the weights aren't flattened.\u001b[0m\u001b[0;34m\u001b[0m\u001b[0;34m\u001b[0m\u001b[0;34m\u001b[0m\u001b[0m\n\u001b[1;32m     48\u001b[0m             \u001b[0mwarnings\u001b[0m\u001b[0;34m.\u001b[0m\u001b[0msimplefilter\u001b[0m\u001b[0;34m(\u001b[0m\u001b[0;34m\"ignore\"\u001b[0m\u001b[0;34m)\u001b[0m\u001b[0;34m\u001b[0m\u001b[0;34m\u001b[0m\u001b[0m\n\u001b[0;32m---> 49\u001b[0;31m             \u001b[0;32mreturn\u001b[0m \u001b[0mself\u001b[0m\u001b[0;34m.\u001b[0m\u001b[0mmodule\u001b[0m\u001b[0;34m.\u001b[0m\u001b[0mforward\u001b[0m\u001b[0;34m(\u001b[0m\u001b[0;34m*\u001b[0m\u001b[0margs\u001b[0m\u001b[0;34m)\u001b[0m\u001b[0;34m\u001b[0m\u001b[0;34m\u001b[0m\u001b[0m\n\u001b[0m\u001b[1;32m     50\u001b[0m \u001b[0;34m\u001b[0m\u001b[0m\n\u001b[1;32m     51\u001b[0m     \u001b[0;32mdef\u001b[0m \u001b[0mreset\u001b[0m\u001b[0;34m(\u001b[0m\u001b[0mself\u001b[0m\u001b[0;34m)\u001b[0m\u001b[0;34m:\u001b[0m\u001b[0;34m\u001b[0m\u001b[0;34m\u001b[0m\u001b[0m\n",
      "\u001b[0;32m/anaconda3/lib/python3.7/site-packages/torch/nn/modules/rnn.py\u001b[0m in \u001b[0;36mforward\u001b[0;34m(self, input, hx)\u001b[0m\n\u001b[1;32m    177\u001b[0m         \u001b[0;32mif\u001b[0m \u001b[0mbatch_sizes\u001b[0m \u001b[0;32mis\u001b[0m \u001b[0;32mNone\u001b[0m\u001b[0;34m:\u001b[0m\u001b[0;34m\u001b[0m\u001b[0;34m\u001b[0m\u001b[0m\n\u001b[1;32m    178\u001b[0m             result = _impl(input, hx, self._flat_weights, self.bias, self.num_layers,\n\u001b[0;32m--> 179\u001b[0;31m                            self.dropout, self.training, self.bidirectional, self.batch_first)\n\u001b[0m\u001b[1;32m    180\u001b[0m         \u001b[0;32melse\u001b[0m\u001b[0;34m:\u001b[0m\u001b[0;34m\u001b[0m\u001b[0;34m\u001b[0m\u001b[0m\n\u001b[1;32m    181\u001b[0m             result = _impl(input, batch_sizes, hx, self._flat_weights, self.bias,\n",
      "\u001b[0;31mKeyboardInterrupt\u001b[0m: "
     ]
    }
   ],
   "source": [
    "learn.fit_one_cycle(1, 1e-2, moms=(0.8,0.7))"
   ]
  },
  {
   "cell_type": "code",
   "execution_count": null,
   "metadata": {
    "colab": {},
    "colab_type": "code",
    "id": "-j0KxFwDYwIB"
   },
   "outputs": [],
   "source": [
    "learn.save('fit_head')"
   ]
  },
  {
   "cell_type": "code",
   "execution_count": null,
   "metadata": {
    "colab": {
     "base_uri": "https://localhost:8080/",
     "height": 1000
    },
    "colab_type": "code",
    "id": "ziAqDmrfZROs",
    "outputId": "91471cd0-a470-4dad-aa1e-82fa0b4da2a2"
   },
   "outputs": [],
   "source": [
    "learn.load('fit_head')"
   ]
  },
  {
   "cell_type": "code",
   "execution_count": null,
   "metadata": {
    "colab": {},
    "colab_type": "code",
    "id": "eeaOvoBuZTE0"
   },
   "outputs": [],
   "source": [
    "learn.unfreeze()"
   ]
  },
  {
   "cell_type": "code",
   "execution_count": null,
   "metadata": {
    "colab": {
     "base_uri": "https://localhost:8080/",
     "height": 359
    },
    "colab_type": "code",
    "id": "q_PhoWUSZVeW",
    "outputId": "1d058b6c-ac16-4f0b-e0ec-269e6a2833d1"
   },
   "outputs": [],
   "source": [
    "learn.fit_one_cycle(10, 1e-2, moms=(0.8,0.7)) # language model performance"
   ]
  },
  {
   "cell_type": "code",
   "execution_count": null,
   "metadata": {
    "colab": {},
    "colab_type": "code",
    "id": "aKVOoR01ZdOV"
   },
   "outputs": [],
   "source": [
    "learn.save('fine_tuned')"
   ]
  },
  {
   "cell_type": "code",
   "execution_count": null,
   "metadata": {
    "colab": {
     "base_uri": "https://localhost:8080/",
     "height": 1000
    },
    "colab_type": "code",
    "id": "_y7kezqwZyDI",
    "outputId": "76718ff4-49ef-4ee1-9191-47415a279512"
   },
   "outputs": [],
   "source": [
    "learn.load('fine_tuned')"
   ]
  },
  {
   "cell_type": "code",
   "execution_count": null,
   "metadata": {
    "colab": {},
    "colab_type": "code",
    "id": "0kI5Z1W5Zz96"
   },
   "outputs": [],
   "source": [
    "TEXT = \"The students are\"\n",
    "N_WORDS = 40\n",
    "N_SENTENCES = 2"
   ]
  },
  {
   "cell_type": "code",
   "execution_count": null,
   "metadata": {
    "colab": {
     "base_uri": "https://localhost:8080/",
     "height": 71
    },
    "colab_type": "code",
    "id": "ieEUSlW_aAl7",
    "outputId": "8aba7f19-be2c-4d90-aa40-237ea568d5c8"
   },
   "outputs": [],
   "source": [
    "print (\"\\n\".join(learn.predict(TEXT, N_WORDS) for _ in range (N_SENTENCES)))"
   ]
  },
  {
   "cell_type": "code",
   "execution_count": null,
   "metadata": {
    "colab": {},
    "colab_type": "code",
    "id": "0xBxYl86aNfi"
   },
   "outputs": [],
   "source": [
    "learn.save_encoder('fine_tuned_enc')"
   ]
  },
  {
   "cell_type": "code",
   "execution_count": null,
   "metadata": {
    "colab": {},
    "colab_type": "code",
    "id": "bT-jUmKRaBzH"
   },
   "outputs": [],
   "source": [
    "# Classifier"
   ]
  },
  {
   "cell_type": "code",
   "execution_count": null,
   "metadata": {
    "colab": {},
    "colab_type": "code",
    "id": "5kDDCxjyk2CX"
   },
   "outputs": [],
   "source": [
    "data_clas = TextClasDataBunch.from_csv('', 'school_sample.csv', vocab=data_lm.vocab, text_cols='text', label_cols='label')\n",
    "data_clas.save('data_clas.pkl')"
   ]
  },
  {
   "cell_type": "code",
   "execution_count": null,
   "metadata": {
    "colab": {},
    "colab_type": "code",
    "id": "r0eDcaaslMQv"
   },
   "outputs": [],
   "source": [
    "data_clas = load_data('', 'data_clas.pkl', bs=bs)"
   ]
  },
  {
   "cell_type": "code",
   "execution_count": null,
   "metadata": {
    "colab": {
     "base_uri": "https://localhost:8080/",
     "height": 459
    },
    "colab_type": "code",
    "id": "nZJYi0FPlTf6",
    "outputId": "f2230460-59f2-4034-b772-7d3b52179bc1"
   },
   "outputs": [],
   "source": [
    "data_clas.show_batch()"
   ]
  },
  {
   "cell_type": "code",
   "execution_count": null,
   "metadata": {
    "colab": {},
    "colab_type": "code",
    "id": "_p12IXqPlVkU"
   },
   "outputs": [],
   "source": [
    "classifier = text_classifier_learner(data_clas, AWD_LSTM, drop_mult=0.5)\n",
    "classifier.load_encoder('fine_tuned_enc')"
   ]
  },
  {
   "cell_type": "code",
   "execution_count": null,
   "metadata": {
    "colab": {
     "base_uri": "https://localhost:8080/",
     "height": 34
    },
    "colab_type": "code",
    "id": "PwJug5dPllwV",
    "outputId": "34c9ef0b-6971-4d56-8517-141addc9628d"
   },
   "outputs": [],
   "source": [
    "classifier.lr_find()"
   ]
  },
  {
   "cell_type": "code",
   "execution_count": null,
   "metadata": {
    "colab": {
     "base_uri": "https://localhost:8080/",
     "height": 283
    },
    "colab_type": "code",
    "id": "45i7JPM-ls7w",
    "outputId": "32510d7c-0344-4083-8636-ca2fd68bf0c2"
   },
   "outputs": [],
   "source": [
    "classifier.recorder.plot()"
   ]
  },
  {
   "cell_type": "code",
   "execution_count": null,
   "metadata": {
    "colab": {
     "base_uri": "https://localhost:8080/",
     "height": 80
    },
    "colab_type": "code",
    "id": "cKJoEcMkl1Y4",
    "outputId": "b33bc09c-0052-45ee-ff3f-85acf96e8714"
   },
   "outputs": [],
   "source": [
    "classifier.fit_one_cycle(1, 1e-2, moms=(0.8,0.7))"
   ]
  },
  {
   "cell_type": "code",
   "execution_count": null,
   "metadata": {
    "colab": {},
    "colab_type": "code",
    "id": "x2rvdbtfbvsm"
   },
   "outputs": [],
   "source": [
    "classifier.save('first')"
   ]
  },
  {
   "cell_type": "code",
   "execution_count": null,
   "metadata": {
    "colab": {
     "base_uri": "https://localhost:8080/",
     "height": 1000
    },
    "colab_type": "code",
    "id": "NZr7xuOSbx-E",
    "outputId": "50aeb5e3-dfa6-4391-aa02-ae07c1d95bc3"
   },
   "outputs": [],
   "source": [
    "classifier.load('first')"
   ]
  },
  {
   "cell_type": "code",
   "execution_count": null,
   "metadata": {
    "colab": {
     "base_uri": "https://localhost:8080/",
     "height": 80
    },
    "colab_type": "code",
    "id": "O-7lw6J0bzSq",
    "outputId": "9c0a6a20-bcfa-4479-b39d-53143e595efe"
   },
   "outputs": [],
   "source": [
    "classifier.freeze_to(-2)\n",
    "classifier.fit_one_cycle(1, slice(1e-2/(2.6**4),1e-2), moms=(0.8,0.7))"
   ]
  },
  {
   "cell_type": "code",
   "execution_count": null,
   "metadata": {
    "colab": {},
    "colab_type": "code",
    "id": "d3KS3h9eb6rv"
   },
   "outputs": [],
   "source": [
    "classifier.save('second')"
   ]
  },
  {
   "cell_type": "code",
   "execution_count": null,
   "metadata": {
    "colab": {
     "base_uri": "https://localhost:8080/",
     "height": 1000
    },
    "colab_type": "code",
    "id": "sYc32NEjb9hU",
    "outputId": "55e9d7c1-58b9-43a1-f16b-5497b2c98129"
   },
   "outputs": [],
   "source": [
    "classifier.load('second')"
   ]
  },
  {
   "cell_type": "code",
   "execution_count": null,
   "metadata": {
    "colab": {
     "base_uri": "https://localhost:8080/",
     "height": 80
    },
    "colab_type": "code",
    "id": "83KD7hyHb8jb",
    "outputId": "5c491333-d477-4d36-a75a-a192be614de0"
   },
   "outputs": [],
   "source": [
    "classifier.freeze_to(-3)\n",
    "classifier.fit_one_cycle(1, slice(5e-3/(2.6**4),5e-3), moms=(0.8,0.7))"
   ]
  },
  {
   "cell_type": "code",
   "execution_count": null,
   "metadata": {
    "colab": {},
    "colab_type": "code",
    "id": "NlvJ74LJcKy2"
   },
   "outputs": [],
   "source": [
    "classifier.save('third')"
   ]
  },
  {
   "cell_type": "code",
   "execution_count": null,
   "metadata": {
    "colab": {
     "base_uri": "https://localhost:8080/",
     "height": 1000
    },
    "colab_type": "code",
    "id": "LlsDCZ38cMQt",
    "outputId": "080e30fe-8c8c-42dc-fb6e-8b0310004eaf"
   },
   "outputs": [],
   "source": [
    "classifier.load('third')"
   ]
  },
  {
   "cell_type": "code",
   "execution_count": null,
   "metadata": {
    "colab": {
     "base_uri": "https://localhost:8080/",
     "height": 111
    },
    "colab_type": "code",
    "id": "1xix-7_tcN4T",
    "outputId": "3f6acefa-0cc1-465d-da7c-3ff7e51e7c34"
   },
   "outputs": [],
   "source": [
    "classifier.unfreeze()\n",
    "classifier.fit_one_cycle(2, slice(1e-3/(2.6**4), 1e-3), moms=(0.8,0.7))"
   ]
  },
  {
   "cell_type": "code",
   "execution_count": null,
   "metadata": {
    "colab": {
     "base_uri": "https://localhost:8080/",
     "height": 34
    },
    "colab_type": "code",
    "id": "c54oYCwDcY3G",
    "outputId": "b664d8cf-c5d7-4eea-a5ae-4a6d8f090490"
   },
   "outputs": [],
   "source": [
    "classifier.predict(\"students at this school are\")"
   ]
  },
  {
   "cell_type": "code",
   "execution_count": null,
   "metadata": {
    "colab": {},
    "colab_type": "code",
    "id": "JIxP8BYXc19E"
   },
   "outputs": [],
   "source": [
    "import matplotlib.cm as cm\n",
    "\n",
    "txt_ci = TextClassificationInterpretation.from_learner(classifier)"
   ]
  },
  {
   "cell_type": "code",
   "execution_count": null,
   "metadata": {
    "colab": {
     "base_uri": "https://localhost:8080/",
     "height": 1000
    },
    "colab_type": "code",
    "id": "iVp8KBPYc61Y",
    "outputId": "dd18d179-0005-400f-fcaa-ec318f681db3"
   },
   "outputs": [],
   "source": [
    "txt_ci.show_top_losses(10)"
   ]
  },
  {
   "cell_type": "code",
   "execution_count": null,
   "metadata": {
    "colab": {},
    "colab_type": "code",
    "id": "qs1AyS5uc8uZ"
   },
   "outputs": [],
   "source": [
    "classifier.save('fourth')"
   ]
  },
  {
   "cell_type": "code",
   "execution_count": null,
   "metadata": {
    "colab": {
     "base_uri": "https://localhost:8080/",
     "height": 1000
    },
    "colab_type": "code",
    "id": "sa09GK4AHrp0",
    "outputId": "98a8acb0-d4a3-4c4f-8149-909af5be2d80"
   },
   "outputs": [],
   "source": [
    "classifier.load('fourth')"
   ]
  },
  {
   "cell_type": "code",
   "execution_count": null,
   "metadata": {
    "colab": {
     "base_uri": "https://localhost:8080/",
     "height": 34
    },
    "colab_type": "code",
    "id": "x-j0aPKhNcBt",
    "outputId": "c9f2a220-db5a-4902-dd21-4628e45d86b7"
   },
   "outputs": [],
   "source": [
    "classifier.predict('this school has been ')"
   ]
  },
  {
   "cell_type": "code",
   "execution_count": null,
   "metadata": {
    "colab": {
     "base_uri": "https://localhost:8080/",
     "height": 1000
    },
    "colab_type": "code",
    "id": "yG7eyv1BUVOS",
    "outputId": "91ffed32-1dd9-4e7d-e7fe-80dbe9316882"
   },
   "outputs": [],
   "source": [
    "txt_ci = TextClassificationInterpretation.from_learner(classifier)\n",
    "txt_ci.show_top_losses(10)"
   ]
  },
  {
   "cell_type": "code",
   "execution_count": null,
   "metadata": {
    "colab": {
     "base_uri": "https://localhost:8080/",
     "height": 300
    },
    "colab_type": "code",
    "id": "DE678-GoOG9M",
    "outputId": "32e60a8c-0b0c-471f-a247-7a9bf82fa163"
   },
   "outputs": [],
   "source": [
    "# More training\n",
    "classifier.lr_find()\n",
    "classifier.recorder.plot()"
   ]
  },
  {
   "cell_type": "code",
   "execution_count": null,
   "metadata": {
    "colab": {
     "base_uri": "https://localhost:8080/",
     "height": 142
    },
    "colab_type": "code",
    "id": "WQuB30z2QA5J",
    "outputId": "2aa27085-850d-4e59-f3f2-e6fdbecabf5e"
   },
   "outputs": [],
   "source": [
    "classifier.fit_one_cycle(3, slice(1e-6/(2.6**4),1e-6), moms=(0.8,0.7)) # Need to adjust based on LR Finder"
   ]
  },
  {
   "cell_type": "code",
   "execution_count": null,
   "metadata": {
    "colab": {
     "base_uri": "https://localhost:8080/",
     "height": 142
    },
    "colab_type": "code",
    "id": "GGu-cUT3pJfS",
    "outputId": "1ed7eb17-30ee-41af-a938-20f9fd226a0e"
   },
   "outputs": [],
   "source": [
    "classifier.fit_one_cycle(3, slice(1e-5/(2.6**4),1e-5), moms=(0.8,0.7)) # Need to adjust based on LR Finder"
   ]
  },
  {
   "cell_type": "code",
   "execution_count": null,
   "metadata": {
    "colab": {
     "base_uri": "https://localhost:8080/",
     "height": 142
    },
    "colab_type": "code",
    "id": "InOFyJZmQm5g",
    "outputId": "e0868f54-9386-4ccb-9402-d57e263a70a3"
   },
   "outputs": [],
   "source": [
    "classifier.fit_one_cycle(3, slice(1e-1/(2.6**4),1e-1), moms=(0.8,0.7))"
   ]
  },
  {
   "cell_type": "code",
   "execution_count": null,
   "metadata": {
    "colab": {},
    "colab_type": "code",
    "id": "ti6yEUSlyd6P"
   },
   "outputs": [],
   "source": [
    "classifier.save('fifth')"
   ]
  },
  {
   "cell_type": "code",
   "execution_count": null,
   "metadata": {
    "colab": {
     "base_uri": "https://localhost:8080/",
     "height": 1000
    },
    "colab_type": "code",
    "id": "3fK8VgQtQuKI",
    "outputId": "100b2b1c-4370-4e47-f4af-946dbee664b8"
   },
   "outputs": [],
   "source": [
    "classifier.load('fifth')"
   ]
  },
  {
   "cell_type": "code",
   "execution_count": null,
   "metadata": {
    "colab": {},
    "colab_type": "code",
    "id": "c2uFzye8Q8aw"
   },
   "outputs": [],
   "source": [
    "classifier.export() # Maybe also try on a new set of schools?"
   ]
  },
  {
   "cell_type": "code",
   "execution_count": null,
   "metadata": {
    "colab": {
     "base_uri": "https://localhost:8080/",
     "height": 51
    },
    "colab_type": "code",
    "id": "cH88LHusygsR",
    "outputId": "959ff490-6314-46d4-c1de-dc22676e53ff"
   },
   "outputs": [],
   "source": [
    "!ls"
   ]
  },
  {
   "cell_type": "code",
   "execution_count": null,
   "metadata": {
    "colab": {
     "base_uri": "https://localhost:8080/",
     "height": 1000
    },
    "colab_type": "code",
    "id": "YBsn9tepyh8P",
    "outputId": "fa84ecf4-5f8e-4343-b94e-0a5d1c7161e7"
   },
   "outputs": [],
   "source": [
    "# Add to print out words that the classifier gains the most info from\n",
    "idx = 4\n",
    "print(classifier.predict(str(classifier.data.valid_ds.x[idx])))\n",
    "txt_ci.show_intrinsic_attention(classifier.data.valid_ds.x[idx],cmap=cm.Purples)"
   ]
  },
  {
   "cell_type": "code",
   "execution_count": null,
   "metadata": {
    "colab": {
     "base_uri": "https://localhost:8080/",
     "height": 37
    },
    "colab_type": "code",
    "id": "WdY_j-8xVkVM",
    "outputId": "c65eb4d9-a197-4315-b799-dce79f214732"
   },
   "outputs": [],
   "source": [
    "from fastai.vision import ClassificationInterpretation\n",
    "interp2 = ClassificationInterpretation.from_learner(learn)\n",
    "interp2.plot_confusion_matrix()"
   ]
  },
  {
   "cell_type": "code",
   "execution_count": null,
   "metadata": {
    "colab": {},
    "colab_type": "code",
    "id": "fMI7Dy84Y1OP"
   },
   "outputs": [],
   "source": []
  }
 ],
 "metadata": {
  "accelerator": "GPU",
  "colab": {
   "collapsed_sections": [],
   "name": "uk-schools-fastai.ipynb",
   "provenance": [],
   "version": "0.3.2"
  },
  "kernelspec": {
   "display_name": "Python 3",
   "language": "python",
   "name": "python3"
  },
  "language_info": {
   "codemirror_mode": {
    "name": "ipython",
    "version": 3
   },
   "file_extension": ".py",
   "mimetype": "text/x-python",
   "name": "python",
   "nbconvert_exporter": "python",
   "pygments_lexer": "ipython3",
   "version": "3.7.3"
  }
 },
 "nbformat": 4,
 "nbformat_minor": 1
}
