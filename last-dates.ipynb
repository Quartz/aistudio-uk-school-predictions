{
 "cells": [
  {
   "cell_type": "code",
   "execution_count": 32,
   "metadata": {},
   "outputs": [],
   "source": [
    "import pandas as pd\n",
    "import numpy as np"
   ]
  },
  {
   "cell_type": "code",
   "execution_count": 33,
   "metadata": {},
   "outputs": [],
   "source": [
    "train = pd.read_csv('data/train.csv')\n",
    "test = pd.read_csv('data/test.csv')"
   ]
  },
  {
   "cell_type": "code",
   "execution_count": 34,
   "metadata": {},
   "outputs": [],
   "source": [
    "train = train.drop('Unnamed: 0',axis=1)\n",
    "test = test.drop('Unnamed: 0',axis=1)"
   ]
  },
  {
   "cell_type": "code",
   "execution_count": 35,
   "metadata": {},
   "outputs": [
    {
     "data": {
      "text/html": [
       "<div>\n",
       "<style scoped>\n",
       "    .dataframe tbody tr th:only-of-type {\n",
       "        vertical-align: middle;\n",
       "    }\n",
       "\n",
       "    .dataframe tbody tr th {\n",
       "        vertical-align: top;\n",
       "    }\n",
       "\n",
       "    .dataframe thead th {\n",
       "        text-align: right;\n",
       "    }\n",
       "</style>\n",
       "<table border=\"1\" class=\"dataframe\">\n",
       "  <thead>\n",
       "    <tr style=\"text-align: right;\">\n",
       "      <th></th>\n",
       "      <th>school</th>\n",
       "      <th>text</th>\n",
       "      <th>label</th>\n",
       "      <th>file</th>\n",
       "      <th>date</th>\n",
       "    </tr>\n",
       "  </thead>\n",
       "  <tbody>\n",
       "    <tr>\n",
       "      <th>0</th>\n",
       "      <td>Tweeddale Primary School</td>\n",
       "      <td>Scho...</td>\n",
       "      <td>closed</td>\n",
       "      <td>50055540</td>\n",
       "      <td>15 January 2019</td>\n",
       "    </tr>\n",
       "    <tr>\n",
       "      <th>1</th>\n",
       "      <td>URN: 302140 Closed</td>\n",
       "      <td>for s provision  Uni...</td>\n",
       "      <td>closed</td>\n",
       "      <td>1415927</td>\n",
       "      <td>25 November 2014</td>\n",
       "    </tr>\n",
       "    <tr>\n",
       "      <th>2</th>\n",
       "      <td>Pepe &amp; Friends</td>\n",
       "      <td>Pepe   Friends...</td>\n",
       "      <td>closed</td>\n",
       "      <td>50070828</td>\n",
       "      <td>21 May 2019</td>\n",
       "    </tr>\n",
       "    <tr>\n",
       "      <th>3</th>\n",
       "      <td>Pepe &amp; Friends</td>\n",
       "      <td>Pepe   Friends...</td>\n",
       "      <td>closed</td>\n",
       "      <td>50040089</td>\n",
       "      <td>20 March 2019</td>\n",
       "    </tr>\n",
       "    <tr>\n",
       "      <th>4</th>\n",
       "      <td>Pepe &amp; Friends</td>\n",
       "      <td>...</td>\n",
       "      <td>closed</td>\n",
       "      <td>2779003</td>\n",
       "      <td>11 October 2018</td>\n",
       "    </tr>\n",
       "  </tbody>\n",
       "</table>\n",
       "</div>"
      ],
      "text/plain": [
       "                     school  \\\n",
       "0  Tweeddale Primary School   \n",
       "1        URN: 302140 Closed   \n",
       "2            Pepe & Friends   \n",
       "3            Pepe & Friends   \n",
       "4            Pepe & Friends   \n",
       "\n",
       "                                                text   label      file  \\\n",
       "0                                            Scho...  closed  50055540   \n",
       "1                            for s provision  Uni...  closed   1415927   \n",
       "2                                  Pepe   Friends...  closed  50070828   \n",
       "3                                  Pepe   Friends...  closed  50040089   \n",
       "4                                                ...  closed   2779003   \n",
       "\n",
       "               date  \n",
       "0   15 January 2019  \n",
       "1  25 November 2014  \n",
       "2       21 May 2019  \n",
       "3     20 March 2019  \n",
       "4   11 October 2018  "
      ]
     },
     "execution_count": 35,
     "metadata": {},
     "output_type": "execute_result"
    }
   ],
   "source": [
    "train.head()"
   ]
  },
  {
   "cell_type": "code",
   "execution_count": 36,
   "metadata": {},
   "outputs": [
    {
     "data": {
      "text/html": [
       "<div>\n",
       "<style scoped>\n",
       "    .dataframe tbody tr th:only-of-type {\n",
       "        vertical-align: middle;\n",
       "    }\n",
       "\n",
       "    .dataframe tbody tr th {\n",
       "        vertical-align: top;\n",
       "    }\n",
       "\n",
       "    .dataframe thead th {\n",
       "        text-align: right;\n",
       "    }\n",
       "</style>\n",
       "<table border=\"1\" class=\"dataframe\">\n",
       "  <thead>\n",
       "    <tr style=\"text-align: right;\">\n",
       "      <th></th>\n",
       "      <th>school</th>\n",
       "      <th>text</th>\n",
       "      <th>label</th>\n",
       "      <th>file</th>\n",
       "      <th>date</th>\n",
       "    </tr>\n",
       "  </thead>\n",
       "  <tbody>\n",
       "    <tr>\n",
       "      <th>0</th>\n",
       "      <td>Loganberries Childcare And Tutoring Closed</td>\n",
       "      <td>...</td>\n",
       "      <td>closed</td>\n",
       "      <td>2566925</td>\n",
       "      <td></td>\n",
       "    </tr>\n",
       "    <tr>\n",
       "      <th>1</th>\n",
       "      <td>Dovedale Before and After School Club Closed</td>\n",
       "      <td>...</td>\n",
       "      <td>closed</td>\n",
       "      <td>2669737</td>\n",
       "      <td></td>\n",
       "    </tr>\n",
       "    <tr>\n",
       "      <th>2</th>\n",
       "      <td>Cottonstones Pre-School Playgroup Closed</td>\n",
       "      <td>Unt...</td>\n",
       "      <td>closed</td>\n",
       "      <td>1095087</td>\n",
       "      <td>07 July 2010</td>\n",
       "    </tr>\n",
       "    <tr>\n",
       "      <th>3</th>\n",
       "      <td>St Mary and St John Junior and Infant School C...</td>\n",
       "      <td>Scho...</td>\n",
       "      <td>closed</td>\n",
       "      <td>2686395</td>\n",
       "      <td>09 October 2018</td>\n",
       "    </tr>\n",
       "    <tr>\n",
       "      <th>4</th>\n",
       "      <td>St Mary and St John Junior and Infant School C...</td>\n",
       "      <td>Unt...</td>\n",
       "      <td>closed</td>\n",
       "      <td>879089</td>\n",
       "      <td>07 April 2011</td>\n",
       "    </tr>\n",
       "  </tbody>\n",
       "</table>\n",
       "</div>"
      ],
      "text/plain": [
       "                                              school  \\\n",
       "0         Loganberries Childcare And Tutoring Closed   \n",
       "1       Dovedale Before and After School Club Closed   \n",
       "2           Cottonstones Pre-School Playgroup Closed   \n",
       "3  St Mary and St John Junior and Infant School C...   \n",
       "4  St Mary and St John Junior and Infant School C...   \n",
       "\n",
       "                                                text   label     file  \\\n",
       "0                                                ...  closed  2566925   \n",
       "1                                                ...  closed  2669737   \n",
       "2                                             Unt...  closed  1095087   \n",
       "3                                            Scho...  closed  2686395   \n",
       "4                                             Unt...  closed   879089   \n",
       "\n",
       "              date  \n",
       "0                   \n",
       "1                   \n",
       "2     07 July 2010  \n",
       "3  09 October 2018  \n",
       "4    07 April 2011  "
      ]
     },
     "execution_count": 36,
     "metadata": {},
     "output_type": "execute_result"
    }
   ],
   "source": [
    "test.head()"
   ]
  },
  {
   "cell_type": "code",
   "execution_count": 37,
   "metadata": {},
   "outputs": [],
   "source": [
    "df = pd.concat([train,test])"
   ]
  },
  {
   "cell_type": "code",
   "execution_count": 39,
   "metadata": {},
   "outputs": [
    {
     "data": {
      "text/plain": [
       "105506"
      ]
     },
     "execution_count": 39,
     "metadata": {},
     "output_type": "execute_result"
    }
   ],
   "source": [
    "len(df[df.label == 'closed'])"
   ]
  },
  {
   "cell_type": "code",
   "execution_count": 40,
   "metadata": {},
   "outputs": [
    {
     "data": {
      "text/plain": [
       "280864"
      ]
     },
     "execution_count": 40,
     "metadata": {},
     "output_type": "execute_result"
    }
   ],
   "source": [
    "len(df[df.label == 'open'])"
   ]
  },
  {
   "cell_type": "code",
   "execution_count": 42,
   "metadata": {},
   "outputs": [
    {
     "data": {
      "text/plain": [
       "106"
      ]
     },
     "execution_count": 42,
     "metadata": {},
     "output_type": "execute_result"
    }
   ],
   "source": [
    "len(df[df.label == 'open']['school'].unique())"
   ]
  },
  {
   "cell_type": "code",
   "execution_count": 43,
   "metadata": {},
   "outputs": [
    {
     "data": {
      "text/plain": [
       "33506"
      ]
     },
     "execution_count": 43,
     "metadata": {},
     "output_type": "execute_result"
    }
   ],
   "source": [
    "len(df[df.label == 'closed']['school'].unique())"
   ]
  },
  {
   "cell_type": "code",
   "execution_count": 44,
   "metadata": {},
   "outputs": [
    {
     "data": {
      "text/html": [
       "<div>\n",
       "<style scoped>\n",
       "    .dataframe tbody tr th:only-of-type {\n",
       "        vertical-align: middle;\n",
       "    }\n",
       "\n",
       "    .dataframe tbody tr th {\n",
       "        vertical-align: top;\n",
       "    }\n",
       "\n",
       "    .dataframe thead th {\n",
       "        text-align: right;\n",
       "    }\n",
       "</style>\n",
       "<table border=\"1\" class=\"dataframe\">\n",
       "  <thead>\n",
       "    <tr style=\"text-align: right;\">\n",
       "      <th></th>\n",
       "      <th>school</th>\n",
       "      <th>text</th>\n",
       "      <th>label</th>\n",
       "      <th>file</th>\n",
       "      <th>date</th>\n",
       "    </tr>\n",
       "  </thead>\n",
       "  <tbody>\n",
       "    <tr>\n",
       "      <th>23002</th>\n",
       "      <td>Methodist School</td>\n",
       "      <td>School report      The Wainfleet Magdalen Chu...</td>\n",
       "      <td>open</td>\n",
       "      <td>2655833</td>\n",
       "      <td>07 February 2017</td>\n",
       "    </tr>\n",
       "    <tr>\n",
       "      <th>23003</th>\n",
       "      <td>Methodist School</td>\n",
       "      <td>School report      The Wainfleet Magdalen Chu...</td>\n",
       "      <td>open</td>\n",
       "      <td>2655833</td>\n",
       "      <td>07 February 2017</td>\n",
       "    </tr>\n",
       "    <tr>\n",
       "      <th>23004</th>\n",
       "      <td>Methodist School</td>\n",
       "      <td>School report      The Wainfleet Magdalen Chu...</td>\n",
       "      <td>open</td>\n",
       "      <td>2655833</td>\n",
       "      <td>07 February 2017</td>\n",
       "    </tr>\n",
       "    <tr>\n",
       "      <th>23005</th>\n",
       "      <td>Methodist School</td>\n",
       "      <td>School report      The Wainfleet Magdalen Chu...</td>\n",
       "      <td>open</td>\n",
       "      <td>2655833</td>\n",
       "      <td>07 February 2017</td>\n",
       "    </tr>\n",
       "    <tr>\n",
       "      <th>23006</th>\n",
       "      <td>Methodist School</td>\n",
       "      <td>School report      The Wainfleet Magdalen Chu...</td>\n",
       "      <td>open</td>\n",
       "      <td>2655833</td>\n",
       "      <td>07 February 2017</td>\n",
       "    </tr>\n",
       "    <tr>\n",
       "      <th>23007</th>\n",
       "      <td>Methodist School</td>\n",
       "      <td>School report      The Wainfleet Magdalen Chu...</td>\n",
       "      <td>open</td>\n",
       "      <td>2655833</td>\n",
       "      <td>07 February 2017</td>\n",
       "    </tr>\n",
       "    <tr>\n",
       "      <th>23008</th>\n",
       "      <td>Methodist School</td>\n",
       "      <td>School report      The Wainfleet Magdalen Chu...</td>\n",
       "      <td>open</td>\n",
       "      <td>2655833</td>\n",
       "      <td>07 February 2017</td>\n",
       "    </tr>\n",
       "    <tr>\n",
       "      <th>23009</th>\n",
       "      <td>Methodist School</td>\n",
       "      <td>School report      The Wainfleet Magdalen Chu...</td>\n",
       "      <td>open</td>\n",
       "      <td>2655833</td>\n",
       "      <td>07 February 2017</td>\n",
       "    </tr>\n",
       "    <tr>\n",
       "      <th>23010</th>\n",
       "      <td>Methodist School</td>\n",
       "      <td>School report      The Wainfleet Magdalen Chu...</td>\n",
       "      <td>open</td>\n",
       "      <td>2655833</td>\n",
       "      <td>07 February 2017</td>\n",
       "    </tr>\n",
       "    <tr>\n",
       "      <th>23011</th>\n",
       "      <td>Methodist School</td>\n",
       "      <td>School report      The Wainfleet Magdalen Chu...</td>\n",
       "      <td>open</td>\n",
       "      <td>2655833</td>\n",
       "      <td>07 February 2017</td>\n",
       "    </tr>\n",
       "    <tr>\n",
       "      <th>23012</th>\n",
       "      <td>Methodist School</td>\n",
       "      <td>School report      The Wainfleet Magdalen Chu...</td>\n",
       "      <td>open</td>\n",
       "      <td>2655833</td>\n",
       "      <td>07 February 2017</td>\n",
       "    </tr>\n",
       "    <tr>\n",
       "      <th>23013</th>\n",
       "      <td>Methodist School</td>\n",
       "      <td>School report      The Wainfleet Magdalen Chu...</td>\n",
       "      <td>open</td>\n",
       "      <td>2655833</td>\n",
       "      <td>07 February 2017</td>\n",
       "    </tr>\n",
       "    <tr>\n",
       "      <th>23014</th>\n",
       "      <td>Methodist School</td>\n",
       "      <td>School report      The Wainfleet Magdalen Chu...</td>\n",
       "      <td>open</td>\n",
       "      <td>2655833</td>\n",
       "      <td>07 February 2017</td>\n",
       "    </tr>\n",
       "    <tr>\n",
       "      <th>23015</th>\n",
       "      <td>Methodist School</td>\n",
       "      <td>School report      The Wainfleet Magdalen Chu...</td>\n",
       "      <td>open</td>\n",
       "      <td>2655833</td>\n",
       "      <td>07 February 2017</td>\n",
       "    </tr>\n",
       "    <tr>\n",
       "      <th>23016</th>\n",
       "      <td>Methodist School</td>\n",
       "      <td>School report      The Wainfleet Magdalen Chu...</td>\n",
       "      <td>open</td>\n",
       "      <td>2655833</td>\n",
       "      <td>07 February 2017</td>\n",
       "    </tr>\n",
       "    <tr>\n",
       "      <th>23017</th>\n",
       "      <td>Methodist School</td>\n",
       "      <td>School report      The Wainfleet Magdalen Chu...</td>\n",
       "      <td>open</td>\n",
       "      <td>2655833</td>\n",
       "      <td>07 February 2017</td>\n",
       "    </tr>\n",
       "    <tr>\n",
       "      <th>23018</th>\n",
       "      <td>Methodist School</td>\n",
       "      <td>School report      The Wainfleet Magdalen Chu...</td>\n",
       "      <td>open</td>\n",
       "      <td>2655833</td>\n",
       "      <td>07 February 2017</td>\n",
       "    </tr>\n",
       "    <tr>\n",
       "      <th>23019</th>\n",
       "      <td>Methodist School</td>\n",
       "      <td>School report      The Wainfleet Magdalen Chu...</td>\n",
       "      <td>open</td>\n",
       "      <td>2655833</td>\n",
       "      <td>07 February 2017</td>\n",
       "    </tr>\n",
       "    <tr>\n",
       "      <th>23020</th>\n",
       "      <td>Methodist School</td>\n",
       "      <td>School report      The Wainfleet Magdalen Chu...</td>\n",
       "      <td>open</td>\n",
       "      <td>2655833</td>\n",
       "      <td>07 February 2017</td>\n",
       "    </tr>\n",
       "    <tr>\n",
       "      <th>23021</th>\n",
       "      <td>Methodist School</td>\n",
       "      <td>School report      The Wainfleet Magdalen Chu...</td>\n",
       "      <td>open</td>\n",
       "      <td>2655833</td>\n",
       "      <td>07 February 2017</td>\n",
       "    </tr>\n",
       "    <tr>\n",
       "      <th>23022</th>\n",
       "      <td>Methodist School</td>\n",
       "      <td>School report      The Wainfleet Magdalen Chu...</td>\n",
       "      <td>open</td>\n",
       "      <td>2655833</td>\n",
       "      <td>07 February 2017</td>\n",
       "    </tr>\n",
       "    <tr>\n",
       "      <th>23023</th>\n",
       "      <td>Methodist School</td>\n",
       "      <td>School report      The Wainfleet Magdalen Chu...</td>\n",
       "      <td>open</td>\n",
       "      <td>2655833</td>\n",
       "      <td>07 February 2017</td>\n",
       "    </tr>\n",
       "    <tr>\n",
       "      <th>23024</th>\n",
       "      <td>Methodist School</td>\n",
       "      <td>School report      The Wainfleet Magdalen Chu...</td>\n",
       "      <td>open</td>\n",
       "      <td>2655833</td>\n",
       "      <td>07 February 2017</td>\n",
       "    </tr>\n",
       "    <tr>\n",
       "      <th>23025</th>\n",
       "      <td>Methodist School</td>\n",
       "      <td>School report      The Wainfleet Magdalen Chu...</td>\n",
       "      <td>open</td>\n",
       "      <td>2655833</td>\n",
       "      <td>07 February 2017</td>\n",
       "    </tr>\n",
       "    <tr>\n",
       "      <th>23026</th>\n",
       "      <td>Methodist School</td>\n",
       "      <td>School report      The Wainfleet Magdalen Chu...</td>\n",
       "      <td>open</td>\n",
       "      <td>2655833</td>\n",
       "      <td>07 February 2017</td>\n",
       "    </tr>\n",
       "    <tr>\n",
       "      <th>23027</th>\n",
       "      <td>Methodist School</td>\n",
       "      <td>School report      The Wainfleet Magdalen Chu...</td>\n",
       "      <td>open</td>\n",
       "      <td>2655833</td>\n",
       "      <td>07 February 2017</td>\n",
       "    </tr>\n",
       "    <tr>\n",
       "      <th>23028</th>\n",
       "      <td>Methodist School</td>\n",
       "      <td>School report      The Wainfleet Magdalen Chu...</td>\n",
       "      <td>open</td>\n",
       "      <td>2655833</td>\n",
       "      <td>07 February 2017</td>\n",
       "    </tr>\n",
       "    <tr>\n",
       "      <th>23029</th>\n",
       "      <td>Methodist School</td>\n",
       "      <td>School report      The Wainfleet Magdalen Chu...</td>\n",
       "      <td>open</td>\n",
       "      <td>2655833</td>\n",
       "      <td>07 February 2017</td>\n",
       "    </tr>\n",
       "    <tr>\n",
       "      <th>23030</th>\n",
       "      <td>Methodist School</td>\n",
       "      <td>School report      The Wainfleet Magdalen Chu...</td>\n",
       "      <td>open</td>\n",
       "      <td>2655833</td>\n",
       "      <td>07 February 2017</td>\n",
       "    </tr>\n",
       "    <tr>\n",
       "      <th>23031</th>\n",
       "      <td>Methodist School</td>\n",
       "      <td>School report      The Wainfleet Magdalen Chu...</td>\n",
       "      <td>open</td>\n",
       "      <td>2655833</td>\n",
       "      <td>07 February 2017</td>\n",
       "    </tr>\n",
       "    <tr>\n",
       "      <th>...</th>\n",
       "      <td>...</td>\n",
       "      <td>...</td>\n",
       "      <td>...</td>\n",
       "      <td>...</td>\n",
       "      <td>...</td>\n",
       "    </tr>\n",
       "    <tr>\n",
       "      <th>77619</th>\n",
       "      <td>Holiday Club</td>\n",
       "      <td>Kidscape Breakfast After School Holiday Cl...</td>\n",
       "      <td>open</td>\n",
       "      <td>2590089</td>\n",
       "      <td>28 July 2016</td>\n",
       "    </tr>\n",
       "    <tr>\n",
       "      <th>77620</th>\n",
       "      <td>Holiday Club</td>\n",
       "      <td>Kidscape Breakfast After School Holiday Cl...</td>\n",
       "      <td>open</td>\n",
       "      <td>2590089</td>\n",
       "      <td>28 July 2016</td>\n",
       "    </tr>\n",
       "    <tr>\n",
       "      <th>77621</th>\n",
       "      <td>Holiday Club</td>\n",
       "      <td>Kidscape Breakfast After School Holiday Cl...</td>\n",
       "      <td>open</td>\n",
       "      <td>2590089</td>\n",
       "      <td>28 July 2016</td>\n",
       "    </tr>\n",
       "    <tr>\n",
       "      <th>77622</th>\n",
       "      <td>Holiday Club</td>\n",
       "      <td>Kidscape Breakfast After School Holiday Cl...</td>\n",
       "      <td>open</td>\n",
       "      <td>2590089</td>\n",
       "      <td>28 July 2016</td>\n",
       "    </tr>\n",
       "    <tr>\n",
       "      <th>77623</th>\n",
       "      <td>Holiday Club</td>\n",
       "      <td>Kidscape Breakfast After School Holiday Cl...</td>\n",
       "      <td>open</td>\n",
       "      <td>2590089</td>\n",
       "      <td>28 July 2016</td>\n",
       "    </tr>\n",
       "    <tr>\n",
       "      <th>77624</th>\n",
       "      <td>Holiday Club</td>\n",
       "      <td>Kidscape Breakfast After School Holiday Cl...</td>\n",
       "      <td>open</td>\n",
       "      <td>2590089</td>\n",
       "      <td>28 July 2016</td>\n",
       "    </tr>\n",
       "    <tr>\n",
       "      <th>77625</th>\n",
       "      <td>Holiday Club</td>\n",
       "      <td>Kidscape Breakfast After School Holiday Cl...</td>\n",
       "      <td>open</td>\n",
       "      <td>2590089</td>\n",
       "      <td>28 July 2016</td>\n",
       "    </tr>\n",
       "    <tr>\n",
       "      <th>77626</th>\n",
       "      <td>Holiday Club</td>\n",
       "      <td>Kidscape Breakfast After School Holiday Cl...</td>\n",
       "      <td>open</td>\n",
       "      <td>2590089</td>\n",
       "      <td>28 July 2016</td>\n",
       "    </tr>\n",
       "    <tr>\n",
       "      <th>77627</th>\n",
       "      <td>Holiday Club</td>\n",
       "      <td>Kidscape Breakfast After School Holiday Cl...</td>\n",
       "      <td>open</td>\n",
       "      <td>2590089</td>\n",
       "      <td>28 July 2016</td>\n",
       "    </tr>\n",
       "    <tr>\n",
       "      <th>77628</th>\n",
       "      <td>Holiday Club</td>\n",
       "      <td>Kidscape Breakfast After School Holiday Cl...</td>\n",
       "      <td>open</td>\n",
       "      <td>2590089</td>\n",
       "      <td>28 July 2016</td>\n",
       "    </tr>\n",
       "    <tr>\n",
       "      <th>77629</th>\n",
       "      <td>Holiday Club</td>\n",
       "      <td>Kidscape Breakfast After School Holiday Cl...</td>\n",
       "      <td>open</td>\n",
       "      <td>2590089</td>\n",
       "      <td>28 July 2016</td>\n",
       "    </tr>\n",
       "    <tr>\n",
       "      <th>77630</th>\n",
       "      <td>Holiday Club</td>\n",
       "      <td>Kidscape Breakfast After School Holiday Cl...</td>\n",
       "      <td>open</td>\n",
       "      <td>2590089</td>\n",
       "      <td>28 July 2016</td>\n",
       "    </tr>\n",
       "    <tr>\n",
       "      <th>77631</th>\n",
       "      <td>Holiday Club</td>\n",
       "      <td>Kidscape Breakfast After School Holiday Cl...</td>\n",
       "      <td>open</td>\n",
       "      <td>2590089</td>\n",
       "      <td>28 July 2016</td>\n",
       "    </tr>\n",
       "    <tr>\n",
       "      <th>77632</th>\n",
       "      <td>Holiday Club</td>\n",
       "      <td>Kidscape Breakfast After School Holiday Cl...</td>\n",
       "      <td>open</td>\n",
       "      <td>2590089</td>\n",
       "      <td>28 July 2016</td>\n",
       "    </tr>\n",
       "    <tr>\n",
       "      <th>77633</th>\n",
       "      <td>Holiday Club</td>\n",
       "      <td>Kidscape Breakfast After School Holiday Cl...</td>\n",
       "      <td>open</td>\n",
       "      <td>2590089</td>\n",
       "      <td>28 July 2016</td>\n",
       "    </tr>\n",
       "    <tr>\n",
       "      <th>77634</th>\n",
       "      <td>Holiday Club</td>\n",
       "      <td>Kidscape Breakfast After School Holiday Cl...</td>\n",
       "      <td>open</td>\n",
       "      <td>2590089</td>\n",
       "      <td>28 July 2016</td>\n",
       "    </tr>\n",
       "    <tr>\n",
       "      <th>77635</th>\n",
       "      <td>Holiday Club</td>\n",
       "      <td>Kidscape Breakfast After School Holiday Cl...</td>\n",
       "      <td>open</td>\n",
       "      <td>2590089</td>\n",
       "      <td>28 July 2016</td>\n",
       "    </tr>\n",
       "    <tr>\n",
       "      <th>77636</th>\n",
       "      <td>Holiday Club</td>\n",
       "      <td>Kidscape Breakfast After School Holiday Cl...</td>\n",
       "      <td>open</td>\n",
       "      <td>2590089</td>\n",
       "      <td>28 July 2016</td>\n",
       "    </tr>\n",
       "    <tr>\n",
       "      <th>77637</th>\n",
       "      <td>Holiday Club</td>\n",
       "      <td>Kidscape Breakfast After School Holiday Cl...</td>\n",
       "      <td>open</td>\n",
       "      <td>2590089</td>\n",
       "      <td>28 July 2016</td>\n",
       "    </tr>\n",
       "    <tr>\n",
       "      <th>77638</th>\n",
       "      <td>Holiday Club</td>\n",
       "      <td>Kidscape Breakfast After School Holiday Cl...</td>\n",
       "      <td>open</td>\n",
       "      <td>2590089</td>\n",
       "      <td>28 July 2016</td>\n",
       "    </tr>\n",
       "    <tr>\n",
       "      <th>77639</th>\n",
       "      <td>Holiday Club</td>\n",
       "      <td>Kidscape Breakfast After School Holiday Cl...</td>\n",
       "      <td>open</td>\n",
       "      <td>2590089</td>\n",
       "      <td>28 July 2016</td>\n",
       "    </tr>\n",
       "    <tr>\n",
       "      <th>77640</th>\n",
       "      <td>Holiday Club</td>\n",
       "      <td>Kidscape Breakfast After School Holiday Cl...</td>\n",
       "      <td>open</td>\n",
       "      <td>2590089</td>\n",
       "      <td>28 July 2016</td>\n",
       "    </tr>\n",
       "    <tr>\n",
       "      <th>77641</th>\n",
       "      <td>Holiday Club</td>\n",
       "      <td>Kidscape Breakfast After School Holiday Cl...</td>\n",
       "      <td>open</td>\n",
       "      <td>2590089</td>\n",
       "      <td>28 July 2016</td>\n",
       "    </tr>\n",
       "    <tr>\n",
       "      <th>77642</th>\n",
       "      <td>Holiday Club</td>\n",
       "      <td>Kidscape Breakfast After School Holiday Cl...</td>\n",
       "      <td>open</td>\n",
       "      <td>2590089</td>\n",
       "      <td>28 July 2016</td>\n",
       "    </tr>\n",
       "    <tr>\n",
       "      <th>77643</th>\n",
       "      <td>Holiday Club</td>\n",
       "      <td>Kidscape Breakfast After School Holiday Cl...</td>\n",
       "      <td>open</td>\n",
       "      <td>2590089</td>\n",
       "      <td>28 July 2016</td>\n",
       "    </tr>\n",
       "    <tr>\n",
       "      <th>77644</th>\n",
       "      <td>Holiday Club</td>\n",
       "      <td>Kidscape Breakfast After School Holiday Cl...</td>\n",
       "      <td>open</td>\n",
       "      <td>2590089</td>\n",
       "      <td>28 July 2016</td>\n",
       "    </tr>\n",
       "    <tr>\n",
       "      <th>77645</th>\n",
       "      <td>Holiday Club</td>\n",
       "      <td>Kidscape Breakfast After School Holiday Cl...</td>\n",
       "      <td>open</td>\n",
       "      <td>2590089</td>\n",
       "      <td>28 July 2016</td>\n",
       "    </tr>\n",
       "    <tr>\n",
       "      <th>77646</th>\n",
       "      <td>Holiday Club</td>\n",
       "      <td>Kidscape Breakfast After School Holiday Cl...</td>\n",
       "      <td>open</td>\n",
       "      <td>2590089</td>\n",
       "      <td>28 July 2016</td>\n",
       "    </tr>\n",
       "    <tr>\n",
       "      <th>77647</th>\n",
       "      <td>Holiday Club</td>\n",
       "      <td>Kidscape Breakfast After School Holiday Cl...</td>\n",
       "      <td>open</td>\n",
       "      <td>2590089</td>\n",
       "      <td>28 July 2016</td>\n",
       "    </tr>\n",
       "    <tr>\n",
       "      <th>77648</th>\n",
       "      <td>Holiday Club</td>\n",
       "      <td>Kidscape Breakfast After School Holiday Cl...</td>\n",
       "      <td>open</td>\n",
       "      <td>2590089</td>\n",
       "      <td>28 July 2016</td>\n",
       "    </tr>\n",
       "  </tbody>\n",
       "</table>\n",
       "<p>280864 rows × 5 columns</p>\n",
       "</div>"
      ],
      "text/plain": [
       "                 school                                               text  \\\n",
       "23002  Methodist School   School report      The Wainfleet Magdalen Chu...   \n",
       "23003  Methodist School   School report      The Wainfleet Magdalen Chu...   \n",
       "23004  Methodist School   School report      The Wainfleet Magdalen Chu...   \n",
       "23005  Methodist School   School report      The Wainfleet Magdalen Chu...   \n",
       "23006  Methodist School   School report      The Wainfleet Magdalen Chu...   \n",
       "23007  Methodist School   School report      The Wainfleet Magdalen Chu...   \n",
       "23008  Methodist School   School report      The Wainfleet Magdalen Chu...   \n",
       "23009  Methodist School   School report      The Wainfleet Magdalen Chu...   \n",
       "23010  Methodist School   School report      The Wainfleet Magdalen Chu...   \n",
       "23011  Methodist School   School report      The Wainfleet Magdalen Chu...   \n",
       "23012  Methodist School   School report      The Wainfleet Magdalen Chu...   \n",
       "23013  Methodist School   School report      The Wainfleet Magdalen Chu...   \n",
       "23014  Methodist School   School report      The Wainfleet Magdalen Chu...   \n",
       "23015  Methodist School   School report      The Wainfleet Magdalen Chu...   \n",
       "23016  Methodist School   School report      The Wainfleet Magdalen Chu...   \n",
       "23017  Methodist School   School report      The Wainfleet Magdalen Chu...   \n",
       "23018  Methodist School   School report      The Wainfleet Magdalen Chu...   \n",
       "23019  Methodist School   School report      The Wainfleet Magdalen Chu...   \n",
       "23020  Methodist School   School report      The Wainfleet Magdalen Chu...   \n",
       "23021  Methodist School   School report      The Wainfleet Magdalen Chu...   \n",
       "23022  Methodist School   School report      The Wainfleet Magdalen Chu...   \n",
       "23023  Methodist School   School report      The Wainfleet Magdalen Chu...   \n",
       "23024  Methodist School   School report      The Wainfleet Magdalen Chu...   \n",
       "23025  Methodist School   School report      The Wainfleet Magdalen Chu...   \n",
       "23026  Methodist School   School report      The Wainfleet Magdalen Chu...   \n",
       "23027  Methodist School   School report      The Wainfleet Magdalen Chu...   \n",
       "23028  Methodist School   School report      The Wainfleet Magdalen Chu...   \n",
       "23029  Methodist School   School report      The Wainfleet Magdalen Chu...   \n",
       "23030  Methodist School   School report      The Wainfleet Magdalen Chu...   \n",
       "23031  Methodist School   School report      The Wainfleet Magdalen Chu...   \n",
       "...                 ...                                                ...   \n",
       "77619      Holiday Club      Kidscape Breakfast After School Holiday Cl...   \n",
       "77620      Holiday Club      Kidscape Breakfast After School Holiday Cl...   \n",
       "77621      Holiday Club      Kidscape Breakfast After School Holiday Cl...   \n",
       "77622      Holiday Club      Kidscape Breakfast After School Holiday Cl...   \n",
       "77623      Holiday Club      Kidscape Breakfast After School Holiday Cl...   \n",
       "77624      Holiday Club      Kidscape Breakfast After School Holiday Cl...   \n",
       "77625      Holiday Club      Kidscape Breakfast After School Holiday Cl...   \n",
       "77626      Holiday Club      Kidscape Breakfast After School Holiday Cl...   \n",
       "77627      Holiday Club      Kidscape Breakfast After School Holiday Cl...   \n",
       "77628      Holiday Club      Kidscape Breakfast After School Holiday Cl...   \n",
       "77629      Holiday Club      Kidscape Breakfast After School Holiday Cl...   \n",
       "77630      Holiday Club      Kidscape Breakfast After School Holiday Cl...   \n",
       "77631      Holiday Club      Kidscape Breakfast After School Holiday Cl...   \n",
       "77632      Holiday Club      Kidscape Breakfast After School Holiday Cl...   \n",
       "77633      Holiday Club      Kidscape Breakfast After School Holiday Cl...   \n",
       "77634      Holiday Club      Kidscape Breakfast After School Holiday Cl...   \n",
       "77635      Holiday Club      Kidscape Breakfast After School Holiday Cl...   \n",
       "77636      Holiday Club      Kidscape Breakfast After School Holiday Cl...   \n",
       "77637      Holiday Club      Kidscape Breakfast After School Holiday Cl...   \n",
       "77638      Holiday Club      Kidscape Breakfast After School Holiday Cl...   \n",
       "77639      Holiday Club      Kidscape Breakfast After School Holiday Cl...   \n",
       "77640      Holiday Club      Kidscape Breakfast After School Holiday Cl...   \n",
       "77641      Holiday Club      Kidscape Breakfast After School Holiday Cl...   \n",
       "77642      Holiday Club      Kidscape Breakfast After School Holiday Cl...   \n",
       "77643      Holiday Club      Kidscape Breakfast After School Holiday Cl...   \n",
       "77644      Holiday Club      Kidscape Breakfast After School Holiday Cl...   \n",
       "77645      Holiday Club      Kidscape Breakfast After School Holiday Cl...   \n",
       "77646      Holiday Club      Kidscape Breakfast After School Holiday Cl...   \n",
       "77647      Holiday Club      Kidscape Breakfast After School Holiday Cl...   \n",
       "77648      Holiday Club      Kidscape Breakfast After School Holiday Cl...   \n",
       "\n",
       "      label     file              date  \n",
       "23002  open  2655833  07 February 2017  \n",
       "23003  open  2655833  07 February 2017  \n",
       "23004  open  2655833  07 February 2017  \n",
       "23005  open  2655833  07 February 2017  \n",
       "23006  open  2655833  07 February 2017  \n",
       "23007  open  2655833  07 February 2017  \n",
       "23008  open  2655833  07 February 2017  \n",
       "23009  open  2655833  07 February 2017  \n",
       "23010  open  2655833  07 February 2017  \n",
       "23011  open  2655833  07 February 2017  \n",
       "23012  open  2655833  07 February 2017  \n",
       "23013  open  2655833  07 February 2017  \n",
       "23014  open  2655833  07 February 2017  \n",
       "23015  open  2655833  07 February 2017  \n",
       "23016  open  2655833  07 February 2017  \n",
       "23017  open  2655833  07 February 2017  \n",
       "23018  open  2655833  07 February 2017  \n",
       "23019  open  2655833  07 February 2017  \n",
       "23020  open  2655833  07 February 2017  \n",
       "23021  open  2655833  07 February 2017  \n",
       "23022  open  2655833  07 February 2017  \n",
       "23023  open  2655833  07 February 2017  \n",
       "23024  open  2655833  07 February 2017  \n",
       "23025  open  2655833  07 February 2017  \n",
       "23026  open  2655833  07 February 2017  \n",
       "23027  open  2655833  07 February 2017  \n",
       "23028  open  2655833  07 February 2017  \n",
       "23029  open  2655833  07 February 2017  \n",
       "23030  open  2655833  07 February 2017  \n",
       "23031  open  2655833  07 February 2017  \n",
       "...     ...      ...               ...  \n",
       "77619  open  2590089      28 July 2016  \n",
       "77620  open  2590089      28 July 2016  \n",
       "77621  open  2590089      28 July 2016  \n",
       "77622  open  2590089      28 July 2016  \n",
       "77623  open  2590089      28 July 2016  \n",
       "77624  open  2590089      28 July 2016  \n",
       "77625  open  2590089      28 July 2016  \n",
       "77626  open  2590089      28 July 2016  \n",
       "77627  open  2590089      28 July 2016  \n",
       "77628  open  2590089      28 July 2016  \n",
       "77629  open  2590089      28 July 2016  \n",
       "77630  open  2590089      28 July 2016  \n",
       "77631  open  2590089      28 July 2016  \n",
       "77632  open  2590089      28 July 2016  \n",
       "77633  open  2590089      28 July 2016  \n",
       "77634  open  2590089      28 July 2016  \n",
       "77635  open  2590089      28 July 2016  \n",
       "77636  open  2590089      28 July 2016  \n",
       "77637  open  2590089      28 July 2016  \n",
       "77638  open  2590089      28 July 2016  \n",
       "77639  open  2590089      28 July 2016  \n",
       "77640  open  2590089      28 July 2016  \n",
       "77641  open  2590089      28 July 2016  \n",
       "77642  open  2590089      28 July 2016  \n",
       "77643  open  2590089      28 July 2016  \n",
       "77644  open  2590089      28 July 2016  \n",
       "77645  open  2590089      28 July 2016  \n",
       "77646  open  2590089      28 July 2016  \n",
       "77647  open  2590089      28 July 2016  \n",
       "77648  open  2590089      28 July 2016  \n",
       "\n",
       "[280864 rows x 5 columns]"
      ]
     },
     "execution_count": 44,
     "metadata": {},
     "output_type": "execute_result"
    }
   ],
   "source": [
    "df[df.label == 'open']"
   ]
  },
  {
   "cell_type": "code",
   "execution_count": 38,
   "metadata": {},
   "outputs": [
    {
     "data": {
      "text/html": [
       "<div>\n",
       "<style scoped>\n",
       "    .dataframe tbody tr th:only-of-type {\n",
       "        vertical-align: middle;\n",
       "    }\n",
       "\n",
       "    .dataframe tbody tr th {\n",
       "        vertical-align: top;\n",
       "    }\n",
       "\n",
       "    .dataframe thead th {\n",
       "        text-align: right;\n",
       "    }\n",
       "</style>\n",
       "<table border=\"1\" class=\"dataframe\">\n",
       "  <thead>\n",
       "    <tr style=\"text-align: right;\">\n",
       "      <th></th>\n",
       "      <th>school</th>\n",
       "      <th>text</th>\n",
       "      <th>label</th>\n",
       "      <th>file</th>\n",
       "      <th>date</th>\n",
       "    </tr>\n",
       "  </thead>\n",
       "  <tbody>\n",
       "    <tr>\n",
       "      <th>0</th>\n",
       "      <td>Tweeddale Primary School</td>\n",
       "      <td>Scho...</td>\n",
       "      <td>closed</td>\n",
       "      <td>50055540</td>\n",
       "      <td>15 January 2019</td>\n",
       "    </tr>\n",
       "    <tr>\n",
       "      <th>1</th>\n",
       "      <td>URN: 302140 Closed</td>\n",
       "      <td>for s provision  Uni...</td>\n",
       "      <td>closed</td>\n",
       "      <td>1415927</td>\n",
       "      <td>25 November 2014</td>\n",
       "    </tr>\n",
       "    <tr>\n",
       "      <th>2</th>\n",
       "      <td>Pepe &amp; Friends</td>\n",
       "      <td>Pepe   Friends...</td>\n",
       "      <td>closed</td>\n",
       "      <td>50070828</td>\n",
       "      <td>21 May 2019</td>\n",
       "    </tr>\n",
       "    <tr>\n",
       "      <th>3</th>\n",
       "      <td>Pepe &amp; Friends</td>\n",
       "      <td>Pepe   Friends...</td>\n",
       "      <td>closed</td>\n",
       "      <td>50040089</td>\n",
       "      <td>20 March 2019</td>\n",
       "    </tr>\n",
       "    <tr>\n",
       "      <th>4</th>\n",
       "      <td>Pepe &amp; Friends</td>\n",
       "      <td>...</td>\n",
       "      <td>closed</td>\n",
       "      <td>2779003</td>\n",
       "      <td>11 October 2018</td>\n",
       "    </tr>\n",
       "  </tbody>\n",
       "</table>\n",
       "</div>"
      ],
      "text/plain": [
       "                     school  \\\n",
       "0  Tweeddale Primary School   \n",
       "1        URN: 302140 Closed   \n",
       "2            Pepe & Friends   \n",
       "3            Pepe & Friends   \n",
       "4            Pepe & Friends   \n",
       "\n",
       "                                                text   label      file  \\\n",
       "0                                            Scho...  closed  50055540   \n",
       "1                            for s provision  Uni...  closed   1415927   \n",
       "2                                  Pepe   Friends...  closed  50070828   \n",
       "3                                  Pepe   Friends...  closed  50040089   \n",
       "4                                                ...  closed   2779003   \n",
       "\n",
       "               date  \n",
       "0   15 January 2019  \n",
       "1  25 November 2014  \n",
       "2       21 May 2019  \n",
       "3     20 March 2019  \n",
       "4   11 October 2018  "
      ]
     },
     "execution_count": 38,
     "metadata": {},
     "output_type": "execute_result"
    }
   ],
   "source": [
    "df.head()"
   ]
  },
  {
   "cell_type": "code",
   "execution_count": 10,
   "metadata": {},
   "outputs": [],
   "source": [
    "df = df[pd.notnull(df['date'])]"
   ]
  },
  {
   "cell_type": "code",
   "execution_count": 11,
   "metadata": {},
   "outputs": [
    {
     "data": {
      "text/html": [
       "<div>\n",
       "<style scoped>\n",
       "    .dataframe tbody tr th:only-of-type {\n",
       "        vertical-align: middle;\n",
       "    }\n",
       "\n",
       "    .dataframe tbody tr th {\n",
       "        vertical-align: top;\n",
       "    }\n",
       "\n",
       "    .dataframe thead th {\n",
       "        text-align: right;\n",
       "    }\n",
       "</style>\n",
       "<table border=\"1\" class=\"dataframe\">\n",
       "  <thead>\n",
       "    <tr style=\"text-align: right;\">\n",
       "      <th></th>\n",
       "      <th>school</th>\n",
       "      <th>text</th>\n",
       "      <th>label</th>\n",
       "      <th>file</th>\n",
       "      <th>date</th>\n",
       "    </tr>\n",
       "  </thead>\n",
       "  <tbody>\n",
       "    <tr>\n",
       "      <th>0</th>\n",
       "      <td>Tweeddale Primary School</td>\n",
       "      <td>Scho...</td>\n",
       "      <td>closed</td>\n",
       "      <td>50055540</td>\n",
       "      <td>15 January 2019</td>\n",
       "    </tr>\n",
       "    <tr>\n",
       "      <th>1</th>\n",
       "      <td>URN: 302140 Closed</td>\n",
       "      <td>for s provision  Uni...</td>\n",
       "      <td>closed</td>\n",
       "      <td>1415927</td>\n",
       "      <td>25 November 2014</td>\n",
       "    </tr>\n",
       "    <tr>\n",
       "      <th>2</th>\n",
       "      <td>Pepe &amp; Friends</td>\n",
       "      <td>Pepe   Friends...</td>\n",
       "      <td>closed</td>\n",
       "      <td>50070828</td>\n",
       "      <td>21 May 2019</td>\n",
       "    </tr>\n",
       "    <tr>\n",
       "      <th>3</th>\n",
       "      <td>Pepe &amp; Friends</td>\n",
       "      <td>Pepe   Friends...</td>\n",
       "      <td>closed</td>\n",
       "      <td>50040089</td>\n",
       "      <td>20 March 2019</td>\n",
       "    </tr>\n",
       "    <tr>\n",
       "      <th>4</th>\n",
       "      <td>Pepe &amp; Friends</td>\n",
       "      <td>...</td>\n",
       "      <td>closed</td>\n",
       "      <td>2779003</td>\n",
       "      <td>11 October 2018</td>\n",
       "    </tr>\n",
       "  </tbody>\n",
       "</table>\n",
       "</div>"
      ],
      "text/plain": [
       "                     school  \\\n",
       "0  Tweeddale Primary School   \n",
       "1        URN: 302140 Closed   \n",
       "2            Pepe & Friends   \n",
       "3            Pepe & Friends   \n",
       "4            Pepe & Friends   \n",
       "\n",
       "                                                text   label      file  \\\n",
       "0                                            Scho...  closed  50055540   \n",
       "1                            for s provision  Uni...  closed   1415927   \n",
       "2                                  Pepe   Friends...  closed  50070828   \n",
       "3                                  Pepe   Friends...  closed  50040089   \n",
       "4                                                ...  closed   2779003   \n",
       "\n",
       "               date  \n",
       "0   15 January 2019  \n",
       "1  25 November 2014  \n",
       "2       21 May 2019  \n",
       "3     20 March 2019  \n",
       "4   11 October 2018  "
      ]
     },
     "execution_count": 11,
     "metadata": {},
     "output_type": "execute_result"
    }
   ],
   "source": [
    "df.head()"
   ]
  },
  {
   "cell_type": "code",
   "execution_count": 12,
   "metadata": {},
   "outputs": [
    {
     "data": {
      "text/plain": [
       "386370"
      ]
     },
     "execution_count": 12,
     "metadata": {},
     "output_type": "execute_result"
    }
   ],
   "source": [
    "len(df)"
   ]
  },
  {
   "cell_type": "code",
   "execution_count": 13,
   "metadata": {},
   "outputs": [],
   "source": [
    "df = df.drop_duplicates()"
   ]
  },
  {
   "cell_type": "code",
   "execution_count": 14,
   "metadata": {},
   "outputs": [
    {
     "data": {
      "text/plain": [
       "105834"
      ]
     },
     "execution_count": 14,
     "metadata": {},
     "output_type": "execute_result"
    }
   ],
   "source": [
    "len(df)"
   ]
  },
  {
   "cell_type": "code",
   "execution_count": 38,
   "metadata": {},
   "outputs": [],
   "source": [
    "df = df.rename(columns={'label': 'status'})"
   ]
  },
  {
   "cell_type": "code",
   "execution_count": 16,
   "metadata": {},
   "outputs": [],
   "source": [
    "school_names = df['school'].unique()"
   ]
  },
  {
   "cell_type": "code",
   "execution_count": 40,
   "metadata": {},
   "outputs": [],
   "source": [
    "tmp = df[df.school == school_names[2]]"
   ]
  },
  {
   "cell_type": "code",
   "execution_count": 55,
   "metadata": {},
   "outputs": [],
   "source": [
    "from datetime import date\n",
    "from datetime import datetime\n",
    "# tmp['date'] = tmp['date'].apply(lambda x: datetime.strptime(x, '%d %B %Y'))\n",
    "max_date = tmp[tmp['date'] == tmp['date'].max()]\n",
    "rest = tmp[~tmp.isin(max_date)].dropna()\n",
    "# max_date['label'] = 'last'"
   ]
  },
  {
   "cell_type": "code",
   "execution_count": 58,
   "metadata": {},
   "outputs": [],
   "source": [
    "rest['label'] = ['not_last' for i in range(len(rest))]"
   ]
  },
  {
   "cell_type": "code",
   "execution_count": 62,
   "metadata": {},
   "outputs": [
    {
     "data": {
      "text/plain": [
       "33606"
      ]
     },
     "execution_count": 62,
     "metadata": {},
     "output_type": "execute_result"
    }
   ],
   "source": [
    "len(school_names)"
   ]
  },
  {
   "cell_type": "code",
   "execution_count": 75,
   "metadata": {},
   "outputs": [
    {
     "name": "stderr",
     "output_type": "stream",
     "text": [
      "/anaconda3/lib/python3.7/site-packages/ipykernel_launcher.py:9: SettingWithCopyWarning: \n",
      "A value is trying to be set on a copy of a slice from a DataFrame.\n",
      "Try using .loc[row_indexer,col_indexer] = value instead\n",
      "\n",
      "See the caveats in the documentation: http://pandas.pydata.org/pandas-docs/stable/indexing.html#indexing-view-versus-copy\n",
      "  if __name__ == '__main__':\n"
     ]
    }
   ],
   "source": [
    "new_df = pd.DataFrame(columns=['school','text','status','file','date','label'])\n",
    "from datetime import date\n",
    "from datetime import datetime\n",
    "\n",
    "for school in school_names:\n",
    "    tmp = df[df['school'] == school]\n",
    "    max_date = tmp[tmp['date'] == tmp['date'].max()]\n",
    "    rest = tmp[~tmp.isin(max_date)].dropna()\n",
    "    max_date['label'] = 'last'\n",
    "    rest['label'] = ['not_last' for i in range(len(rest))]\n",
    "    new_df = new_df.append(max_date,ignore_index=True)\n",
    "    new_df = new_df.append(rest,ignore_index=True)"
   ]
  },
  {
   "cell_type": "code",
   "execution_count": 81,
   "metadata": {},
   "outputs": [
    {
     "data": {
      "text/html": [
       "<div>\n",
       "<style scoped>\n",
       "    .dataframe tbody tr th:only-of-type {\n",
       "        vertical-align: middle;\n",
       "    }\n",
       "\n",
       "    .dataframe tbody tr th {\n",
       "        vertical-align: top;\n",
       "    }\n",
       "\n",
       "    .dataframe thead th {\n",
       "        text-align: right;\n",
       "    }\n",
       "</style>\n",
       "<table border=\"1\" class=\"dataframe\">\n",
       "  <thead>\n",
       "    <tr style=\"text-align: right;\">\n",
       "      <th></th>\n",
       "      <th>school</th>\n",
       "      <th>text</th>\n",
       "      <th>status</th>\n",
       "      <th>file</th>\n",
       "      <th>date</th>\n",
       "      <th>label</th>\n",
       "    </tr>\n",
       "  </thead>\n",
       "  <tbody>\n",
       "    <tr>\n",
       "      <th>0</th>\n",
       "      <td>Tweeddale Primary School</td>\n",
       "      <td>Scho...</td>\n",
       "      <td>closed</td>\n",
       "      <td>50055540</td>\n",
       "      <td>15 January 2019</td>\n",
       "      <td>last</td>\n",
       "    </tr>\n",
       "    <tr>\n",
       "      <th>1</th>\n",
       "      <td>URN: 302140 Closed</td>\n",
       "      <td>for s provision  Uni...</td>\n",
       "      <td>closed</td>\n",
       "      <td>1415927</td>\n",
       "      <td>25 November 2014</td>\n",
       "      <td>last</td>\n",
       "    </tr>\n",
       "    <tr>\n",
       "      <th>2</th>\n",
       "      <td>Pepe &amp; Friends</td>\n",
       "      <td>Pepe   Friends...</td>\n",
       "      <td>closed</td>\n",
       "      <td>50070828</td>\n",
       "      <td>21 May 2019</td>\n",
       "      <td>last</td>\n",
       "    </tr>\n",
       "    <tr>\n",
       "      <th>3</th>\n",
       "      <td>Pepe &amp; Friends</td>\n",
       "      <td>Pepe   Friends...</td>\n",
       "      <td>closed</td>\n",
       "      <td>50040089</td>\n",
       "      <td>20 March 2019</td>\n",
       "      <td>not_last</td>\n",
       "    </tr>\n",
       "    <tr>\n",
       "      <th>4</th>\n",
       "      <td>Pepe &amp; Friends</td>\n",
       "      <td>...</td>\n",
       "      <td>closed</td>\n",
       "      <td>2779003</td>\n",
       "      <td>11 October 2018</td>\n",
       "      <td>not_last</td>\n",
       "    </tr>\n",
       "  </tbody>\n",
       "</table>\n",
       "</div>"
      ],
      "text/plain": [
       "                     school  \\\n",
       "0  Tweeddale Primary School   \n",
       "1        URN: 302140 Closed   \n",
       "2            Pepe & Friends   \n",
       "3            Pepe & Friends   \n",
       "4            Pepe & Friends   \n",
       "\n",
       "                                                text  status      file  \\\n",
       "0                                            Scho...  closed  50055540   \n",
       "1                            for s provision  Uni...  closed   1415927   \n",
       "2                                  Pepe   Friends...  closed  50070828   \n",
       "3                                  Pepe   Friends...  closed  50040089   \n",
       "4                                                ...  closed   2779003   \n",
       "\n",
       "               date     label  \n",
       "0   15 January 2019      last  \n",
       "1  25 November 2014      last  \n",
       "2       21 May 2019      last  \n",
       "3     20 March 2019  not_last  \n",
       "4   11 October 2018  not_last  "
      ]
     },
     "execution_count": 81,
     "metadata": {},
     "output_type": "execute_result"
    }
   ],
   "source": [
    "new_df.head()"
   ]
  },
  {
   "cell_type": "code",
   "execution_count": 77,
   "metadata": {},
   "outputs": [
    {
     "data": {
      "text/plain": [
       "105834"
      ]
     },
     "execution_count": 77,
     "metadata": {},
     "output_type": "execute_result"
    }
   ],
   "source": [
    "len(new_df)"
   ]
  },
  {
   "cell_type": "code",
   "execution_count": 79,
   "metadata": {},
   "outputs": [],
   "source": [
    "new_df['file'] = new_df['file'].astype(int)"
   ]
  },
  {
   "cell_type": "code",
   "execution_count": 80,
   "metadata": {},
   "outputs": [],
   "source": [
    "new_df.to_csv('data/last_reports.csv')"
   ]
  },
  {
   "cell_type": "code",
   "execution_count": 72,
   "metadata": {},
   "outputs": [
    {
     "data": {
      "text/html": [
       "<div>\n",
       "<style scoped>\n",
       "    .dataframe tbody tr th:only-of-type {\n",
       "        vertical-align: middle;\n",
       "    }\n",
       "\n",
       "    .dataframe tbody tr th {\n",
       "        vertical-align: top;\n",
       "    }\n",
       "\n",
       "    .dataframe thead th {\n",
       "        text-align: right;\n",
       "    }\n",
       "</style>\n",
       "<table border=\"1\" class=\"dataframe\">\n",
       "  <thead>\n",
       "    <tr style=\"text-align: right;\">\n",
       "      <th></th>\n",
       "      <th>school</th>\n",
       "      <th>text</th>\n",
       "      <th>status</th>\n",
       "      <th>file</th>\n",
       "      <th>date</th>\n",
       "      <th>label</th>\n",
       "    </tr>\n",
       "  </thead>\n",
       "  <tbody>\n",
       "    <tr>\n",
       "      <th>3</th>\n",
       "      <td>Pepe &amp; Friends</td>\n",
       "      <td>Pepe   Friends...</td>\n",
       "      <td>closed</td>\n",
       "      <td>50040089.0</td>\n",
       "      <td>20 March 2019</td>\n",
       "      <td>not_last</td>\n",
       "    </tr>\n",
       "    <tr>\n",
       "      <th>4</th>\n",
       "      <td>Pepe &amp; Friends</td>\n",
       "      <td>...</td>\n",
       "      <td>closed</td>\n",
       "      <td>2779003.0</td>\n",
       "      <td>11 October 2018</td>\n",
       "      <td>not_last</td>\n",
       "    </tr>\n",
       "    <tr>\n",
       "      <th>5</th>\n",
       "      <td>Pepe &amp; Friends</td>\n",
       "      <td>Compliance act...</td>\n",
       "      <td>closed</td>\n",
       "      <td>50027189.0</td>\n",
       "      <td>16 April 2019</td>\n",
       "      <td>not_last</td>\n",
       "    </tr>\n",
       "  </tbody>\n",
       "</table>\n",
       "</div>"
      ],
      "text/plain": [
       "           school                                               text  status  \\\n",
       "3  Pepe & Friends                                  Pepe   Friends...  closed   \n",
       "4  Pepe & Friends                                                ...  closed   \n",
       "5  Pepe & Friends                                  Compliance act...  closed   \n",
       "\n",
       "         file             date     label  \n",
       "3  50040089.0    20 March 2019  not_last  \n",
       "4   2779003.0  11 October 2018  not_last  \n",
       "5  50027189.0    16 April 2019  not_last  "
      ]
     },
     "execution_count": 72,
     "metadata": {},
     "output_type": "execute_result"
    }
   ],
   "source": [
    "rest"
   ]
  },
  {
   "cell_type": "code",
   "execution_count": 72,
   "metadata": {},
   "outputs": [],
   "source": [
    "df = pd.read_csv('data/last_reports.csv')"
   ]
  },
  {
   "cell_type": "code",
   "execution_count": 73,
   "metadata": {},
   "outputs": [
    {
     "data": {
      "text/html": [
       "<div>\n",
       "<style scoped>\n",
       "    .dataframe tbody tr th:only-of-type {\n",
       "        vertical-align: middle;\n",
       "    }\n",
       "\n",
       "    .dataframe tbody tr th {\n",
       "        vertical-align: top;\n",
       "    }\n",
       "\n",
       "    .dataframe thead th {\n",
       "        text-align: right;\n",
       "    }\n",
       "</style>\n",
       "<table border=\"1\" class=\"dataframe\">\n",
       "  <thead>\n",
       "    <tr style=\"text-align: right;\">\n",
       "      <th></th>\n",
       "      <th>Unnamed: 0</th>\n",
       "      <th>school</th>\n",
       "      <th>text</th>\n",
       "      <th>file</th>\n",
       "      <th>status</th>\n",
       "      <th>label</th>\n",
       "    </tr>\n",
       "  </thead>\n",
       "  <tbody>\n",
       "    <tr>\n",
       "      <th>0</th>\n",
       "      <td>0</td>\n",
       "      <td>Tweeddale Primary School</td>\n",
       "      <td>Scho...</td>\n",
       "      <td>50055540</td>\n",
       "      <td>closed</td>\n",
       "      <td>last</td>\n",
       "    </tr>\n",
       "    <tr>\n",
       "      <th>1</th>\n",
       "      <td>1</td>\n",
       "      <td>Loganberries Childcare And Tutoring Closed</td>\n",
       "      <td>...</td>\n",
       "      <td>2566925</td>\n",
       "      <td>closed</td>\n",
       "      <td>last</td>\n",
       "    </tr>\n",
       "    <tr>\n",
       "      <th>2</th>\n",
       "      <td>2</td>\n",
       "      <td>Dovedale Before and After School Club Closed</td>\n",
       "      <td>...</td>\n",
       "      <td>2669737</td>\n",
       "      <td>closed</td>\n",
       "      <td>last</td>\n",
       "    </tr>\n",
       "    <tr>\n",
       "      <th>3</th>\n",
       "      <td>3</td>\n",
       "      <td>Pepe &amp; Friends</td>\n",
       "      <td>Pepe &amp; Friends...</td>\n",
       "      <td>50070828</td>\n",
       "      <td>closed</td>\n",
       "      <td>last</td>\n",
       "    </tr>\n",
       "    <tr>\n",
       "      <th>4</th>\n",
       "      <td>4</td>\n",
       "      <td>Cottonstones Pre-School Playgroup Closed</td>\n",
       "      <td>DAY CARE INSPECTION R...</td>\n",
       "      <td>1600171</td>\n",
       "      <td>closed</td>\n",
       "      <td>last</td>\n",
       "    </tr>\n",
       "  </tbody>\n",
       "</table>\n",
       "</div>"
      ],
      "text/plain": [
       "   Unnamed: 0                                        school  \\\n",
       "0           0                      Tweeddale Primary School   \n",
       "1           1    Loganberries Childcare And Tutoring Closed   \n",
       "2           2  Dovedale Before and After School Club Closed   \n",
       "3           3                                Pepe & Friends   \n",
       "4           4      Cottonstones Pre-School Playgroup Closed   \n",
       "\n",
       "                                                text      file  status label  \n",
       "0                                            Scho...  50055540  closed  last  \n",
       "1                                                ...   2566925  closed  last  \n",
       "2                                                ...   2669737  closed  last  \n",
       "3                                  Pepe & Friends...  50070828  closed  last  \n",
       "4                           DAY CARE INSPECTION R...   1600171  closed  last  "
      ]
     },
     "execution_count": 73,
     "metadata": {},
     "output_type": "execute_result"
    }
   ],
   "source": [
    "df.head()"
   ]
  },
  {
   "cell_type": "code",
   "execution_count": 74,
   "metadata": {},
   "outputs": [],
   "source": [
    "df = df.drop('Unnamed: 0',axis=1)"
   ]
  },
  {
   "cell_type": "code",
   "execution_count": 75,
   "metadata": {},
   "outputs": [],
   "source": [
    "opened = df[df.status == 'open']"
   ]
  },
  {
   "cell_type": "code",
   "execution_count": 76,
   "metadata": {},
   "outputs": [
    {
     "data": {
      "text/plain": [
       "array(['not_last'], dtype=object)"
      ]
     },
     "execution_count": 76,
     "metadata": {},
     "output_type": "execute_result"
    }
   ],
   "source": [
    "opened['label'].unique()"
   ]
  },
  {
   "cell_type": "code",
   "execution_count": 77,
   "metadata": {},
   "outputs": [
    {
     "data": {
      "text/plain": [
       "45148"
      ]
     },
     "execution_count": 77,
     "metadata": {},
     "output_type": "execute_result"
    }
   ],
   "source": [
    "len(opened['school'].unique())"
   ]
  },
  {
   "cell_type": "code",
   "execution_count": 78,
   "metadata": {},
   "outputs": [
    {
     "data": {
      "text/plain": [
       "22648"
      ]
     },
     "execution_count": 78,
     "metadata": {},
     "output_type": "execute_result"
    }
   ],
   "source": [
    "len(closed['school'].unique())"
   ]
  },
  {
   "cell_type": "code",
   "execution_count": 79,
   "metadata": {},
   "outputs": [],
   "source": [
    "closed = df[df.status == 'closed']"
   ]
  },
  {
   "cell_type": "code",
   "execution_count": 80,
   "metadata": {},
   "outputs": [
    {
     "data": {
      "text/plain": [
       "array(['last', 'not_last'], dtype=object)"
      ]
     },
     "execution_count": 80,
     "metadata": {},
     "output_type": "execute_result"
    }
   ],
   "source": [
    "closed['label'].unique()"
   ]
  },
  {
   "cell_type": "code",
   "execution_count": 81,
   "metadata": {},
   "outputs": [
    {
     "data": {
      "text/plain": [
       "19761"
      ]
     },
     "execution_count": 81,
     "metadata": {},
     "output_type": "execute_result"
    }
   ],
   "source": [
    "len(df[df.label == 'last'])"
   ]
  },
  {
   "cell_type": "code",
   "execution_count": 82,
   "metadata": {},
   "outputs": [
    {
     "data": {
      "text/plain": [
       "269978"
      ]
     },
     "execution_count": 82,
     "metadata": {},
     "output_type": "execute_result"
    }
   ],
   "source": [
    "len(df[df.label == 'not_last'])"
   ]
  },
  {
   "cell_type": "code",
   "execution_count": 62,
   "metadata": {},
   "outputs": [],
   "source": [
    "df = df.drop_duplicates()"
   ]
  },
  {
   "cell_type": "code",
   "execution_count": 63,
   "metadata": {},
   "outputs": [
    {
     "data": {
      "text/plain": [
       "289739"
      ]
     },
     "execution_count": 63,
     "metadata": {},
     "output_type": "execute_result"
    }
   ],
   "source": [
    "len(df)"
   ]
  },
  {
   "cell_type": "code",
   "execution_count": null,
   "metadata": {},
   "outputs": [],
   "source": []
  },
  {
   "cell_type": "code",
   "execution_count": 13,
   "metadata": {},
   "outputs": [],
   "source": [
    "new_df = pd.concat([opened,closed],ignore_index=True)"
   ]
  },
  {
   "cell_type": "code",
   "execution_count": 14,
   "metadata": {},
   "outputs": [
    {
     "data": {
      "text/html": [
       "<div>\n",
       "<style scoped>\n",
       "    .dataframe tbody tr th:only-of-type {\n",
       "        vertical-align: middle;\n",
       "    }\n",
       "\n",
       "    .dataframe tbody tr th {\n",
       "        vertical-align: top;\n",
       "    }\n",
       "\n",
       "    .dataframe thead th {\n",
       "        text-align: right;\n",
       "    }\n",
       "</style>\n",
       "<table border=\"1\" class=\"dataframe\">\n",
       "  <thead>\n",
       "    <tr style=\"text-align: right;\">\n",
       "      <th></th>\n",
       "      <th>school</th>\n",
       "      <th>text</th>\n",
       "      <th>status</th>\n",
       "      <th>file</th>\n",
       "      <th>date</th>\n",
       "      <th>label</th>\n",
       "    </tr>\n",
       "  </thead>\n",
       "  <tbody>\n",
       "    <tr>\n",
       "      <th>0</th>\n",
       "      <td>11</td>\n",
       "      <td>Calvary Morning ...</td>\n",
       "      <td>open</td>\n",
       "      <td>1749585</td>\n",
       "      <td></td>\n",
       "      <td>not_last</td>\n",
       "    </tr>\n",
       "    <tr>\n",
       "      <th>1</th>\n",
       "      <td>11</td>\n",
       "      <td>Calvary Morning Glory Club  for  s provisionUn...</td>\n",
       "      <td>open</td>\n",
       "      <td>1439823</td>\n",
       "      <td></td>\n",
       "      <td>not_last</td>\n",
       "    </tr>\n",
       "    <tr>\n",
       "      <th>2</th>\n",
       "      <td>Methodist School</td>\n",
       "      <td>Trinity CE Methodist Primary School Kiln La...</td>\n",
       "      <td>open</td>\n",
       "      <td>2563496</td>\n",
       "      <td>20 October 2015</td>\n",
       "      <td>not_last</td>\n",
       "    </tr>\n",
       "    <tr>\n",
       "      <th>3</th>\n",
       "      <td>Methodist School</td>\n",
       "      <td>School report      The Wainfleet Magdalen Chu...</td>\n",
       "      <td>open</td>\n",
       "      <td>2655833</td>\n",
       "      <td>07 February 2017</td>\n",
       "      <td>not_last</td>\n",
       "    </tr>\n",
       "    <tr>\n",
       "      <th>4</th>\n",
       "      <td>Methodist School</td>\n",
       "      <td>Trinity Church of England Methodist School  ...</td>\n",
       "      <td>open</td>\n",
       "      <td>1975209</td>\n",
       "      <td>04 December 2015</td>\n",
       "      <td>not_last</td>\n",
       "    </tr>\n",
       "  </tbody>\n",
       "</table>\n",
       "</div>"
      ],
      "text/plain": [
       "             school                                               text status  \\\n",
       "0                11                                Calvary Morning ...   open   \n",
       "1                11  Calvary Morning Glory Club  for  s provisionUn...   open   \n",
       "2  Methodist School     Trinity CE Methodist Primary School Kiln La...   open   \n",
       "3  Methodist School   School report      The Wainfleet Magdalen Chu...   open   \n",
       "4  Methodist School    Trinity Church of England Methodist School  ...   open   \n",
       "\n",
       "      file              date     label  \n",
       "0  1749585                    not_last  \n",
       "1  1439823                    not_last  \n",
       "2  2563496   20 October 2015  not_last  \n",
       "3  2655833  07 February 2017  not_last  \n",
       "4  1975209  04 December 2015  not_last  "
      ]
     },
     "execution_count": 14,
     "metadata": {},
     "output_type": "execute_result"
    }
   ],
   "source": [
    "new_df.head()"
   ]
  },
  {
   "cell_type": "code",
   "execution_count": 21,
   "metadata": {},
   "outputs": [],
   "source": [
    "schools = new_df[~new_df.isin(new_df[new_df.school == '11'])].dropna()"
   ]
  },
  {
   "cell_type": "code",
   "execution_count": 22,
   "metadata": {},
   "outputs": [],
   "source": [
    "schools['file'] = schools['file'].astype(int)"
   ]
  },
  {
   "cell_type": "code",
   "execution_count": 23,
   "metadata": {},
   "outputs": [
    {
     "data": {
      "text/html": [
       "<div>\n",
       "<style scoped>\n",
       "    .dataframe tbody tr th:only-of-type {\n",
       "        vertical-align: middle;\n",
       "    }\n",
       "\n",
       "    .dataframe tbody tr th {\n",
       "        vertical-align: top;\n",
       "    }\n",
       "\n",
       "    .dataframe thead th {\n",
       "        text-align: right;\n",
       "    }\n",
       "</style>\n",
       "<table border=\"1\" class=\"dataframe\">\n",
       "  <thead>\n",
       "    <tr style=\"text-align: right;\">\n",
       "      <th></th>\n",
       "      <th>school</th>\n",
       "      <th>text</th>\n",
       "      <th>status</th>\n",
       "      <th>file</th>\n",
       "      <th>date</th>\n",
       "      <th>label</th>\n",
       "    </tr>\n",
       "  </thead>\n",
       "  <tbody>\n",
       "    <tr>\n",
       "      <th>2</th>\n",
       "      <td>Methodist School</td>\n",
       "      <td>Trinity CE Methodist Primary School Kiln La...</td>\n",
       "      <td>open</td>\n",
       "      <td>2563496</td>\n",
       "      <td>20 October 2015</td>\n",
       "      <td>not_last</td>\n",
       "    </tr>\n",
       "    <tr>\n",
       "      <th>3</th>\n",
       "      <td>Methodist School</td>\n",
       "      <td>School report      The Wainfleet Magdalen Chu...</td>\n",
       "      <td>open</td>\n",
       "      <td>2655833</td>\n",
       "      <td>07 February 2017</td>\n",
       "      <td>not_last</td>\n",
       "    </tr>\n",
       "    <tr>\n",
       "      <th>4</th>\n",
       "      <td>Methodist School</td>\n",
       "      <td>Trinity Church of England Methodist School  ...</td>\n",
       "      <td>open</td>\n",
       "      <td>1975209</td>\n",
       "      <td>04 December 2015</td>\n",
       "      <td>not_last</td>\n",
       "    </tr>\n",
       "    <tr>\n",
       "      <th>5</th>\n",
       "      <td>Methodist School</td>\n",
       "      <td>PDFINSPECTION REPORTTRINITY SCHOOLSkelm...</td>\n",
       "      <td>open</td>\n",
       "      <td>784165</td>\n",
       "      <td>06 July 2011</td>\n",
       "      <td>not_last</td>\n",
       "    </tr>\n",
       "    <tr>\n",
       "      <th>6</th>\n",
       "      <td>Methodist School</td>\n",
       "      <td>UntitledTrinity Church of England MethodistSch...</td>\n",
       "      <td>open</td>\n",
       "      <td>896709</td>\n",
       "      <td>16 June 2011</td>\n",
       "      <td>not_last</td>\n",
       "    </tr>\n",
       "  </tbody>\n",
       "</table>\n",
       "</div>"
      ],
      "text/plain": [
       "             school                                               text status  \\\n",
       "2  Methodist School     Trinity CE Methodist Primary School Kiln La...   open   \n",
       "3  Methodist School   School report      The Wainfleet Magdalen Chu...   open   \n",
       "4  Methodist School    Trinity Church of England Methodist School  ...   open   \n",
       "5  Methodist School         PDFINSPECTION REPORTTRINITY SCHOOLSkelm...   open   \n",
       "6  Methodist School  UntitledTrinity Church of England MethodistSch...   open   \n",
       "\n",
       "      file              date     label  \n",
       "2  2563496   20 October 2015  not_last  \n",
       "3  2655833  07 February 2017  not_last  \n",
       "4  1975209  04 December 2015  not_last  \n",
       "5   784165      06 July 2011  not_last  \n",
       "6   896709      16 June 2011  not_last  "
      ]
     },
     "execution_count": 23,
     "metadata": {},
     "output_type": "execute_result"
    }
   ],
   "source": [
    "schools.head()"
   ]
  },
  {
   "cell_type": "code",
   "execution_count": 26,
   "metadata": {},
   "outputs": [
    {
     "data": {
      "text/plain": [
       "array(['not_last'], dtype=object)"
      ]
     },
     "execution_count": 26,
     "metadata": {},
     "output_type": "execute_result"
    }
   ],
   "source": [
    "schools[schools.status == 'open']['label'].unique()"
   ]
  },
  {
   "cell_type": "code",
   "execution_count": 27,
   "metadata": {},
   "outputs": [
    {
     "data": {
      "text/plain": [
       "array(['last', 'not_last'], dtype=object)"
      ]
     },
     "execution_count": 27,
     "metadata": {},
     "output_type": "execute_result"
    }
   ],
   "source": [
    "schools[schools.status == 'closed']['label'].unique()"
   ]
  },
  {
   "cell_type": "code",
   "execution_count": 70,
   "metadata": {},
   "outputs": [
    {
     "data": {
      "text/plain": [
       "43260"
      ]
     },
     "execution_count": 70,
     "metadata": {},
     "output_type": "execute_result"
    }
   ],
   "source": [
    "len(schools[schools.label == 'not_last'])"
   ]
  },
  {
   "cell_type": "code",
   "execution_count": 71,
   "metadata": {},
   "outputs": [
    {
     "data": {
      "text/plain": [
       "62484"
      ]
     },
     "execution_count": 71,
     "metadata": {},
     "output_type": "execute_result"
    }
   ],
   "source": [
    "len(schools[schools.label == 'last'])"
   ]
  },
  {
   "cell_type": "code",
   "execution_count": 30,
   "metadata": {},
   "outputs": [
    {
     "data": {
      "text/plain": [
       "381"
      ]
     },
     "execution_count": 30,
     "metadata": {},
     "output_type": "execute_result"
    }
   ],
   "source": [
    "len(schools[schools.status == 'open'])"
   ]
  },
  {
   "cell_type": "code",
   "execution_count": 31,
   "metadata": {},
   "outputs": [
    {
     "data": {
      "text/plain": [
       "105363"
      ]
     },
     "execution_count": 31,
     "metadata": {},
     "output_type": "execute_result"
    }
   ],
   "source": [
    "len(schools[schools.status == 'closed'])"
   ]
  },
  {
   "cell_type": "code",
   "execution_count": null,
   "metadata": {},
   "outputs": [],
   "source": []
  }
 ],
 "metadata": {
  "kernelspec": {
   "display_name": "Python 3",
   "language": "python",
   "name": "python3"
  },
  "language_info": {
   "codemirror_mode": {
    "name": "ipython",
    "version": 3
   },
   "file_extension": ".py",
   "mimetype": "text/x-python",
   "name": "python",
   "nbconvert_exporter": "python",
   "pygments_lexer": "ipython3",
   "version": "3.7.3"
  }
 },
 "nbformat": 4,
 "nbformat_minor": 2
}
