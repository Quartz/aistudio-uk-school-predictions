{
 "cells": [
  {
   "cell_type": "markdown",
   "metadata": {},
   "source": [
    "# Predicting School Failure in the UK with scikit-learn\n",
    "Data taken from [Ofsted](https://reports.ofsted.gov.uk/)"
   ]
  },
  {
   "cell_type": "code",
   "execution_count": 1,
   "metadata": {},
   "outputs": [],
   "source": [
    "%reload_ext autoreload\n",
    "%autoreload 2\n",
    "%matplotlib inline"
   ]
  },
  {
   "cell_type": "code",
   "execution_count": 2,
   "metadata": {},
   "outputs": [],
   "source": [
    "import os\n",
    "import re\n",
    "# Get all most recent closed files\n",
    "patterns = [\"progress\",\"teaching\",\"work\",\"well\",\"The\",\"provision\",\"this\",\"This\",\"Children\",\"enqiures uk\", \"the\", \"learning\", \"staff\", \"good\", \"ir\", \"inspection\", \"the\", \"schools\", \"children\", \"pupils\", \"school\", \"pupil\", \"Ofsted\", \"Inspection report\", \"gov uk\", \"ofsted gov\", \"early year\", \"uk government\", \"www.ofsted.gov.uk\", \"www.gov.uk/ofsted\", \"Early Year\", \"ofsted\", \"gov\", \"Inspection Report\"] # filter out common words\n",
    "closed_school_names = []\n",
    "closed = []\n",
    "closed_root = './schools/closed/'\n",
    "for path, subdirs, files in os.walk(closed_root):\n",
    "    for s in subdirs:\n",
    "        f = os.path.join(path,s)\n",
    "        reports = \"\"\n",
    "        for p2, s2, f2 in os.walk(f):\n",
    "            for file in f2:\n",
    "                if file == '':\n",
    "                    continue\n",
    "                txt = open(os.path.join(p2,str(file)),\"r\")\n",
    "                content = txt.read()\n",
    "                if re.search(\"childminder\",content,re.IGNORECASE):\n",
    "                    continue\n",
    "                for pattern in patterns:\n",
    "                    content = content.replace(pattern,'')\n",
    "                content = content.replace('\\n','')\n",
    "                reports += content\n",
    "        if reports != \"\":\n",
    "            closed.append(reports)\n",
    "            closed_school_names.append(s)"
   ]
  },
  {
   "cell_type": "code",
   "execution_count": 5,
   "metadata": {},
   "outputs": [],
   "source": [
    "# Get all most recent open files\n",
    "patterns = [\"progress\",\"teaching\",\"work\",\"well\",\"The\",\"provision\",\"this\",\"This\",\"Children\",\"enqiures uk\", \"the\", \"learning\", \"staff\", \"good\", \"ir\", \"inspection\", \"the\", \"schools\", \"children\", \"pupils\", \"school\", \"pupil\", \"Ofsted\", \"Inspection report\", \"gov uk\", \"ofsted gov\", \"early year\", \"uk government\", \"www.ofsted.gov.uk\", \"www.gov.uk/ofsted\", \"Early Year\", \"ofsted\", \"gov\", \"Inspection Report\"] # filter out common words\n",
    "opened = []\n",
    "open_school_names = []\n",
    "open_root = './schools/open/'\n",
    "for path, subdirs, files in os.walk(open_root):\n",
    "    for s in subdirs:\n",
    "        f = os.path.join(path,s)\n",
    "        reports = \"\"\n",
    "        for p2, s2, f2 in os.walk(f):\n",
    "            for file in f2:\n",
    "                if file == '':\n",
    "                    continue\n",
    "                txt = open(os.path.join(p2,str(file)),\"r\")\n",
    "                content = txt.read()\n",
    "                if re.search(\"childminder\",content,re.IGNORECASE):\n",
    "                    continue\n",
    "                for pattern in patterns:\n",
    "                    content = content.replace(pattern,'')\n",
    "                content = content.replace('\\n','')\n",
    "                reports += content\n",
    "        if reports != \"\":\n",
    "            opened.append(reports)\n",
    "            open_school_names.append(s)"
   ]
  },
  {
   "cell_type": "code",
   "execution_count": 6,
   "metadata": {},
   "outputs": [],
   "source": [
    "import pandas as pd\n",
    "df_closed = pd.DataFrame()\n",
    "closed_labels = [\"closed\" for school in closed]\n",
    "df_closed[\"school\"] = closed_school_names\n",
    "df_closed[\"text\"] = closed\n",
    "df_closed[\"label\"] = closed_labels"
   ]
  },
  {
   "cell_type": "code",
   "execution_count": 7,
   "metadata": {},
   "outputs": [
    {
     "data": {
      "text/html": [
       "<div>\n",
       "<style scoped>\n",
       "    .dataframe tbody tr th:only-of-type {\n",
       "        vertical-align: middle;\n",
       "    }\n",
       "\n",
       "    .dataframe tbody tr th {\n",
       "        vertical-align: top;\n",
       "    }\n",
       "\n",
       "    .dataframe thead th {\n",
       "        text-align: right;\n",
       "    }\n",
       "</style>\n",
       "<table border=\"1\" class=\"dataframe\">\n",
       "  <thead>\n",
       "    <tr style=\"text-align: right;\">\n",
       "      <th></th>\n",
       "      <th>school</th>\n",
       "      <th>text</th>\n",
       "      <th>label</th>\n",
       "    </tr>\n",
       "  </thead>\n",
       "  <tbody>\n",
       "    <tr>\n",
       "      <th>0</th>\n",
       "      <td>Tweeddale Primary School</td>\n",
       "      <td>Existing academy: Tweeddale Primary SchoolU...</td>\n",
       "      <td>closed</td>\n",
       "    </tr>\n",
       "    <tr>\n",
       "      <th>1</th>\n",
       "      <td>Loganberries Childcare And Tutoring Closed</td>\n",
       "      <td>Loganberries Childcare And Tutoring    Hol...</td>\n",
       "      <td>closed</td>\n",
       "    </tr>\n",
       "    <tr>\n",
       "      <th>2</th>\n",
       "      <td>Dovedale Before and After School Club Closed</td>\n",
       "      <td>Dovedale Before and After School Club    D...</td>\n",
       "      <td>closed</td>\n",
       "    </tr>\n",
       "    <tr>\n",
       "      <th>3</th>\n",
       "      <td>Pepe &amp; Friends</td>\n",
       "      <td>Pepe &amp; Friends16 Skylines Village, Limeharbour...</td>\n",
       "      <td>closed</td>\n",
       "    </tr>\n",
       "    <tr>\n",
       "      <th>4</th>\n",
       "      <td>Cottonstones Pre-School Playgroup Closed</td>\n",
       "      <td>UntitledCottonstones Pre-School Playgroup for ...</td>\n",
       "      <td>closed</td>\n",
       "    </tr>\n",
       "  </tbody>\n",
       "</table>\n",
       "</div>"
      ],
      "text/plain": [
       "                                         school  \\\n",
       "0                      Tweeddale Primary School   \n",
       "1    Loganberries Childcare And Tutoring Closed   \n",
       "2  Dovedale Before and After School Club Closed   \n",
       "3                                Pepe & Friends   \n",
       "4      Cottonstones Pre-School Playgroup Closed   \n",
       "\n",
       "                                                text   label  \n",
       "0     Existing academy: Tweeddale Primary SchoolU...  closed  \n",
       "1      Loganberries Childcare And Tutoring    Hol...  closed  \n",
       "2      Dovedale Before and After School Club    D...  closed  \n",
       "3  Pepe & Friends16 Skylines Village, Limeharbour...  closed  \n",
       "4  UntitledCottonstones Pre-School Playgroup for ...  closed  "
      ]
     },
     "execution_count": 7,
     "metadata": {},
     "output_type": "execute_result"
    }
   ],
   "source": [
    "df_closed.head()"
   ]
  },
  {
   "cell_type": "code",
   "execution_count": 8,
   "metadata": {},
   "outputs": [],
   "source": [
    "# Filter out schools that were marked as closed due to academy conversion\n",
    "import numpy as np\n",
    "df_closed = df_closed.replace(np.nan, '', regex=True)\n",
    "df_closed = df_closed[~df_closed.text.apply(lambda x: bool(re.search(\"academy converters\",x,re.IGNORECASE)))]"
   ]
  },
  {
   "cell_type": "code",
   "execution_count": 9,
   "metadata": {},
   "outputs": [],
   "source": [
    "df_open = pd.DataFrame()\n",
    "open_labels = [\"open\" for school in opened]\n",
    "df_open[\"school\"] = open_school_names\n",
    "df_open[\"text\"] = opened\n",
    "df_open[\"label\"] = open_labels"
   ]
  },
  {
   "cell_type": "code",
   "execution_count": 10,
   "metadata": {},
   "outputs": [
    {
     "data": {
      "text/html": [
       "<div>\n",
       "<style scoped>\n",
       "    .dataframe tbody tr th:only-of-type {\n",
       "        vertical-align: middle;\n",
       "    }\n",
       "\n",
       "    .dataframe tbody tr th {\n",
       "        vertical-align: top;\n",
       "    }\n",
       "\n",
       "    .dataframe thead th {\n",
       "        text-align: right;\n",
       "    }\n",
       "</style>\n",
       "<table border=\"1\" class=\"dataframe\">\n",
       "  <thead>\n",
       "    <tr style=\"text-align: right;\">\n",
       "      <th></th>\n",
       "      <th>school</th>\n",
       "      <th>text</th>\n",
       "      <th>label</th>\n",
       "    </tr>\n",
       "  </thead>\n",
       "  <tbody>\n",
       "    <tr>\n",
       "      <th>0</th>\n",
       "      <td>Tweeddale Primary School</td>\n",
       "      <td>Existing academy: Tweeddale Primary SchoolU...</td>\n",
       "      <td>open</td>\n",
       "    </tr>\n",
       "    <tr>\n",
       "      <th>1</th>\n",
       "      <td>Redcliffe Childrens Centre and Maintained Nurs...</td>\n",
       "      <td>Aviation House125 KingswayLondonWC2B  6SET 030...</td>\n",
       "      <td>open</td>\n",
       "    </tr>\n",
       "    <tr>\n",
       "      <th>2</th>\n",
       "      <td>Magpies West</td>\n",
       "      <td>Magpies West    West Kidlington Primary Sc...</td>\n",
       "      <td>open</td>\n",
       "    </tr>\n",
       "    <tr>\n",
       "      <th>3</th>\n",
       "      <td>St John's Church of England Primary School, La...</td>\n",
       "      <td>Existing academy: St John's Church of Engla...</td>\n",
       "      <td>open</td>\n",
       "    </tr>\n",
       "    <tr>\n",
       "      <th>4</th>\n",
       "      <td>Stoneydelph Primary School</td>\n",
       "      <td>Existing academy: Stoneydelph Primary SchoolUR...</td>\n",
       "      <td>open</td>\n",
       "    </tr>\n",
       "  </tbody>\n",
       "</table>\n",
       "</div>"
      ],
      "text/plain": [
       "                                              school  \\\n",
       "0                           Tweeddale Primary School   \n",
       "1  Redcliffe Childrens Centre and Maintained Nurs...   \n",
       "2                                       Magpies West   \n",
       "3  St John's Church of England Primary School, La...   \n",
       "4                         Stoneydelph Primary School   \n",
       "\n",
       "                                                text label  \n",
       "0     Existing academy: Tweeddale Primary SchoolU...  open  \n",
       "1  Aviation House125 KingswayLondonWC2B  6SET 030...  open  \n",
       "2      Magpies West    West Kidlington Primary Sc...  open  \n",
       "3     Existing academy: St John's Church of Engla...  open  \n",
       "4  Existing academy: Stoneydelph Primary SchoolUR...  open  "
      ]
     },
     "execution_count": 10,
     "metadata": {},
     "output_type": "execute_result"
    }
   ],
   "source": [
    "df_open.head()"
   ]
  },
  {
   "cell_type": "code",
   "execution_count": 11,
   "metadata": {},
   "outputs": [
    {
     "data": {
      "text/plain": [
       "array(['closed', 'open'], dtype=object)"
      ]
     },
     "execution_count": 11,
     "metadata": {},
     "output_type": "execute_result"
    }
   ],
   "source": [
    "df = df_closed.append(df_open, ignore_index=True)\n",
    "df.label.unique()"
   ]
  },
  {
   "cell_type": "code",
   "execution_count": 12,
   "metadata": {},
   "outputs": [
    {
     "data": {
      "text/html": [
       "<div>\n",
       "<style scoped>\n",
       "    .dataframe tbody tr th:only-of-type {\n",
       "        vertical-align: middle;\n",
       "    }\n",
       "\n",
       "    .dataframe tbody tr th {\n",
       "        vertical-align: top;\n",
       "    }\n",
       "\n",
       "    .dataframe thead th {\n",
       "        text-align: right;\n",
       "    }\n",
       "</style>\n",
       "<table border=\"1\" class=\"dataframe\">\n",
       "  <thead>\n",
       "    <tr style=\"text-align: right;\">\n",
       "      <th></th>\n",
       "      <th>school</th>\n",
       "      <th>text</th>\n",
       "      <th>label</th>\n",
       "    </tr>\n",
       "  </thead>\n",
       "  <tbody>\n",
       "    <tr>\n",
       "      <th>0</th>\n",
       "      <td>Loganberries Childcare And Tutoring Closed</td>\n",
       "      <td>Loganberries Childcare And Tutoring    Hol...</td>\n",
       "      <td>closed</td>\n",
       "    </tr>\n",
       "    <tr>\n",
       "      <th>1</th>\n",
       "      <td>Dovedale Before and After School Club Closed</td>\n",
       "      <td>Dovedale Before and After School Club    D...</td>\n",
       "      <td>closed</td>\n",
       "    </tr>\n",
       "    <tr>\n",
       "      <th>2</th>\n",
       "      <td>Pepe &amp; Friends</td>\n",
       "      <td>Pepe &amp; Friends16 Skylines Village, Limeharbour...</td>\n",
       "      <td>closed</td>\n",
       "    </tr>\n",
       "    <tr>\n",
       "      <th>3</th>\n",
       "      <td>Cottonstones Pre-School Playgroup Closed</td>\n",
       "      <td>UntitledCottonstones Pre-School Playgroup for ...</td>\n",
       "      <td>closed</td>\n",
       "    </tr>\n",
       "    <tr>\n",
       "      <th>4</th>\n",
       "      <td>St Mary and St John Junior and Infant School C...</td>\n",
       "      <td>School report      St Mary and St John Junior...</td>\n",
       "      <td>closed</td>\n",
       "    </tr>\n",
       "  </tbody>\n",
       "</table>\n",
       "</div>"
      ],
      "text/plain": [
       "                                              school  \\\n",
       "0         Loganberries Childcare And Tutoring Closed   \n",
       "1       Dovedale Before and After School Club Closed   \n",
       "2                                     Pepe & Friends   \n",
       "3           Cottonstones Pre-School Playgroup Closed   \n",
       "4  St Mary and St John Junior and Infant School C...   \n",
       "\n",
       "                                                text   label  \n",
       "0      Loganberries Childcare And Tutoring    Hol...  closed  \n",
       "1      Dovedale Before and After School Club    D...  closed  \n",
       "2  Pepe & Friends16 Skylines Village, Limeharbour...  closed  \n",
       "3  UntitledCottonstones Pre-School Playgroup for ...  closed  \n",
       "4   School report      St Mary and St John Junior...  closed  "
      ]
     },
     "execution_count": 12,
     "metadata": {},
     "output_type": "execute_result"
    }
   ],
   "source": [
    "df.head()"
   ]
  },
  {
   "cell_type": "code",
   "execution_count": 13,
   "metadata": {},
   "outputs": [
    {
     "name": "stdout",
     "output_type": "stream",
     "text": [
      "Total number of closed schools: 23846\n",
      "Total number of open schools: 48205\n"
     ]
    }
   ],
   "source": [
    "print (\"Total number of closed schools: {}\".format(len(closed)))\n",
    "print (\"Total number of open schools: {}\".format(len(opened)))"
   ]
  },
  {
   "cell_type": "code",
   "execution_count": 14,
   "metadata": {},
   "outputs": [
    {
     "name": "stdout",
     "output_type": "stream",
     "text": [
      "Closed schools after filtering for academy converters: 21596\n",
      "Open schools: 48205\n"
     ]
    }
   ],
   "source": [
    "print (\"Closed schools after filtering for academy converters: {}\".format(len(df_closed))) # 530 after filtering out academy converter\n",
    "print (\"Open schools: {}\".format(len(df_open)))"
   ]
  },
  {
   "cell_type": "code",
   "execution_count": 15,
   "metadata": {},
   "outputs": [],
   "source": [
    "# !pip install wordcloud"
   ]
  },
  {
   "cell_type": "code",
   "execution_count": 16,
   "metadata": {},
   "outputs": [],
   "source": [
    "# from wordcloud import WordCloud\n",
    "# import PIL\n",
    "# import itertools\n",
    "# import matplotlib.pyplot as plt\n",
    "\n",
    "# targets = ['text']\n",
    "\n",
    "# l1 = df_closed['text'].values.tolist()\n",
    "# l2 = df_open['text'].values.tolist()\n",
    "# school_categories = [l1, l2]\n",
    "\n",
    "# for schools,target in zip(school_categories, targets):\n",
    "#   raw_str = df[target].str.cat(sep=',')\n",
    "#   wordcloud = WordCloud( max_words=1000,margin=0).generate(raw_str)\n",
    "#   plt.figure()\n",
    "#   plt.imshow(wordcloud, interpolation=\"bilinear\")\n",
    "#   plt.axis(\"off\")\n",
    "#   plt.show()\n",
    "\n",
    "# for o_schools,target in zip(l2, targets):\n",
    "#   raw_str = df_open[target].str.cat(sep=',')\n",
    "#   wordcloud = WordCloud(max_words=1000,margin=0).generate(raw_str)\n",
    "#   plt.figure()\n",
    "#   plt.imshow(wordcloud, interpolation=\"bilinear\")\n",
    "#   plt.axis(\"off\")\n",
    "#   plt.show()\n",
    "\n",
    "# for c_schools,target in zip(l1, targets):\n",
    "#   raw_str = df_closed[target].str.cat(sep=',')\n",
    "#   wordcloud = WordCloud(max_words=1000,margin=0).generate(raw_str)\n",
    "#   plt.figure()\n",
    "#   plt.imshow(wordcloud, interpolation=\"bilinear\")\n",
    "#   plt.axis(\"off\")\n",
    "#   plt.show()"
   ]
  },
  {
   "cell_type": "code",
   "execution_count": 17,
   "metadata": {},
   "outputs": [],
   "source": [
    "df['text'] = df['text'].str.replace(\"[^a-zA-Z]\", \" \") # Clean up non-alphabetical symbols\n",
    "import numpy as np\n",
    "df = df.replace(np.nan, '', regex=True)"
   ]
  },
  {
   "cell_type": "code",
   "execution_count": 18,
   "metadata": {},
   "outputs": [
    {
     "name": "stderr",
     "output_type": "stream",
     "text": [
      "[nltk_data] Downloading package stopwords to\n",
      "[nltk_data]     /Users/vcabales/nltk_data...\n",
      "[nltk_data]   Package stopwords is already up-to-date!\n"
     ]
    }
   ],
   "source": [
    "# Clean up stopwords\n",
    "import nltk\n",
    "nltk.download(\"stopwords\")\n",
    "\n",
    "from nltk.corpus import stopwords\n",
    "stop_words = stopwords.words('english')\n",
    "\n",
    "df['text'] = df['text'].apply(lambda x: ' '.join([word for word in x.split() if word not in stop_words]))"
   ]
  },
  {
   "cell_type": "code",
   "execution_count": 19,
   "metadata": {},
   "outputs": [
    {
     "data": {
      "text/html": [
       "<div>\n",
       "<style scoped>\n",
       "    .dataframe tbody tr th:only-of-type {\n",
       "        vertical-align: middle;\n",
       "    }\n",
       "\n",
       "    .dataframe tbody tr th {\n",
       "        vertical-align: top;\n",
       "    }\n",
       "\n",
       "    .dataframe thead th {\n",
       "        text-align: right;\n",
       "    }\n",
       "</style>\n",
       "<table border=\"1\" class=\"dataframe\">\n",
       "  <thead>\n",
       "    <tr style=\"text-align: right;\">\n",
       "      <th></th>\n",
       "      <th>school</th>\n",
       "      <th>text</th>\n",
       "      <th>label</th>\n",
       "    </tr>\n",
       "  </thead>\n",
       "  <tbody>\n",
       "    <tr>\n",
       "      <th>0</th>\n",
       "      <td>Loganberries Childcare And Tutoring Closed</td>\n",
       "      <td>Loganberries Childcare And Tutoring Holy Spit ...</td>\n",
       "      <td>closed</td>\n",
       "    </tr>\n",
       "    <tr>\n",
       "      <th>1</th>\n",
       "      <td>Dovedale Before and After School Club Closed</td>\n",
       "      <td>Dovedale Before After School Club Dovedale Pri...</td>\n",
       "      <td>closed</td>\n",
       "    </tr>\n",
       "    <tr>\n",
       "      <th>2</th>\n",
       "      <td>Pepe &amp; Friends</td>\n",
       "      <td>Pepe Friends Skylines Village Limeharbour LOND...</td>\n",
       "      <td>closed</td>\n",
       "    </tr>\n",
       "    <tr>\n",
       "      <th>3</th>\n",
       "      <td>Cottonstones Pre-School Playgroup Closed</td>\n",
       "      <td>UntitledCottonstones Pre School Playgroup Uniq...</td>\n",
       "      <td>closed</td>\n",
       "    </tr>\n",
       "    <tr>\n",
       "      <th>4</th>\n",
       "      <td>St Mary and St John Junior and Infant School C...</td>\n",
       "      <td>School report St Mary St John Junior Infant Sc...</td>\n",
       "      <td>closed</td>\n",
       "    </tr>\n",
       "  </tbody>\n",
       "</table>\n",
       "</div>"
      ],
      "text/plain": [
       "                                              school  \\\n",
       "0         Loganberries Childcare And Tutoring Closed   \n",
       "1       Dovedale Before and After School Club Closed   \n",
       "2                                     Pepe & Friends   \n",
       "3           Cottonstones Pre-School Playgroup Closed   \n",
       "4  St Mary and St John Junior and Infant School C...   \n",
       "\n",
       "                                                text   label  \n",
       "0  Loganberries Childcare And Tutoring Holy Spit ...  closed  \n",
       "1  Dovedale Before After School Club Dovedale Pri...  closed  \n",
       "2  Pepe Friends Skylines Village Limeharbour LOND...  closed  \n",
       "3  UntitledCottonstones Pre School Playgroup Uniq...  closed  \n",
       "4  School report St Mary St John Junior Infant Sc...  closed  "
      ]
     },
     "execution_count": 19,
     "metadata": {},
     "output_type": "execute_result"
    }
   ],
   "source": [
    "df.head()"
   ]
  },
  {
   "cell_type": "code",
   "execution_count": 20,
   "metadata": {},
   "outputs": [],
   "source": [
    "from sklearn.model_selection import train_test_split # Split into testing and training\n",
    "X_train, X_test, y_train, y_test = train_test_split(df['text'], df['label'], test_size=0.33, random_state=42) \n",
    "# y_train and y_test are lists of labels"
   ]
  },
  {
   "cell_type": "code",
   "execution_count": 21,
   "metadata": {},
   "outputs": [
    {
     "data": {
      "text/plain": [
       "(46766,)"
      ]
     },
     "execution_count": 21,
     "metadata": {},
     "output_type": "execute_result"
    }
   ],
   "source": [
    "X_train.shape"
   ]
  },
  {
   "cell_type": "code",
   "execution_count": 22,
   "metadata": {},
   "outputs": [
    {
     "data": {
      "text/plain": [
       "(23035,)"
      ]
     },
     "execution_count": 22,
     "metadata": {},
     "output_type": "execute_result"
    }
   ],
   "source": [
    "X_test.shape"
   ]
  },
  {
   "cell_type": "code",
   "execution_count": 23,
   "metadata": {},
   "outputs": [
    {
     "data": {
      "text/plain": [
       "(46766,)"
      ]
     },
     "execution_count": 23,
     "metadata": {},
     "output_type": "execute_result"
    }
   ],
   "source": [
    "y_train.shape"
   ]
  },
  {
   "cell_type": "code",
   "execution_count": 24,
   "metadata": {},
   "outputs": [
    {
     "data": {
      "text/plain": [
       "(46766, 5)"
      ]
     },
     "execution_count": 24,
     "metadata": {},
     "output_type": "execute_result"
    }
   ],
   "source": [
    "# Tokenize the words - CountVectorizer filters out stopwords, previous step might have been unnecessary\n",
    "from sklearn.feature_extraction.text import CountVectorizer\n",
    "count_vect = CountVectorizer(max_features=5)\n",
    "X_train_counts = count_vect.fit_transform(X_train)\n",
    "X_train_counts.shape"
   ]
  },
  {
   "cell_type": "code",
   "execution_count": 25,
   "metadata": {},
   "outputs": [],
   "source": [
    "# Transform testing data with CountVectorizer, use later to check for overfitting / underfitting\n",
    "test_features = count_vect.transform(X_test)"
   ]
  },
  {
   "cell_type": "code",
   "execution_count": 26,
   "metadata": {},
   "outputs": [
    {
     "data": {
      "text/plain": [
       "TfidfTransformer(norm='l2', smooth_idf=True, sublinear_tf=False, use_idf=True)"
      ]
     },
     "execution_count": 26,
     "metadata": {},
     "output_type": "execute_result"
    }
   ],
   "source": [
    "from sklearn.feature_extraction.text import TfidfTransformer\n",
    "X_train_tfidf = TfidfTransformer(smooth_idf=True,use_idf=True)\n",
    "X_train_tfidf.fit(X_train_counts)"
   ]
  },
  {
   "cell_type": "code",
   "execution_count": 27,
   "metadata": {},
   "outputs": [
    {
     "data": {
      "text/html": [
       "<div>\n",
       "<style scoped>\n",
       "    .dataframe tbody tr th:only-of-type {\n",
       "        vertical-align: middle;\n",
       "    }\n",
       "\n",
       "    .dataframe tbody tr th {\n",
       "        vertical-align: top;\n",
       "    }\n",
       "\n",
       "    .dataframe thead th {\n",
       "        text-align: right;\n",
       "    }\n",
       "</style>\n",
       "<table border=\"1\" class=\"dataframe\">\n",
       "  <thead>\n",
       "    <tr style=\"text-align: right;\">\n",
       "      <th></th>\n",
       "      <th>tf_idf_weights</th>\n",
       "    </tr>\n",
       "  </thead>\n",
       "  <tbody>\n",
       "    <tr>\n",
       "      <th>quality</th>\n",
       "      <td>1.078042</td>\n",
       "    </tr>\n",
       "    <tr>\n",
       "      <th>support</th>\n",
       "      <td>1.079615</td>\n",
       "    </tr>\n",
       "    <tr>\n",
       "      <th>skills</th>\n",
       "      <td>1.081214</td>\n",
       "    </tr>\n",
       "    <tr>\n",
       "      <th>standards</th>\n",
       "      <td>1.092151</td>\n",
       "    </tr>\n",
       "    <tr>\n",
       "      <th>year</th>\n",
       "      <td>1.198762</td>\n",
       "    </tr>\n",
       "  </tbody>\n",
       "</table>\n",
       "</div>"
      ],
      "text/plain": [
       "           tf_idf_weights\n",
       "quality          1.078042\n",
       "support          1.079615\n",
       "skills           1.081214\n",
       "standards        1.092151\n",
       "year             1.198762"
      ]
     },
     "execution_count": 27,
     "metadata": {},
     "output_type": "execute_result"
    }
   ],
   "source": [
    "# print idf values\n",
    "df_idf = pd.DataFrame(X_train_tfidf.idf_, index=count_vect.get_feature_names(),columns=[\"tf_idf_weights\"])\n",
    "df_idf.sort_values(by=['tf_idf_weights'])\n",
    "# the lower the idf value, the less unique the word is (meaning that the word appears more frequently)"
   ]
  },
  {
   "cell_type": "code",
   "execution_count": 28,
   "metadata": {},
   "outputs": [],
   "source": [
    "X_train_dtm = count_vect.transform(X_train)"
   ]
  },
  {
   "cell_type": "code",
   "execution_count": 29,
   "metadata": {},
   "outputs": [],
   "source": [
    "# Use dummy classifier to get a baseline\n",
    "from sklearn.dummy import DummyClassifier \n",
    "baseline = DummyClassifier().fit(X_train_dtm, y_train)"
   ]
  },
  {
   "cell_type": "code",
   "execution_count": 30,
   "metadata": {},
   "outputs": [],
   "source": [
    "y_pred_class_baseline = baseline.predict(test_features)"
   ]
  },
  {
   "cell_type": "code",
   "execution_count": 31,
   "metadata": {},
   "outputs": [
    {
     "data": {
      "text/plain": [
       "0.5709572389841545"
      ]
     },
     "execution_count": 31,
     "metadata": {},
     "output_type": "execute_result"
    }
   ],
   "source": [
    "from sklearn import metrics\n",
    "metrics.accuracy_score(y_test, y_pred_class_baseline) # Record baseline accuracy"
   ]
  },
  {
   "cell_type": "code",
   "execution_count": 32,
   "metadata": {},
   "outputs": [
    {
     "data": {
      "text/plain": [
       "array([[ 2156,  4907],\n",
       "       [ 4976, 10996]])"
      ]
     },
     "execution_count": 32,
     "metadata": {},
     "output_type": "execute_result"
    }
   ],
   "source": [
    "metrics.confusion_matrix(y_test, y_pred_class_baseline)"
   ]
  },
  {
   "cell_type": "code",
   "execution_count": 33,
   "metadata": {},
   "outputs": [],
   "source": [
    "import matplotlib.pyplot as plt\n",
    "def plot_confusion_matrix(y_true, y_pred, classes,\n",
    "                          normalize=False,\n",
    "                          title=None,\n",
    "                          cmap=plt.cm.Blues):\n",
    "    \"\"\"\n",
    "    This function prints and plots the confusion matrix.\n",
    "    Normalization can be applied by setting `normalize=True`.\n",
    "    \"\"\"\n",
    "    if not title:\n",
    "        if normalize:\n",
    "            title = 'Normalized confusion matrix'\n",
    "        else:\n",
    "            title = 'Confusion matrix, without normalization'\n",
    "\n",
    "    # Compute confusion matrix\n",
    "    cm = metrics.confusion_matrix(y_true, y_pred)\n",
    "    # Only use the labels that appear in the data\n",
    "    classes = ['closed','open']\n",
    "    if normalize:\n",
    "        cm = cm.astype('float') / cm.sum(axis=1)[:, np.newaxis]\n",
    "        print(\"Normalized confusion matrix\")\n",
    "    else:\n",
    "        print('Confusion matrix, without normalization')\n",
    "\n",
    "    print(cm)\n",
    "\n",
    "    fig, ax = plt.subplots()\n",
    "    im = ax.imshow(cm, interpolation='nearest', cmap=cmap)\n",
    "    ax.figure.colorbar(im, ax=ax)\n",
    "    # We want to show all ticks...\n",
    "    ax.set(xticks=np.arange(cm.shape[1]),\n",
    "           yticks=np.arange(cm.shape[0]),\n",
    "           # ... and label them with the respective list entries\n",
    "           xticklabels=classes, yticklabels=classes,\n",
    "           title=title,\n",
    "           ylabel='True label',\n",
    "           xlabel='Predicted label')\n",
    "\n",
    "    # Rotate the tick labels and set their alignment.\n",
    "    plt.setp(ax.get_xticklabels(), rotation=45, ha=\"right\",\n",
    "             rotation_mode=\"anchor\")\n",
    "\n",
    "    # Loop over data dimensions and create text annotations.\n",
    "    fmt = '.2f' if normalize else 'd'\n",
    "    thresh = cm.max() / 2.\n",
    "    for i in range(cm.shape[0]):\n",
    "        for j in range(cm.shape[1]):\n",
    "            ax.text(j, i, format(cm[i, j], fmt),\n",
    "                    ha=\"center\", va=\"center\",\n",
    "                    color=\"white\" if cm[i, j] > thresh else \"black\")\n",
    "    fig.tight_layout()\n",
    "    return ax"
   ]
  },
  {
   "cell_type": "code",
   "execution_count": 34,
   "metadata": {},
   "outputs": [
    {
     "name": "stdout",
     "output_type": "stream",
     "text": [
      "Confusion matrix, without normalization\n",
      "[[ 2156  4907]\n",
      " [ 4976 10996]]\n",
      "Normalized confusion matrix\n",
      "[[0.31 0.69]\n",
      " [0.31 0.69]]\n"
     ]
    },
    {
     "data": {
      "image/png": "[encoded data removed]",
      "text/plain": [
       "<Figure size 432x288 with 2 Axes>"
      ]
     },
     "metadata": {
      "needs_background": "light"
     },
     "output_type": "display_data"
    },
    {
     "data": {
      "image/png": "[encoded data removed]",
      "text/plain": [
       "<Figure size 432x288 with 2 Axes>"
      ]
     },
     "metadata": {
      "needs_background": "light"
     },
     "output_type": "display_data"
    }
   ],
   "source": [
    "np.set_printoptions(precision=2)\n",
    "\n",
    "# Plot non-normalized confusion matrix\n",
    "plot_confusion_matrix(y_test, y_pred_class_baseline, classes=['closed','open'],\n",
    "                      title='Confusion matrix, without normalization')\n",
    "\n",
    "# Plot normalized confusion matrix\n",
    "plot_confusion_matrix(y_test, y_pred_class_baseline, classes=['closed','open'], normalize=True,\n",
    "                      title='Normalized confusion matrix')\n",
    "\n",
    "plt.show()"
   ]
  },
  {
   "cell_type": "code",
   "execution_count": 35,
   "metadata": {},
   "outputs": [],
   "source": [
    "from sklearn.naive_bayes import MultinomialNB\n",
    "multi_nb = MultinomialNB().fit(X_train_dtm, y_train)"
   ]
  },
  {
   "cell_type": "code",
   "execution_count": 36,
   "metadata": {},
   "outputs": [],
   "source": [
    "# Make predictions with testing features from X_test\n",
    "y_pred_class_multi_nb = multi_nb.predict(test_features)"
   ]
  },
  {
   "cell_type": "code",
   "execution_count": 37,
   "metadata": {},
   "outputs": [
    {
     "data": {
      "text/plain": [
       "0.6559583242891253"
      ]
     },
     "execution_count": 37,
     "metadata": {},
     "output_type": "execute_result"
    }
   ],
   "source": [
    "metrics.accuracy_score(y_test, y_pred_class_multi_nb)"
   ]
  },
  {
   "cell_type": "code",
   "execution_count": 38,
   "metadata": {
    "scrolled": true
   },
   "outputs": [
    {
     "name": "stdout",
     "output_type": "stream",
     "text": [
      "open      15972\n",
      "closed     7063\n",
      "Name: label, dtype: int64\n",
      "Null accuracy: open    0.69338\n",
      "Name: label, dtype: float64\n",
      "Manual null accuracy: 0.8671931083991385\n"
     ]
    }
   ],
   "source": [
    "# examine class distribution\n",
    "print(y_test.value_counts())\n",
    "# there is a majority class of 0 here, hence the classes are skewed\n",
    "\n",
    "# calculate null accuracy (for multi-class classification problems)\n",
    "# .head(1) assesses the value 1208\n",
    "null_accuracy = y_test.value_counts().head(1) / len(y_test)\n",
    "print('Null accuracy:', null_accuracy)\n",
    "\n",
    "# Manual calculation of null accuracy by always predicting the majority class\n",
    "print('Manual null accuracy:',(1208 / (1208 + 185)))"
   ]
  },
  {
   "cell_type": "code",
   "execution_count": 39,
   "metadata": {},
   "outputs": [
    {
     "data": {
      "text/plain": [
       "array([[ 2481,  4582],\n",
       "       [ 3343, 12629]])"
      ]
     },
     "execution_count": 39,
     "metadata": {},
     "output_type": "execute_result"
    }
   ],
   "source": [
    "metrics.confusion_matrix(y_test, y_pred_class_multi_nb)"
   ]
  },
  {
   "cell_type": "code",
   "execution_count": 40,
   "metadata": {},
   "outputs": [
    {
     "name": "stdout",
     "output_type": "stream",
     "text": [
      "Confusion matrix, without normalization\n",
      "[[ 2481  4582]\n",
      " [ 3343 12629]]\n",
      "Normalized confusion matrix\n",
      "[[0.35 0.65]\n",
      " [0.21 0.79]]\n"
     ]
    },
    {
     "data": {
      "image/png": "[encoded data removed]",
      "text/plain": [
       "<Figure size 432x288 with 2 Axes>"
      ]
     },
     "metadata": {
      "needs_background": "light"
     },
     "output_type": "display_data"
    },
    {
     "data": {
      "image/png": "[encoded data removed]",
      "text/plain": [
       "<Figure size 432x288 with 2 Axes>"
      ]
     },
     "metadata": {
      "needs_background": "light"
     },
     "output_type": "display_data"
    }
   ],
   "source": [
    "np.set_printoptions(precision=2)\n",
    "\n",
    "# Plot non-normalized confusion matrix\n",
    "plot_confusion_matrix(y_test, y_pred_class_multi_nb, classes=['closed','open'],\n",
    "                      title='Confusion matrix, without normalization')\n",
    "\n",
    "# Plot normalized confusion matrix\n",
    "plot_confusion_matrix(y_test, y_pred_class_multi_nb, classes=['closed','open'], normalize=True,\n",
    "                      title='Normalized confusion matrix')\n",
    "\n",
    "plt.show()"
   ]
  },
  {
   "cell_type": "code",
   "execution_count": 41,
   "metadata": {},
   "outputs": [
    {
     "data": {
      "text/plain": [
       "20290    home Unique reference number SC Inspection dat...\n",
       "5929     Maples Centre Unique Reference Number EY Inspe...\n",
       "15006    CRL V Our Reference EY Childcare Register outc...\n",
       "2180     M L H St John School Unique reference number E...\n",
       "5897     Suffolk Norfolk Graduate Teacher ProgrammeInit...\n",
       "19900    Crown copyright Website document may reproduce...\n",
       "13912    Littlebrook Nursery Oaklands Park Wick Lane Eg...\n",
       "2165     UntitledSouth Pre School Unique Reference Numb...\n",
       "14502    DAY CARE INSPECTION REPORTURN EY INSPECTION DE...\n",
       "8363     Dear Parent Sholing Infant School interim asse...\n",
       "625      ANNUAL ASSESSMENT VISIT MAIN FINDINGSName Coll...\n",
       "17313    School report West Park Primary School Coniscl...\n",
       "8492     Greenside Nursery Unique reference number EY I...\n",
       "3186     School report Fwood High School Stitch Mi Lane...\n",
       "5476     PDFINSPECTION REPORTWESTBROOKE SPECIAL SCHOOLW...\n",
       "2359     Chips Thorn Grove SchoolThorn Grove Primary Sc...\n",
       "14132    UntitledAngel Day Nursery Unique Reference Num...\n",
       "9281     Gumboots Community Nursery Crystal Palace Road...\n",
       "14240    Crown copyright Website document may reproduce...\n",
       "9544     Microsoft Word Ltr Anne Newton Poole services ...\n",
       "18662    Complete Fostering Solutions independent foste...\n",
       "14805    Meadow View Nursery Meadow View Nursery Appleb...\n",
       "4411     PDFINSPECTION REPORT ABBEY COURT SCHOOLStrood ...\n",
       "13387    EYL V Piccadilly Gate Store Street Manchester ...\n",
       "13995    Grendon Pre School Old Chapel Main Road Grendo...\n",
       "13511    UntitledAshfield Plaza Day Nursery EY Unique R...\n",
       "17240    Fst Steps PlaygroupChurch Road Nuneaton CV EEI...\n",
       "15000    DAY CARE INSPECTION REPORTURN INSPECTION DETAI...\n",
       "14174    Unique reference number EY Inspect ion date In...\n",
       "16822    School report Willoughby School South Road Bou...\n",
       "                               ...                        \n",
       "6567     Tonbridge Grammar School Gls Playscheme Unique...\n",
       "7895     Monkey Puzzle Day Nursery Stoke Newington Stok...\n",
       "11238    Crown copyright Website document may reproduce...\n",
       "21453    Little Lingfields Unique reference number EY I...\n",
       "75       UntitledSt Augustines After School Club Unique...\n",
       "4769     COMBINED INSPECTION REPORTURN DfES Number INSP...\n",
       "7817     NEW INSPECTION REPORT TEMPLATE DRAFT VERSION S...\n",
       "12372    EYL V Piccadilly Gate Store Street Manchester ...\n",
       "16313    Piglets Playgroup Wolviston Base Wolviston Cou...\n",
       "18622    School report Cliffe Voluntary Controlled Prim...\n",
       "10644    UntitledIan Mikardo School Unique Reference Nu...\n",
       "2262     PDFINSPECTION REPORTFIELD INFANT SCHOOLWatford...\n",
       "10104    School Shuttle Childcare Services Chowbent CHO...\n",
       "16728    Mount Carmel Kindergarten Unique reference num...\n",
       "20408    UntitledSutton Craven CommunityPrimary School ...\n",
       "1458     PDFINSPECTION REPORTGREENFIELD NURSERY SCHOOLW...\n",
       "6139     Little People Windy Willows Unique reference n...\n",
       "21229    COMBINED INSPECTION REPORTURN DfES Number INSP...\n",
       "14838    UntitledBrambles Playgroup Unique Reference Nu...\n",
       "1796     Ladybd Nursery School Unique reference number ...\n",
       "16031    DAY CARE INSPECTION REPORTURN INSPECTION DETAI...\n",
       "17200    home Unique reference number SC Inspector Judi...\n",
       "5780     Nicky Pre St Nicholas C E Primary School Mowbr...\n",
       "13040    St Edmunds Pre School Unique reference number ...\n",
       "14991    Byker Primary School UntitledByker Primary Pre...\n",
       "139      Munchkins Day Nursery Unique reference number ...\n",
       "1569     Scarborough Falsgrave Centre Local authority N...\n",
       "2906     UntitledLong Melford Playgroup Unique Referenc...\n",
       "16787    PROTECT INSPECTION Learning Skills report Date...\n",
       "18329    White Rabbits Kindergarten Pre School Nursery ...\n",
       "Name: text, Length: 4582, dtype: object"
      ]
     },
     "execution_count": 41,
     "metadata": {},
     "output_type": "execute_result"
    }
   ],
   "source": [
    "X_test[y_pred_class_multi_nb > y_test]"
   ]
  },
  {
   "cell_type": "code",
   "execution_count": 58,
   "metadata": {},
   "outputs": [],
   "source": [
    "def most_informative_feature_for_binary_classification(vectorizer, classifier, n=10):\n",
    "    class_labels = classifier.classes_\n",
    "    feature_names = vectorizer.get_feature_names()\n",
    "    topn_class1 = sorted(zip(classifier.coef_[0], feature_names))[:n]\n",
    "    topn_class2 = sorted(zip(classifier.coef_[0], feature_names))[-n:]\n",
    "\n",
    "    for coef, feat in topn_class1:\n",
    "        print (class_labels[0], coef, feat)\n",
    "\n",
    "    print\n",
    "\n",
    "    for coef, feat in (topn_class2):\n",
    "        print (class_labels[1], coef, feat)"
   ]
  },
  {
   "cell_type": "code",
   "execution_count": 59,
   "metadata": {},
   "outputs": [
    {
     "name": "stdout",
     "output_type": "stream",
     "text": [
      "closed -1.6197424688280382 standards\n",
      "closed -1.6136419612345136 skills\n",
      "closed -1.6109813178774477 support\n",
      "closed -1.606249569723964 year\n",
      "closed -1.5967234304881366 quality\n",
      "open -1.6197424688280382 standards\n",
      "open -1.6136419612345136 skills\n",
      "open -1.6109813178774477 support\n",
      "open -1.606249569723964 year\n",
      "open -1.5967234304881366 quality\n"
     ]
    }
   ],
   "source": [
    "most_informative_feature_for_binary_classification(count_vect, multi_nb)"
   ]
  },
  {
   "cell_type": "code",
   "execution_count": 44,
   "metadata": {},
   "outputs": [],
   "source": [
    "import pickle\n",
    "pickle.dump(multi_nb, open('multi_nb.pkl','wb'))"
   ]
  },
  {
   "cell_type": "code",
   "execution_count": 45,
   "metadata": {},
   "outputs": [],
   "source": [
    "from sklearn.cluster import KMeans\n",
    "from sklearn.feature_extraction.text import TfidfVectorizer\n",
    "\n",
    "vectorizer = TfidfVectorizer(stop_words='english')\n",
    "X = vectorizer.fit_transform(X_train)\n",
    "km = KMeans(n_clusters=2, max_iter=1000)\n",
    "km.fit(X)\n",
    "clusters = km.labels_.tolist()"
   ]
  },
  {
   "cell_type": "code",
   "execution_count": 46,
   "metadata": {},
   "outputs": [
    {
     "name": "stdout",
     "output_type": "stream",
     "text": [
      "Top terms per cluster:\n",
      "Cluster 0:\n",
      " pupils\n",
      " teachers\n",
      " students\n",
      " year\n",
      " lessons\n",
      " average\n",
      " school\n",
      " make\n",
      " skills\n",
      " standards\n",
      "Cluster 1:\n",
      " childcare\n",
      " nursery\n",
      " care\n",
      " parents\n",
      " staff\n",
      " quality\n",
      " registered\n",
      " setting\n",
      " act\n",
      " standards\n",
      "\n",
      "\n",
      "Prediction\n"
     ]
    }
   ],
   "source": [
    "print(\"Top terms per cluster:\")\n",
    "order_centroids = km.cluster_centers_.argsort()[:, ::-1]\n",
    "terms = vectorizer.get_feature_names()\n",
    "for i in range(2):\n",
    "    print(\"Cluster %d:\" % i),\n",
    "    for ind in order_centroids[i, :10]:\n",
    "        print(' %s' % terms[ind]),\n",
    "    print\n",
    "\n",
    "print(\"\\n\")\n",
    "print(\"Prediction\")"
   ]
  },
  {
   "cell_type": "code",
   "execution_count": 47,
   "metadata": {},
   "outputs": [
    {
     "name": "stdout",
     "output_type": "stream",
     "text": [
      "[1 1 1 ... 1 1 0]\n"
     ]
    }
   ],
   "source": [
    "Y = vectorizer.transform(X_test)\n",
    "prediction = km.predict(Y)\n",
    "print(prediction)"
   ]
  },
  {
   "cell_type": "code",
   "execution_count": null,
   "metadata": {},
   "outputs": [],
   "source": [
    "import seaborn as sns; sns.set()  # for plot styling\n",
    "\n",
    "plt.scatter(X[:, 0], X[:, 1], c=prediction, s=50, cmap='viridis')\n",
    "centers = km.cluster_centers_\n",
    "plt.scatter(centers[:, 0], centers[:, 1], s=200, alpha=0.5);"
   ]
  },
  {
   "cell_type": "code",
   "execution_count": null,
   "metadata": {},
   "outputs": [],
   "source": [
    "# Evaluate kmeans with elbow method\n",
    "sse = []\n",
    "list_k = list(range(1,10))\n",
    "\n",
    "for k in list_k:\n",
    "    kmeans = KMeans(n_clusters=k)\n",
    "    kmeans.fit(X)\n",
    "    sse.append(kmeans.inertia_)\n",
    "\n",
    "plt.figure(figsize=(6,6))\n",
    "plt.plot(list_k, sse, '-o')\n",
    "plt.xlabel(r'Number of clusters *k*')\n",
    "plt.ylabel('Sum of squared distance');"
   ]
  },
  {
   "cell_type": "code",
   "execution_count": 60,
   "metadata": {},
   "outputs": [
    {
     "name": "stdout",
     "output_type": "stream",
     "text": [
      "Requirement already satisfied: yellowbrick in /anaconda3/lib/python3.7/site-packages (0.9.1)\n",
      "Requirement already satisfied: scikit-learn>=0.20 in /anaconda3/lib/python3.7/site-packages (from yellowbrick) (0.20.3)\n",
      "Requirement already satisfied: matplotlib!=3.0.0,>=1.5.1 in /anaconda3/lib/python3.7/site-packages (from yellowbrick) (3.0.3)\n",
      "Requirement already satisfied: numpy>=1.13.0 in /anaconda3/lib/python3.7/site-packages (from yellowbrick) (1.16.2)\n",
      "Requirement already satisfied: cycler>=0.10.0 in /anaconda3/lib/python3.7/site-packages (from yellowbrick) (0.10.0)\n",
      "Requirement already satisfied: scipy>=1.0.0 in /anaconda3/lib/python3.7/site-packages (from yellowbrick) (1.2.1)\n",
      "Requirement already satisfied: kiwisolver>=1.0.1 in /anaconda3/lib/python3.7/site-packages (from matplotlib!=3.0.0,>=1.5.1->yellowbrick) (1.0.1)\n",
      "Requirement already satisfied: pyparsing!=2.0.4,!=2.1.2,!=2.1.6,>=2.0.1 in /anaconda3/lib/python3.7/site-packages (from matplotlib!=3.0.0,>=1.5.1->yellowbrick) (2.3.1)\n",
      "Requirement already satisfied: python-dateutil>=2.1 in /anaconda3/lib/python3.7/site-packages (from matplotlib!=3.0.0,>=1.5.1->yellowbrick) (2.8.0)\n",
      "Requirement already satisfied: six in /anaconda3/lib/python3.7/site-packages (from cycler>=0.10.0->yellowbrick) (1.12.0)\n",
      "Requirement already satisfied: setuptools in /anaconda3/lib/python3.7/site-packages (from kiwisolver>=1.0.1->matplotlib!=3.0.0,>=1.5.1->yellowbrick) (40.8.0)\n"
     ]
    }
   ],
   "source": [
    "!pip install yellowbrick"
   ]
  },
  {
   "cell_type": "code",
   "execution_count": 62,
   "metadata": {},
   "outputs": [
    {
     "name": "stderr",
     "output_type": "stream",
     "text": [
      "'c' argument looks like a single numeric RGB or RGBA sequence, which should be avoided as value-mapping will have precedence in case its length matches with 'x' & 'y'.  Please use a 2-D array with a single row if you really want to specify the same RGB or RGBA value for all points.\n",
      "'c' argument looks like a single numeric RGB or RGBA sequence, which should be avoided as value-mapping will have precedence in case its length matches with 'x' & 'y'.  Please use a 2-D array with a single row if you really want to specify the same RGB or RGBA value for all points.\n"
     ]
    },
    {
     "data": {
      "image/png": "[encoded data removed]",
      "text/plain": [
       "<Figure size 576x396 with 1 Axes>"
      ]
     },
     "metadata": {},
     "output_type": "display_data"
    }
   ],
   "source": [
    "from yellowbrick.text import TSNEVisualizer\n",
    "\n",
    "tsne = TSNEVisualizer()\n",
    "tsne.fit(X, [\"c{}\".format(c) for c in clusters])\n",
    "tsne.poof()"
   ]
  },
  {
   "cell_type": "code",
   "execution_count": 63,
   "metadata": {},
   "outputs": [
    {
     "name": "stderr",
     "output_type": "stream",
     "text": [
      "'c' argument looks like a single numeric RGB or RGBA sequence, which should be avoided as value-mapping will have precedence in case its length matches with 'x' & 'y'.  Please use a 2-D array with a single row if you really want to specify the same RGB or RGBA value for all points.\n",
      "'c' argument looks like a single numeric RGB or RGBA sequence, which should be avoided as value-mapping will have precedence in case its length matches with 'x' & 'y'.  Please use a 2-D array with a single row if you really want to specify the same RGB or RGBA value for all points.\n"
     ]
    },
    {
     "data": {
      "image/png": "[encoded data removed]",
      "text/plain": [
       "<Figure size 576x396 with 1 Axes>"
      ]
     },
     "metadata": {},
     "output_type": "display_data"
    }
   ],
   "source": [
    "tsne_labels = TSNEVisualizer()\n",
    "labels = ['closed','open']\n",
    "tsne_labels.fit(X, labels)\n",
    "tsne_labels.poof()"
   ]
  },
  {
   "cell_type": "code",
   "execution_count": 64,
   "metadata": {},
   "outputs": [
    {
     "name": "stderr",
     "output_type": "stream",
     "text": [
      "'c' argument looks like a single numeric RGB or RGBA sequence, which should be avoided as value-mapping will have precedence in case its length matches with 'x' & 'y'.  Please use a 2-D array with a single row if you really want to specify the same RGB or RGBA value for all points.\n",
      "'c' argument looks like a single numeric RGB or RGBA sequence, which should be avoided as value-mapping will have precedence in case its length matches with 'x' & 'y'.  Please use a 2-D array with a single row if you really want to specify the same RGB or RGBA value for all points.\n"
     ]
    },
    {
     "data": {
      "image/png": "[encoded data removed]",
      "text/plain": [
       "<Figure size 576x396 with 1 Axes>"
      ]
     },
     "metadata": {},
     "output_type": "display_data"
    }
   ],
   "source": [
    "tsne_y = TSNEVisualizer()\n",
    "tsne_y.fit(Y, labels)\n",
    "tsne_y.poof()"
   ]
  },
  {
   "cell_type": "code",
   "execution_count": 65,
   "metadata": {},
   "outputs": [
    {
     "data": {
      "text/plain": [
       "LatentDirichletAllocation(batch_size=128, doc_topic_prior=None,\n",
       "             evaluate_every=-1, learning_decay=0.7,\n",
       "             learning_method='batch', learning_offset=10.0,\n",
       "             max_doc_update_iter=100, max_iter=10, mean_change_tol=0.001,\n",
       "             n_components=5, n_jobs=None, n_topics=None, perp_tol=0.1,\n",
       "             random_state=0, topic_word_prior=None,\n",
       "             total_samples=1000000.0, verbose=0)"
      ]
     },
     "execution_count": 65,
     "metadata": {},
     "output_type": "execute_result"
    }
   ],
   "source": [
    "from sklearn.decomposition import LatentDirichletAllocation\n",
    "\n",
    "lda = LatentDirichletAllocation(\n",
    "    n_components=5, \n",
    "    random_state=0)\n",
    "lda.fit(X)"
   ]
  },
  {
   "cell_type": "code",
   "execution_count": 66,
   "metadata": {},
   "outputs": [],
   "source": [
    "def display_topics(model, feature_names, no_top_words):\n",
    "    for topic_idx, topic in enumerate(model.components_):\n",
    "        print (\"Topic %d:\" % (topic_idx))\n",
    "        print (\" \".join([feature_names[i]\n",
    "                        for i in topic.argsort()[:-no_top_words - 1:-1]]))"
   ]
  },
  {
   "cell_type": "code",
   "execution_count": 67,
   "metadata": {},
   "outputs": [
    {
     "name": "stdout",
     "output_type": "stream",
     "text": [
      "Topic 0:\n",
      "parents quality pupils standards skills school care nursery needs support\n",
      "Topic 1:\n",
      "slb astha clw tek pwc archon clr damar punnetts indigoskills\n",
      "Topic 2:\n",
      "fshc fortan gdn lawtrain headjogs kdts laccat tads jewson rwp\n",
      "Topic 3:\n",
      "frp alpington eastlands bergh kiara lfe wyevale emap tlz skandia\n",
      "Topic 4:\n",
      "academy predecessor converter converters conversion schoolurn faqs secretary new closed\n"
     ]
    }
   ],
   "source": [
    "no_top_words = 10\n",
    "display_topics(lda, vectorizer.get_feature_names(), no_top_words)"
   ]
  },
  {
   "cell_type": "code",
   "execution_count": 68,
   "metadata": {},
   "outputs": [
    {
     "name": "stdout",
     "output_type": "stream",
     "text": [
      "Collecting pyldavis\n",
      "\u001b[?25l  Downloading https://files.pythonhosted.org/packages/a5/3a/af82e070a8a96e13217c8f362f9a73e82d61ac8fff3a2561946a97f96266/pyLDAvis-2.1.2.tar.gz (1.6MB)\n",
      "\u001b[K    100% |████████████████████████████████| 1.6MB 7.0MB/s eta 0:00:01\n",
      "\u001b[?25hRequirement already satisfied: wheel>=0.23.0 in /anaconda3/lib/python3.7/site-packages (from pyldavis) (0.33.1)\n",
      "Requirement already satisfied: numpy>=1.9.2 in /anaconda3/lib/python3.7/site-packages (from pyldavis) (1.16.2)\n",
      "Requirement already satisfied: scipy>=0.18.0 in /anaconda3/lib/python3.7/site-packages (from pyldavis) (1.2.1)\n",
      "Requirement already satisfied: pandas>=0.17.0 in /anaconda3/lib/python3.7/site-packages (from pyldavis) (0.24.2)\n",
      "Collecting joblib>=0.8.4 (from pyldavis)\n",
      "  Using cached https://files.pythonhosted.org/packages/cd/c1/50a758e8247561e58cb87305b1e90b171b8c767b15b12a1734001f41d356/joblib-0.13.2-py2.py3-none-any.whl\n",
      "Requirement already satisfied: jinja2>=2.7.2 in /anaconda3/lib/python3.7/site-packages (from pyldavis) (2.10)\n",
      "Requirement already satisfied: numexpr in /anaconda3/lib/python3.7/site-packages (from pyldavis) (2.6.9)\n",
      "Requirement already satisfied: pytest in /anaconda3/lib/python3.7/site-packages (from pyldavis) (4.3.1)\n",
      "Requirement already satisfied: future in /anaconda3/lib/python3.7/site-packages (from pyldavis) (0.17.1)\n",
      "Collecting funcy (from pyldavis)\n",
      "  Downloading https://files.pythonhosted.org/packages/b3/23/d1f90f4e2af5f9d4921ab3797e33cf0503e3f130dd390a812f3bf59ce9ea/funcy-1.12-py2.py3-none-any.whl\n",
      "Requirement already satisfied: python-dateutil>=2.5.0 in /anaconda3/lib/python3.7/site-packages (from pandas>=0.17.0->pyldavis) (2.8.0)\n",
      "Requirement already satisfied: pytz>=2011k in /anaconda3/lib/python3.7/site-packages (from pandas>=0.17.0->pyldavis) (2018.9)\n",
      "Requirement already satisfied: MarkupSafe>=0.23 in /anaconda3/lib/python3.7/site-packages (from jinja2>=2.7.2->pyldavis) (1.1.1)\n",
      "Requirement already satisfied: py>=1.5.0 in /anaconda3/lib/python3.7/site-packages (from pytest->pyldavis) (1.8.0)\n",
      "Requirement already satisfied: six>=1.10.0 in /anaconda3/lib/python3.7/site-packages (from pytest->pyldavis) (1.12.0)\n",
      "Requirement already satisfied: setuptools in /anaconda3/lib/python3.7/site-packages (from pytest->pyldavis) (40.8.0)\n",
      "Requirement already satisfied: attrs>=17.4.0 in /anaconda3/lib/python3.7/site-packages (from pytest->pyldavis) (19.1.0)\n",
      "Requirement already satisfied: atomicwrites>=1.0 in /anaconda3/lib/python3.7/site-packages (from pytest->pyldavis) (1.3.0)\n",
      "Requirement already satisfied: pluggy>=0.7 in /anaconda3/lib/python3.7/site-packages (from pytest->pyldavis) (0.9.0)\n",
      "Requirement already satisfied: more-itertools>=4.0.0 in /anaconda3/lib/python3.7/site-packages (from pytest->pyldavis) (6.0.0)\n",
      "Building wheels for collected packages: pyldavis\n",
      "  Building wheel for pyldavis (setup.py) ... \u001b[?25ldone\n",
      "\u001b[?25h  Stored in directory: /Users/vcabales/Library/Caches/pip/wheels/98/71/24/513a99e58bb6b8465bae4d2d5e9dba8f0bef8179e3051ac414\n",
      "Successfully built pyldavis\n",
      "Installing collected packages: joblib, funcy, pyldavis\n",
      "Successfully installed funcy-1.12 joblib-0.13.2 pyldavis-2.1.2\n"
     ]
    }
   ],
   "source": [
    "!pip install pyldavis"
   ]
  },
  {
   "cell_type": "code",
   "execution_count": 70,
   "metadata": {},
   "outputs": [],
   "source": [
    "import pyLDAvis\n",
    "import pyLDAvis.sklearn\n",
    "pyLDAvis.enable_notebook()"
   ]
  },
  {
   "cell_type": "code",
   "execution_count": null,
   "metadata": {},
   "outputs": [],
   "source": [
    "pyLDAvis.sklearn.prepare(lda, X, vectorizer)"
   ]
  },
  {
   "cell_type": "code",
   "execution_count": null,
   "metadata": {},
   "outputs": [],
   "source": []
  }
 ],
 "metadata": {
  "kernelspec": {
   "display_name": "Python 3",
   "language": "python",
   "name": "python3"
  },
  "language_info": {
   "codemirror_mode": {
    "name": "ipython",
    "version": 3
   },
   "file_extension": ".py",
   "mimetype": "text/x-python",
   "name": "python",
   "nbconvert_exporter": "python",
   "pygments_lexer": "ipython3",
   "version": "3.7.3"
  }
 },
 "nbformat": 4,
 "nbformat_minor": 2
}
